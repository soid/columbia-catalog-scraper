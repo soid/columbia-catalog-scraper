{
 "cells": [
  {
   "cell_type": "markdown",
   "metadata": {},
   "source": [
    "# Setup"
   ]
  },
  {
   "cell_type": "code",
   "execution_count": 131,
   "metadata": {},
   "outputs": [
    {
     "name": "stdout",
     "output_type": "stream",
     "text": [
      "Collecting pandas~=1.0.5\n",
      "  Using cached https://files.pythonhosted.org/packages/5d/24/91ad2da4a1da2747595d2f47f858a131036f598fb495ec6346d08d8b8df6/pandas-1.0.5-cp37-cp37m-macosx_10_9_x86_64.whl\n",
      "Requirement already satisfied: numpy>=1.13.3 in /usr/local/lib/python3.7/site-packages (from pandas~=1.0.5) (1.15.1)\n",
      "Requirement already satisfied: python-dateutil>=2.6.1 in /usr/local/lib/python3.7/site-packages (from pandas~=1.0.5) (2.7.3)\n",
      "Requirement already satisfied: pytz>=2017.2 in /usr/local/lib/python3.7/site-packages (from pandas~=1.0.5) (2018.5)\n",
      "Requirement already satisfied: six>=1.5 in /usr/local/lib/python3.7/site-packages (from python-dateutil>=2.6.1->pandas~=1.0.5) (1.11.0)\n",
      "Installing collected packages: pandas\n",
      "  Found existing installation: pandas 0.23.4\n",
      "    Uninstalling pandas-0.23.4:\n",
      "      Successfully uninstalled pandas-0.23.4\n",
      "Successfully installed pandas-1.0.5\n",
      "Requirement already satisfied: cufflinks in /usr/local/lib/python3.7/site-packages (0.17.3)\n",
      "Requirement already satisfied: six>=1.9.0 in /usr/local/lib/python3.7/site-packages (from cufflinks) (1.11.0)\n",
      "Requirement already satisfied: plotly>=4.1.1 in /usr/local/lib/python3.7/site-packages (from cufflinks) (4.9.0)\n",
      "Requirement already satisfied: numpy>=1.9.2 in /usr/local/lib/python3.7/site-packages (from cufflinks) (1.15.1)\n",
      "Requirement already satisfied: ipython>=5.3.0 in /usr/local/lib/python3.7/site-packages (from cufflinks) (7.17.0)\n",
      "Requirement already satisfied: colorlover>=0.2.1 in /usr/local/lib/python3.7/site-packages (from cufflinks) (0.3.0)\n",
      "Requirement already satisfied: ipywidgets>=7.0.0 in /usr/local/lib/python3.7/site-packages (from cufflinks) (7.5.1)\n",
      "Requirement already satisfied: setuptools>=34.4.1 in /usr/local/lib/python3.7/site-packages (from cufflinks) (42.0.2)\n",
      "Requirement already satisfied: pandas>=0.19.2 in /usr/local/lib/python3.7/site-packages (from cufflinks) (1.0.5)\n",
      "Requirement already satisfied: retrying>=1.3.3 in /usr/local/lib/python3.7/site-packages (from plotly>=4.1.1->cufflinks) (1.3.3)\n",
      "Requirement already satisfied: pickleshare in /usr/local/lib/python3.7/site-packages (from ipython>=5.3.0->cufflinks) (0.7.5)\n",
      "Requirement already satisfied: decorator in /usr/local/lib/python3.7/site-packages (from ipython>=5.3.0->cufflinks) (4.4.2)\n",
      "Requirement already satisfied: backcall in /usr/local/lib/python3.7/site-packages (from ipython>=5.3.0->cufflinks) (0.2.0)\n",
      "Requirement already satisfied: traitlets>=4.2 in /usr/local/lib/python3.7/site-packages (from ipython>=5.3.0->cufflinks) (4.3.3)\n",
      "Requirement already satisfied: appnope; sys_platform == \"darwin\" in /usr/local/lib/python3.7/site-packages (from ipython>=5.3.0->cufflinks) (0.1.0)\n",
      "Requirement already satisfied: jedi>=0.10 in /usr/local/lib/python3.7/site-packages (from ipython>=5.3.0->cufflinks) (0.17.2)\n",
      "Requirement already satisfied: prompt-toolkit!=3.0.0,!=3.0.1,<3.1.0,>=2.0.0 in /usr/local/lib/python3.7/site-packages (from ipython>=5.3.0->cufflinks) (3.0.5)\n",
      "Requirement already satisfied: pygments in /usr/local/lib/python3.7/site-packages (from ipython>=5.3.0->cufflinks) (2.6.1)\n",
      "Requirement already satisfied: pexpect; sys_platform != \"win32\" in /usr/local/lib/python3.7/site-packages (from ipython>=5.3.0->cufflinks) (4.8.0)\n",
      "Requirement already satisfied: widgetsnbextension~=3.5.0 in /usr/local/lib/python3.7/site-packages (from ipywidgets>=7.0.0->cufflinks) (3.5.1)\n",
      "Requirement already satisfied: ipykernel>=4.5.1 in /usr/local/lib/python3.7/site-packages (from ipywidgets>=7.0.0->cufflinks) (5.3.4)\n",
      "Requirement already satisfied: nbformat>=4.2.0 in /usr/local/lib/python3.7/site-packages (from ipywidgets>=7.0.0->cufflinks) (5.0.7)\n",
      "Requirement already satisfied: python-dateutil>=2.6.1 in /usr/local/lib/python3.7/site-packages (from pandas>=0.19.2->cufflinks) (2.7.3)\n",
      "Requirement already satisfied: pytz>=2017.2 in /usr/local/lib/python3.7/site-packages (from pandas>=0.19.2->cufflinks) (2018.5)\n",
      "Requirement already satisfied: ipython-genutils in /usr/local/lib/python3.7/site-packages (from traitlets>=4.2->ipython>=5.3.0->cufflinks) (0.2.0)\n",
      "Requirement already satisfied: parso<0.8.0,>=0.7.0 in /usr/local/lib/python3.7/site-packages (from jedi>=0.10->ipython>=5.3.0->cufflinks) (0.7.1)\n",
      "Requirement already satisfied: wcwidth in /usr/local/lib/python3.7/site-packages (from prompt-toolkit!=3.0.0,!=3.0.1,<3.1.0,>=2.0.0->ipython>=5.3.0->cufflinks) (0.2.5)\n",
      "Requirement already satisfied: ptyprocess>=0.5 in /usr/local/lib/python3.7/site-packages (from pexpect; sys_platform != \"win32\"->ipython>=5.3.0->cufflinks) (0.6.0)\n",
      "Requirement already satisfied: notebook>=4.4.1 in /usr/local/lib/python3.7/site-packages (from widgetsnbextension~=3.5.0->ipywidgets>=7.0.0->cufflinks) (6.1.1)\n",
      "Requirement already satisfied: tornado>=4.2 in /usr/local/lib/python3.7/site-packages (from ipykernel>=4.5.1->ipywidgets>=7.0.0->cufflinks) (6.0.4)\n",
      "Requirement already satisfied: jupyter-client in /usr/local/lib/python3.7/site-packages (from ipykernel>=4.5.1->ipywidgets>=7.0.0->cufflinks) (6.1.6)\n",
      "Requirement already satisfied: jsonschema!=2.5.0,>=2.4 in /usr/local/lib/python3.7/site-packages (from nbformat>=4.2.0->ipywidgets>=7.0.0->cufflinks) (3.2.0)\n",
      "Requirement already satisfied: jupyter-core in /usr/local/lib/python3.7/site-packages (from nbformat>=4.2.0->ipywidgets>=7.0.0->cufflinks) (4.6.3)\n",
      "Requirement already satisfied: pyzmq>=17 in /usr/local/lib/python3.7/site-packages (from notebook>=4.4.1->widgetsnbextension~=3.5.0->ipywidgets>=7.0.0->cufflinks) (19.0.2)\n",
      "Requirement already satisfied: jinja2 in /usr/local/lib/python3.7/site-packages (from notebook>=4.4.1->widgetsnbextension~=3.5.0->ipywidgets>=7.0.0->cufflinks) (2.11.1)\n",
      "Requirement already satisfied: terminado>=0.8.3 in /usr/local/lib/python3.7/site-packages (from notebook>=4.4.1->widgetsnbextension~=3.5.0->ipywidgets>=7.0.0->cufflinks) (0.8.3)\n",
      "Requirement already satisfied: prometheus-client in /usr/local/lib/python3.7/site-packages (from notebook>=4.4.1->widgetsnbextension~=3.5.0->ipywidgets>=7.0.0->cufflinks) (0.8.0)\n",
      "Requirement already satisfied: nbconvert in /usr/local/lib/python3.7/site-packages (from notebook>=4.4.1->widgetsnbextension~=3.5.0->ipywidgets>=7.0.0->cufflinks) (5.6.1)\n",
      "Requirement already satisfied: Send2Trash in /usr/local/lib/python3.7/site-packages (from notebook>=4.4.1->widgetsnbextension~=3.5.0->ipywidgets>=7.0.0->cufflinks) (1.5.0)\n",
      "Requirement already satisfied: argon2-cffi in /usr/local/lib/python3.7/site-packages (from notebook>=4.4.1->widgetsnbextension~=3.5.0->ipywidgets>=7.0.0->cufflinks) (20.1.0)\n",
      "Requirement already satisfied: importlib-metadata; python_version < \"3.8\" in /usr/local/lib/python3.7/site-packages (from jsonschema!=2.5.0,>=2.4->nbformat>=4.2.0->ipywidgets>=7.0.0->cufflinks) (1.7.0)\n",
      "Requirement already satisfied: attrs>=17.4.0 in /usr/local/lib/python3.7/site-packages (from jsonschema!=2.5.0,>=2.4->nbformat>=4.2.0->ipywidgets>=7.0.0->cufflinks) (19.1.0)\n",
      "Requirement already satisfied: pyrsistent>=0.14.0 in /usr/local/lib/python3.7/site-packages (from jsonschema!=2.5.0,>=2.4->nbformat>=4.2.0->ipywidgets>=7.0.0->cufflinks) (0.16.0)\n",
      "Requirement already satisfied: MarkupSafe>=0.23 in /usr/local/lib/python3.7/site-packages (from jinja2->notebook>=4.4.1->widgetsnbextension~=3.5.0->ipywidgets>=7.0.0->cufflinks) (1.1.1)\n",
      "Requirement already satisfied: testpath in /usr/local/lib/python3.7/site-packages (from nbconvert->notebook>=4.4.1->widgetsnbextension~=3.5.0->ipywidgets>=7.0.0->cufflinks) (0.4.4)\n",
      "Requirement already satisfied: entrypoints>=0.2.2 in /usr/local/lib/python3.7/site-packages (from nbconvert->notebook>=4.4.1->widgetsnbextension~=3.5.0->ipywidgets>=7.0.0->cufflinks) (0.3)\n",
      "Requirement already satisfied: mistune<2,>=0.8.1 in /usr/local/lib/python3.7/site-packages (from nbconvert->notebook>=4.4.1->widgetsnbextension~=3.5.0->ipywidgets>=7.0.0->cufflinks) (0.8.4)\n",
      "Requirement already satisfied: bleach in /usr/local/lib/python3.7/site-packages (from nbconvert->notebook>=4.4.1->widgetsnbextension~=3.5.0->ipywidgets>=7.0.0->cufflinks) (3.1.5)\n",
      "Requirement already satisfied: pandocfilters>=1.4.1 in /usr/local/lib/python3.7/site-packages (from nbconvert->notebook>=4.4.1->widgetsnbextension~=3.5.0->ipywidgets>=7.0.0->cufflinks) (1.4.2)\n",
      "Requirement already satisfied: defusedxml in /usr/local/lib/python3.7/site-packages (from nbconvert->notebook>=4.4.1->widgetsnbextension~=3.5.0->ipywidgets>=7.0.0->cufflinks) (0.6.0)\n",
      "Requirement already satisfied: cffi>=1.0.0 in /usr/local/lib/python3.7/site-packages (from argon2-cffi->notebook>=4.4.1->widgetsnbextension~=3.5.0->ipywidgets>=7.0.0->cufflinks) (1.11.5)\n",
      "Requirement already satisfied: zipp>=0.5 in /usr/local/lib/python3.7/site-packages (from importlib-metadata; python_version < \"3.8\"->jsonschema!=2.5.0,>=2.4->nbformat>=4.2.0->ipywidgets>=7.0.0->cufflinks) (3.1.0)\n",
      "Requirement already satisfied: packaging in /usr/local/lib/python3.7/site-packages (from bleach->nbconvert->notebook>=4.4.1->widgetsnbextension~=3.5.0->ipywidgets>=7.0.0->cufflinks) (20.4)\n",
      "Requirement already satisfied: webencodings in /usr/local/lib/python3.7/site-packages (from bleach->nbconvert->notebook>=4.4.1->widgetsnbextension~=3.5.0->ipywidgets>=7.0.0->cufflinks) (0.5.1)\n",
      "Requirement already satisfied: pycparser in /usr/local/lib/python3.7/site-packages (from cffi>=1.0.0->argon2-cffi->notebook>=4.4.1->widgetsnbextension~=3.5.0->ipywidgets>=7.0.0->cufflinks) (2.18)\n",
      "Requirement already satisfied: pyparsing>=2.0.2 in /usr/local/lib/python3.7/site-packages (from packaging->bleach->nbconvert->notebook>=4.4.1->widgetsnbextension~=3.5.0->ipywidgets>=7.0.0->cufflinks) (2.4.0)\n"
     ]
    },
    {
     "name": "stdout",
     "output_type": "stream",
     "text": [
      "Requirement already satisfied: textdistance[extras] in /usr/local/lib/python3.7/site-packages (4.2.0)\n",
      "Requirement already satisfied: numpy; extra == \"Levenshtein\" or extra == \"DamerauLevenshtein\" or extra == \"Jaro\" or extra == \"Hamming\" or extra == \"all\" or extra == \"benchmark\" or extra == \"extras\" or extra == \"common\" or extra == \"benchmarks\" or extra == \"extra\" or extra == \"JaroWinkler\" in /usr/local/lib/python3.7/site-packages (from textdistance[extras]) (1.15.1)\n",
      "Requirement already satisfied: jellyfish; extra == \"Levenshtein\" or extra == \"DamerauLevenshtein\" or extra == \"Jaro\" or extra == \"Hamming\" or extra == \"all\" or extra == \"benchmark\" or extra == \"extras\" or extra == \"common\" or extra == \"benchmarks\" or extra == \"extra\" or extra == \"JaroWinkler\" in /usr/local/lib/python3.7/site-packages (from textdistance[extras]) (0.8.2)\n",
      "Requirement already satisfied: abydos; extra == \"Levenshtein\" or extra == \"DamerauLevenshtein\" or extra == \"Jaro\" or extra == \"Hamming\" or extra == \"all\" or extra == \"benchmark\" or extra == \"extras\" or extra == \"common\" or extra == \"benchmarks\" or extra == \"extra\" or extra == \"JaroWinkler\" in /usr/local/lib/python3.7/site-packages (from textdistance[extras]) (0.5.0)\n",
      "Requirement already satisfied: python-levenshtein; extra == \"Levenshtein\" or extra == \"DamerauLevenshtein\" or extra == \"Jaro\" or extra == \"Hamming\" or extra == \"all\" or extra == \"benchmark\" or extra == \"extras\" or extra == \"common\" or extra == \"benchmarks\" or extra == \"extra\" or extra == \"JaroWinkler\" in /usr/local/lib/python3.7/site-packages (from textdistance[extras]) (0.12.0)\n",
      "Requirement already satisfied: pyxdameraulevenshtein; extra == \"Levenshtein\" or extra == \"DamerauLevenshtein\" or extra == \"Jaro\" or extra == \"Hamming\" or extra == \"all\" or extra == \"benchmark\" or extra == \"extras\" or extra == \"common\" or extra == \"benchmarks\" or extra == \"extra\" or extra == \"JaroWinkler\" in /usr/local/lib/python3.7/site-packages (from textdistance[extras]) (1.6.1)\n",
      "Requirement already satisfied: deprecation in /usr/local/lib/python3.7/site-packages (from abydos; extra == \"Levenshtein\" or extra == \"DamerauLevenshtein\" or extra == \"Jaro\" or extra == \"Hamming\" or extra == \"all\" or extra == \"benchmark\" or extra == \"extras\" or extra == \"common\" or extra == \"benchmarks\" or extra == \"extra\" or extra == \"JaroWinkler\"->textdistance[extras]) (2.1.0)\n",
      "Requirement already satisfied: setuptools in /usr/local/lib/python3.7/site-packages (from python-levenshtein; extra == \"Levenshtein\" or extra == \"DamerauLevenshtein\" or extra == \"Jaro\" or extra == \"Hamming\" or extra == \"all\" or extra == \"benchmark\" or extra == \"extras\" or extra == \"common\" or extra == \"benchmarks\" or extra == \"extra\" or extra == \"JaroWinkler\"->textdistance[extras]) (42.0.2)\n",
      "Requirement already satisfied: packaging in /usr/local/lib/python3.7/site-packages (from deprecation->abydos; extra == \"Levenshtein\" or extra == \"DamerauLevenshtein\" or extra == \"Jaro\" or extra == \"Hamming\" or extra == \"all\" or extra == \"benchmark\" or extra == \"extras\" or extra == \"common\" or extra == \"benchmarks\" or extra == \"extra\" or extra == \"JaroWinkler\"->textdistance[extras]) (20.4)\n",
      "Requirement already satisfied: six in /usr/local/lib/python3.7/site-packages (from packaging->deprecation->abydos; extra == \"Levenshtein\" or extra == \"DamerauLevenshtein\" or extra == \"Jaro\" or extra == \"Hamming\" or extra == \"all\" or extra == \"benchmark\" or extra == \"extras\" or extra == \"common\" or extra == \"benchmarks\" or extra == \"extra\" or extra == \"JaroWinkler\"->textdistance[extras]) (1.11.0)\n",
      "Requirement already satisfied: pyparsing>=2.0.2 in /usr/local/lib/python3.7/site-packages (from packaging->deprecation->abydos; extra == \"Levenshtein\" or extra == \"DamerauLevenshtein\" or extra == \"Jaro\" or extra == \"Hamming\" or extra == \"all\" or extra == \"benchmark\" or extra == \"extras\" or extra == \"common\" or extra == \"benchmarks\" or extra == \"extra\" or extra == \"JaroWinkler\"->textdistance[extras]) (2.4.0)\n",
      "Requirement already satisfied: chart_studio in /usr/local/lib/python3.7/site-packages (1.1.0)\n",
      "Requirement already satisfied: requests in /usr/local/lib/python3.7/site-packages (from chart_studio) (2.23.0)\n",
      "Requirement already satisfied: retrying>=1.3.3 in /usr/local/lib/python3.7/site-packages (from chart_studio) (1.3.3)\n",
      "Requirement already satisfied: six in /usr/local/lib/python3.7/site-packages (from chart_studio) (1.11.0)\n",
      "Requirement already satisfied: plotly in /usr/local/lib/python3.7/site-packages (from chart_studio) (4.9.0)\n",
      "Requirement already satisfied: urllib3!=1.25.0,!=1.25.1,<1.26,>=1.21.1 in /usr/local/lib/python3.7/site-packages (from requests->chart_studio) (1.25.3)\n",
      "Requirement already satisfied: idna<3,>=2.5 in /usr/local/lib/python3.7/site-packages (from requests->chart_studio) (2.8)\n",
      "Requirement already satisfied: chardet<4,>=3.0.2 in /usr/local/lib/python3.7/site-packages (from requests->chart_studio) (3.0.4)\n",
      "Requirement already satisfied: certifi>=2017.4.17 in /usr/local/lib/python3.7/site-packages (from requests->chart_studio) (2019.3.9)\n"
     ]
    }
   ],
   "source": [
    "import sys\n",
    "!{sys.executable} -m pip install 'pandas~=1.0.5'\n",
    "!{sys.executable} -m pip install 'cufflinks'\n",
    "!{sys.executable} -m pip install 'textdistance[extras]'\n",
    "!{sys.executable} -m pip install 'chart_studio'"
   ]
  },
  {
   "cell_type": "code",
   "execution_count": 2,
   "metadata": {},
   "outputs": [],
   "source": [
    "import os\n",
    "from os.path import dirname, abspath\n",
    "import sys\n",
    "from cu_catalog import config\n",
    "\n",
    "import pandas as pd\n",
    "from pandas.io.json import json_normalize\n",
    "\n",
    "import numpy as np\n",
    "\n",
    "from sklearn.naive_bayes import GaussianNB\n",
    "from sklearn.ensemble import RandomForestClassifier\n",
    "from sklearn.model_selection import train_test_split\n",
    "from sklearn.metrics import accuracy_score, classification_report\n",
    "\n",
    "from nltk.tokenize import word_tokenize\n",
    "from nltk.stem import PorterStemmer\n",
    "\n",
    "import textdistance"
   ]
  },
  {
   "cell_type": "code",
   "execution_count": 7,
   "metadata": {},
   "outputs": [
    {
     "name": "stdout",
     "output_type": "stream",
     "text": [
      "[nltk_data] Downloading package punkt to /Users/soid/nltk_data...\n",
      "[nltk_data]   Package punkt is already up-to-date!\n"
     ]
    },
    {
     "data": {
      "text/plain": [
       "True"
      ]
     },
     "execution_count": 7,
     "metadata": {},
     "output_type": "execute_result"
    }
   ],
   "source": [
    "import nltk\n",
    "nltk.download('punkt')"
   ]
  },
  {
   "cell_type": "markdown",
   "metadata": {},
   "source": [
    "# Wiki Search Results Classifier"
   ]
  },
  {
   "cell_type": "code",
   "execution_count": 3,
   "metadata": {},
   "outputs": [],
   "source": [
    "from importlib import reload\n",
    "import wiki_search_train\n",
    "reload(wiki_search_train)\n",
    "\n",
    "model = wiki_search_train.WikiSearchClassifier()"
   ]
  },
  {
   "cell_type": "code",
   "execution_count": 4,
   "metadata": {},
   "outputs": [
    {
     "name": "stdout",
     "output_type": "stream",
     "text": [
      "Initial data for training before balancing:\n",
      "0    741\n",
      "1     53\n",
      "2     31\n",
      "Name: search_results.label, dtype: int64\n",
      "Train set:\n",
      "1    25\n",
      "0    25\n",
      "2    24\n",
      "Name: search_results.label, dtype: int64\n",
      "Test set:\n",
      "2    7\n",
      "1    6\n",
      "0    6\n",
      "Name: search_results.label, dtype: int64\n"
     ]
    },
    {
     "data": {
      "text/html": [
       "<div>\n",
       "<style scoped>\n",
       "    .dataframe tbody tr th:only-of-type {\n",
       "        vertical-align: middle;\n",
       "    }\n",
       "\n",
       "    .dataframe tbody tr th {\n",
       "        vertical-align: top;\n",
       "    }\n",
       "\n",
       "    .dataframe thead th {\n",
       "        text-align: right;\n",
       "    }\n",
       "</style>\n",
       "<table border=\"1\" class=\"dataframe\">\n",
       "  <thead>\n",
       "    <tr style=\"text-align: right;\">\n",
       "      <th></th>\n",
       "      <th>search_results.title</th>\n",
       "      <th>search_results.snippet</th>\n",
       "      <th>search_results.label</th>\n",
       "      <th>name</th>\n",
       "      <th>department</th>\n",
       "    </tr>\n",
       "  </thead>\n",
       "  <tbody>\n",
       "    <tr>\n",
       "      <th>0</th>\n",
       "      <td>Haruo Shirane</td>\n",
       "      <td>Columbia University Press. Shirane, Haruo, ed....</td>\n",
       "      <td>1</td>\n",
       "      <td>Haruo Shirane</td>\n",
       "      <td>East Asian Languages and Cultures\\t</td>\n",
       "    </tr>\n",
       "    <tr>\n",
       "      <th>1</th>\n",
       "      <td>James Schamus</td>\n",
       "      <td>FilmDistrict. Schamus was born in Detroit, Mic...</td>\n",
       "      <td>1</td>\n",
       "      <td>James A Schamus</td>\n",
       "      <td>Film</td>\n",
       "    </tr>\n",
       "    <tr>\n",
       "      <th>2</th>\n",
       "      <td>Delphine Fawundu</td>\n",
       "      <td>Adama Delphine Fawundu (born 1971) is an Ameri...</td>\n",
       "      <td>2</td>\n",
       "      <td>Delphine A Fawundu</td>\n",
       "      <td>Visual Arts</td>\n",
       "    </tr>\n",
       "    <tr>\n",
       "      <th>3</th>\n",
       "      <td>Christine Blasey Ford</td>\n",
       "      <td>Christine Margaret Blasey Ford (/ˈblɑːzi/; bor...</td>\n",
       "      <td>0</td>\n",
       "      <td>Christine S Low</td>\n",
       "      <td>Social Work</td>\n",
       "    </tr>\n",
       "    <tr>\n",
       "      <th>4</th>\n",
       "      <td>Christine Gregoire</td>\n",
       "      <td>Christine &amp;quot;Chris&amp;quot; O'Grady Gregoire (...</td>\n",
       "      <td>0</td>\n",
       "      <td>Christine S Low</td>\n",
       "      <td>Social Work</td>\n",
       "    </tr>\n",
       "    <tr>\n",
       "      <th>...</th>\n",
       "      <td>...</td>\n",
       "      <td>...</td>\n",
       "      <td>...</td>\n",
       "      <td>...</td>\n",
       "      <td>...</td>\n",
       "    </tr>\n",
       "    <tr>\n",
       "      <th>820</th>\n",
       "      <td>W. John Kress</td>\n",
       "      <td>Retrieved 2018-10-18. &amp;quot;2013 W. John Kress...</td>\n",
       "      <td>0</td>\n",
       "      <td>John A Gentry</td>\n",
       "      <td>International and Public Affairs</td>\n",
       "    </tr>\n",
       "    <tr>\n",
       "      <th>821</th>\n",
       "      <td>Todd Gitlin</td>\n",
       "      <td>Todd Alan Gitlin (born January 6, 1943) is an ...</td>\n",
       "      <td>1</td>\n",
       "      <td>Todd Gitlin</td>\n",
       "      <td>Journalism</td>\n",
       "    </tr>\n",
       "    <tr>\n",
       "      <th>822</th>\n",
       "      <td>List of Mad Men characters</td>\n",
       "      <td>talks Ginsberg's breakdown&amp;quot;. CBS News. 20...</td>\n",
       "      <td>0</td>\n",
       "      <td>Phillip L Marotta</td>\n",
       "      <td>Social Work</td>\n",
       "    </tr>\n",
       "    <tr>\n",
       "      <th>823</th>\n",
       "      <td>Axel Honneth</td>\n",
       "      <td>Axel Honneth (/ˈhɒnɪt, -ɛt/; German: [aksl̩ ˈh...</td>\n",
       "      <td>1</td>\n",
       "      <td>Axel Honneth</td>\n",
       "      <td>Philosophy</td>\n",
       "    </tr>\n",
       "    <tr>\n",
       "      <th>824</th>\n",
       "      <td>Nicolai Ouroussoff</td>\n",
       "      <td>Kimmelman. &amp;quot;Columbia University Faculty a...</td>\n",
       "      <td>1</td>\n",
       "      <td>Nicolai Ouroussoff</td>\n",
       "      <td>Architecture, Planning and Preservation</td>\n",
       "    </tr>\n",
       "  </tbody>\n",
       "</table>\n",
       "<p>825 rows × 5 columns</p>\n",
       "</div>"
      ],
      "text/plain": [
       "           search_results.title  \\\n",
       "0                 Haruo Shirane   \n",
       "1                 James Schamus   \n",
       "2              Delphine Fawundu   \n",
       "3         Christine Blasey Ford   \n",
       "4            Christine Gregoire   \n",
       "..                          ...   \n",
       "820               W. John Kress   \n",
       "821                 Todd Gitlin   \n",
       "822  List of Mad Men characters   \n",
       "823                Axel Honneth   \n",
       "824          Nicolai Ouroussoff   \n",
       "\n",
       "                                search_results.snippet  search_results.label  \\\n",
       "0    Columbia University Press. Shirane, Haruo, ed....                     1   \n",
       "1    FilmDistrict. Schamus was born in Detroit, Mic...                     1   \n",
       "2    Adama Delphine Fawundu (born 1971) is an Ameri...                     2   \n",
       "3    Christine Margaret Blasey Ford (/ˈblɑːzi/; bor...                     0   \n",
       "4    Christine &quot;Chris&quot; O'Grady Gregoire (...                     0   \n",
       "..                                                 ...                   ...   \n",
       "820  Retrieved 2018-10-18. &quot;2013 W. John Kress...                     0   \n",
       "821  Todd Alan Gitlin (born January 6, 1943) is an ...                     1   \n",
       "822  talks Ginsberg's breakdown&quot;. CBS News. 20...                     0   \n",
       "823  Axel Honneth (/ˈhɒnɪt, -ɛt/; German: [aksl̩ ˈh...                     1   \n",
       "824  Kimmelman. &quot;Columbia University Faculty a...                     1   \n",
       "\n",
       "                   name                               department  \n",
       "0         Haruo Shirane      East Asian Languages and Cultures\\t  \n",
       "1       James A Schamus                                     Film  \n",
       "2    Delphine A Fawundu                              Visual Arts  \n",
       "3       Christine S Low                              Social Work  \n",
       "4       Christine S Low                              Social Work  \n",
       "..                  ...                                      ...  \n",
       "820       John A Gentry         International and Public Affairs  \n",
       "821         Todd Gitlin                               Journalism  \n",
       "822   Phillip L Marotta                              Social Work  \n",
       "823        Axel Honneth                               Philosophy  \n",
       "824  Nicolai Ouroussoff  Architecture, Planning and Preservation  \n",
       "\n",
       "[825 rows x 5 columns]"
      ]
     },
     "metadata": {},
     "output_type": "display_data"
    }
   ],
   "source": [
    "model.load_training_data()\n",
    "data = model.data\n",
    "display(data)"
   ]
  },
  {
   "cell_type": "code",
   "execution_count": 5,
   "metadata": {
    "scrolled": true
   },
   "outputs": [
    {
     "name": "stdout",
     "output_type": "stream",
     "text": [
      "Evaluating test data set:\n",
      "  Misclassified as irrelevant but are relevant (no big deal): [5, 7, 8, 14]\n",
      "\n",
      "              precision    recall  f1-score   support\n",
      "\n",
      "           0       1.00      1.00      1.00         6\n",
      "           1       0.60      1.00      0.75         6\n",
      "           2       1.00      0.43      0.60         7\n",
      "\n",
      "    accuracy                           0.79        19\n",
      "   macro avg       0.87      0.81      0.78        19\n",
      "weighted avg       0.87      0.79      0.77        19\n",
      "\n",
      "Predicted:\n",
      "[2 0 0 0 1 1 0 1 1 1 1 1 1 2 1 0 2 1 0]\n",
      "True:\n",
      "[2 0 0 0 1 2 0 2 2 1 1 1 1 2 2 0 2 1 0]\n",
      "\n",
      "Evaluating the entire unbalanced data set:\n",
      "  Misclassified as irrelevant but are relevant (no big deal): [2, 405, 748, 760, 770]\n",
      "  Misclassified as relevant but are not (big deal, unless mistake in dataset): [252]\n",
      "\n",
      "              precision    recall  f1-score   support\n",
      "\n",
      "           0       1.00      0.96      0.98       741\n",
      "           1       0.57      0.96      0.72        53\n",
      "           2       0.96      0.84      0.90        31\n",
      "\n",
      "    accuracy                           0.95       825\n",
      "   macro avg       0.84      0.92      0.86       825\n",
      "weighted avg       0.97      0.95      0.96       825\n",
      "\n",
      "Confusion Matrix:\n",
      "            Irrelevant  Possible  Relevant\n",
      "Irrelevant         708        33         0\n",
      "Possible             1        51         1\n",
      "Relevant             0         5        26\n"
     ]
    }
   ],
   "source": [
    "model.fit()\n",
    "model.evaluate()"
   ]
  },
  {
   "cell_type": "markdown",
   "metadata": {},
   "source": [
    "# Wiki Article Classifier"
   ]
  },
  {
   "cell_type": "code",
   "execution_count": 39,
   "metadata": {},
   "outputs": [],
   "source": [
    "from importlib import reload\n",
    "from cu_catalog.models import wiki_article\n",
    "reload(wiki_article)\n",
    "\n",
    "wac_model = wiki_article.WikiArticleClassifier()"
   ]
  },
  {
   "cell_type": "code",
   "execution_count": 40,
   "metadata": {},
   "outputs": [
    {
     "name": "stdout",
     "output_type": "stream",
     "text": [
      "Initial data for training before balancing:\n",
      "0    34\n",
      "1    26\n",
      "Name: label, dtype: int64\n",
      "Train set:\n",
      "0    27\n",
      "1    21\n",
      "Name: label, dtype: int64\n",
      "Test set:\n",
      "0    7\n",
      "1    5\n",
      "Name: label, dtype: int64\n"
     ]
    },
    {
     "data": {
      "text/html": [
       "<div>\n",
       "<style scoped>\n",
       "    .dataframe tbody tr th:only-of-type {\n",
       "        vertical-align: middle;\n",
       "    }\n",
       "\n",
       "    .dataframe tbody tr th {\n",
       "        vertical-align: top;\n",
       "    }\n",
       "\n",
       "    .dataframe thead th {\n",
       "        text-align: right;\n",
       "    }\n",
       "</style>\n",
       "<table border=\"1\" class=\"dataframe\">\n",
       "  <thead>\n",
       "    <tr style=\"text-align: right;\">\n",
       "      <th></th>\n",
       "      <th>name</th>\n",
       "      <th>department</th>\n",
       "      <th>course_descr</th>\n",
       "      <th>wiki_title</th>\n",
       "      <th>wiki_page</th>\n",
       "      <th>label</th>\n",
       "    </tr>\n",
       "  </thead>\n",
       "  <tbody>\n",
       "    <tr>\n",
       "      <th>0</th>\n",
       "      <td>Justin So</td>\n",
       "      <td>School of Professional Studies (SPS)</td>\n",
       "      <td>None</td>\n",
       "      <td>Justin McCarthy (American historian)</td>\n",
       "      <td>Justin A. McCarthy (born October 19, 1945) is ...</td>\n",
       "      <td>0</td>\n",
       "    </tr>\n",
       "    <tr>\n",
       "      <th>1</th>\n",
       "      <td>Mary Carpenter</td>\n",
       "      <td>Dance @Barnard</td>\n",
       "      <td>Prerequisites: Permission of instructor or DNC...</td>\n",
       "      <td>Mary Chapin Carpenter</td>\n",
       "      <td>Mary Chapin Carpenter (born February 21, 1958)...</td>\n",
       "      <td>0</td>\n",
       "    </tr>\n",
       "    <tr>\n",
       "      <th>2</th>\n",
       "      <td>Kenneth A Ross</td>\n",
       "      <td>Computer Science</td>\n",
       "      <td>Prerequisites: (COMS W3134) or (COMS W3137) or...</td>\n",
       "      <td>Kenneth Arrow</td>\n",
       "      <td>Kenneth Joseph Arrow (23 August 1921 – 21 Febr...</td>\n",
       "      <td>0</td>\n",
       "    </tr>\n",
       "    <tr>\n",
       "      <th>3</th>\n",
       "      <td>Joseph N Fasano</td>\n",
       "      <td>Writing</td>\n",
       "      <td>Prerequisites: No prerequisites. Department ap...</td>\n",
       "      <td>Joseph Fasano</td>\n",
       "      <td>Joseph Fasano (born 1982) is an American poet....</td>\n",
       "      <td>1</td>\n",
       "    </tr>\n",
       "    <tr>\n",
       "      <th>4</th>\n",
       "      <td>William Cobb</td>\n",
       "      <td>Journalism</td>\n",
       "      <td>None</td>\n",
       "      <td>William Montague Cobb</td>\n",
       "      <td>William Montague Cobb (1904–1990) was a board-...</td>\n",
       "      <td>0</td>\n",
       "    </tr>\n",
       "    <tr>\n",
       "      <th>5</th>\n",
       "      <td>Robert D Mawhinney</td>\n",
       "      <td>Physics</td>\n",
       "      <td>None</td>\n",
       "      <td>Robert J. Mawhinney</td>\n",
       "      <td>Robert J. Mawhinney (October 1, 1859 — Novembe...</td>\n",
       "      <td>0</td>\n",
       "    </tr>\n",
       "    <tr>\n",
       "      <th>6</th>\n",
       "      <td>Edward F Leonard</td>\n",
       "      <td>Biomedical Engineering</td>\n",
       "      <td>Independent projects involving experimental, t...</td>\n",
       "      <td>Leonard Slatkin</td>\n",
       "      <td>Leonard Edward Slatkin (born September 1, 1944...</td>\n",
       "      <td>0</td>\n",
       "    </tr>\n",
       "    <tr>\n",
       "      <th>7</th>\n",
       "      <td>Michael A Holmes</td>\n",
       "      <td>Philosophy</td>\n",
       "      <td>Required discussion section for PHIL UN3960 Ep...</td>\n",
       "      <td>Michael Smerconish</td>\n",
       "      <td>Michael A. Smerconish (born March 15, 1962) is...</td>\n",
       "      <td>0</td>\n",
       "    </tr>\n",
       "    <tr>\n",
       "      <th>8</th>\n",
       "      <td>Morgan Jenness</td>\n",
       "      <td>Theatre Arts</td>\n",
       "      <td>.\\n</td>\n",
       "      <td>Morgan Jenness</td>\n",
       "      <td>Morgan Jenness is a freelance dramaturg based ...</td>\n",
       "      <td>1</td>\n",
       "    </tr>\n",
       "    <tr>\n",
       "      <th>9</th>\n",
       "      <td>Feng Li</td>\n",
       "      <td>East Asian Languages and Cultures\\t</td>\n",
       "      <td>In this graduate seminar course, students will...</td>\n",
       "      <td>Li Feng</td>\n",
       "      <td>Li Feng may refer to:\\n\\nLi Feng (athlete) (bo...</td>\n",
       "      <td>0</td>\n",
       "    </tr>\n",
       "    <tr>\n",
       "      <th>10</th>\n",
       "      <td>Andres Jaque</td>\n",
       "      <td>Architecture, Planning and Preservation</td>\n",
       "      <td>None</td>\n",
       "      <td>Andrés Jaque</td>\n",
       "      <td>Andrés Jaque is an architect. His work explore...</td>\n",
       "      <td>1</td>\n",
       "    </tr>\n",
       "    <tr>\n",
       "      <th>11</th>\n",
       "      <td>Saidiya Hartman</td>\n",
       "      <td>English and Comparative Literature</td>\n",
       "      <td>None</td>\n",
       "      <td>Saidiya Hartman</td>\n",
       "      <td>Saidiya Hartman (born 1961) is an American wri...</td>\n",
       "      <td>1</td>\n",
       "    </tr>\n",
       "    <tr>\n",
       "      <th>12</th>\n",
       "      <td>Elizabeth Hayes</td>\n",
       "      <td>Theatre Arts</td>\n",
       "      <td>Beginning with the understanding that speech s...</td>\n",
       "      <td>Julie Andrews</td>\n",
       "      <td>Dame Julie Andrews  (born Julia Elizabeth Well...</td>\n",
       "      <td>0</td>\n",
       "    </tr>\n",
       "    <tr>\n",
       "      <th>13</th>\n",
       "      <td>Robert K Watson</td>\n",
       "      <td>International and Public Affairs</td>\n",
       "      <td>The construction and operation of buildings is...</td>\n",
       "      <td>Robert K. Watson</td>\n",
       "      <td>Robert \"Rob\" Watson, is a market transformatio...</td>\n",
       "      <td>1</td>\n",
       "    </tr>\n",
       "    <tr>\n",
       "      <th>14</th>\n",
       "      <td>Saul J Berman</td>\n",
       "      <td>Law</td>\n",
       "      <td>None</td>\n",
       "      <td>Saul Berman</td>\n",
       "      <td>Saul J. Berman (born April 30, 1939) is an Ame...</td>\n",
       "      <td>1</td>\n",
       "    </tr>\n",
       "    <tr>\n",
       "      <th>15</th>\n",
       "      <td>Sudipta Kaviraj</td>\n",
       "      <td>Middle Eastern, South Asian and African Studies</td>\n",
       "      <td>This course will be the first part of a two pa...</td>\n",
       "      <td>Sudipta Kaviraj</td>\n",
       "      <td>Sudipta Kaviraj (born 1945) is a scholar of So...</td>\n",
       "      <td>1</td>\n",
       "    </tr>\n",
       "    <tr>\n",
       "      <th>16</th>\n",
       "      <td>Eunice Chung</td>\n",
       "      <td>East Asian Languages and Cultures\\t</td>\n",
       "      <td>Prerequisites: KORN W1102 or the equivalent. C...</td>\n",
       "      <td>Eunice Yung</td>\n",
       "      <td>Eunice Yung Hoi-yan (Chinese: 容海恩; born 7 June...</td>\n",
       "      <td>0</td>\n",
       "    </tr>\n",
       "    <tr>\n",
       "      <th>17</th>\n",
       "      <td>Lei Lei</td>\n",
       "      <td>East Asian Languages and Cultures\\t</td>\n",
       "      <td>This course explores the core classical litera...</td>\n",
       "      <td>Thunderstorm (play)</td>\n",
       "      <td>Thunderstorm (Chinese: 雷雨; pinyin: Léiyǔ; Wade...</td>\n",
       "      <td>0</td>\n",
       "    </tr>\n",
       "    <tr>\n",
       "      <th>18</th>\n",
       "      <td>Michael Johannes</td>\n",
       "      <td>Finance</td>\n",
       "      <td>None</td>\n",
       "      <td>Michael John Fles</td>\n",
       "      <td>Michael John Fles (born 11 November 1936), kno...</td>\n",
       "      <td>0</td>\n",
       "    </tr>\n",
       "    <tr>\n",
       "      <th>19</th>\n",
       "      <td>David Harvey</td>\n",
       "      <td>Anthropology</td>\n",
       "      <td>Prerequisites: the instructors permission. Ind...</td>\n",
       "      <td>David Harvey (structural engineer)</td>\n",
       "      <td>David Harvey  FIStructE is a British structura...</td>\n",
       "      <td>0</td>\n",
       "    </tr>\n",
       "    <tr>\n",
       "      <th>20</th>\n",
       "      <td>Mark Brown</td>\n",
       "      <td>Statistics</td>\n",
       "      <td>Prerequisites: STAT GU4203 and two, preferably...</td>\n",
       "      <td>Mark N. Brown</td>\n",
       "      <td>Mark Neil Brown (born November 18, 1951) is an...</td>\n",
       "      <td>0</td>\n",
       "    </tr>\n",
       "    <tr>\n",
       "      <th>21</th>\n",
       "      <td>John Hicks</td>\n",
       "      <td>Auditing</td>\n",
       "      <td>None</td>\n",
       "      <td>John Hicks (pianist)</td>\n",
       "      <td>John Josephus Hicks, Jr. (December 21, 1941 – ...</td>\n",
       "      <td>0</td>\n",
       "    </tr>\n",
       "    <tr>\n",
       "      <th>22</th>\n",
       "      <td>Emanuel Derman</td>\n",
       "      <td>Video Network</td>\n",
       "      <td>Prerequisites: (IEOR E4706) and knowledge of d...</td>\n",
       "      <td>Emanuel Derman</td>\n",
       "      <td>Emanuel Derman (born 1945) is a South African-...</td>\n",
       "      <td>1</td>\n",
       "    </tr>\n",
       "    <tr>\n",
       "      <th>23</th>\n",
       "      <td>Jessica H Lee</td>\n",
       "      <td>History</td>\n",
       "      <td>This course explores the meaning of American c...</td>\n",
       "      <td>Jessica Ware</td>\n",
       "      <td>Jessica Lee Ware is an African-American evolut...</td>\n",
       "      <td>0</td>\n",
       "    </tr>\n",
       "    <tr>\n",
       "      <th>24</th>\n",
       "      <td>Lisa S Anderson</td>\n",
       "      <td>International and Public Affairs</td>\n",
       "      <td>The vast major of human society has been gover...</td>\n",
       "      <td>Lisa F. Jackson</td>\n",
       "      <td>Lisa F. Jackson (born 1950) is an American doc...</td>\n",
       "      <td>0</td>\n",
       "    </tr>\n",
       "    <tr>\n",
       "      <th>25</th>\n",
       "      <td>Matthew Frederick</td>\n",
       "      <td>School of Professional Studies (DVSP)</td>\n",
       "      <td>None</td>\n",
       "      <td>Matthew Good</td>\n",
       "      <td>Matthew Frederick Robert Good (born June 29, 1...</td>\n",
       "      <td>0</td>\n",
       "    </tr>\n",
       "    <tr>\n",
       "      <th>26</th>\n",
       "      <td>Lynn S Strong</td>\n",
       "      <td>Writing</td>\n",
       "      <td>.\\n</td>\n",
       "      <td>Lynn Tilton</td>\n",
       "      <td>Lynn G. Tilton (born April 22, 1959) is an Ame...</td>\n",
       "      <td>0</td>\n",
       "    </tr>\n",
       "    <tr>\n",
       "      <th>27</th>\n",
       "      <td>John D Izzo</td>\n",
       "      <td>Classics</td>\n",
       "      <td>Prerequisites: LATN UN1101-UN1102, or LATN UN1...</td>\n",
       "      <td>John Izzo</td>\n",
       "      <td>John Izzo is a businessman, corporate advisor,...</td>\n",
       "      <td>0</td>\n",
       "    </tr>\n",
       "    <tr>\n",
       "      <th>28</th>\n",
       "      <td>Paula Span</td>\n",
       "      <td>Journalism</td>\n",
       "      <td>The master’s project will be your most sustain...</td>\n",
       "      <td>Paula S. Apsell</td>\n",
       "      <td>Paula S. Apsell (born July 4, 1947) is the tel...</td>\n",
       "      <td>0</td>\n",
       "    </tr>\n",
       "    <tr>\n",
       "      <th>29</th>\n",
       "      <td>John Park</td>\n",
       "      <td>Economics @Barnard</td>\n",
       "      <td>Prerequisites: An introductory course in micro...</td>\n",
       "      <td>John Parke Custis</td>\n",
       "      <td>John Parke Custis (\"Jacky\") (27 November 1754 ...</td>\n",
       "      <td>0</td>\n",
       "    </tr>\n",
       "    <tr>\n",
       "      <th>30</th>\n",
       "      <td>Donna Lynne</td>\n",
       "      <td>Health Policy &amp; Management</td>\n",
       "      <td>None</td>\n",
       "      <td>Donna Lynne</td>\n",
       "      <td>Donna Lynne (born October 27, 1953) is an Amer...</td>\n",
       "      <td>1</td>\n",
       "    </tr>\n",
       "    <tr>\n",
       "      <th>31</th>\n",
       "      <td>Nina J Berman</td>\n",
       "      <td>Journalism</td>\n",
       "      <td>None</td>\n",
       "      <td>Nina Berman</td>\n",
       "      <td>Nina Berman (born 1960) is an American documen...</td>\n",
       "      <td>1</td>\n",
       "    </tr>\n",
       "    <tr>\n",
       "      <th>32</th>\n",
       "      <td>Mark E Doten</td>\n",
       "      <td>Writing</td>\n",
       "      <td>.\\n</td>\n",
       "      <td>Mark Doten</td>\n",
       "      <td>Mark Doten is an American novelist and librett...</td>\n",
       "      <td>1</td>\n",
       "    </tr>\n",
       "    <tr>\n",
       "      <th>33</th>\n",
       "      <td>Sudipta Kaviraj</td>\n",
       "      <td>Middle Eastern, South Asian and African Studies</td>\n",
       "      <td>The main purpose of this course is to acquaint...</td>\n",
       "      <td>Sudipta Kaviraj</td>\n",
       "      <td>Sudipta Kaviraj (born 1945) is a scholar of So...</td>\n",
       "      <td>1</td>\n",
       "    </tr>\n",
       "    <tr>\n",
       "      <th>34</th>\n",
       "      <td>Valerie Smith</td>\n",
       "      <td>Journalism</td>\n",
       "      <td>None</td>\n",
       "      <td>Valerie Martin</td>\n",
       "      <td>Valerie Martin (born March 14, 1948) is an Ame...</td>\n",
       "      <td>0</td>\n",
       "    </tr>\n",
       "    <tr>\n",
       "      <th>35</th>\n",
       "      <td>Karen Lewis</td>\n",
       "      <td>Philosophy @Barnard</td>\n",
       "      <td>Explicit criteria for recognizing valid and fa...</td>\n",
       "      <td>Karen Sharpe</td>\n",
       "      <td>Karen Kay Sharpe (born September 20, 1934) is ...</td>\n",
       "      <td>0</td>\n",
       "    </tr>\n",
       "    <tr>\n",
       "      <th>36</th>\n",
       "      <td>Gregory Mann</td>\n",
       "      <td>History</td>\n",
       "      <td>This course offers a survey of the poltiical h...</td>\n",
       "      <td>Greg Walden</td>\n",
       "      <td>Gregory Paul Walden (born January 10, 1957) is...</td>\n",
       "      <td>0</td>\n",
       "    </tr>\n",
       "    <tr>\n",
       "      <th>37</th>\n",
       "      <td>Brian Greene</td>\n",
       "      <td>School of Professional Studies (SPS)</td>\n",
       "      <td>This seminar is a one-semester survey of the u...</td>\n",
       "      <td>Brian Greene</td>\n",
       "      <td>Brian Randolph Greene (born February 9, 1963) ...</td>\n",
       "      <td>1</td>\n",
       "    </tr>\n",
       "    <tr>\n",
       "      <th>38</th>\n",
       "      <td>Edward J Hoffman</td>\n",
       "      <td>School of Professional Studies (SPS)</td>\n",
       "      <td>None</td>\n",
       "      <td>James Franco</td>\n",
       "      <td>James Edward Franco (born April 19, 1978) is a...</td>\n",
       "      <td>0</td>\n",
       "    </tr>\n",
       "    <tr>\n",
       "      <th>39</th>\n",
       "      <td>Bjarne Stroustrup</td>\n",
       "      <td>Computer Science</td>\n",
       "      <td>Prerequisites: Instructor's permission.  Speci...</td>\n",
       "      <td>Bjarne Stroustrup</td>\n",
       "      <td>Bjarne Stroustrup (; Danish: [ˈpjaːnə ˈstʁʌwˀs...</td>\n",
       "      <td>1</td>\n",
       "    </tr>\n",
       "    <tr>\n",
       "      <th>40</th>\n",
       "      <td>Betsy West</td>\n",
       "      <td>Journalism</td>\n",
       "      <td>None</td>\n",
       "      <td>Betsy Damon</td>\n",
       "      <td>\\n== Early life and career ==\\nBorn in 1940, B...</td>\n",
       "      <td>0</td>\n",
       "    </tr>\n",
       "    <tr>\n",
       "      <th>41</th>\n",
       "      <td>Kenneth Cooper</td>\n",
       "      <td>Music</td>\n",
       "      <td>Prerequisites: Auditions are required. Sign up...</td>\n",
       "      <td>Kenny Chesney</td>\n",
       "      <td>Kenneth Arnold Chesney (born March 26, 1968) i...</td>\n",
       "      <td>0</td>\n",
       "    </tr>\n",
       "    <tr>\n",
       "      <th>42</th>\n",
       "      <td>Mark Mazower</td>\n",
       "      <td>History</td>\n",
       "      <td>How do international and global perspectives s...</td>\n",
       "      <td>Mark Mazower</td>\n",
       "      <td>Mark Mazower (; born 20 February 1958) is a Br...</td>\n",
       "      <td>1</td>\n",
       "    </tr>\n",
       "    <tr>\n",
       "      <th>43</th>\n",
       "      <td>David Bell</td>\n",
       "      <td>Population and Family Health</td>\n",
       "      <td>None</td>\n",
       "      <td>Joshua Bell</td>\n",
       "      <td>Joshua David Bell (born December 9, 1967) is a...</td>\n",
       "      <td>0</td>\n",
       "    </tr>\n",
       "    <tr>\n",
       "      <th>44</th>\n",
       "      <td>Elizabeth L Smith</td>\n",
       "      <td>Law</td>\n",
       "      <td>None</td>\n",
       "      <td>Elizabeth A. T. Smith</td>\n",
       "      <td>Elizabeth A. T. Smith (born 1958) is an Americ...</td>\n",
       "      <td>0</td>\n",
       "    </tr>\n",
       "    <tr>\n",
       "      <th>45</th>\n",
       "      <td>Gordon Kipping</td>\n",
       "      <td>Architecture, Planning and Preservation</td>\n",
       "      <td>None</td>\n",
       "      <td>Gordon Kipping</td>\n",
       "      <td>Gordon Kipping (born 1966) is the founder and ...</td>\n",
       "      <td>1</td>\n",
       "    </tr>\n",
       "    <tr>\n",
       "      <th>46</th>\n",
       "      <td>Nicholas Christopher</td>\n",
       "      <td>Writing</td>\n",
       "      <td>None</td>\n",
       "      <td>Nicholas Christopher</td>\n",
       "      <td>Nicholas Christopher (b. 1951) is an American ...</td>\n",
       "      <td>1</td>\n",
       "    </tr>\n",
       "    <tr>\n",
       "      <th>47</th>\n",
       "      <td>Gerard F Parkin</td>\n",
       "      <td>Chemistry</td>\n",
       "      <td>The use of multinuclear NMR spectroscopy in th...</td>\n",
       "      <td>Gerard Parkin</td>\n",
       "      <td>Gerard \"Ged\" F. R. Parkin (born 15 February 19...</td>\n",
       "      <td>1</td>\n",
       "    </tr>\n",
       "    <tr>\n",
       "      <th>48</th>\n",
       "      <td>Richard Locke</td>\n",
       "      <td>Writing</td>\n",
       "      <td>.\\n</td>\n",
       "      <td>Richard Locke</td>\n",
       "      <td>Richard Locke is an American critic and essayi...</td>\n",
       "      <td>1</td>\n",
       "    </tr>\n",
       "    <tr>\n",
       "      <th>49</th>\n",
       "      <td>Ole Mathisen</td>\n",
       "      <td>Music</td>\n",
       "      <td>None</td>\n",
       "      <td>Ole Mathisen</td>\n",
       "      <td>Ole Mathisen (born 13 February 1965) is a Norw...</td>\n",
       "      <td>1</td>\n",
       "    </tr>\n",
       "    <tr>\n",
       "      <th>50</th>\n",
       "      <td>James G Basker</td>\n",
       "      <td>English @Barnard</td>\n",
       "      <td>Prerequisites: Enrollment limited to Barnard E...</td>\n",
       "      <td>James Basker</td>\n",
       "      <td>Professor James G. Basker is an American schol...</td>\n",
       "      <td>1</td>\n",
       "    </tr>\n",
       "    <tr>\n",
       "      <th>51</th>\n",
       "      <td>Michael Doyle</td>\n",
       "      <td>Law</td>\n",
       "      <td>This is a Law School course. For more detailed...</td>\n",
       "      <td>Michael W. Doyle</td>\n",
       "      <td>Michael W. Doyle is an American international ...</td>\n",
       "      <td>1</td>\n",
       "    </tr>\n",
       "    <tr>\n",
       "      <th>52</th>\n",
       "      <td>Michael Collins</td>\n",
       "      <td>Video Network</td>\n",
       "      <td>Prerequisites: (COMS W3134 or COMS W3136 or CO...</td>\n",
       "      <td>Michael Bay</td>\n",
       "      <td>Michael Benjamin Bay (born February 17, 1965) ...</td>\n",
       "      <td>0</td>\n",
       "    </tr>\n",
       "    <tr>\n",
       "      <th>53</th>\n",
       "      <td>Stephen H Tsang</td>\n",
       "      <td>Biomedical Engineering</td>\n",
       "      <td>A candidate for the doctorate in biomedical en...</td>\n",
       "      <td>Stephen Tsang</td>\n",
       "      <td>Stephen H. Tsang (Chinese: 曾慶霖; Pinyin: Zeng Q...</td>\n",
       "      <td>1</td>\n",
       "    </tr>\n",
       "    <tr>\n",
       "      <th>54</th>\n",
       "      <td>David A Rios</td>\n",
       "      <td>Statistics</td>\n",
       "      <td>Prerequisites: At least one semester of calcul...</td>\n",
       "      <td>Dave Grusin</td>\n",
       "      <td>Robert David Grusin (born June 26, 1934) is an...</td>\n",
       "      <td>0</td>\n",
       "    </tr>\n",
       "    <tr>\n",
       "      <th>55</th>\n",
       "      <td>Lauren Esposito</td>\n",
       "      <td>Summer High School Program</td>\n",
       "      <td>None</td>\n",
       "      <td>Lauren Esposito</td>\n",
       "      <td>Lauren Esposito is the Assistant Curator and S...</td>\n",
       "      <td>1</td>\n",
       "    </tr>\n",
       "    <tr>\n",
       "      <th>56</th>\n",
       "      <td>Ann Grimes</td>\n",
       "      <td>Journalism</td>\n",
       "      <td>None</td>\n",
       "      <td>Ann Dowd</td>\n",
       "      <td>Ann Dowd (born January 30, 1956) is an America...</td>\n",
       "      <td>0</td>\n",
       "    </tr>\n",
       "    <tr>\n",
       "      <th>57</th>\n",
       "      <td>David H Quinn</td>\n",
       "      <td>American Language Program</td>\n",
       "      <td>None</td>\n",
       "      <td>David Oliver (ice hockey)</td>\n",
       "      <td>David Lee Oliver (born April 17, 1971) is a Ca...</td>\n",
       "      <td>0</td>\n",
       "    </tr>\n",
       "    <tr>\n",
       "      <th>58</th>\n",
       "      <td>S. Akbar Zaidi</td>\n",
       "      <td>Middle Eastern, South Asian and African Studies</td>\n",
       "      <td>This is an advanced undergraduate/graduate sem...</td>\n",
       "      <td>S. Akbar Zaidi</td>\n",
       "      <td>Syed Akbar Zaidi (Urdu: سید اکبر زیدی‎) is a P...</td>\n",
       "      <td>1</td>\n",
       "    </tr>\n",
       "    <tr>\n",
       "      <th>59</th>\n",
       "      <td>Elizabeth Bernstein</td>\n",
       "      <td>Women's and Gender Studies</td>\n",
       "      <td>At once material and symbolic, our bodies exis...</td>\n",
       "      <td>Elizabeth Bernstein</td>\n",
       "      <td>Elizabeth Bernstein (born 10 October 1968) is ...</td>\n",
       "      <td>1</td>\n",
       "    </tr>\n",
       "  </tbody>\n",
       "</table>\n",
       "</div>"
      ],
      "text/plain": [
       "                    name                                       department  \\\n",
       "0              Justin So            School of Professional Studies (SPS)    \n",
       "1         Mary Carpenter                                   Dance @Barnard   \n",
       "2         Kenneth A Ross                                 Computer Science   \n",
       "3        Joseph N Fasano                                          Writing   \n",
       "4           William Cobb                                       Journalism   \n",
       "5     Robert D Mawhinney                                          Physics   \n",
       "6       Edward F Leonard                           Biomedical Engineering   \n",
       "7       Michael A Holmes                                       Philosophy   \n",
       "8         Morgan Jenness                                     Theatre Arts   \n",
       "9                Feng Li              East Asian Languages and Cultures\\t   \n",
       "10          Andres Jaque          Architecture, Planning and Preservation   \n",
       "11       Saidiya Hartman               English and Comparative Literature   \n",
       "12       Elizabeth Hayes                                     Theatre Arts   \n",
       "13       Robert K Watson                 International and Public Affairs   \n",
       "14         Saul J Berman                                              Law   \n",
       "15       Sudipta Kaviraj  Middle Eastern, South Asian and African Studies   \n",
       "16          Eunice Chung              East Asian Languages and Cultures\\t   \n",
       "17               Lei Lei              East Asian Languages and Cultures\\t   \n",
       "18      Michael Johannes                                          Finance   \n",
       "19          David Harvey                                     Anthropology   \n",
       "20            Mark Brown                                       Statistics   \n",
       "21            John Hicks                                         Auditing   \n",
       "22        Emanuel Derman                                    Video Network   \n",
       "23         Jessica H Lee                                          History   \n",
       "24       Lisa S Anderson                 International and Public Affairs   \n",
       "25     Matthew Frederick           School of Professional Studies (DVSP)    \n",
       "26         Lynn S Strong                                          Writing   \n",
       "27           John D Izzo                                         Classics   \n",
       "28            Paula Span                                       Journalism   \n",
       "29             John Park                               Economics @Barnard   \n",
       "30           Donna Lynne                       Health Policy & Management   \n",
       "31         Nina J Berman                                       Journalism   \n",
       "32          Mark E Doten                                          Writing   \n",
       "33       Sudipta Kaviraj  Middle Eastern, South Asian and African Studies   \n",
       "34         Valerie Smith                                       Journalism   \n",
       "35           Karen Lewis                              Philosophy @Barnard   \n",
       "36          Gregory Mann                                          History   \n",
       "37          Brian Greene            School of Professional Studies (SPS)    \n",
       "38      Edward J Hoffman            School of Professional Studies (SPS)    \n",
       "39     Bjarne Stroustrup                                 Computer Science   \n",
       "40            Betsy West                                       Journalism   \n",
       "41        Kenneth Cooper                                            Music   \n",
       "42          Mark Mazower                                          History   \n",
       "43            David Bell                     Population and Family Health   \n",
       "44     Elizabeth L Smith                                              Law   \n",
       "45        Gordon Kipping          Architecture, Planning and Preservation   \n",
       "46  Nicholas Christopher                                          Writing   \n",
       "47       Gerard F Parkin                                        Chemistry   \n",
       "48         Richard Locke                                          Writing   \n",
       "49          Ole Mathisen                                            Music   \n",
       "50        James G Basker                                 English @Barnard   \n",
       "51         Michael Doyle                                              Law   \n",
       "52       Michael Collins                                    Video Network   \n",
       "53       Stephen H Tsang                           Biomedical Engineering   \n",
       "54          David A Rios                                       Statistics   \n",
       "55       Lauren Esposito                       Summer High School Program   \n",
       "56            Ann Grimes                                       Journalism   \n",
       "57         David H Quinn                        American Language Program   \n",
       "58        S. Akbar Zaidi  Middle Eastern, South Asian and African Studies   \n",
       "59   Elizabeth Bernstein                       Women's and Gender Studies   \n",
       "\n",
       "                                         course_descr  \\\n",
       "0                                                None   \n",
       "1   Prerequisites: Permission of instructor or DNC...   \n",
       "2   Prerequisites: (COMS W3134) or (COMS W3137) or...   \n",
       "3   Prerequisites: No prerequisites. Department ap...   \n",
       "4                                                None   \n",
       "5                                                None   \n",
       "6   Independent projects involving experimental, t...   \n",
       "7   Required discussion section for PHIL UN3960 Ep...   \n",
       "8                                                 .\\n   \n",
       "9   In this graduate seminar course, students will...   \n",
       "10                                               None   \n",
       "11                                               None   \n",
       "12  Beginning with the understanding that speech s...   \n",
       "13  The construction and operation of buildings is...   \n",
       "14                                               None   \n",
       "15  This course will be the first part of a two pa...   \n",
       "16  Prerequisites: KORN W1102 or the equivalent. C...   \n",
       "17  This course explores the core classical litera...   \n",
       "18                                               None   \n",
       "19  Prerequisites: the instructors permission. Ind...   \n",
       "20  Prerequisites: STAT GU4203 and two, preferably...   \n",
       "21                                               None   \n",
       "22  Prerequisites: (IEOR E4706) and knowledge of d...   \n",
       "23  This course explores the meaning of American c...   \n",
       "24  The vast major of human society has been gover...   \n",
       "25                                               None   \n",
       "26                                                .\\n   \n",
       "27  Prerequisites: LATN UN1101-UN1102, or LATN UN1...   \n",
       "28  The master’s project will be your most sustain...   \n",
       "29  Prerequisites: An introductory course in micro...   \n",
       "30                                               None   \n",
       "31                                               None   \n",
       "32                                                .\\n   \n",
       "33  The main purpose of this course is to acquaint...   \n",
       "34                                               None   \n",
       "35  Explicit criteria for recognizing valid and fa...   \n",
       "36  This course offers a survey of the poltiical h...   \n",
       "37  This seminar is a one-semester survey of the u...   \n",
       "38                                               None   \n",
       "39  Prerequisites: Instructor's permission.  Speci...   \n",
       "40                                               None   \n",
       "41  Prerequisites: Auditions are required. Sign up...   \n",
       "42  How do international and global perspectives s...   \n",
       "43                                               None   \n",
       "44                                               None   \n",
       "45                                               None   \n",
       "46                                               None   \n",
       "47  The use of multinuclear NMR spectroscopy in th...   \n",
       "48                                                .\\n   \n",
       "49                                               None   \n",
       "50  Prerequisites: Enrollment limited to Barnard E...   \n",
       "51  This is a Law School course. For more detailed...   \n",
       "52  Prerequisites: (COMS W3134 or COMS W3136 or CO...   \n",
       "53  A candidate for the doctorate in biomedical en...   \n",
       "54  Prerequisites: At least one semester of calcul...   \n",
       "55                                               None   \n",
       "56                                               None   \n",
       "57                                               None   \n",
       "58  This is an advanced undergraduate/graduate sem...   \n",
       "59  At once material and symbolic, our bodies exis...   \n",
       "\n",
       "                              wiki_title  \\\n",
       "0   Justin McCarthy (American historian)   \n",
       "1                  Mary Chapin Carpenter   \n",
       "2                          Kenneth Arrow   \n",
       "3                          Joseph Fasano   \n",
       "4                  William Montague Cobb   \n",
       "5                    Robert J. Mawhinney   \n",
       "6                        Leonard Slatkin   \n",
       "7                     Michael Smerconish   \n",
       "8                         Morgan Jenness   \n",
       "9                                Li Feng   \n",
       "10                          Andrés Jaque   \n",
       "11                       Saidiya Hartman   \n",
       "12                         Julie Andrews   \n",
       "13                      Robert K. Watson   \n",
       "14                           Saul Berman   \n",
       "15                       Sudipta Kaviraj   \n",
       "16                           Eunice Yung   \n",
       "17                   Thunderstorm (play)   \n",
       "18                     Michael John Fles   \n",
       "19    David Harvey (structural engineer)   \n",
       "20                         Mark N. Brown   \n",
       "21                  John Hicks (pianist)   \n",
       "22                        Emanuel Derman   \n",
       "23                          Jessica Ware   \n",
       "24                       Lisa F. Jackson   \n",
       "25                          Matthew Good   \n",
       "26                           Lynn Tilton   \n",
       "27                             John Izzo   \n",
       "28                       Paula S. Apsell   \n",
       "29                     John Parke Custis   \n",
       "30                           Donna Lynne   \n",
       "31                           Nina Berman   \n",
       "32                            Mark Doten   \n",
       "33                       Sudipta Kaviraj   \n",
       "34                        Valerie Martin   \n",
       "35                          Karen Sharpe   \n",
       "36                           Greg Walden   \n",
       "37                          Brian Greene   \n",
       "38                          James Franco   \n",
       "39                     Bjarne Stroustrup   \n",
       "40                           Betsy Damon   \n",
       "41                         Kenny Chesney   \n",
       "42                          Mark Mazower   \n",
       "43                           Joshua Bell   \n",
       "44                 Elizabeth A. T. Smith   \n",
       "45                        Gordon Kipping   \n",
       "46                  Nicholas Christopher   \n",
       "47                         Gerard Parkin   \n",
       "48                         Richard Locke   \n",
       "49                          Ole Mathisen   \n",
       "50                          James Basker   \n",
       "51                      Michael W. Doyle   \n",
       "52                           Michael Bay   \n",
       "53                         Stephen Tsang   \n",
       "54                           Dave Grusin   \n",
       "55                       Lauren Esposito   \n",
       "56                              Ann Dowd   \n",
       "57             David Oliver (ice hockey)   \n",
       "58                        S. Akbar Zaidi   \n",
       "59                   Elizabeth Bernstein   \n",
       "\n",
       "                                            wiki_page  label  \n",
       "0   Justin A. McCarthy (born October 19, 1945) is ...      0  \n",
       "1   Mary Chapin Carpenter (born February 21, 1958)...      0  \n",
       "2   Kenneth Joseph Arrow (23 August 1921 – 21 Febr...      0  \n",
       "3   Joseph Fasano (born 1982) is an American poet....      1  \n",
       "4   William Montague Cobb (1904–1990) was a board-...      0  \n",
       "5   Robert J. Mawhinney (October 1, 1859 — Novembe...      0  \n",
       "6   Leonard Edward Slatkin (born September 1, 1944...      0  \n",
       "7   Michael A. Smerconish (born March 15, 1962) is...      0  \n",
       "8   Morgan Jenness is a freelance dramaturg based ...      1  \n",
       "9   Li Feng may refer to:\\n\\nLi Feng (athlete) (bo...      0  \n",
       "10  Andrés Jaque is an architect. His work explore...      1  \n",
       "11  Saidiya Hartman (born 1961) is an American wri...      1  \n",
       "12  Dame Julie Andrews  (born Julia Elizabeth Well...      0  \n",
       "13  Robert \"Rob\" Watson, is a market transformatio...      1  \n",
       "14  Saul J. Berman (born April 30, 1939) is an Ame...      1  \n",
       "15  Sudipta Kaviraj (born 1945) is a scholar of So...      1  \n",
       "16  Eunice Yung Hoi-yan (Chinese: 容海恩; born 7 June...      0  \n",
       "17  Thunderstorm (Chinese: 雷雨; pinyin: Léiyǔ; Wade...      0  \n",
       "18  Michael John Fles (born 11 November 1936), kno...      0  \n",
       "19  David Harvey  FIStructE is a British structura...      0  \n",
       "20  Mark Neil Brown (born November 18, 1951) is an...      0  \n",
       "21  John Josephus Hicks, Jr. (December 21, 1941 – ...      0  \n",
       "22  Emanuel Derman (born 1945) is a South African-...      1  \n",
       "23  Jessica Lee Ware is an African-American evolut...      0  \n",
       "24  Lisa F. Jackson (born 1950) is an American doc...      0  \n",
       "25  Matthew Frederick Robert Good (born June 29, 1...      0  \n",
       "26  Lynn G. Tilton (born April 22, 1959) is an Ame...      0  \n",
       "27  John Izzo is a businessman, corporate advisor,...      0  \n",
       "28  Paula S. Apsell (born July 4, 1947) is the tel...      0  \n",
       "29  John Parke Custis (\"Jacky\") (27 November 1754 ...      0  \n",
       "30  Donna Lynne (born October 27, 1953) is an Amer...      1  \n",
       "31  Nina Berman (born 1960) is an American documen...      1  \n",
       "32  Mark Doten is an American novelist and librett...      1  \n",
       "33  Sudipta Kaviraj (born 1945) is a scholar of So...      1  \n",
       "34  Valerie Martin (born March 14, 1948) is an Ame...      0  \n",
       "35  Karen Kay Sharpe (born September 20, 1934) is ...      0  \n",
       "36  Gregory Paul Walden (born January 10, 1957) is...      0  \n",
       "37  Brian Randolph Greene (born February 9, 1963) ...      1  \n",
       "38  James Edward Franco (born April 19, 1978) is a...      0  \n",
       "39  Bjarne Stroustrup (; Danish: [ˈpjaːnə ˈstʁʌwˀs...      1  \n",
       "40  \\n== Early life and career ==\\nBorn in 1940, B...      0  \n",
       "41  Kenneth Arnold Chesney (born March 26, 1968) i...      0  \n",
       "42  Mark Mazower (; born 20 February 1958) is a Br...      1  \n",
       "43  Joshua David Bell (born December 9, 1967) is a...      0  \n",
       "44  Elizabeth A. T. Smith (born 1958) is an Americ...      0  \n",
       "45  Gordon Kipping (born 1966) is the founder and ...      1  \n",
       "46  Nicholas Christopher (b. 1951) is an American ...      1  \n",
       "47  Gerard \"Ged\" F. R. Parkin (born 15 February 19...      1  \n",
       "48  Richard Locke is an American critic and essayi...      1  \n",
       "49  Ole Mathisen (born 13 February 1965) is a Norw...      1  \n",
       "50  Professor James G. Basker is an American schol...      1  \n",
       "51  Michael W. Doyle is an American international ...      1  \n",
       "52  Michael Benjamin Bay (born February 17, 1965) ...      0  \n",
       "53  Stephen H. Tsang (Chinese: 曾慶霖; Pinyin: Zeng Q...      1  \n",
       "54  Robert David Grusin (born June 26, 1934) is an...      0  \n",
       "55  Lauren Esposito is the Assistant Curator and S...      1  \n",
       "56  Ann Dowd (born January 30, 1956) is an America...      0  \n",
       "57  David Lee Oliver (born April 17, 1971) is a Ca...      0  \n",
       "58  Syed Akbar Zaidi (Urdu: سید اکبر زیدی‎) is a P...      1  \n",
       "59  Elizabeth Bernstein (born 10 October 1968) is ...      1  "
      ]
     },
     "execution_count": 40,
     "metadata": {},
     "output_type": "execute_result"
    }
   ],
   "source": [
    "wac_model.load_training_data()\n",
    "wac_model.data"
   ]
  },
  {
   "cell_type": "code",
   "execution_count": 41,
   "metadata": {},
   "outputs": [
    {
     "name": "stdout",
     "output_type": "stream",
     "text": [
      "Evaluating test data set:\n",
      "  Misclassified as irrelevant but are relevant: [1]\n",
      "  Misclassified as relevant but are not: [0, 5]\n",
      "\n",
      "              precision    recall  f1-score   support\n",
      "\n",
      "           0       0.83      0.71      0.77         7\n",
      "           1       0.67      0.80      0.73         5\n",
      "\n",
      "    accuracy                           0.75        12\n",
      "   macro avg       0.75      0.76      0.75        12\n",
      "weighted avg       0.76      0.75      0.75        12\n",
      "\n",
      "Predicted:\n",
      "[1 0 1 0 1 1 1 0 0 0 1 0]\n",
      "True:\n",
      "[0 1 1 0 1 0 1 0 0 0 1 0]\n",
      "\n",
      "Evaluating the entire unbalanced data set:\n",
      "  Misclassified as irrelevant but are relevant: [42]\n",
      "  Misclassified as relevant but are not: [9, 57]\n",
      "\n",
      "              precision    recall  f1-score   support\n",
      "\n",
      "           0       0.97      0.94      0.96        34\n",
      "           1       0.93      0.96      0.94        26\n",
      "\n",
      "    accuracy                           0.95        60\n",
      "   macro avg       0.95      0.95      0.95        60\n",
      "weighted avg       0.95      0.95      0.95        60\n",
      "\n",
      "Confusion Matrix:\n",
      "[[32  2]\n",
      " [ 1 25]]\n"
     ]
    }
   ],
   "source": [
    "wac_model.fit()\n",
    "wac_model.evaluate()"
   ]
  },
  {
   "cell_type": "code",
   "execution_count": 43,
   "metadata": {},
   "outputs": [
    {
     "name": "stdout",
     "output_type": "stream",
     "text": [
      "{'name': 'Justin So', 'department': 'School of Professional Studies (SPS) ', 'course_descr': None, 'wiki_title': 'Justin McCarthy (American historian)', 'wiki_page': 'Justin A. McCarthy (born October 19, 1945) is an American demographer, professor of history at the University of Louisville, in Louisville, Kentucky. He holds an honorary doctorate from Boğaziçi University, Turkey, and is a board member of the Institute of Turkish Studies and the Center for Eurasian Studies (AVIM). His area of expertise is the history of the late Ottoman Empire.McCarthy\\'s work has faced harsh criticism by many scholars who have characterized McCarthy\\'s views defending Turkish atrocities against Armenians as genocide denial.\\n\\n\\n== Background ==\\nMcCarthy served in the Peace Corps in Turkey, from 1967 to 1969, where he taught at Middle East Technical University and Ankara University. He earned his Ph.D. at University of California, Los Angeles in 1978. He later received an honorary doctorate from Boğaziçi University. McCarthy is also a board member of the Institute of Turkish Studies.\\n\\n\\n== Studies ==\\n\\n\\n=== On Ottoman Empire ===\\nMcCarthy\\'s studies concentrate on the period in which the Ottoman Empire crumbled and eventually fell apart. McCarthy believes that orthodox Western histories of the declining Ottoman Empire are biased, since they are based on the testimonies of biased observers: Christian missionaries, and officials of (Christian) nations who were at war with the Ottomans during World War I. Able to read Ottoman Turkish, he focuses on changes in the ethnic composition of local populations. Thus, he has written about the ethnic cleansing of Muslims from  the Balkans and the Caucasus, as well as the Armenian massacres in Anatolia. Scholarly critics of McCarthy acknowledge that his research on Muslim civilian casualties and refugee numbers (19th and early 20th centuries) has brought forth a valuable perspective, previously neglected in the Christian West: that millions of Muslims and Jews also suffered and died during these years. Donald W. Bleacher, though acknowledging that McCarthy is pro-Turkish nonetheless has called Death and Exile \"a necessary corrective\" challenging the West\\'s model of all victims being Christians and all perpetrators as being Muslims.McCarthy\\'s current concentration is on the factors that caused the Ottoman loss in the East in World War I. According to him, the milestone events are the Battle of Sarikamish and what he terms the \"Armenian Revolt\" at Van. Norman Stone praised Justin McCarthy\\'s The Ottoman Turks: \"a brave scholarly attempt, not shrinking from the economic side.\" Similarly, The Ottoman Peoples and the End of Empire was recommended by The History Teacher.McCarthy also worked on the image of the Ottoman Turks, especially in America (The Turk in America), with a focus on the anti-Turkish prejudices disseminated by some missionaries, from the beginning of the 19th century to 1922.\\n\\n\\n=== Armenian Genocide ===\\nMcCarthy agrees that a million Armenians died during the massacres of 1915–1923, but he argues  that millions of Muslims  in the region were also massacred in this period and many at the \"hands of Armenian insurgents and militia\". He has claimed that all of those deaths during World War I were the product of intercommunal warfare between Turks, Kurds and Armenians, famine and disease, and did not involve an intent or a policy to commit genocide by the Ottoman Empire. McCarthy has been active in publishing the results of his work and analysis, that Ottomans never had an official state sanctioned policy of genocide, through books, articles, conferences, and interviews. This has made him a target of much criticism from historians and organizations.  He was one of four scholars who participated in a controversial debate hosted by PBS about the Armenian Genocide in 2006.   Aviel Roshwald describes McCarthy\\'s \"version of these events\" as \"defensively pro-Turkish.\"Michael M. Gunter congratulated Justin McCarthy for Muslim and Minorities: \"His work is clearly the best available on the subject and merits the close attention of any serious, disinterested scholar\"; and \"his figure\" of the Armenian losses (600,000) \"is probably the most accurate we have.\" Justin McCarthy\\'s work on the demography of Anatolian populations, especially the Armenians, was also recommended by Gilles Veinstein, professor of Ottoman history at the Collège de France. Both Gunter and Veinstein have been accused of holding denialist positions on the Armenian Genocide.\\n\\n\\n== Evaluations ==\\nMcCarthy\\'s work has been controversial. The American Historical Review states of Death and Exile: The Ethnic Cleansing of Ottoman Muslims, 1821–1922 (1996):\\n\\nOne may pick arguments with specific interpretations of events depicted in the work, but the statistical data appear generally valid. McCarthy succeeds in providing factual material for bringing the European historiography of the later Ottoman Empire into more objective balance.\\nThe International Journal of Middle East Studies says of the same book: \\n\\nLike all of the author\\'s other works, this one offers positions that become pivots for rebuttals, disagreements, counter-arguments, different interpretations, and probably some recriminations. Nonetheless, Justin McCarthy\\'s solid demographic work contributes to achieving a better balance and understanding that he so ardently desires for the history of these regions and peoples.\\nMcCarthy\\'s work has been the subject of criticism from book reviewers and a number of genocide scholars. According to Israeli historian Yair Auron, McCarthy, \"with Heath Lowry, Lewis\\' successor in Princeton, leads the list of deniers of the Armenian Genocide.\" \"The Encyclopedia of Genocide\" writes, that Stanford Shaw and McCarthy have published shoddy and desperate books claiming there was no genocide and that \"the Turkish government really treated the Armenians nicely while they were deporting and killing them\", and particularly, \"McCarthy revises demography to suggest that there really weren\\'t many Armenians in historic Armenia\". Among other criticisms, he has been accused by Colin Imber of following a Turkish nationalistic agenda. According to the \"Encyclopedia of Human Rights\", in their efforts to negate the genocidal nature of the event, Lewis, Shaw, McCarthy and Lewy, most notably, \"have ignored the evidence and conclusions of the massive record of documents and decades of scholarship\" as well as the 1948 UN Genocide Convention\\'s definition, and these \"denialist scholars have engaged in what is called unethical practice\". The historian Mark Mazower considers McCarthy\\'s sources and, in particular, his statistics to be \"less balanced\" than those of other historians working in this area. McCarthy is a member of, and has received grants from, the Institute of Turkish Studies. According to historian Richard G. Hovannisian, Stanford Shaw, Heath Lowry and Justin McCarthy all use arguments similar to those found in Holocaust denial.According to Michael Mann McCarthy is often viewed as a scholar on the Turkish side of the debate over Balkan Muslim death figures. Mann however states that even if those figures were reduced \"by as much as 50 percent, they still would horrify\".\\n\\n\\n=== International Association of Genocide Scholars ===\\nThe International Association of Genocide Scholars criticised both Justin McCarthy and the Political Scientist Guenter Lewy with the statement \"Scholars who dispute that what happened to the Armenians in the Ottoman Empire in 1915 constitutes genocide blatantly ignore the overwhelming historical and scholarly evidence. Most recently, this is the case with the works of Mr. Justin McCarthy and Mr. Guenter Lewy, whose books engage in severely selective scholarship that grossly distorts history\". Among the members of the IAGS who voiced concerns were Donald Bloxham, a University of Edinburgh historian specializing in genocide studies, who acknowledges that \"McCarthy\\'s work has something to offer in drawing attention to the oft-unheeded history of Muslim suffering and embattlement... It also shows that vicious nationalism was by no means the sole preserve\" of the Ottoman ruling elite. Nevertheless, he identifies McCarthy\\'s work in this field as part of a wider project of undermining scholarship affirming the Armenian Genocide, by reducing it to something analogous to a population exchange. Bloxham writes that McCarthy\\'s work \"[serves] to muddy the waters for external observers, conflating war and one-sided murder with various discrete episodes of ethnic conflict... [A] series of easy get-out clauses for Western politicians and non-specialist historians keen not to offend Turkish opinion.\" IAGS members Samuel Totten and Steven L. Jacobs write that Shaw\\'s and his adherents\\' (especially Lowry and McCarthy) publications have \"striking similarities to the arguments used in the denial of the holocaust\": labeling the alleged genocide as a myth by wartime propaganda, portraying the presumed victims as having been real security threats, discounting eye-witness accounts, asserting that deaths occurred were from the same causes that carried away all peoples in the region, minimizing the number of victims, and so on. Likewise, Peter Medding, Professor of the Hebrew University of Jerusalem, maintains that the number of Armenian Genocide deniers is small (the most prominent being Shaw, McCarthy, Lowry and Lewis) but \"their influence is great by virtue of pernicious alliance with the official campaign of falsification by the government of Turkey\", so the genocide scholars \"have been required to spend much of their intellectual energy on refuting the claims of pseudo-scholarship\".\\n\\n\\n=== Armenian Assembly of America ===\\nThe Armenian Assembly of America has stated that McCarthy lent support to the Assembly of Turkish American Associations, which led an effort to defeat recognition of the Armenian Genocide by the U.S. House of Representatives in 1985.\\n\\n\\n=== The Executive Council of Australian Jewry and Australian Federal Parliament ===\\nIn November 2013, three planned meetings at the Australian Federal Parliament, University of Melbourne and Art Gallery of New South Wales were canceled on the grounds of opposition to McCarthy\\'s academic stances and due to pressure from groups who claimed that his view that there was no systematic and deliberate effort by the Ottoman Empire to wipe out populations amounts to genocide denial.\\n\\n\\n== Works ==\\nMcCarthy, Justin (1982). The Arab World, Turkey, and the Balkans (1878-1914). G.K. Hall. p. 309. ISBN 978-0-8161-8164-3.\\nMcCarthy, Justin (1983). Muslims and Minorities: The Population of Ottoman Anatolia and the End of the Empire. New York University Press. p. 248. ISBN 978-0-8147-5390-3.\\nMcCarthy, Justin (1990). The Population of Palestine: Population History and Statistics of the Late Ottoman Period and the Mandate. Institute for Palestine Studies Series. Columbia University Press. ISBN 978-0-231-07110-9.\\nMcCarthy, Justin (1996). Death and Exile: The Ethnic Cleansing of Ottoman Muslims, 1821-1922. Darwin Press, Incorporated. ISBN 0-87850-094-4.\\nMcCarthy, Justin (1997). The Ottoman Turks: An Introductory History to 1923. Longman. ISBN 978-0-582-25656-9.\\nMcCarthy, Justin (2001). The Ottoman Peoples and the End of Empire. A Hodder Arnold Publication. ISBN 0-340-70657-0.\\nMcCarthy, Justin (2002). Population History of the Middle East and the Balkans. Isis Press. ISBN 975-428227-7.\\nMcCarthy, Justin (2003). Who Are the Turks? A Manual for Teachers (PDF). American Forum for Global Education. p. 242. ISBN 978-0-944675-71-7.\\nMcCarthy, Justin (2006). The Armenian Rebellion at Van. University of Utah Press. ISBN 0-87480-870-7.\\nMcCarthy, Justin (2010). The Turk in America. The Creation of an Enduring Prejudice. University of Utah Press. ISBN 978-1-60781-013-1.\\n\\n\\n== Awards ==\\nŞükrü Elekdağ Award of the Assembly of Turkish American Associations\\nChairman\\'s Education Award of the Turkish American Friendship Council\\nOrder of Merit of Turkey (1998)\\n\\n\\n== See also ==\\nArmenian Genocide denial\\n\\n\\n== References ==\\n\\n\\n== External links ==\\nArmenian-Turkish Conflict (2005), by Justin McCarthy\\nBloxham, The Great Game of Genocide', 'label': 0}\n",
      "{'__name_match_wiki_title': False, '__name_match_wiki_title2': False, '__name_match_wiki_page': True, '__name_match_wiki_page2': True, '__columbia_university_match': True, '__word_justin': True, '__word_A.': True, '__word_mccarthi': True, '__word_(': True, '__word_born': True, '__word_octob': True, '__word_19': True, '__word_,': True, '__word_1945': True, '__word_)': True, '__word_is': True, '__word_an': True, '__word_american': True, '__word_demograph': True, '__word_professor': True, '__word_of': True, '__word_histori': True, '__word_at': True, '__word_the': True, '__word_univers': True, '__word_louisvil': True, '__word_in': True, '__word_kentucki': True, '__word_.': True, '__word_He': True, '__word_hold': True, '__word_honorari': True, '__word_doctor': True, '__word_from': True, '__word_boğaziçi': True, '__word_turkey': True, '__word_and': True, '__word_a': True, '__word_board': True, '__word_member': True, '__word_institut': True, '__word_turkish': True, '__word_studi': True, '__word_center': True, '__word_for': True, '__word_eurasian': True, '__word_avim': True, '__word_hi': True, '__word_area': True, '__word_expertis': True, '__word_late': True, '__word_ottoman': True, '__word_empire.mccarthi': True, \"__word_'s\": True, '__word_work': True, '__word_ha': True, '__word_face': True, '__word_harsh': True, '__word_critic': True, '__word_by': True, '__word_mani': True, '__word_scholar': True, '__word_who': True, '__word_have': True, '__word_character': True, '__word_view': True, '__word_defend': True, '__word_atroc': True, '__word_against': True, '__word_armenian': True, '__word_as': True, '__word_genocid': True, '__word_denial': True, '__word_==': True, '__word_background': True, '__word_serv': True, '__word_peac': True, '__word_corp': True, '__word_1967': True, '__word_to': True, '__word_1969': True, '__word_where': True, '__word_he': True, '__word_taught': True, '__word_middl': True, '__word_east': True, '__word_technic': True, '__word_ankara': True, '__word_earn': True, '__word_ph.d.': True, '__word_california': True, '__word_lo': True, '__word_angel': True, '__word_1978': True, '__word_later': True, '__word_receiv': True, '__word_also': True, '__word_===': True, '__word_On': True, '__word_empir': True, '__word_concentr': True, '__word_on': True, '__word_period': True, '__word_which': True, '__word_crumbl': True, '__word_eventu': True, '__word_fell': True, '__word_apart': True, '__word_believ': True, '__word_that': True, '__word_orthodox': True, '__word_western': True, '__word_declin': True, '__word_are': True, '__word_bias': True, '__word_sinc': True, '__word_they': True, '__word_base': True, '__word_testimoni': True, '__word_observ': True, '__word_:': True, '__word_christian': True, '__word_missionari': True, '__word_offici': True, '__word_nation': True, '__word_were': True, '__word_war': True, '__word_with': True, '__word_dure': True, '__word_world': True, '__word_I': True, '__word_abl': True, '__word_read': True, '__word_focus': True, '__word_chang': True, '__word_ethnic': True, '__word_composit': True, '__word_local': True, '__word_popul': True, '__word_thu': True, '__word_written': True, '__word_about': True, '__word_cleans': True, '__word_muslim': True, '__word_balkan': True, '__word_caucasu': True, '__word_well': True, '__word_massacr': True, '__word_anatolia': True, '__word_scholarli': True, '__word_acknowledg': True, '__word_research': True, '__word_civilian': True, '__word_casualti': True, '__word_refuge': True, '__word_number': True, '__word_19th': True, '__word_earli': True, '__word_20th': True, '__word_centuri': True, '__word_brought': True, '__word_forth': True, '__word_valuabl': True, '__word_perspect': True, '__word_previous': True, '__word_neglect': True, '__word_west': True, '__word_million': True, '__word_jew': True, '__word_suffer': True, '__word_die': True, '__word_these': True, '__word_year': True, '__word_donald': True, '__word_W.': True, '__word_bleacher': True, '__word_though': True, '__word_pro-turkish': True, '__word_nonetheless': True, '__word_call': True, '__word_death': True, '__word_exil': True, '__word_``': True, '__word_necessari': True, '__word_correct': True, \"__word_''\": True, '__word_challeng': True, '__word_model': True, '__word_all': True, '__word_victim': True, '__word_be': True, '__word_perpetr': True, '__word_muslims.mccarthi': True, '__word_current': True, '__word_factor': True, '__word_caus': True, '__word_loss': True, '__word_accord': True, '__word_him': True, '__word_mileston': True, '__word_event': True, '__word_battl': True, '__word_sarikamish': True, '__word_what': True, '__word_term': True, '__word_revolt': True, '__word_van': True, '__word_norman': True, '__word_stone': True, '__word_prais': True, '__word_turk': True, '__word_brave': True, '__word_attempt': True, '__word_not': True, '__word_shrink': True, '__word_econom': True, '__word_side': True, '__word_similarli': True, '__word_peopl': True, '__word_end': True, '__word_wa': True, '__word_recommend': True, '__word_teacher.mccarthi': True, '__word_imag': True, '__word_especi': True, '__word_america': True, '__word_focu': True, '__word_anti-turkish': True, '__word_prejudic': True, '__word_dissemin': True, '__word_some': True, '__word_begin': True, '__word_1922': True, '__word_agre': True, '__word_1915–1923': True, '__word_but': True, '__word_argu': True, '__word_region': True, '__word_thi': True, '__word_hand': True, '__word_insurg': True, '__word_militia': True, '__word_claim': True, '__word_those': True, '__word_product': True, '__word_intercommun': True, '__word_warfar': True, '__word_between': True, '__word_kurd': True, '__word_famin': True, '__word_diseas': True, '__word_did': True, '__word_involv': True, '__word_intent': True, '__word_or': True, '__word_polici': True, '__word_commit': True, '__word_been': True, '__word_activ': True, '__word_publish': True, '__word_result': True, '__word_analysi': True, '__word_never': True, '__word_had': True, '__word_state': True, '__word_sanction': True, '__word_through': True, '__word_book': True, '__word_articl': True, '__word_confer': True, '__word_interview': True, '__word_made': True, '__word_target': True, '__word_much': True, '__word_historian': True, '__word_organ': True, '__word_one': True, '__word_four': True, '__word_particip': True, '__word_controversi': True, '__word_debat': True, '__word_host': True, '__word_pb': True, '__word_2006': True, '__word_aviel': True, '__word_roshwald': True, '__word_describ': True, '__word_version': True, '__word_defens': True, '__word_michael': True, '__word_M.': True, '__word_gunter': True, '__word_congratul': True, '__word_minor': True, '__word_clearli': True, '__word_best': True, '__word_avail': True, '__word_subject': True, '__word_merit': True, '__word_close': True, '__word_attent': True, '__word_ani': True, '__word_seriou': True, '__word_disinterest': True, '__word_;': True, '__word_figur': True, '__word_600,000': True, '__word_probabl': True, '__word_most': True, '__word_accur': True, '__word_we': True, '__word_demographi': True, '__word_anatolian': True, '__word_gill': True, '__word_veinstein': True, '__word_collèg': True, '__word_de': True, '__word_franc': True, '__word_both': True, '__word_accus': True, '__word_denialist': True, '__word_posit': True, '__word_evalu': True, '__word_histor': True, '__word_review': True, '__word_1821–1922': True, '__word_1996': True, '__word_may': True, '__word_pick': True, '__word_argument': True, '__word_specif': True, '__word_interpret': True, '__word_depict': True, '__word_statist': True, '__word_data': True, '__word_appear': True, '__word_gener': True, '__word_valid': True, '__word_succe': True, '__word_provid': True, '__word_factual': True, '__word_materi': True, '__word_bring': True, '__word_european': True, '__word_historiographi': True, '__word_into': True, '__word_more': True, '__word_object': True, '__word_balanc': True, '__word_intern': True, '__word_journal': True, '__word_say': True, '__word_same': True, '__word_like': True, '__word_author': True, '__word_other': True, '__word_offer': True, '__word_becom': True, '__word_pivot': True, '__word_rebutt': True, '__word_disagr': True, '__word_counter-argu': True, '__word_differ': True, '__word_recrimin': True, '__word_solid': True, '__word_contribut': True, '__word_achiev': True, '__word_better': True, '__word_understand': True, '__word_so': True, '__word_ardent': True, '__word_desir': True, '__word_isra': True, '__word_yair': True, '__word_auron': True, '__word_heath': True, '__word_lowri': True, '__word_lewi': True, \"__word_'\": True, '__word_successor': True, '__word_princeton': True, '__word_lead': True, '__word_list': True, '__word_denier': True, '__word_encyclopedia': True, '__word_write': True, '__word_stanford': True, '__word_shaw': True, '__word_shoddi': True, '__word_desper': True, '__word_there': True, '__word_no': True, '__word_govern': True, '__word_realli': True, '__word_treat': True, '__word_nice': True, '__word_while': True, '__word_deport': True, '__word_kill': True, '__word_them': True, '__word_particularli': True, '__word_revis': True, '__word_suggest': True, \"__word_n't\": True, '__word_armenia': True, '__word_among': True, '__word_colin': True, '__word_imber': True, '__word_follow': True, '__word_nationalist': True, '__word_agenda': True, '__word_human': True, '__word_right': True, '__word_their': True, '__word_effort': True, '__word_negat': True, '__word_natur': True, '__word_notabl': True, '__word_ignor': True, '__word_evid': True, '__word_conclus': True, '__word_massiv': True, '__word_record': True, '__word_document': True, '__word_decad': True, '__word_scholarship': True, '__word_1948': True, '__word_UN': True, '__word_convent': True, '__word_definit': True, '__word_engag': True, '__word_uneth': True, '__word_practic': True, '__word_mark': True, '__word_mazow': True, '__word_consid': True, '__word_sourc': True, '__word_particular': True, '__word_less': True, '__word_than': True, '__word_grant': True, '__word_richard': True, '__word_G.': True, '__word_hovannisian': True, '__word_use': True, '__word_similar': True, '__word_found': True, '__word_holocaust': True, '__word_denial.accord': True, '__word_mann': True, '__word_often': True, '__word_over': True, '__word_howev': True, '__word_even': True, '__word_if': True, '__word_reduc': True, '__word_50': True, '__word_percent': True, '__word_still': True, '__word_would': True, '__word_horrifi': True, '__word_associ': True, '__word_criticis': True, '__word_polit': True, '__word_scientist': True, '__word_guenter': True, '__word_statement': True, '__word_disput': True, '__word_happen': True, '__word_1915': True, '__word_constitut': True, '__word_blatantli': True, '__word_overwhelm': True, '__word_recent': True, '__word_case': True, '__word_mr.': True, '__word_whose': True, '__word_sever': True, '__word_select': True, '__word_grossli': True, '__word_distort': True, '__word_iag': True, '__word_voic': True, '__word_concern': True, '__word_bloxham': True, '__word_edinburgh': True, '__word_special': True, '__word_someth': True, '__word_draw': True, '__word_oft-unheed': True, '__word_embattl': True, '__word_...': True, '__word_It': True, '__word_show': True, '__word_viciou': True, '__word_mean': True, '__word_sole': True, '__word_preserv': True, '__word_rule': True, '__word_elit': True, '__word_nevertheless': True, '__word_identifi': True, '__word_field': True, '__word_part': True, '__word_wider': True, '__word_project': True, '__word_undermin': True, '__word_affirm': True, '__word_it': True, '__word_analog': True, '__word_exchang': True, '__word_[': True, '__word_]': True, '__word_muddi': True, '__word_water': True, '__word_extern': True, '__word_conflat': True, '__word_one-sid': True, '__word_murder': True, '__word_variou': True, '__word_discret': True, '__word_episod': True, '__word_conflict': True, '__word_A': True, '__word_seri': True, '__word_easi': True, '__word_get-out': True, '__word_claus': True, '__word_politician': True, '__word_non-specialist': True, '__word_keen': True, '__word_offend': True, '__word_opinion': True, '__word_samuel': True, '__word_totten': True, '__word_steven': True, '__word_L.': True, '__word_jacob': True, '__word_adher': True, '__word_public': True, '__word_strike': True, '__word_label': True, '__word_alleg': True, '__word_myth': True, '__word_wartim': True, '__word_propaganda': True, '__word_portray': True, '__word_presum': True, '__word_real': True, '__word_secur': True, '__word_threat': True, '__word_discount': True, '__word_eye-wit': True, '__word_account': True, '__word_assert': True, '__word_occur': True, '__word_carri': True, '__word_away': True, '__word_minim': True, '__word_likewis': True, '__word_peter': True, '__word_med': True, '__word_hebrew': True, '__word_jerusalem': True, '__word_maintain': True, '__word_small': True, '__word_promin': True, '__word_influenc': True, '__word_great': True, '__word_virtu': True, '__word_pernici': True, '__word_allianc': True, '__word_campaign': True, '__word_falsif': True, '__word_requir': True, '__word_spend': True, '__word_intellectu': True, '__word_energi': True, '__word_refut': True, '__word_pseudo-scholarship': True, '__word_assembl': True, '__word_lent': True, '__word_support': True, '__word_led': True, '__word_defeat': True, '__word_recognit': True, '__word_u.s.': True, '__word_hous': True, '__word_repres': True, '__word_1985': True, '__word_execut': True, '__word_council': True, '__word_australian': True, '__word_jewri': True, '__word_feder': True, '__word_parliament': True, '__word_In': True, '__word_novemb': True, '__word_2013': True, '__word_three': True, '__word_plan': True, '__word_meet': True, '__word_melbourn': True, '__word_art': True, '__word_galleri': True, '__word_new': True, '__word_south': True, '__word_wale': True, '__word_cancel': True, '__word_ground': True, '__word_opposit': True, '__word_academ': True, '__word_stanc': True, '__word_due': True, '__word_pressur': True, '__word_group': True, '__word_systemat': True, '__word_deliber': True, '__word_wipe': True, '__word_out': True, '__word_amount': True, '__word_1982': True, '__word_arab': True, '__word_1878-1914': True, '__word_g.k.': True, '__word_hall': True, '__word_p.': True, '__word_309': True, '__word_isbn': True, '__word_978-0-8161-8164-3': True, '__word_1983': True, '__word_york': True, '__word_press': True, '__word_248': True, '__word_978-0-8147-5390-3': True, '__word_1990': True, '__word_palestin': True, '__word_mandat': True, '__word_columbia': True, '__word_978-0-231-07110-9': True, '__word_1821-1922': True, '__word_darwin': True, '__word_incorpor': True, '__word_0-87850-094-4': True, '__word_1997': True, '__word_An': True, '__word_introductori': True, '__word_1923': True, '__word_longman': True, '__word_978-0-582-25656-9': True, '__word_2001': True, '__word_hodder': True, '__word_arnold': True, '__word_0-340-70657-0': True, '__word_2002': True, '__word_isi': True, '__word_975-428227-7': True, '__word_2003': True, '__word_?': True, '__word_manual': True, '__word_teacher': True, '__word_pdf': True, '__word_forum': True, '__word_global': True, '__word_educ': True, '__word_242': True, '__word_978-0-944675-71-7': True, '__word_rebellion': True, '__word_utah': True, '__word_0-87480-870-7': True, '__word_2010': True, '__word_creation': True, '__word_endur': True, '__word_978-1-60781-013-1': True, '__word_award': True, '__word_şükrü': True, '__word_elekdağ': True, '__word_chairman': True, '__word_friendship': True, '__word_order': True, '__word_1998': True, '__word_see': True, '__word_refer': True, '__word_link': True, '__word_armenian-turkish': True, '__word_2005': True, '__word_game': True}\n",
      "        name                             department course_descr  \\\n",
      "0  Justin So  School of Professional Studies (SPS)          None   \n",
      "\n",
      "                             wiki_title  \\\n",
      "0  Justin McCarthy (American historian)   \n",
      "\n",
      "                                           wiki_page  label  \n",
      "0  Justin A. McCarthy (born October 19, 1945) is ...      0  \n"
     ]
    }
   ],
   "source": [
    "wac_model.view_sample(0)"
   ]
  },
  {
   "cell_type": "code",
   "execution_count": 38,
   "metadata": {},
   "outputs": [
    {
     "data": {
      "text/plain": [
       "[('Justin', 'A.'),\n",
       " ('A.', 'McCarthy'),\n",
       " ('McCarthy', '('),\n",
       " ('(', 'born'),\n",
       " ('born', 'October'),\n",
       " ('October', '19'),\n",
       " ('19', ','),\n",
       " (',', '1945'),\n",
       " ('1945', ')'),\n",
       " (')', 'is'),\n",
       " ('is', 'an'),\n",
       " ('an', 'American'),\n",
       " ('American', 'demographer'),\n",
       " ('demographer', ','),\n",
       " (',', 'professor'),\n",
       " ('professor', 'of'),\n",
       " ('of', 'history'),\n",
       " ('history', 'at'),\n",
       " ('at', 'the'),\n",
       " ('the', 'University'),\n",
       " ('University', 'of'),\n",
       " ('of', 'Louisville'),\n",
       " ('Louisville', ','),\n",
       " (',', 'in'),\n",
       " ('in', 'Louisville'),\n",
       " ('Louisville', ','),\n",
       " (',', 'Kentucky'),\n",
       " ('Kentucky', '.'),\n",
       " ('.', 'He'),\n",
       " ('He', 'holds'),\n",
       " ('holds', 'an'),\n",
       " ('an', 'honorary'),\n",
       " ('honorary', 'doctorate'),\n",
       " ('doctorate', 'from'),\n",
       " ('from', 'Boğaziçi'),\n",
       " ('Boğaziçi', 'University'),\n",
       " ('University', ','),\n",
       " (',', 'Turkey'),\n",
       " ('Turkey', ','),\n",
       " (',', 'and'),\n",
       " ('and', 'is'),\n",
       " ('is', 'a'),\n",
       " ('a', 'board'),\n",
       " ('board', 'member'),\n",
       " ('member', 'of'),\n",
       " ('of', 'the'),\n",
       " ('the', 'Institute'),\n",
       " ('Institute', 'of'),\n",
       " ('of', 'Turkish'),\n",
       " ('Turkish', 'Studies'),\n",
       " ('Studies', 'and'),\n",
       " ('and', 'the'),\n",
       " ('the', 'Center'),\n",
       " ('Center', 'for'),\n",
       " ('for', 'Eurasian'),\n",
       " ('Eurasian', 'Studies'),\n",
       " ('Studies', '('),\n",
       " ('(', 'AVIM'),\n",
       " ('AVIM', ')'),\n",
       " (')', '.'),\n",
       " ('.', 'His'),\n",
       " ('His', 'area'),\n",
       " ('area', 'of'),\n",
       " ('of', 'expertise'),\n",
       " ('expertise', 'is'),\n",
       " ('is', 'the'),\n",
       " ('the', 'history'),\n",
       " ('history', 'of'),\n",
       " ('of', 'the'),\n",
       " ('the', 'late'),\n",
       " ('late', 'Ottoman'),\n",
       " ('Ottoman', 'Empire.McCarthy'),\n",
       " ('Empire.McCarthy', \"'s\"),\n",
       " (\"'s\", 'work'),\n",
       " ('work', 'has'),\n",
       " ('has', 'faced'),\n",
       " ('faced', 'harsh'),\n",
       " ('harsh', 'criticism'),\n",
       " ('criticism', 'by'),\n",
       " ('by', 'many'),\n",
       " ('many', 'scholars'),\n",
       " ('scholars', 'who'),\n",
       " ('who', 'have'),\n",
       " ('have', 'characterized'),\n",
       " ('characterized', 'McCarthy'),\n",
       " ('McCarthy', \"'s\"),\n",
       " (\"'s\", 'views'),\n",
       " ('views', 'defending'),\n",
       " ('defending', 'Turkish'),\n",
       " ('Turkish', 'atrocities'),\n",
       " ('atrocities', 'against'),\n",
       " ('against', 'Armenians'),\n",
       " ('Armenians', 'as'),\n",
       " ('as', 'genocide'),\n",
       " ('genocide', 'denial'),\n",
       " ('denial', '.'),\n",
       " ('.', '=='),\n",
       " ('==', 'Background'),\n",
       " ('Background', '=='),\n",
       " ('==', 'McCarthy'),\n",
       " ('McCarthy', 'served'),\n",
       " ('served', 'in'),\n",
       " ('in', 'the'),\n",
       " ('the', 'Peace'),\n",
       " ('Peace', 'Corps'),\n",
       " ('Corps', 'in'),\n",
       " ('in', 'Turkey'),\n",
       " ('Turkey', ','),\n",
       " (',', 'from'),\n",
       " ('from', '1967'),\n",
       " ('1967', 'to'),\n",
       " ('to', '1969'),\n",
       " ('1969', ','),\n",
       " (',', 'where'),\n",
       " ('where', 'he'),\n",
       " ('he', 'taught'),\n",
       " ('taught', 'at'),\n",
       " ('at', 'Middle'),\n",
       " ('Middle', 'East'),\n",
       " ('East', 'Technical'),\n",
       " ('Technical', 'University'),\n",
       " ('University', 'and'),\n",
       " ('and', 'Ankara'),\n",
       " ('Ankara', 'University'),\n",
       " ('University', '.'),\n",
       " ('.', 'He'),\n",
       " ('He', 'earned'),\n",
       " ('earned', 'his'),\n",
       " ('his', 'Ph.D.'),\n",
       " ('Ph.D.', 'at'),\n",
       " ('at', 'University'),\n",
       " ('University', 'of'),\n",
       " ('of', 'California'),\n",
       " ('California', ','),\n",
       " (',', 'Los'),\n",
       " ('Los', 'Angeles'),\n",
       " ('Angeles', 'in'),\n",
       " ('in', '1978'),\n",
       " ('1978', '.'),\n",
       " ('.', 'He'),\n",
       " ('He', 'later'),\n",
       " ('later', 'received'),\n",
       " ('received', 'an'),\n",
       " ('an', 'honorary'),\n",
       " ('honorary', 'doctorate'),\n",
       " ('doctorate', 'from'),\n",
       " ('from', 'Boğaziçi'),\n",
       " ('Boğaziçi', 'University'),\n",
       " ('University', '.'),\n",
       " ('.', 'McCarthy'),\n",
       " ('McCarthy', 'is'),\n",
       " ('is', 'also'),\n",
       " ('also', 'a'),\n",
       " ('a', 'board'),\n",
       " ('board', 'member'),\n",
       " ('member', 'of'),\n",
       " ('of', 'the'),\n",
       " ('the', 'Institute'),\n",
       " ('Institute', 'of'),\n",
       " ('of', 'Turkish'),\n",
       " ('Turkish', 'Studies'),\n",
       " ('Studies', '.'),\n",
       " ('.', '=='),\n",
       " ('==', 'Studies'),\n",
       " ('Studies', '=='),\n",
       " ('==', '==='),\n",
       " ('===', 'On'),\n",
       " ('On', 'Ottoman'),\n",
       " ('Ottoman', 'Empire'),\n",
       " ('Empire', '==='),\n",
       " ('===', 'McCarthy'),\n",
       " ('McCarthy', \"'s\"),\n",
       " (\"'s\", 'studies'),\n",
       " ('studies', 'concentrate'),\n",
       " ('concentrate', 'on'),\n",
       " ('on', 'the'),\n",
       " ('the', 'period'),\n",
       " ('period', 'in'),\n",
       " ('in', 'which'),\n",
       " ('which', 'the'),\n",
       " ('the', 'Ottoman'),\n",
       " ('Ottoman', 'Empire'),\n",
       " ('Empire', 'crumbled'),\n",
       " ('crumbled', 'and'),\n",
       " ('and', 'eventually'),\n",
       " ('eventually', 'fell'),\n",
       " ('fell', 'apart'),\n",
       " ('apart', '.'),\n",
       " ('.', 'McCarthy'),\n",
       " ('McCarthy', 'believes'),\n",
       " ('believes', 'that'),\n",
       " ('that', 'orthodox'),\n",
       " ('orthodox', 'Western'),\n",
       " ('Western', 'histories'),\n",
       " ('histories', 'of'),\n",
       " ('of', 'the'),\n",
       " ('the', 'declining'),\n",
       " ('declining', 'Ottoman'),\n",
       " ('Ottoman', 'Empire'),\n",
       " ('Empire', 'are'),\n",
       " ('are', 'biased'),\n",
       " ('biased', ','),\n",
       " (',', 'since'),\n",
       " ('since', 'they'),\n",
       " ('they', 'are'),\n",
       " ('are', 'based'),\n",
       " ('based', 'on'),\n",
       " ('on', 'the'),\n",
       " ('the', 'testimonies'),\n",
       " ('testimonies', 'of'),\n",
       " ('of', 'biased'),\n",
       " ('biased', 'observers'),\n",
       " ('observers', ':'),\n",
       " (':', 'Christian'),\n",
       " ('Christian', 'missionaries'),\n",
       " ('missionaries', ','),\n",
       " (',', 'and'),\n",
       " ('and', 'officials'),\n",
       " ('officials', 'of'),\n",
       " ('of', '('),\n",
       " ('(', 'Christian'),\n",
       " ('Christian', ')'),\n",
       " (')', 'nations'),\n",
       " ('nations', 'who'),\n",
       " ('who', 'were'),\n",
       " ('were', 'at'),\n",
       " ('at', 'war'),\n",
       " ('war', 'with'),\n",
       " ('with', 'the'),\n",
       " ('the', 'Ottomans'),\n",
       " ('Ottomans', 'during'),\n",
       " ('during', 'World'),\n",
       " ('World', 'War'),\n",
       " ('War', 'I'),\n",
       " ('I', '.'),\n",
       " ('.', 'Able'),\n",
       " ('Able', 'to'),\n",
       " ('to', 'read'),\n",
       " ('read', 'Ottoman'),\n",
       " ('Ottoman', 'Turkish'),\n",
       " ('Turkish', ','),\n",
       " (',', 'he'),\n",
       " ('he', 'focuses'),\n",
       " ('focuses', 'on'),\n",
       " ('on', 'changes'),\n",
       " ('changes', 'in'),\n",
       " ('in', 'the'),\n",
       " ('the', 'ethnic'),\n",
       " ('ethnic', 'composition'),\n",
       " ('composition', 'of'),\n",
       " ('of', 'local'),\n",
       " ('local', 'populations'),\n",
       " ('populations', '.'),\n",
       " ('.', 'Thus'),\n",
       " ('Thus', ','),\n",
       " (',', 'he'),\n",
       " ('he', 'has'),\n",
       " ('has', 'written'),\n",
       " ('written', 'about'),\n",
       " ('about', 'the'),\n",
       " ('the', 'ethnic'),\n",
       " ('ethnic', 'cleansing'),\n",
       " ('cleansing', 'of'),\n",
       " ('of', 'Muslims'),\n",
       " ('Muslims', 'from'),\n",
       " ('from', 'the'),\n",
       " ('the', 'Balkans'),\n",
       " ('Balkans', 'and'),\n",
       " ('and', 'the'),\n",
       " ('the', 'Caucasus'),\n",
       " ('Caucasus', ','),\n",
       " (',', 'as'),\n",
       " ('as', 'well'),\n",
       " ('well', 'as'),\n",
       " ('as', 'the'),\n",
       " ('the', 'Armenian'),\n",
       " ('Armenian', 'massacres'),\n",
       " ('massacres', 'in'),\n",
       " ('in', 'Anatolia'),\n",
       " ('Anatolia', '.'),\n",
       " ('.', 'Scholarly'),\n",
       " ('Scholarly', 'critics'),\n",
       " ('critics', 'of'),\n",
       " ('of', 'McCarthy'),\n",
       " ('McCarthy', 'acknowledge'),\n",
       " ('acknowledge', 'that'),\n",
       " ('that', 'his'),\n",
       " ('his', 'research'),\n",
       " ('research', 'on'),\n",
       " ('on', 'Muslim'),\n",
       " ('Muslim', 'civilian'),\n",
       " ('civilian', 'casualties'),\n",
       " ('casualties', 'and'),\n",
       " ('and', 'refugee'),\n",
       " ('refugee', 'numbers'),\n",
       " ('numbers', '('),\n",
       " ('(', '19th'),\n",
       " ('19th', 'and'),\n",
       " ('and', 'early'),\n",
       " ('early', '20th'),\n",
       " ('20th', 'centuries'),\n",
       " ('centuries', ')'),\n",
       " (')', 'has'),\n",
       " ('has', 'brought'),\n",
       " ('brought', 'forth'),\n",
       " ('forth', 'a'),\n",
       " ('a', 'valuable'),\n",
       " ('valuable', 'perspective'),\n",
       " ('perspective', ','),\n",
       " (',', 'previously'),\n",
       " ('previously', 'neglected'),\n",
       " ('neglected', 'in'),\n",
       " ('in', 'the'),\n",
       " ('the', 'Christian'),\n",
       " ('Christian', 'West'),\n",
       " ('West', ':'),\n",
       " (':', 'that'),\n",
       " ('that', 'millions'),\n",
       " ('millions', 'of'),\n",
       " ('of', 'Muslims'),\n",
       " ('Muslims', 'and'),\n",
       " ('and', 'Jews'),\n",
       " ('Jews', 'also'),\n",
       " ('also', 'suffered'),\n",
       " ('suffered', 'and'),\n",
       " ('and', 'died'),\n",
       " ('died', 'during'),\n",
       " ('during', 'these'),\n",
       " ('these', 'years'),\n",
       " ('years', '.'),\n",
       " ('.', 'Donald'),\n",
       " ('Donald', 'W.'),\n",
       " ('W.', 'Bleacher'),\n",
       " ('Bleacher', ','),\n",
       " (',', 'though'),\n",
       " ('though', 'acknowledging'),\n",
       " ('acknowledging', 'that'),\n",
       " ('that', 'McCarthy'),\n",
       " ('McCarthy', 'is'),\n",
       " ('is', 'pro-Turkish'),\n",
       " ('pro-Turkish', 'nonetheless'),\n",
       " ('nonetheless', 'has'),\n",
       " ('has', 'called'),\n",
       " ('called', 'Death'),\n",
       " ('Death', 'and'),\n",
       " ('and', 'Exile'),\n",
       " ('Exile', '``'),\n",
       " ('``', 'a'),\n",
       " ('a', 'necessary'),\n",
       " ('necessary', 'corrective'),\n",
       " ('corrective', \"''\"),\n",
       " (\"''\", 'challenging'),\n",
       " ('challenging', 'the'),\n",
       " ('the', 'West'),\n",
       " ('West', \"'s\"),\n",
       " (\"'s\", 'model'),\n",
       " ('model', 'of'),\n",
       " ('of', 'all'),\n",
       " ('all', 'victims'),\n",
       " ('victims', 'being'),\n",
       " ('being', 'Christians'),\n",
       " ('Christians', 'and'),\n",
       " ('and', 'all'),\n",
       " ('all', 'perpetrators'),\n",
       " ('perpetrators', 'as'),\n",
       " ('as', 'being'),\n",
       " ('being', 'Muslims.McCarthy'),\n",
       " ('Muslims.McCarthy', \"'s\"),\n",
       " (\"'s\", 'current'),\n",
       " ('current', 'concentration'),\n",
       " ('concentration', 'is'),\n",
       " ('is', 'on'),\n",
       " ('on', 'the'),\n",
       " ('the', 'factors'),\n",
       " ('factors', 'that'),\n",
       " ('that', 'caused'),\n",
       " ('caused', 'the'),\n",
       " ('the', 'Ottoman'),\n",
       " ('Ottoman', 'loss'),\n",
       " ('loss', 'in'),\n",
       " ('in', 'the'),\n",
       " ('the', 'East'),\n",
       " ('East', 'in'),\n",
       " ('in', 'World'),\n",
       " ('World', 'War'),\n",
       " ('War', 'I'),\n",
       " ('I', '.'),\n",
       " ('.', 'According'),\n",
       " ('According', 'to'),\n",
       " ('to', 'him'),\n",
       " ('him', ','),\n",
       " (',', 'the'),\n",
       " ('the', 'milestone'),\n",
       " ('milestone', 'events'),\n",
       " ('events', 'are'),\n",
       " ('are', 'the'),\n",
       " ('the', 'Battle'),\n",
       " ('Battle', 'of'),\n",
       " ('of', 'Sarikamish'),\n",
       " ('Sarikamish', 'and'),\n",
       " ('and', 'what'),\n",
       " ('what', 'he'),\n",
       " ('he', 'terms'),\n",
       " ('terms', 'the'),\n",
       " ('the', '``'),\n",
       " ('``', 'Armenian'),\n",
       " ('Armenian', 'Revolt'),\n",
       " ('Revolt', \"''\"),\n",
       " (\"''\", 'at'),\n",
       " ('at', 'Van'),\n",
       " ('Van', '.'),\n",
       " ('.', 'Norman'),\n",
       " ('Norman', 'Stone'),\n",
       " ('Stone', 'praised'),\n",
       " ('praised', 'Justin'),\n",
       " ('Justin', 'McCarthy'),\n",
       " ('McCarthy', \"'s\"),\n",
       " (\"'s\", 'The'),\n",
       " ('The', 'Ottoman'),\n",
       " ('Ottoman', 'Turks'),\n",
       " ('Turks', ':'),\n",
       " (':', '``'),\n",
       " ('``', 'a'),\n",
       " ('a', 'brave'),\n",
       " ('brave', 'scholarly'),\n",
       " ('scholarly', 'attempt'),\n",
       " ('attempt', ','),\n",
       " (',', 'not'),\n",
       " ('not', 'shrinking'),\n",
       " ('shrinking', 'from'),\n",
       " ('from', 'the'),\n",
       " ('the', 'economic'),\n",
       " ('economic', 'side'),\n",
       " ('side', '.'),\n",
       " ('.', \"''\"),\n",
       " (\"''\", 'Similarly'),\n",
       " ('Similarly', ','),\n",
       " (',', 'The'),\n",
       " ('The', 'Ottoman'),\n",
       " ('Ottoman', 'Peoples'),\n",
       " ('Peoples', 'and'),\n",
       " ('and', 'the'),\n",
       " ('the', 'End'),\n",
       " ('End', 'of'),\n",
       " ('of', 'Empire'),\n",
       " ('Empire', 'was'),\n",
       " ('was', 'recommended'),\n",
       " ('recommended', 'by'),\n",
       " ('by', 'The'),\n",
       " ('The', 'History'),\n",
       " ('History', 'Teacher.McCarthy'),\n",
       " ('Teacher.McCarthy', 'also'),\n",
       " ('also', 'worked'),\n",
       " ('worked', 'on'),\n",
       " ('on', 'the'),\n",
       " ('the', 'image'),\n",
       " ('image', 'of'),\n",
       " ('of', 'the'),\n",
       " ('the', 'Ottoman'),\n",
       " ('Ottoman', 'Turks'),\n",
       " ('Turks', ','),\n",
       " (',', 'especially'),\n",
       " ('especially', 'in'),\n",
       " ('in', 'America'),\n",
       " ('America', '('),\n",
       " ('(', 'The'),\n",
       " ('The', 'Turk'),\n",
       " ('Turk', 'in'),\n",
       " ('in', 'America'),\n",
       " ('America', ')'),\n",
       " (')', ','),\n",
       " (',', 'with'),\n",
       " ('with', 'a'),\n",
       " ('a', 'focus'),\n",
       " ('focus', 'on'),\n",
       " ('on', 'the'),\n",
       " ('the', 'anti-Turkish'),\n",
       " ('anti-Turkish', 'prejudices'),\n",
       " ('prejudices', 'disseminated'),\n",
       " ('disseminated', 'by'),\n",
       " ('by', 'some'),\n",
       " ('some', 'missionaries'),\n",
       " ('missionaries', ','),\n",
       " (',', 'from'),\n",
       " ('from', 'the'),\n",
       " ('the', 'beginning'),\n",
       " ('beginning', 'of'),\n",
       " ('of', 'the'),\n",
       " ('the', '19th'),\n",
       " ('19th', 'century'),\n",
       " ('century', 'to'),\n",
       " ('to', '1922'),\n",
       " ('1922', '.'),\n",
       " ('.', '==='),\n",
       " ('===', 'Armenian'),\n",
       " ('Armenian', 'Genocide'),\n",
       " ('Genocide', '==='),\n",
       " ('===', 'McCarthy'),\n",
       " ('McCarthy', 'agrees'),\n",
       " ('agrees', 'that'),\n",
       " ('that', 'a'),\n",
       " ('a', 'million'),\n",
       " ('million', 'Armenians'),\n",
       " ('Armenians', 'died'),\n",
       " ('died', 'during'),\n",
       " ('during', 'the'),\n",
       " ('the', 'massacres'),\n",
       " ('massacres', 'of'),\n",
       " ('of', '1915–1923'),\n",
       " ('1915–1923', ','),\n",
       " (',', 'but'),\n",
       " ('but', 'he'),\n",
       " ('he', 'argues'),\n",
       " ('argues', 'that'),\n",
       " ('that', 'millions'),\n",
       " ('millions', 'of'),\n",
       " ('of', 'Muslims'),\n",
       " ('Muslims', 'in'),\n",
       " ('in', 'the'),\n",
       " ('the', 'region'),\n",
       " ('region', 'were'),\n",
       " ('were', 'also'),\n",
       " ('also', 'massacred'),\n",
       " ('massacred', 'in'),\n",
       " ('in', 'this'),\n",
       " ('this', 'period'),\n",
       " ('period', 'and'),\n",
       " ('and', 'many'),\n",
       " ('many', 'at'),\n",
       " ('at', 'the'),\n",
       " ('the', '``'),\n",
       " ('``', 'hands'),\n",
       " ('hands', 'of'),\n",
       " ('of', 'Armenian'),\n",
       " ('Armenian', 'insurgents'),\n",
       " ('insurgents', 'and'),\n",
       " ('and', 'militia'),\n",
       " ('militia', \"''\"),\n",
       " (\"''\", '.'),\n",
       " ('.', 'He'),\n",
       " ('He', 'has'),\n",
       " ('has', 'claimed'),\n",
       " ('claimed', 'that'),\n",
       " ('that', 'all'),\n",
       " ('all', 'of'),\n",
       " ('of', 'those'),\n",
       " ('those', 'deaths'),\n",
       " ('deaths', 'during'),\n",
       " ('during', 'World'),\n",
       " ('World', 'War'),\n",
       " ('War', 'I'),\n",
       " ('I', 'were'),\n",
       " ('were', 'the'),\n",
       " ('the', 'product'),\n",
       " ('product', 'of'),\n",
       " ('of', 'intercommunal'),\n",
       " ('intercommunal', 'warfare'),\n",
       " ('warfare', 'between'),\n",
       " ('between', 'Turks'),\n",
       " ('Turks', ','),\n",
       " (',', 'Kurds'),\n",
       " ('Kurds', 'and'),\n",
       " ('and', 'Armenians'),\n",
       " ('Armenians', ','),\n",
       " (',', 'famine'),\n",
       " ('famine', 'and'),\n",
       " ('and', 'disease'),\n",
       " ('disease', ','),\n",
       " (',', 'and'),\n",
       " ('and', 'did'),\n",
       " ('did', 'not'),\n",
       " ('not', 'involve'),\n",
       " ('involve', 'an'),\n",
       " ('an', 'intent'),\n",
       " ('intent', 'or'),\n",
       " ('or', 'a'),\n",
       " ('a', 'policy'),\n",
       " ('policy', 'to'),\n",
       " ('to', 'commit'),\n",
       " ('commit', 'genocide'),\n",
       " ('genocide', 'by'),\n",
       " ('by', 'the'),\n",
       " ('the', 'Ottoman'),\n",
       " ('Ottoman', 'Empire'),\n",
       " ('Empire', '.'),\n",
       " ('.', 'McCarthy'),\n",
       " ('McCarthy', 'has'),\n",
       " ('has', 'been'),\n",
       " ('been', 'active'),\n",
       " ('active', 'in'),\n",
       " ('in', 'publishing'),\n",
       " ('publishing', 'the'),\n",
       " ('the', 'results'),\n",
       " ('results', 'of'),\n",
       " ('of', 'his'),\n",
       " ('his', 'work'),\n",
       " ('work', 'and'),\n",
       " ('and', 'analysis'),\n",
       " ('analysis', ','),\n",
       " (',', 'that'),\n",
       " ('that', 'Ottomans'),\n",
       " ('Ottomans', 'never'),\n",
       " ('never', 'had'),\n",
       " ('had', 'an'),\n",
       " ('an', 'official'),\n",
       " ('official', 'state'),\n",
       " ('state', 'sanctioned'),\n",
       " ('sanctioned', 'policy'),\n",
       " ('policy', 'of'),\n",
       " ('of', 'genocide'),\n",
       " ('genocide', ','),\n",
       " (',', 'through'),\n",
       " ('through', 'books'),\n",
       " ('books', ','),\n",
       " (',', 'articles'),\n",
       " ('articles', ','),\n",
       " (',', 'conferences'),\n",
       " ('conferences', ','),\n",
       " (',', 'and'),\n",
       " ('and', 'interviews'),\n",
       " ('interviews', '.'),\n",
       " ('.', 'This'),\n",
       " ('This', 'has'),\n",
       " ('has', 'made'),\n",
       " ('made', 'him'),\n",
       " ('him', 'a'),\n",
       " ('a', 'target'),\n",
       " ('target', 'of'),\n",
       " ('of', 'much'),\n",
       " ('much', 'criticism'),\n",
       " ('criticism', 'from'),\n",
       " ('from', 'historians'),\n",
       " ('historians', 'and'),\n",
       " ('and', 'organizations'),\n",
       " ('organizations', '.'),\n",
       " ('.', 'He'),\n",
       " ('He', 'was'),\n",
       " ('was', 'one'),\n",
       " ('one', 'of'),\n",
       " ('of', 'four'),\n",
       " ('four', 'scholars'),\n",
       " ('scholars', 'who'),\n",
       " ('who', 'participated'),\n",
       " ('participated', 'in'),\n",
       " ('in', 'a'),\n",
       " ('a', 'controversial'),\n",
       " ('controversial', 'debate'),\n",
       " ('debate', 'hosted'),\n",
       " ('hosted', 'by'),\n",
       " ('by', 'PBS'),\n",
       " ('PBS', 'about'),\n",
       " ('about', 'the'),\n",
       " ('the', 'Armenian'),\n",
       " ('Armenian', 'Genocide'),\n",
       " ('Genocide', 'in'),\n",
       " ('in', '2006'),\n",
       " ('2006', '.'),\n",
       " ('.', 'Aviel'),\n",
       " ('Aviel', 'Roshwald'),\n",
       " ('Roshwald', 'describes'),\n",
       " ('describes', 'McCarthy'),\n",
       " ('McCarthy', \"'s\"),\n",
       " (\"'s\", '``'),\n",
       " ('``', 'version'),\n",
       " ('version', 'of'),\n",
       " ('of', 'these'),\n",
       " ('these', 'events'),\n",
       " ('events', \"''\"),\n",
       " (\"''\", 'as'),\n",
       " ('as', '``'),\n",
       " ('``', 'defensively'),\n",
       " ('defensively', 'pro-Turkish'),\n",
       " ('pro-Turkish', '.'),\n",
       " ('.', '``'),\n",
       " ('``', 'Michael'),\n",
       " ('Michael', 'M.'),\n",
       " ('M.', 'Gunter'),\n",
       " ('Gunter', 'congratulated'),\n",
       " ('congratulated', 'Justin'),\n",
       " ('Justin', 'McCarthy'),\n",
       " ('McCarthy', 'for'),\n",
       " ('for', 'Muslim'),\n",
       " ('Muslim', 'and'),\n",
       " ('and', 'Minorities'),\n",
       " ('Minorities', ':'),\n",
       " (':', '``'),\n",
       " ('``', 'His'),\n",
       " ('His', 'work'),\n",
       " ('work', 'is'),\n",
       " ('is', 'clearly'),\n",
       " ('clearly', 'the'),\n",
       " ('the', 'best'),\n",
       " ('best', 'available'),\n",
       " ('available', 'on'),\n",
       " ('on', 'the'),\n",
       " ('the', 'subject'),\n",
       " ('subject', 'and'),\n",
       " ('and', 'merits'),\n",
       " ('merits', 'the'),\n",
       " ('the', 'close'),\n",
       " ('close', 'attention'),\n",
       " ('attention', 'of'),\n",
       " ('of', 'any'),\n",
       " ('any', 'serious'),\n",
       " ('serious', ','),\n",
       " (',', 'disinterested'),\n",
       " ('disinterested', 'scholar'),\n",
       " ('scholar', \"''\"),\n",
       " (\"''\", ';'),\n",
       " (';', 'and'),\n",
       " ('and', '``'),\n",
       " ('``', 'his'),\n",
       " ('his', 'figure'),\n",
       " ('figure', \"''\"),\n",
       " (\"''\", 'of'),\n",
       " ('of', 'the'),\n",
       " ('the', 'Armenian'),\n",
       " ('Armenian', 'losses'),\n",
       " ('losses', '('),\n",
       " ('(', '600,000'),\n",
       " ('600,000', ')'),\n",
       " (')', '``'),\n",
       " ('``', 'is'),\n",
       " ('is', 'probably'),\n",
       " ('probably', 'the'),\n",
       " ('the', 'most'),\n",
       " ('most', 'accurate'),\n",
       " ('accurate', 'we'),\n",
       " ('we', 'have'),\n",
       " ('have', '.'),\n",
       " ('.', \"''\"),\n",
       " (\"''\", 'Justin'),\n",
       " ('Justin', 'McCarthy'),\n",
       " ('McCarthy', \"'s\"),\n",
       " (\"'s\", 'work'),\n",
       " ('work', 'on'),\n",
       " ('on', 'the'),\n",
       " ('the', 'demography'),\n",
       " ('demography', 'of'),\n",
       " ('of', 'Anatolian'),\n",
       " ('Anatolian', 'populations'),\n",
       " ('populations', ','),\n",
       " (',', 'especially'),\n",
       " ('especially', 'the'),\n",
       " ('the', 'Armenians'),\n",
       " ('Armenians', ','),\n",
       " (',', 'was'),\n",
       " ('was', 'also'),\n",
       " ('also', 'recommended'),\n",
       " ('recommended', 'by'),\n",
       " ('by', 'Gilles'),\n",
       " ('Gilles', 'Veinstein'),\n",
       " ('Veinstein', ','),\n",
       " (',', 'professor'),\n",
       " ('professor', 'of'),\n",
       " ('of', 'Ottoman'),\n",
       " ('Ottoman', 'history'),\n",
       " ('history', 'at'),\n",
       " ('at', 'the'),\n",
       " ('the', 'Collège'),\n",
       " ('Collège', 'de'),\n",
       " ('de', 'France'),\n",
       " ('France', '.'),\n",
       " ('.', 'Both'),\n",
       " ('Both', 'Gunter'),\n",
       " ('Gunter', 'and'),\n",
       " ('and', 'Veinstein'),\n",
       " ('Veinstein', 'have'),\n",
       " ('have', 'been'),\n",
       " ('been', 'accused'),\n",
       " ('accused', 'of'),\n",
       " ('of', 'holding'),\n",
       " ('holding', 'denialist'),\n",
       " ('denialist', 'positions'),\n",
       " ('positions', 'on'),\n",
       " ('on', 'the'),\n",
       " ('the', 'Armenian'),\n",
       " ('Armenian', 'Genocide'),\n",
       " ('Genocide', '.'),\n",
       " ('.', '=='),\n",
       " ('==', 'Evaluations'),\n",
       " ('Evaluations', '=='),\n",
       " ('==', 'McCarthy'),\n",
       " ('McCarthy', \"'s\"),\n",
       " (\"'s\", 'work'),\n",
       " ('work', 'has'),\n",
       " ('has', 'been'),\n",
       " ('been', 'controversial'),\n",
       " ('controversial', '.'),\n",
       " ('.', 'The'),\n",
       " ('The', 'American'),\n",
       " ('American', 'Historical'),\n",
       " ('Historical', 'Review'),\n",
       " ('Review', 'states'),\n",
       " ('states', 'of'),\n",
       " ('of', 'Death'),\n",
       " ('Death', 'and'),\n",
       " ('and', 'Exile'),\n",
       " ('Exile', ':'),\n",
       " (':', 'The'),\n",
       " ('The', 'Ethnic'),\n",
       " ('Ethnic', 'Cleansing'),\n",
       " ('Cleansing', 'of'),\n",
       " ('of', 'Ottoman'),\n",
       " ('Ottoman', 'Muslims'),\n",
       " ('Muslims', ','),\n",
       " (',', '1821–1922'),\n",
       " ('1821–1922', '('),\n",
       " ('(', '1996'),\n",
       " ('1996', ')'),\n",
       " (')', ':'),\n",
       " (':', 'One'),\n",
       " ('One', 'may'),\n",
       " ('may', 'pick'),\n",
       " ('pick', 'arguments'),\n",
       " ('arguments', 'with'),\n",
       " ('with', 'specific'),\n",
       " ('specific', 'interpretations'),\n",
       " ('interpretations', 'of'),\n",
       " ('of', 'events'),\n",
       " ('events', 'depicted'),\n",
       " ('depicted', 'in'),\n",
       " ('in', 'the'),\n",
       " ('the', 'work'),\n",
       " ('work', ','),\n",
       " (',', 'but'),\n",
       " ('but', 'the'),\n",
       " ('the', 'statistical'),\n",
       " ('statistical', 'data'),\n",
       " ('data', 'appear'),\n",
       " ('appear', 'generally'),\n",
       " ('generally', 'valid'),\n",
       " ('valid', '.'),\n",
       " ('.', 'McCarthy'),\n",
       " ('McCarthy', 'succeeds'),\n",
       " ('succeeds', 'in'),\n",
       " ('in', 'providing'),\n",
       " ('providing', 'factual'),\n",
       " ('factual', 'material'),\n",
       " ('material', 'for'),\n",
       " ('for', 'bringing'),\n",
       " ('bringing', 'the'),\n",
       " ('the', 'European'),\n",
       " ('European', 'historiography'),\n",
       " ('historiography', 'of'),\n",
       " ('of', 'the'),\n",
       " ('the', 'later'),\n",
       " ('later', 'Ottoman'),\n",
       " ('Ottoman', 'Empire'),\n",
       " ('Empire', 'into'),\n",
       " ('into', 'more'),\n",
       " ('more', 'objective'),\n",
       " ('objective', 'balance'),\n",
       " ('balance', '.'),\n",
       " ('.', 'The'),\n",
       " ('The', 'International'),\n",
       " ('International', 'Journal'),\n",
       " ('Journal', 'of'),\n",
       " ('of', 'Middle'),\n",
       " ('Middle', 'East'),\n",
       " ('East', 'Studies'),\n",
       " ('Studies', 'says'),\n",
       " ('says', 'of'),\n",
       " ('of', 'the'),\n",
       " ('the', 'same'),\n",
       " ('same', 'book'),\n",
       " ('book', ':'),\n",
       " (':', 'Like'),\n",
       " ('Like', 'all'),\n",
       " ('all', 'of'),\n",
       " ('of', 'the'),\n",
       " ('the', 'author'),\n",
       " ('author', \"'s\"),\n",
       " (\"'s\", 'other'),\n",
       " ('other', 'works'),\n",
       " ('works', ','),\n",
       " (',', 'this'),\n",
       " ('this', 'one'),\n",
       " ('one', 'offers'),\n",
       " ('offers', 'positions'),\n",
       " ('positions', 'that'),\n",
       " ('that', 'become'),\n",
       " ('become', 'pivots'),\n",
       " ('pivots', 'for'),\n",
       " ('for', 'rebuttals'),\n",
       " ('rebuttals', ','),\n",
       " (',', 'disagreements'),\n",
       " ('disagreements', ','),\n",
       " (',', 'counter-arguments'),\n",
       " ('counter-arguments', ','),\n",
       " (',', 'different'),\n",
       " ('different', 'interpretations'),\n",
       " ('interpretations', ','),\n",
       " (',', 'and'),\n",
       " ('and', 'probably'),\n",
       " ('probably', 'some'),\n",
       " ('some', 'recriminations'),\n",
       " ('recriminations', '.'),\n",
       " ('.', 'Nonetheless'),\n",
       " ('Nonetheless', ','),\n",
       " (',', 'Justin'),\n",
       " ('Justin', 'McCarthy'),\n",
       " ('McCarthy', \"'s\"),\n",
       " (\"'s\", 'solid'),\n",
       " ('solid', 'demographic'),\n",
       " ('demographic', 'work'),\n",
       " ('work', 'contributes'),\n",
       " ('contributes', 'to'),\n",
       " ('to', 'achieving'),\n",
       " ('achieving', 'a'),\n",
       " ('a', 'better'),\n",
       " ('better', 'balance'),\n",
       " ('balance', 'and'),\n",
       " ('and', 'understanding'),\n",
       " ('understanding', 'that'),\n",
       " ('that', 'he'),\n",
       " ('he', 'so'),\n",
       " ('so', 'ardently'),\n",
       " ('ardently', 'desires'),\n",
       " ('desires', 'for'),\n",
       " ('for', 'the'),\n",
       " ('the', 'history'),\n",
       " ('history', 'of'),\n",
       " ('of', 'these'),\n",
       " ('these', 'regions'),\n",
       " ('regions', 'and'),\n",
       " ('and', 'peoples'),\n",
       " ('peoples', '.'),\n",
       " ('.', 'McCarthy'),\n",
       " ('McCarthy', \"'s\"),\n",
       " (\"'s\", 'work'),\n",
       " ('work', 'has'),\n",
       " ('has', 'been'),\n",
       " ('been', 'the'),\n",
       " ('the', 'subject'),\n",
       " ('subject', 'of'),\n",
       " ('of', 'criticism'),\n",
       " ('criticism', 'from'),\n",
       " ('from', 'book'),\n",
       " ('book', 'reviewers'),\n",
       " ('reviewers', 'and'),\n",
       " ('and', 'a'),\n",
       " ('a', 'number'),\n",
       " ('number', 'of'),\n",
       " ('of', 'genocide'),\n",
       " ('genocide', 'scholars'),\n",
       " ('scholars', '.'),\n",
       " ('.', 'According'),\n",
       " ('According', 'to'),\n",
       " ('to', 'Israeli'),\n",
       " ('Israeli', 'historian'),\n",
       " ('historian', 'Yair'),\n",
       " ('Yair', 'Auron'),\n",
       " ('Auron', ','),\n",
       " (',', 'McCarthy'),\n",
       " ('McCarthy', ','),\n",
       " (',', '``'),\n",
       " ('``', 'with'),\n",
       " ('with', 'Heath'),\n",
       " ('Heath', 'Lowry'),\n",
       " ('Lowry', ','),\n",
       " (',', 'Lewis'),\n",
       " ('Lewis', \"'\"),\n",
       " (\"'\", 'successor'),\n",
       " ('successor', 'in'),\n",
       " ('in', 'Princeton'),\n",
       " ('Princeton', ','),\n",
       " (',', 'leads'),\n",
       " ('leads', 'the'),\n",
       " ('the', 'list'),\n",
       " ('list', 'of'),\n",
       " ('of', 'deniers'),\n",
       " ('deniers', 'of'),\n",
       " ('of', 'the'),\n",
       " ('the', 'Armenian'),\n",
       " ('Armenian', 'Genocide'),\n",
       " ('Genocide', '.'),\n",
       " ('.', \"''\"),\n",
       " (\"''\", '``'),\n",
       " ('``', 'The'),\n",
       " ('The', 'Encyclopedia'),\n",
       " ('Encyclopedia', 'of'),\n",
       " ('of', 'Genocide'),\n",
       " ('Genocide', \"''\"),\n",
       " (\"''\", 'writes'),\n",
       " ('writes', ','),\n",
       " (',', 'that'),\n",
       " ('that', 'Stanford'),\n",
       " ('Stanford', 'Shaw'),\n",
       " ('Shaw', 'and'),\n",
       " ('and', 'McCarthy'),\n",
       " ('McCarthy', 'have'),\n",
       " ('have', 'published'),\n",
       " ('published', 'shoddy'),\n",
       " ('shoddy', 'and'),\n",
       " ('and', 'desperate'),\n",
       " ('desperate', 'books'),\n",
       " ('books', 'claiming'),\n",
       " ('claiming', 'there'),\n",
       " ('there', 'was'),\n",
       " ...]"
      ]
     },
     "execution_count": 38,
     "metadata": {},
     "output_type": "execute_result"
    }
   ],
   "source": [
    "text = wac_model.data['wiki_page'].loc[0]\n",
    "words = word_tokenize(text)\n",
    "list(zip(words, words[1:]))"
   ]
  },
  {
   "cell_type": "markdown",
   "metadata": {},
   "source": [
    "# Experimental Models"
   ]
  },
  {
   "cell_type": "code",
   "execution_count": 817,
   "metadata": {},
   "outputs": [
    {
     "name": "stdout",
     "output_type": "stream",
     "text": [
      "label = 1\n",
      "              precision    recall  f1-score   support\n",
      "\n",
      "           0       0.82      0.75      0.78        12\n",
      "           1       0.57      0.67      0.62         6\n",
      "\n",
      "    accuracy                           0.72        18\n",
      "   macro avg       0.69      0.71      0.70        18\n",
      "weighted avg       0.74      0.72      0.73        18\n",
      "\n",
      "predicted:\n",
      "[0 0 1 1 0 0 0 0 1 0 0 1 1 0 1 1 0 0]\n",
      "true:\n",
      "[0 0 1 1 0 1 0 0 0 0 0 0 1 0 0 1 0 1]\n"
     ]
    },
    {
     "data": {
      "text/plain": [
       "search_results.label     \n",
       "2                     494    0\n",
       "0                     730    0\n",
       "1                     53     1\n",
       "                      362    1\n",
       "2                     299    0\n",
       "1                     656    1\n",
       "0                     394    0\n",
       "2                     749    0\n",
       "                      760    0\n",
       "0                     647    0\n",
       "                      258    0\n",
       "                      652    0\n",
       "1                     130    1\n",
       "2                     748    0\n",
       "                      405    0\n",
       "1                     129    1\n",
       "0                     318    0\n",
       "1                     0      1\n",
       "Name: search_results.label, dtype: int64"
      ]
     },
     "metadata": {},
     "output_type": "display_data"
    },
    {
     "name": "stdout",
     "output_type": "stream",
     "text": [
      "\n",
      "label = 2\n",
      "              precision    recall  f1-score   support\n",
      "\n",
      "           0       0.75      1.00      0.86        12\n",
      "           1       1.00      0.33      0.50         6\n",
      "\n",
      "    accuracy                           0.78        18\n",
      "   macro avg       0.88      0.67      0.68        18\n",
      "weighted avg       0.83      0.78      0.74        18\n",
      "\n",
      "predicted:\n",
      "[0 0 0 0 1 0 0 1 0 0 0 0 0 0 0 0 0 0]\n",
      "true:\n",
      "[1 0 0 0 1 0 0 1 1 0 0 0 0 1 1 0 0 0]\n"
     ]
    },
    {
     "data": {
      "text/plain": [
       "search_results.label     \n",
       "2                     494    1\n",
       "0                     730    0\n",
       "1                     53     0\n",
       "                      362    0\n",
       "2                     299    1\n",
       "1                     656    0\n",
       "0                     394    0\n",
       "2                     749    1\n",
       "                      760    1\n",
       "0                     647    0\n",
       "                      258    0\n",
       "                      652    0\n",
       "1                     130    0\n",
       "2                     748    1\n",
       "                      405    1\n",
       "1                     129    0\n",
       "0                     318    0\n",
       "1                     0      0\n",
       "Name: search_results.label, dtype: int64"
      ]
     },
     "metadata": {},
     "output_type": "display_data"
    }
   ],
   "source": [
    "# experiment: NB on separate labels into two models\n",
    "y1_train = y_train.apply(lambda x: 1 if x == 1 else 0)\n",
    "y2_train = y_train.apply(lambda x: 1 if x == 2 else 0)\n",
    "y1_test = y_test.apply(lambda x: 1 if x == 1 else 0)\n",
    "y2_test = y_test.apply(lambda x: 1 if x == 2 else 0)\n",
    "\n",
    "print(\"label = 1\")\n",
    "clf = GaussianNB()\n",
    "clf.fit(X_train, y1_train)\n",
    "ypred = clf.predict(X_test)\n",
    "eval_results(y1_test, ypred)\n",
    "print()\n",
    "\n",
    "print(\"label = 2\")\n",
    "clf = GaussianNB()\n",
    "clf.fit(X_train, y2_train)\n",
    "ypred = clf.predict(X_test)\n",
    "eval_results(y2_test, ypred)"
   ]
  },
  {
   "cell_type": "code",
   "execution_count": 818,
   "metadata": {},
   "outputs": [
    {
     "name": "stdout",
     "output_type": "stream",
     "text": [
      "              precision    recall  f1-score   support\n",
      "\n",
      "           0       1.00      0.67      0.80         6\n",
      "           1       0.50      0.67      0.57         6\n",
      "           2       0.67      0.67      0.67         6\n",
      "\n",
      "    accuracy                           0.67        18\n",
      "   macro avg       0.72      0.67      0.68        18\n",
      "weighted avg       0.72      0.67      0.68        18\n",
      "\n",
      "predicted:\n",
      "[2 0 1 1 2 2 0 2 1 0 1 1 1 1 2 1 0 2]\n",
      "true:\n",
      "[2 0 1 1 2 1 0 2 2 0 0 0 1 2 2 1 0 1]\n"
     ]
    },
    {
     "data": {
      "text/plain": [
       "search_results.label     \n",
       "2                     494    2\n",
       "0                     730    0\n",
       "1                     53     1\n",
       "                      362    1\n",
       "2                     299    2\n",
       "1                     656    1\n",
       "0                     394    0\n",
       "2                     749    2\n",
       "                      760    2\n",
       "0                     647    0\n",
       "                      258    0\n",
       "                      652    0\n",
       "1                     130    1\n",
       "2                     748    2\n",
       "                      405    2\n",
       "1                     129    1\n",
       "0                     318    0\n",
       "1                     0      1\n",
       "Name: search_results.label, dtype: int64"
      ]
     },
     "metadata": {},
     "output_type": "display_data"
    }
   ],
   "source": [
    "# Train multi-class model\n",
    "clf = GaussianNB()\n",
    "clf.fit(X_train, y_train)\n",
    "\n",
    "# Evaluate model\n",
    "ypred = clf.predict(X_test)\n",
    "eval_results(y_test, ypred)"
   ]
  },
  {
   "cell_type": "markdown",
   "metadata": {},
   "source": [
    "# Precision/Recall Trade-off Calculation"
   ]
  },
  {
   "cell_type": "code",
   "execution_count": 22,
   "metadata": {},
   "outputs": [
    {
     "data": {
      "text/html": [
       "        <script type=\"text/javascript\">\n",
       "        window.PlotlyConfig = {MathJaxConfig: 'local'};\n",
       "        if (window.MathJax) {MathJax.Hub.Config({SVG: {font: \"STIX-Web\"}});}\n",
       "        if (typeof require !== 'undefined') {\n",
       "        require.undef(\"plotly\");\n",
       "        requirejs.config({\n",
       "            paths: {\n",
       "                'plotly': ['https://cdn.plot.ly/plotly-latest.min']\n",
       "            }\n",
       "        });\n",
       "        require(['plotly'], function(Plotly) {\n",
       "            window._Plotly = Plotly;\n",
       "        });\n",
       "        }\n",
       "        </script>\n",
       "        "
      ]
     },
     "metadata": {},
     "output_type": "display_data"
    },
    {
     "data": {
      "application/vnd.plotly.v1+json": {
       "config": {
        "linkText": "Export to plot.ly",
        "plotlyServerURL": "https://plot.ly",
        "showLink": true
       },
       "data": [
        {
         "line": {
          "color": "rgba(255, 153, 51, 1.0)",
          "dash": "solid",
          "shape": "linear",
          "width": 1.3
         },
         "mode": "lines",
         "name": "Precision",
         "text": "",
         "type": "scatter",
         "x": [
          0.07,
          0.08,
          0.09,
          0.1,
          0.11,
          0.12,
          0.13,
          0.14,
          0.15,
          0.16,
          0.17,
          0.18,
          0.22,
          0.24,
          0.33,
          0.36,
          0.39,
          0.41,
          0.42,
          0.43,
          0.44,
          0.45,
          0.47,
          0.48,
          0.5,
          0.51,
          0.52,
          0.53,
          0.54,
          0.55,
          0.56,
          0.57,
          0.58,
          0.59,
          0.6,
          0.61,
          0.62,
          0.63,
          0.64,
          0.65,
          0.66,
          0.67,
          0.68,
          0.69,
          0.7,
          0.71,
          0.72,
          0.73,
          0.74,
          0.75,
          0.76,
          0.77,
          0.78,
          0.79,
          0.8,
          0.81,
          0.82,
          0.83,
          0.84,
          0.85,
          0.86,
          0.87,
          0.88,
          0.89,
          0.9,
          0.91,
          0.92,
          0.93,
          0.94,
          0.95,
          0.96,
          0.97,
          0.98,
          0.99,
          null
         ],
         "y": [
          0.9719251336898396,
          0.9731903485254692,
          0.9771197846567967,
          0.9784366576819407,
          0.979757085020243,
          0.9824086603518268,
          0.9837177747625508,
          0.9863760217983651,
          0.9890710382513661,
          0.9904240766073872,
          0.9931318681318682,
          0.9944979367262724,
          0.9958677685950413,
          0.9958620689655172,
          0.9958563535911602,
          0.995850622406639,
          0.9958448753462604,
          0.9972260748959778,
          0.9972222222222222,
          0.9972183588317107,
          0.9972144846796658,
          0.9972027972027973,
          0.9985974754558204,
          0.9985915492957746,
          0.998587570621469,
          0.9985815602836879,
          0.9985795454545454,
          0.9985734664764622,
          0.9985611510791367,
          0.9985569985569985,
          0.998546511627907,
          0.9985294117647059,
          0.9985228951255539,
          0.9985141158989599,
          0.9984984984984985,
          0.9984802431610942,
          0.9984709480122325,
          0.9984591679506933,
          0.9984520123839009,
          0.9984399375975039,
          0.9984126984126984,
          0.9983974358974359,
          0.9983922829581994,
          0.9983792544570502,
          0.9983633387888707,
          0.9983443708609272,
          0.9983221476510067,
          0.9983050847457627,
          0.9982668977469671,
          0.9982300884955753,
          0.9981785063752276,
          1,
          1,
          1,
          1,
          1,
          1,
          1,
          1,
          1,
          1,
          1,
          1,
          1,
          1,
          1,
          1,
          1,
          1,
          1,
          1,
          1,
          1,
          1,
          1
         ]
        },
        {
         "line": {
          "color": "rgba(55, 128, 191, 1.0)",
          "dash": "solid",
          "shape": "linear",
          "width": 1.3
         },
         "mode": "lines",
         "name": "Recall",
         "text": "",
         "type": "scatter",
         "x": [
          0.07,
          0.08,
          0.09,
          0.1,
          0.11,
          0.12,
          0.13,
          0.14,
          0.15,
          0.16,
          0.17,
          0.18,
          0.22,
          0.24,
          0.33,
          0.36,
          0.39,
          0.41,
          0.42,
          0.43,
          0.44,
          0.45,
          0.47,
          0.48,
          0.5,
          0.51,
          0.52,
          0.53,
          0.54,
          0.55,
          0.56,
          0.57,
          0.58,
          0.59,
          0.6,
          0.61,
          0.62,
          0.63,
          0.64,
          0.65,
          0.66,
          0.67,
          0.68,
          0.69,
          0.7,
          0.71,
          0.72,
          0.73,
          0.74,
          0.75,
          0.76,
          0.77,
          0.78,
          0.79,
          0.8,
          0.81,
          0.82,
          0.83,
          0.84,
          0.85,
          0.86,
          0.87,
          0.88,
          0.89,
          0.9,
          0.91,
          0.92,
          0.93,
          0.94,
          0.95,
          0.96,
          0.97,
          0.98,
          0.99,
          null
         ],
         "y": [
          1,
          0.9986244841815681,
          0.9986244841815681,
          0.9986244841815681,
          0.9986244841815681,
          0.9986244841815681,
          0.9972489683631361,
          0.9958734525447043,
          0.9958734525447043,
          0.9958734525447043,
          0.9944979367262724,
          0.9944979367262724,
          0.9944979367262724,
          0.9931224209078404,
          0.9917469050894085,
          0.9903713892709766,
          0.9889958734525447,
          0.9889958734525447,
          0.9876203576341128,
          0.9862448418156808,
          0.984869325997249,
          0.9807427785419532,
          0.9793672627235214,
          0.9752407152682255,
          0.9724896836313618,
          0.9683631361760661,
          0.9669876203576341,
          0.9628610729023384,
          0.9546079779917469,
          0.951856946354883,
          0.9449793672627235,
          0.9339752407152683,
          0.9298486932599724,
          0.9243466299862448,
          0.9147180192572214,
          0.9037138927097662,
          0.8982118294360385,
          0.8913342503438789,
          0.8872077028885832,
          0.8803301237964236,
          0.8651994497936726,
          0.8569463548830811,
          0.8541953232462174,
          0.8473177441540578,
          0.8390646492434664,
          0.8294360385144429,
          0.8184319119669876,
          0.8101788170563962,
          0.7922971114167813,
          0.7757909215955984,
          0.7537826685006878,
          0.7359009628610729,
          0.7180192572214581,
          0.6905089408528198,
          0.6616231086657497,
          0.6286107290233838,
          0.5928473177441541,
          0.5598349381017882,
          0.5281980742778541,
          0.4786795048143054,
          0.4346629986244842,
          0.3988995873452545,
          0.3535075653370014,
          0.2984869325997249,
          0.265474552957359,
          0.2077028885832187,
          0.16368638239339753,
          0.11966987620357634,
          0.0811554332874828,
          0.0577716643741403,
          0.037138927097661624,
          0.02063273727647868,
          0.0068775790921595595,
          0.0041265474552957355,
          0
         ]
        }
       ],
       "layout": {
        "legend": {
         "bgcolor": "#F5F6F9",
         "font": {
          "color": "#4D5663"
         }
        },
        "paper_bgcolor": "#F5F6F9",
        "plot_bgcolor": "#F5F6F9",
        "template": {
         "data": {
          "bar": [
           {
            "error_x": {
             "color": "#2a3f5f"
            },
            "error_y": {
             "color": "#2a3f5f"
            },
            "marker": {
             "line": {
              "color": "#E5ECF6",
              "width": 0.5
             }
            },
            "type": "bar"
           }
          ],
          "barpolar": [
           {
            "marker": {
             "line": {
              "color": "#E5ECF6",
              "width": 0.5
             }
            },
            "type": "barpolar"
           }
          ],
          "carpet": [
           {
            "aaxis": {
             "endlinecolor": "#2a3f5f",
             "gridcolor": "white",
             "linecolor": "white",
             "minorgridcolor": "white",
             "startlinecolor": "#2a3f5f"
            },
            "baxis": {
             "endlinecolor": "#2a3f5f",
             "gridcolor": "white",
             "linecolor": "white",
             "minorgridcolor": "white",
             "startlinecolor": "#2a3f5f"
            },
            "type": "carpet"
           }
          ],
          "choropleth": [
           {
            "colorbar": {
             "outlinewidth": 0,
             "ticks": ""
            },
            "type": "choropleth"
           }
          ],
          "contour": [
           {
            "colorbar": {
             "outlinewidth": 0,
             "ticks": ""
            },
            "colorscale": [
             [
              0,
              "#0d0887"
             ],
             [
              0.1111111111111111,
              "#46039f"
             ],
             [
              0.2222222222222222,
              "#7201a8"
             ],
             [
              0.3333333333333333,
              "#9c179e"
             ],
             [
              0.4444444444444444,
              "#bd3786"
             ],
             [
              0.5555555555555556,
              "#d8576b"
             ],
             [
              0.6666666666666666,
              "#ed7953"
             ],
             [
              0.7777777777777778,
              "#fb9f3a"
             ],
             [
              0.8888888888888888,
              "#fdca26"
             ],
             [
              1,
              "#f0f921"
             ]
            ],
            "type": "contour"
           }
          ],
          "contourcarpet": [
           {
            "colorbar": {
             "outlinewidth": 0,
             "ticks": ""
            },
            "type": "contourcarpet"
           }
          ],
          "heatmap": [
           {
            "colorbar": {
             "outlinewidth": 0,
             "ticks": ""
            },
            "colorscale": [
             [
              0,
              "#0d0887"
             ],
             [
              0.1111111111111111,
              "#46039f"
             ],
             [
              0.2222222222222222,
              "#7201a8"
             ],
             [
              0.3333333333333333,
              "#9c179e"
             ],
             [
              0.4444444444444444,
              "#bd3786"
             ],
             [
              0.5555555555555556,
              "#d8576b"
             ],
             [
              0.6666666666666666,
              "#ed7953"
             ],
             [
              0.7777777777777778,
              "#fb9f3a"
             ],
             [
              0.8888888888888888,
              "#fdca26"
             ],
             [
              1,
              "#f0f921"
             ]
            ],
            "type": "heatmap"
           }
          ],
          "heatmapgl": [
           {
            "colorbar": {
             "outlinewidth": 0,
             "ticks": ""
            },
            "colorscale": [
             [
              0,
              "#0d0887"
             ],
             [
              0.1111111111111111,
              "#46039f"
             ],
             [
              0.2222222222222222,
              "#7201a8"
             ],
             [
              0.3333333333333333,
              "#9c179e"
             ],
             [
              0.4444444444444444,
              "#bd3786"
             ],
             [
              0.5555555555555556,
              "#d8576b"
             ],
             [
              0.6666666666666666,
              "#ed7953"
             ],
             [
              0.7777777777777778,
              "#fb9f3a"
             ],
             [
              0.8888888888888888,
              "#fdca26"
             ],
             [
              1,
              "#f0f921"
             ]
            ],
            "type": "heatmapgl"
           }
          ],
          "histogram": [
           {
            "marker": {
             "colorbar": {
              "outlinewidth": 0,
              "ticks": ""
             }
            },
            "type": "histogram"
           }
          ],
          "histogram2d": [
           {
            "colorbar": {
             "outlinewidth": 0,
             "ticks": ""
            },
            "colorscale": [
             [
              0,
              "#0d0887"
             ],
             [
              0.1111111111111111,
              "#46039f"
             ],
             [
              0.2222222222222222,
              "#7201a8"
             ],
             [
              0.3333333333333333,
              "#9c179e"
             ],
             [
              0.4444444444444444,
              "#bd3786"
             ],
             [
              0.5555555555555556,
              "#d8576b"
             ],
             [
              0.6666666666666666,
              "#ed7953"
             ],
             [
              0.7777777777777778,
              "#fb9f3a"
             ],
             [
              0.8888888888888888,
              "#fdca26"
             ],
             [
              1,
              "#f0f921"
             ]
            ],
            "type": "histogram2d"
           }
          ],
          "histogram2dcontour": [
           {
            "colorbar": {
             "outlinewidth": 0,
             "ticks": ""
            },
            "colorscale": [
             [
              0,
              "#0d0887"
             ],
             [
              0.1111111111111111,
              "#46039f"
             ],
             [
              0.2222222222222222,
              "#7201a8"
             ],
             [
              0.3333333333333333,
              "#9c179e"
             ],
             [
              0.4444444444444444,
              "#bd3786"
             ],
             [
              0.5555555555555556,
              "#d8576b"
             ],
             [
              0.6666666666666666,
              "#ed7953"
             ],
             [
              0.7777777777777778,
              "#fb9f3a"
             ],
             [
              0.8888888888888888,
              "#fdca26"
             ],
             [
              1,
              "#f0f921"
             ]
            ],
            "type": "histogram2dcontour"
           }
          ],
          "mesh3d": [
           {
            "colorbar": {
             "outlinewidth": 0,
             "ticks": ""
            },
            "type": "mesh3d"
           }
          ],
          "parcoords": [
           {
            "line": {
             "colorbar": {
              "outlinewidth": 0,
              "ticks": ""
             }
            },
            "type": "parcoords"
           }
          ],
          "pie": [
           {
            "automargin": true,
            "type": "pie"
           }
          ],
          "scatter": [
           {
            "marker": {
             "colorbar": {
              "outlinewidth": 0,
              "ticks": ""
             }
            },
            "type": "scatter"
           }
          ],
          "scatter3d": [
           {
            "line": {
             "colorbar": {
              "outlinewidth": 0,
              "ticks": ""
             }
            },
            "marker": {
             "colorbar": {
              "outlinewidth": 0,
              "ticks": ""
             }
            },
            "type": "scatter3d"
           }
          ],
          "scattercarpet": [
           {
            "marker": {
             "colorbar": {
              "outlinewidth": 0,
              "ticks": ""
             }
            },
            "type": "scattercarpet"
           }
          ],
          "scattergeo": [
           {
            "marker": {
             "colorbar": {
              "outlinewidth": 0,
              "ticks": ""
             }
            },
            "type": "scattergeo"
           }
          ],
          "scattergl": [
           {
            "marker": {
             "colorbar": {
              "outlinewidth": 0,
              "ticks": ""
             }
            },
            "type": "scattergl"
           }
          ],
          "scattermapbox": [
           {
            "marker": {
             "colorbar": {
              "outlinewidth": 0,
              "ticks": ""
             }
            },
            "type": "scattermapbox"
           }
          ],
          "scatterpolar": [
           {
            "marker": {
             "colorbar": {
              "outlinewidth": 0,
              "ticks": ""
             }
            },
            "type": "scatterpolar"
           }
          ],
          "scatterpolargl": [
           {
            "marker": {
             "colorbar": {
              "outlinewidth": 0,
              "ticks": ""
             }
            },
            "type": "scatterpolargl"
           }
          ],
          "scatterternary": [
           {
            "marker": {
             "colorbar": {
              "outlinewidth": 0,
              "ticks": ""
             }
            },
            "type": "scatterternary"
           }
          ],
          "surface": [
           {
            "colorbar": {
             "outlinewidth": 0,
             "ticks": ""
            },
            "colorscale": [
             [
              0,
              "#0d0887"
             ],
             [
              0.1111111111111111,
              "#46039f"
             ],
             [
              0.2222222222222222,
              "#7201a8"
             ],
             [
              0.3333333333333333,
              "#9c179e"
             ],
             [
              0.4444444444444444,
              "#bd3786"
             ],
             [
              0.5555555555555556,
              "#d8576b"
             ],
             [
              0.6666666666666666,
              "#ed7953"
             ],
             [
              0.7777777777777778,
              "#fb9f3a"
             ],
             [
              0.8888888888888888,
              "#fdca26"
             ],
             [
              1,
              "#f0f921"
             ]
            ],
            "type": "surface"
           }
          ],
          "table": [
           {
            "cells": {
             "fill": {
              "color": "#EBF0F8"
             },
             "line": {
              "color": "white"
             }
            },
            "header": {
             "fill": {
              "color": "#C8D4E3"
             },
             "line": {
              "color": "white"
             }
            },
            "type": "table"
           }
          ]
         },
         "layout": {
          "annotationdefaults": {
           "arrowcolor": "#2a3f5f",
           "arrowhead": 0,
           "arrowwidth": 1
          },
          "coloraxis": {
           "colorbar": {
            "outlinewidth": 0,
            "ticks": ""
           }
          },
          "colorscale": {
           "diverging": [
            [
             0,
             "#8e0152"
            ],
            [
             0.1,
             "#c51b7d"
            ],
            [
             0.2,
             "#de77ae"
            ],
            [
             0.3,
             "#f1b6da"
            ],
            [
             0.4,
             "#fde0ef"
            ],
            [
             0.5,
             "#f7f7f7"
            ],
            [
             0.6,
             "#e6f5d0"
            ],
            [
             0.7,
             "#b8e186"
            ],
            [
             0.8,
             "#7fbc41"
            ],
            [
             0.9,
             "#4d9221"
            ],
            [
             1,
             "#276419"
            ]
           ],
           "sequential": [
            [
             0,
             "#0d0887"
            ],
            [
             0.1111111111111111,
             "#46039f"
            ],
            [
             0.2222222222222222,
             "#7201a8"
            ],
            [
             0.3333333333333333,
             "#9c179e"
            ],
            [
             0.4444444444444444,
             "#bd3786"
            ],
            [
             0.5555555555555556,
             "#d8576b"
            ],
            [
             0.6666666666666666,
             "#ed7953"
            ],
            [
             0.7777777777777778,
             "#fb9f3a"
            ],
            [
             0.8888888888888888,
             "#fdca26"
            ],
            [
             1,
             "#f0f921"
            ]
           ],
           "sequentialminus": [
            [
             0,
             "#0d0887"
            ],
            [
             0.1111111111111111,
             "#46039f"
            ],
            [
             0.2222222222222222,
             "#7201a8"
            ],
            [
             0.3333333333333333,
             "#9c179e"
            ],
            [
             0.4444444444444444,
             "#bd3786"
            ],
            [
             0.5555555555555556,
             "#d8576b"
            ],
            [
             0.6666666666666666,
             "#ed7953"
            ],
            [
             0.7777777777777778,
             "#fb9f3a"
            ],
            [
             0.8888888888888888,
             "#fdca26"
            ],
            [
             1,
             "#f0f921"
            ]
           ]
          },
          "colorway": [
           "#636efa",
           "#EF553B",
           "#00cc96",
           "#ab63fa",
           "#FFA15A",
           "#19d3f3",
           "#FF6692",
           "#B6E880",
           "#FF97FF",
           "#FECB52"
          ],
          "font": {
           "color": "#2a3f5f"
          },
          "geo": {
           "bgcolor": "white",
           "lakecolor": "white",
           "landcolor": "#E5ECF6",
           "showlakes": true,
           "showland": true,
           "subunitcolor": "white"
          },
          "hoverlabel": {
           "align": "left"
          },
          "hovermode": "closest",
          "mapbox": {
           "style": "light"
          },
          "paper_bgcolor": "white",
          "plot_bgcolor": "#E5ECF6",
          "polar": {
           "angularaxis": {
            "gridcolor": "white",
            "linecolor": "white",
            "ticks": ""
           },
           "bgcolor": "#E5ECF6",
           "radialaxis": {
            "gridcolor": "white",
            "linecolor": "white",
            "ticks": ""
           }
          },
          "scene": {
           "xaxis": {
            "backgroundcolor": "#E5ECF6",
            "gridcolor": "white",
            "gridwidth": 2,
            "linecolor": "white",
            "showbackground": true,
            "ticks": "",
            "zerolinecolor": "white"
           },
           "yaxis": {
            "backgroundcolor": "#E5ECF6",
            "gridcolor": "white",
            "gridwidth": 2,
            "linecolor": "white",
            "showbackground": true,
            "ticks": "",
            "zerolinecolor": "white"
           },
           "zaxis": {
            "backgroundcolor": "#E5ECF6",
            "gridcolor": "white",
            "gridwidth": 2,
            "linecolor": "white",
            "showbackground": true,
            "ticks": "",
            "zerolinecolor": "white"
           }
          },
          "shapedefaults": {
           "line": {
            "color": "#2a3f5f"
           }
          },
          "ternary": {
           "aaxis": {
            "gridcolor": "white",
            "linecolor": "white",
            "ticks": ""
           },
           "baxis": {
            "gridcolor": "white",
            "linecolor": "white",
            "ticks": ""
           },
           "bgcolor": "#E5ECF6",
           "caxis": {
            "gridcolor": "white",
            "linecolor": "white",
            "ticks": ""
           }
          },
          "title": {
           "x": 0.05
          },
          "xaxis": {
           "automargin": true,
           "gridcolor": "white",
           "linecolor": "white",
           "ticks": "",
           "title": {
            "standoff": 15
           },
           "zerolinecolor": "white",
           "zerolinewidth": 2
          },
          "yaxis": {
           "automargin": true,
           "gridcolor": "white",
           "linecolor": "white",
           "ticks": "",
           "title": {
            "standoff": 15
           },
           "zerolinecolor": "white",
           "zerolinewidth": 2
          }
         }
        },
        "title": {
         "font": {
          "color": "#4D5663"
         },
         "text": "Precision/Recall Tradeoff for label: 0"
        },
        "xaxis": {
         "gridcolor": "#E1E5ED",
         "showgrid": true,
         "tickfont": {
          "color": "#4D5663"
         },
         "title": {
          "font": {
           "color": "#4D5663"
          },
          "text": "Decision Threshold"
         },
         "zerolinecolor": "#E1E5ED"
        },
        "yaxis": {
         "gridcolor": "#E1E5ED",
         "showgrid": true,
         "tickfont": {
          "color": "#4D5663"
         },
         "title": {
          "font": {
           "color": "#4D5663"
          },
          "text": "Score"
         },
         "zerolinecolor": "#E1E5ED"
        }
       }
      },
      "text/html": [
       "<div>\n",
       "        \n",
       "        \n",
       "            <div id=\"712bfc40-6736-446c-ba75-33948884f627\" class=\"plotly-graph-div\" style=\"height:525px; width:100%;\"></div>\n",
       "            <script type=\"text/javascript\">\n",
       "                require([\"plotly\"], function(Plotly) {\n",
       "                    window.PLOTLYENV=window.PLOTLYENV || {};\n",
       "                    window.PLOTLYENV.BASE_URL='https://plot.ly';\n",
       "                    \n",
       "                if (document.getElementById(\"712bfc40-6736-446c-ba75-33948884f627\")) {\n",
       "                    Plotly.newPlot(\n",
       "                        '712bfc40-6736-446c-ba75-33948884f627',\n",
       "                        [{\"line\": {\"color\": \"rgba(255, 153, 51, 1.0)\", \"dash\": \"solid\", \"shape\": \"linear\", \"width\": 1.3}, \"mode\": \"lines\", \"name\": \"Precision\", \"text\": \"\", \"type\": \"scatter\", \"x\": [0.07, 0.08, 0.09, 0.1, 0.11, 0.12, 0.13, 0.14, 0.15, 0.16, 0.17, 0.18, 0.22, 0.24, 0.33, 0.36, 0.39, 0.41, 0.42, 0.43, 0.44, 0.45, 0.47, 0.48, 0.5, 0.51, 0.52, 0.53, 0.54, 0.55, 0.56, 0.57, 0.58, 0.59, 0.6, 0.61, 0.62, 0.63, 0.64, 0.65, 0.66, 0.67, 0.68, 0.69, 0.7, 0.71, 0.72, 0.73, 0.74, 0.75, 0.76, 0.77, 0.78, 0.79, 0.8, 0.81, 0.82, 0.83, 0.84, 0.85, 0.86, 0.87, 0.88, 0.89, 0.9, 0.91, 0.92, 0.93, 0.94, 0.95, 0.96, 0.97, 0.98, 0.99, null], \"y\": [0.9719251336898396, 0.9731903485254692, 0.9771197846567967, 0.9784366576819407, 0.979757085020243, 0.9824086603518268, 0.9837177747625508, 0.9863760217983651, 0.9890710382513661, 0.9904240766073872, 0.9931318681318682, 0.9944979367262724, 0.9958677685950413, 0.9958620689655172, 0.9958563535911602, 0.995850622406639, 0.9958448753462604, 0.9972260748959778, 0.9972222222222222, 0.9972183588317107, 0.9972144846796658, 0.9972027972027973, 0.9985974754558204, 0.9985915492957746, 0.998587570621469, 0.9985815602836879, 0.9985795454545454, 0.9985734664764622, 0.9985611510791367, 0.9985569985569985, 0.998546511627907, 0.9985294117647059, 0.9985228951255539, 0.9985141158989599, 0.9984984984984985, 0.9984802431610942, 0.9984709480122325, 0.9984591679506933, 0.9984520123839009, 0.9984399375975039, 0.9984126984126984, 0.9983974358974359, 0.9983922829581994, 0.9983792544570502, 0.9983633387888707, 0.9983443708609272, 0.9983221476510067, 0.9983050847457627, 0.9982668977469671, 0.9982300884955753, 0.9981785063752276, 1.0, 1.0, 1.0, 1.0, 1.0, 1.0, 1.0, 1.0, 1.0, 1.0, 1.0, 1.0, 1.0, 1.0, 1.0, 1.0, 1.0, 1.0, 1.0, 1.0, 1.0, 1.0, 1.0, 1.0]}, {\"line\": {\"color\": \"rgba(55, 128, 191, 1.0)\", \"dash\": \"solid\", \"shape\": \"linear\", \"width\": 1.3}, \"mode\": \"lines\", \"name\": \"Recall\", \"text\": \"\", \"type\": \"scatter\", \"x\": [0.07, 0.08, 0.09, 0.1, 0.11, 0.12, 0.13, 0.14, 0.15, 0.16, 0.17, 0.18, 0.22, 0.24, 0.33, 0.36, 0.39, 0.41, 0.42, 0.43, 0.44, 0.45, 0.47, 0.48, 0.5, 0.51, 0.52, 0.53, 0.54, 0.55, 0.56, 0.57, 0.58, 0.59, 0.6, 0.61, 0.62, 0.63, 0.64, 0.65, 0.66, 0.67, 0.68, 0.69, 0.7, 0.71, 0.72, 0.73, 0.74, 0.75, 0.76, 0.77, 0.78, 0.79, 0.8, 0.81, 0.82, 0.83, 0.84, 0.85, 0.86, 0.87, 0.88, 0.89, 0.9, 0.91, 0.92, 0.93, 0.94, 0.95, 0.96, 0.97, 0.98, 0.99, null], \"y\": [1.0, 0.9986244841815681, 0.9986244841815681, 0.9986244841815681, 0.9986244841815681, 0.9986244841815681, 0.9972489683631361, 0.9958734525447043, 0.9958734525447043, 0.9958734525447043, 0.9944979367262724, 0.9944979367262724, 0.9944979367262724, 0.9931224209078404, 0.9917469050894085, 0.9903713892709766, 0.9889958734525447, 0.9889958734525447, 0.9876203576341128, 0.9862448418156808, 0.984869325997249, 0.9807427785419532, 0.9793672627235214, 0.9752407152682255, 0.9724896836313618, 0.9683631361760661, 0.9669876203576341, 0.9628610729023384, 0.9546079779917469, 0.951856946354883, 0.9449793672627235, 0.9339752407152683, 0.9298486932599724, 0.9243466299862448, 0.9147180192572214, 0.9037138927097662, 0.8982118294360385, 0.8913342503438789, 0.8872077028885832, 0.8803301237964236, 0.8651994497936726, 0.8569463548830811, 0.8541953232462174, 0.8473177441540578, 0.8390646492434664, 0.8294360385144429, 0.8184319119669876, 0.8101788170563962, 0.7922971114167813, 0.7757909215955984, 0.7537826685006878, 0.7359009628610729, 0.7180192572214581, 0.6905089408528198, 0.6616231086657497, 0.6286107290233838, 0.5928473177441541, 0.5598349381017882, 0.5281980742778541, 0.4786795048143054, 0.4346629986244842, 0.3988995873452545, 0.3535075653370014, 0.2984869325997249, 0.265474552957359, 0.2077028885832187, 0.16368638239339753, 0.11966987620357634, 0.0811554332874828, 0.0577716643741403, 0.037138927097661624, 0.02063273727647868, 0.0068775790921595595, 0.0041265474552957355, 0.0]}],\n",
       "                        {\"legend\": {\"bgcolor\": \"#F5F6F9\", \"font\": {\"color\": \"#4D5663\"}}, \"paper_bgcolor\": \"#F5F6F9\", \"plot_bgcolor\": \"#F5F6F9\", \"template\": {\"data\": {\"bar\": [{\"error_x\": {\"color\": \"#2a3f5f\"}, \"error_y\": {\"color\": \"#2a3f5f\"}, \"marker\": {\"line\": {\"color\": \"#E5ECF6\", \"width\": 0.5}}, \"type\": \"bar\"}], \"barpolar\": [{\"marker\": {\"line\": {\"color\": \"#E5ECF6\", \"width\": 0.5}}, \"type\": \"barpolar\"}], \"carpet\": [{\"aaxis\": {\"endlinecolor\": \"#2a3f5f\", \"gridcolor\": \"white\", \"linecolor\": \"white\", \"minorgridcolor\": \"white\", \"startlinecolor\": \"#2a3f5f\"}, \"baxis\": {\"endlinecolor\": \"#2a3f5f\", \"gridcolor\": \"white\", \"linecolor\": \"white\", \"minorgridcolor\": \"white\", \"startlinecolor\": \"#2a3f5f\"}, \"type\": \"carpet\"}], \"choropleth\": [{\"colorbar\": {\"outlinewidth\": 0, \"ticks\": \"\"}, \"type\": \"choropleth\"}], \"contour\": [{\"colorbar\": {\"outlinewidth\": 0, \"ticks\": \"\"}, \"colorscale\": [[0.0, \"#0d0887\"], [0.1111111111111111, \"#46039f\"], [0.2222222222222222, \"#7201a8\"], [0.3333333333333333, \"#9c179e\"], [0.4444444444444444, \"#bd3786\"], [0.5555555555555556, \"#d8576b\"], [0.6666666666666666, \"#ed7953\"], [0.7777777777777778, \"#fb9f3a\"], [0.8888888888888888, \"#fdca26\"], [1.0, \"#f0f921\"]], \"type\": \"contour\"}], \"contourcarpet\": [{\"colorbar\": {\"outlinewidth\": 0, \"ticks\": \"\"}, \"type\": \"contourcarpet\"}], \"heatmap\": [{\"colorbar\": {\"outlinewidth\": 0, \"ticks\": \"\"}, \"colorscale\": [[0.0, \"#0d0887\"], [0.1111111111111111, \"#46039f\"], [0.2222222222222222, \"#7201a8\"], [0.3333333333333333, \"#9c179e\"], [0.4444444444444444, \"#bd3786\"], [0.5555555555555556, \"#d8576b\"], [0.6666666666666666, \"#ed7953\"], [0.7777777777777778, \"#fb9f3a\"], [0.8888888888888888, \"#fdca26\"], [1.0, \"#f0f921\"]], \"type\": \"heatmap\"}], \"heatmapgl\": [{\"colorbar\": {\"outlinewidth\": 0, \"ticks\": \"\"}, \"colorscale\": [[0.0, \"#0d0887\"], [0.1111111111111111, \"#46039f\"], [0.2222222222222222, \"#7201a8\"], [0.3333333333333333, \"#9c179e\"], [0.4444444444444444, \"#bd3786\"], [0.5555555555555556, \"#d8576b\"], [0.6666666666666666, \"#ed7953\"], [0.7777777777777778, \"#fb9f3a\"], [0.8888888888888888, \"#fdca26\"], [1.0, \"#f0f921\"]], \"type\": \"heatmapgl\"}], \"histogram\": [{\"marker\": {\"colorbar\": {\"outlinewidth\": 0, \"ticks\": \"\"}}, \"type\": \"histogram\"}], \"histogram2d\": [{\"colorbar\": {\"outlinewidth\": 0, \"ticks\": \"\"}, \"colorscale\": [[0.0, \"#0d0887\"], [0.1111111111111111, \"#46039f\"], [0.2222222222222222, \"#7201a8\"], [0.3333333333333333, \"#9c179e\"], [0.4444444444444444, \"#bd3786\"], [0.5555555555555556, \"#d8576b\"], [0.6666666666666666, \"#ed7953\"], [0.7777777777777778, \"#fb9f3a\"], [0.8888888888888888, \"#fdca26\"], [1.0, \"#f0f921\"]], \"type\": \"histogram2d\"}], \"histogram2dcontour\": [{\"colorbar\": {\"outlinewidth\": 0, \"ticks\": \"\"}, \"colorscale\": [[0.0, \"#0d0887\"], [0.1111111111111111, \"#46039f\"], [0.2222222222222222, \"#7201a8\"], [0.3333333333333333, \"#9c179e\"], [0.4444444444444444, \"#bd3786\"], [0.5555555555555556, \"#d8576b\"], [0.6666666666666666, \"#ed7953\"], [0.7777777777777778, \"#fb9f3a\"], [0.8888888888888888, \"#fdca26\"], [1.0, \"#f0f921\"]], \"type\": \"histogram2dcontour\"}], \"mesh3d\": [{\"colorbar\": {\"outlinewidth\": 0, \"ticks\": \"\"}, \"type\": \"mesh3d\"}], \"parcoords\": [{\"line\": {\"colorbar\": {\"outlinewidth\": 0, \"ticks\": \"\"}}, \"type\": \"parcoords\"}], \"pie\": [{\"automargin\": true, \"type\": \"pie\"}], \"scatter\": [{\"marker\": {\"colorbar\": {\"outlinewidth\": 0, \"ticks\": \"\"}}, \"type\": \"scatter\"}], \"scatter3d\": [{\"line\": {\"colorbar\": {\"outlinewidth\": 0, \"ticks\": \"\"}}, \"marker\": {\"colorbar\": {\"outlinewidth\": 0, \"ticks\": \"\"}}, \"type\": \"scatter3d\"}], \"scattercarpet\": [{\"marker\": {\"colorbar\": {\"outlinewidth\": 0, \"ticks\": \"\"}}, \"type\": \"scattercarpet\"}], \"scattergeo\": [{\"marker\": {\"colorbar\": {\"outlinewidth\": 0, \"ticks\": \"\"}}, \"type\": \"scattergeo\"}], \"scattergl\": [{\"marker\": {\"colorbar\": {\"outlinewidth\": 0, \"ticks\": \"\"}}, \"type\": \"scattergl\"}], \"scattermapbox\": [{\"marker\": {\"colorbar\": {\"outlinewidth\": 0, \"ticks\": \"\"}}, \"type\": \"scattermapbox\"}], \"scatterpolar\": [{\"marker\": {\"colorbar\": {\"outlinewidth\": 0, \"ticks\": \"\"}}, \"type\": \"scatterpolar\"}], \"scatterpolargl\": [{\"marker\": {\"colorbar\": {\"outlinewidth\": 0, \"ticks\": \"\"}}, \"type\": \"scatterpolargl\"}], \"scatterternary\": [{\"marker\": {\"colorbar\": {\"outlinewidth\": 0, \"ticks\": \"\"}}, \"type\": \"scatterternary\"}], \"surface\": [{\"colorbar\": {\"outlinewidth\": 0, \"ticks\": \"\"}, \"colorscale\": [[0.0, \"#0d0887\"], [0.1111111111111111, \"#46039f\"], [0.2222222222222222, \"#7201a8\"], [0.3333333333333333, \"#9c179e\"], [0.4444444444444444, \"#bd3786\"], [0.5555555555555556, \"#d8576b\"], [0.6666666666666666, \"#ed7953\"], [0.7777777777777778, \"#fb9f3a\"], [0.8888888888888888, \"#fdca26\"], [1.0, \"#f0f921\"]], \"type\": \"surface\"}], \"table\": [{\"cells\": {\"fill\": {\"color\": \"#EBF0F8\"}, \"line\": {\"color\": \"white\"}}, \"header\": {\"fill\": {\"color\": \"#C8D4E3\"}, \"line\": {\"color\": \"white\"}}, \"type\": \"table\"}]}, \"layout\": {\"annotationdefaults\": {\"arrowcolor\": \"#2a3f5f\", \"arrowhead\": 0, \"arrowwidth\": 1}, \"coloraxis\": {\"colorbar\": {\"outlinewidth\": 0, \"ticks\": \"\"}}, \"colorscale\": {\"diverging\": [[0, \"#8e0152\"], [0.1, \"#c51b7d\"], [0.2, \"#de77ae\"], [0.3, \"#f1b6da\"], [0.4, \"#fde0ef\"], [0.5, \"#f7f7f7\"], [0.6, \"#e6f5d0\"], [0.7, \"#b8e186\"], [0.8, \"#7fbc41\"], [0.9, \"#4d9221\"], [1, \"#276419\"]], \"sequential\": [[0.0, \"#0d0887\"], [0.1111111111111111, \"#46039f\"], [0.2222222222222222, \"#7201a8\"], [0.3333333333333333, \"#9c179e\"], [0.4444444444444444, \"#bd3786\"], [0.5555555555555556, \"#d8576b\"], [0.6666666666666666, \"#ed7953\"], [0.7777777777777778, \"#fb9f3a\"], [0.8888888888888888, \"#fdca26\"], [1.0, \"#f0f921\"]], \"sequentialminus\": [[0.0, \"#0d0887\"], [0.1111111111111111, \"#46039f\"], [0.2222222222222222, \"#7201a8\"], [0.3333333333333333, \"#9c179e\"], [0.4444444444444444, \"#bd3786\"], [0.5555555555555556, \"#d8576b\"], [0.6666666666666666, \"#ed7953\"], [0.7777777777777778, \"#fb9f3a\"], [0.8888888888888888, \"#fdca26\"], [1.0, \"#f0f921\"]]}, \"colorway\": [\"#636efa\", \"#EF553B\", \"#00cc96\", \"#ab63fa\", \"#FFA15A\", \"#19d3f3\", \"#FF6692\", \"#B6E880\", \"#FF97FF\", \"#FECB52\"], \"font\": {\"color\": \"#2a3f5f\"}, \"geo\": {\"bgcolor\": \"white\", \"lakecolor\": \"white\", \"landcolor\": \"#E5ECF6\", \"showlakes\": true, \"showland\": true, \"subunitcolor\": \"white\"}, \"hoverlabel\": {\"align\": \"left\"}, \"hovermode\": \"closest\", \"mapbox\": {\"style\": \"light\"}, \"paper_bgcolor\": \"white\", \"plot_bgcolor\": \"#E5ECF6\", \"polar\": {\"angularaxis\": {\"gridcolor\": \"white\", \"linecolor\": \"white\", \"ticks\": \"\"}, \"bgcolor\": \"#E5ECF6\", \"radialaxis\": {\"gridcolor\": \"white\", \"linecolor\": \"white\", \"ticks\": \"\"}}, \"scene\": {\"xaxis\": {\"backgroundcolor\": \"#E5ECF6\", \"gridcolor\": \"white\", \"gridwidth\": 2, \"linecolor\": \"white\", \"showbackground\": true, \"ticks\": \"\", \"zerolinecolor\": \"white\"}, \"yaxis\": {\"backgroundcolor\": \"#E5ECF6\", \"gridcolor\": \"white\", \"gridwidth\": 2, \"linecolor\": \"white\", \"showbackground\": true, \"ticks\": \"\", \"zerolinecolor\": \"white\"}, \"zaxis\": {\"backgroundcolor\": \"#E5ECF6\", \"gridcolor\": \"white\", \"gridwidth\": 2, \"linecolor\": \"white\", \"showbackground\": true, \"ticks\": \"\", \"zerolinecolor\": \"white\"}}, \"shapedefaults\": {\"line\": {\"color\": \"#2a3f5f\"}}, \"ternary\": {\"aaxis\": {\"gridcolor\": \"white\", \"linecolor\": \"white\", \"ticks\": \"\"}, \"baxis\": {\"gridcolor\": \"white\", \"linecolor\": \"white\", \"ticks\": \"\"}, \"bgcolor\": \"#E5ECF6\", \"caxis\": {\"gridcolor\": \"white\", \"linecolor\": \"white\", \"ticks\": \"\"}}, \"title\": {\"x\": 0.05}, \"xaxis\": {\"automargin\": true, \"gridcolor\": \"white\", \"linecolor\": \"white\", \"ticks\": \"\", \"title\": {\"standoff\": 15}, \"zerolinecolor\": \"white\", \"zerolinewidth\": 2}, \"yaxis\": {\"automargin\": true, \"gridcolor\": \"white\", \"linecolor\": \"white\", \"ticks\": \"\", \"title\": {\"standoff\": 15}, \"zerolinecolor\": \"white\", \"zerolinewidth\": 2}}}, \"title\": {\"font\": {\"color\": \"#4D5663\"}, \"text\": \"Precision/Recall Tradeoff for label: 0\"}, \"xaxis\": {\"gridcolor\": \"#E1E5ED\", \"showgrid\": true, \"tickfont\": {\"color\": \"#4D5663\"}, \"title\": {\"font\": {\"color\": \"#4D5663\"}, \"text\": \"Decision Threshold\"}, \"zerolinecolor\": \"#E1E5ED\"}, \"yaxis\": {\"gridcolor\": \"#E1E5ED\", \"showgrid\": true, \"tickfont\": {\"color\": \"#4D5663\"}, \"title\": {\"font\": {\"color\": \"#4D5663\"}, \"text\": \"Score\"}, \"zerolinecolor\": \"#E1E5ED\"}},\n",
       "                        {\"showLink\": true, \"linkText\": \"Export to plot.ly\", \"plotlyServerURL\": \"https://plot.ly\", \"responsive\": true}\n",
       "                    ).then(function(){\n",
       "                            \n",
       "var gd = document.getElementById('712bfc40-6736-446c-ba75-33948884f627');\n",
       "var x = new MutationObserver(function (mutations, observer) {{\n",
       "        var display = window.getComputedStyle(gd).display;\n",
       "        if (!display || display === 'none') {{\n",
       "            console.log([gd, 'removed!']);\n",
       "            Plotly.purge(gd);\n",
       "            observer.disconnect();\n",
       "        }}\n",
       "}});\n",
       "\n",
       "// Listen for the removal of the full notebook cells\n",
       "var notebookContainer = gd.closest('#notebook-container');\n",
       "if (notebookContainer) {{\n",
       "    x.observe(notebookContainer, {childList: true});\n",
       "}}\n",
       "\n",
       "// Listen for the clearing of the current output cell\n",
       "var outputEl = gd.closest('.output');\n",
       "if (outputEl) {{\n",
       "    x.observe(outputEl, {childList: true});\n",
       "}}\n",
       "\n",
       "                        })\n",
       "                };\n",
       "                });\n",
       "            </script>\n",
       "        </div>"
      ]
     },
     "metadata": {},
     "output_type": "display_data"
    },
    {
     "data": {
      "application/vnd.plotly.v1+json": {
       "config": {
        "linkText": "Export to plot.ly",
        "plotlyServerURL": "https://plot.ly",
        "showLink": true
       },
       "data": [
        {
         "line": {
          "color": "rgba(255, 153, 51, 1.0)",
          "dash": "solid",
          "shape": "linear",
          "width": 1.3
         },
         "mode": "lines",
         "name": "Precision",
         "text": "",
         "type": "scatter",
         "x": [
          0.15,
          0.16,
          0.17,
          0.18,
          0.19,
          0.2,
          0.21,
          0.22,
          0.23,
          0.24,
          0.25,
          0.26,
          0.27,
          0.28,
          0.29,
          0.3,
          0.31,
          0.32,
          0.33,
          0.34,
          0.35,
          0.38,
          0.43,
          0.44,
          0.47,
          0.49,
          0.5,
          0.52,
          0.54,
          0.55,
          0.6,
          0.61,
          0.63,
          0.64,
          0.68,
          0.69,
          0.7,
          0.72,
          0.73,
          0.76,
          0.77,
          0.78,
          0.79,
          0.8,
          0.81,
          0.82,
          0.83,
          0.84,
          0.85,
          0.87,
          0.88,
          0.9,
          0.94,
          null
         ],
         "y": [
          0.22727272727272727,
          0.23671497584541062,
          0.2552083333333333,
          0.28,
          0.30625,
          0.32450331125827814,
          0.3582089552238806,
          0.38524590163934425,
          0.41228070175438597,
          0.4563106796116505,
          0.48936170212765956,
          0.5287356321839081,
          0.5625,
          0.5769230769230769,
          0.6617647058823529,
          0.6716417910447762,
          0.703125,
          0.7258064516129032,
          0.7627118644067796,
          0.7758620689655172,
          0.8333333333333334,
          0.8653846153846154,
          0.8627450980392157,
          0.88,
          0.8775510204081632,
          0.8958333333333334,
          0.8936170212765957,
          0.9111111111111111,
          0.9534883720930233,
          0.9512195121951219,
          0.9743589743589743,
          0.9736842105263158,
          0.972972972972973,
          0.9714285714285714,
          0.9696969696969697,
          0.96875,
          0.967741935483871,
          0.9666666666666667,
          1,
          1,
          1,
          1,
          1,
          1,
          1,
          1,
          1,
          1,
          1,
          1,
          1,
          1,
          1,
          1
         ]
        },
        {
         "line": {
          "color": "rgba(55, 128, 191, 1.0)",
          "dash": "solid",
          "shape": "linear",
          "width": 1.3
         },
         "mode": "lines",
         "name": "Recall",
         "text": "",
         "type": "scatter",
         "x": [
          0.15,
          0.16,
          0.17,
          0.18,
          0.19,
          0.2,
          0.21,
          0.22,
          0.23,
          0.24,
          0.25,
          0.26,
          0.27,
          0.28,
          0.29,
          0.3,
          0.31,
          0.32,
          0.33,
          0.34,
          0.35,
          0.38,
          0.43,
          0.44,
          0.47,
          0.49,
          0.5,
          0.52,
          0.54,
          0.55,
          0.6,
          0.61,
          0.63,
          0.64,
          0.68,
          0.69,
          0.7,
          0.72,
          0.73,
          0.76,
          0.77,
          0.78,
          0.79,
          0.8,
          0.81,
          0.82,
          0.83,
          0.84,
          0.85,
          0.87,
          0.88,
          0.9,
          0.94,
          null
         ],
         "y": [
          1,
          0.98,
          0.98,
          0.98,
          0.98,
          0.98,
          0.96,
          0.94,
          0.94,
          0.94,
          0.92,
          0.92,
          0.9,
          0.9,
          0.9,
          0.9,
          0.9,
          0.9,
          0.9,
          0.9,
          0.9,
          0.9,
          0.88,
          0.88,
          0.86,
          0.86,
          0.84,
          0.82,
          0.82,
          0.78,
          0.76,
          0.74,
          0.72,
          0.68,
          0.64,
          0.62,
          0.6,
          0.58,
          0.56,
          0.54,
          0.52,
          0.5,
          0.48,
          0.38,
          0.36,
          0.32,
          0.3,
          0.22,
          0.2,
          0.18,
          0.08,
          0.06,
          0.04,
          0
         ]
        }
       ],
       "layout": {
        "legend": {
         "bgcolor": "#F5F6F9",
         "font": {
          "color": "#4D5663"
         }
        },
        "paper_bgcolor": "#F5F6F9",
        "plot_bgcolor": "#F5F6F9",
        "template": {
         "data": {
          "bar": [
           {
            "error_x": {
             "color": "#2a3f5f"
            },
            "error_y": {
             "color": "#2a3f5f"
            },
            "marker": {
             "line": {
              "color": "#E5ECF6",
              "width": 0.5
             }
            },
            "type": "bar"
           }
          ],
          "barpolar": [
           {
            "marker": {
             "line": {
              "color": "#E5ECF6",
              "width": 0.5
             }
            },
            "type": "barpolar"
           }
          ],
          "carpet": [
           {
            "aaxis": {
             "endlinecolor": "#2a3f5f",
             "gridcolor": "white",
             "linecolor": "white",
             "minorgridcolor": "white",
             "startlinecolor": "#2a3f5f"
            },
            "baxis": {
             "endlinecolor": "#2a3f5f",
             "gridcolor": "white",
             "linecolor": "white",
             "minorgridcolor": "white",
             "startlinecolor": "#2a3f5f"
            },
            "type": "carpet"
           }
          ],
          "choropleth": [
           {
            "colorbar": {
             "outlinewidth": 0,
             "ticks": ""
            },
            "type": "choropleth"
           }
          ],
          "contour": [
           {
            "colorbar": {
             "outlinewidth": 0,
             "ticks": ""
            },
            "colorscale": [
             [
              0,
              "#0d0887"
             ],
             [
              0.1111111111111111,
              "#46039f"
             ],
             [
              0.2222222222222222,
              "#7201a8"
             ],
             [
              0.3333333333333333,
              "#9c179e"
             ],
             [
              0.4444444444444444,
              "#bd3786"
             ],
             [
              0.5555555555555556,
              "#d8576b"
             ],
             [
              0.6666666666666666,
              "#ed7953"
             ],
             [
              0.7777777777777778,
              "#fb9f3a"
             ],
             [
              0.8888888888888888,
              "#fdca26"
             ],
             [
              1,
              "#f0f921"
             ]
            ],
            "type": "contour"
           }
          ],
          "contourcarpet": [
           {
            "colorbar": {
             "outlinewidth": 0,
             "ticks": ""
            },
            "type": "contourcarpet"
           }
          ],
          "heatmap": [
           {
            "colorbar": {
             "outlinewidth": 0,
             "ticks": ""
            },
            "colorscale": [
             [
              0,
              "#0d0887"
             ],
             [
              0.1111111111111111,
              "#46039f"
             ],
             [
              0.2222222222222222,
              "#7201a8"
             ],
             [
              0.3333333333333333,
              "#9c179e"
             ],
             [
              0.4444444444444444,
              "#bd3786"
             ],
             [
              0.5555555555555556,
              "#d8576b"
             ],
             [
              0.6666666666666666,
              "#ed7953"
             ],
             [
              0.7777777777777778,
              "#fb9f3a"
             ],
             [
              0.8888888888888888,
              "#fdca26"
             ],
             [
              1,
              "#f0f921"
             ]
            ],
            "type": "heatmap"
           }
          ],
          "heatmapgl": [
           {
            "colorbar": {
             "outlinewidth": 0,
             "ticks": ""
            },
            "colorscale": [
             [
              0,
              "#0d0887"
             ],
             [
              0.1111111111111111,
              "#46039f"
             ],
             [
              0.2222222222222222,
              "#7201a8"
             ],
             [
              0.3333333333333333,
              "#9c179e"
             ],
             [
              0.4444444444444444,
              "#bd3786"
             ],
             [
              0.5555555555555556,
              "#d8576b"
             ],
             [
              0.6666666666666666,
              "#ed7953"
             ],
             [
              0.7777777777777778,
              "#fb9f3a"
             ],
             [
              0.8888888888888888,
              "#fdca26"
             ],
             [
              1,
              "#f0f921"
             ]
            ],
            "type": "heatmapgl"
           }
          ],
          "histogram": [
           {
            "marker": {
             "colorbar": {
              "outlinewidth": 0,
              "ticks": ""
             }
            },
            "type": "histogram"
           }
          ],
          "histogram2d": [
           {
            "colorbar": {
             "outlinewidth": 0,
             "ticks": ""
            },
            "colorscale": [
             [
              0,
              "#0d0887"
             ],
             [
              0.1111111111111111,
              "#46039f"
             ],
             [
              0.2222222222222222,
              "#7201a8"
             ],
             [
              0.3333333333333333,
              "#9c179e"
             ],
             [
              0.4444444444444444,
              "#bd3786"
             ],
             [
              0.5555555555555556,
              "#d8576b"
             ],
             [
              0.6666666666666666,
              "#ed7953"
             ],
             [
              0.7777777777777778,
              "#fb9f3a"
             ],
             [
              0.8888888888888888,
              "#fdca26"
             ],
             [
              1,
              "#f0f921"
             ]
            ],
            "type": "histogram2d"
           }
          ],
          "histogram2dcontour": [
           {
            "colorbar": {
             "outlinewidth": 0,
             "ticks": ""
            },
            "colorscale": [
             [
              0,
              "#0d0887"
             ],
             [
              0.1111111111111111,
              "#46039f"
             ],
             [
              0.2222222222222222,
              "#7201a8"
             ],
             [
              0.3333333333333333,
              "#9c179e"
             ],
             [
              0.4444444444444444,
              "#bd3786"
             ],
             [
              0.5555555555555556,
              "#d8576b"
             ],
             [
              0.6666666666666666,
              "#ed7953"
             ],
             [
              0.7777777777777778,
              "#fb9f3a"
             ],
             [
              0.8888888888888888,
              "#fdca26"
             ],
             [
              1,
              "#f0f921"
             ]
            ],
            "type": "histogram2dcontour"
           }
          ],
          "mesh3d": [
           {
            "colorbar": {
             "outlinewidth": 0,
             "ticks": ""
            },
            "type": "mesh3d"
           }
          ],
          "parcoords": [
           {
            "line": {
             "colorbar": {
              "outlinewidth": 0,
              "ticks": ""
             }
            },
            "type": "parcoords"
           }
          ],
          "pie": [
           {
            "automargin": true,
            "type": "pie"
           }
          ],
          "scatter": [
           {
            "marker": {
             "colorbar": {
              "outlinewidth": 0,
              "ticks": ""
             }
            },
            "type": "scatter"
           }
          ],
          "scatter3d": [
           {
            "line": {
             "colorbar": {
              "outlinewidth": 0,
              "ticks": ""
             }
            },
            "marker": {
             "colorbar": {
              "outlinewidth": 0,
              "ticks": ""
             }
            },
            "type": "scatter3d"
           }
          ],
          "scattercarpet": [
           {
            "marker": {
             "colorbar": {
              "outlinewidth": 0,
              "ticks": ""
             }
            },
            "type": "scattercarpet"
           }
          ],
          "scattergeo": [
           {
            "marker": {
             "colorbar": {
              "outlinewidth": 0,
              "ticks": ""
             }
            },
            "type": "scattergeo"
           }
          ],
          "scattergl": [
           {
            "marker": {
             "colorbar": {
              "outlinewidth": 0,
              "ticks": ""
             }
            },
            "type": "scattergl"
           }
          ],
          "scattermapbox": [
           {
            "marker": {
             "colorbar": {
              "outlinewidth": 0,
              "ticks": ""
             }
            },
            "type": "scattermapbox"
           }
          ],
          "scatterpolar": [
           {
            "marker": {
             "colorbar": {
              "outlinewidth": 0,
              "ticks": ""
             }
            },
            "type": "scatterpolar"
           }
          ],
          "scatterpolargl": [
           {
            "marker": {
             "colorbar": {
              "outlinewidth": 0,
              "ticks": ""
             }
            },
            "type": "scatterpolargl"
           }
          ],
          "scatterternary": [
           {
            "marker": {
             "colorbar": {
              "outlinewidth": 0,
              "ticks": ""
             }
            },
            "type": "scatterternary"
           }
          ],
          "surface": [
           {
            "colorbar": {
             "outlinewidth": 0,
             "ticks": ""
            },
            "colorscale": [
             [
              0,
              "#0d0887"
             ],
             [
              0.1111111111111111,
              "#46039f"
             ],
             [
              0.2222222222222222,
              "#7201a8"
             ],
             [
              0.3333333333333333,
              "#9c179e"
             ],
             [
              0.4444444444444444,
              "#bd3786"
             ],
             [
              0.5555555555555556,
              "#d8576b"
             ],
             [
              0.6666666666666666,
              "#ed7953"
             ],
             [
              0.7777777777777778,
              "#fb9f3a"
             ],
             [
              0.8888888888888888,
              "#fdca26"
             ],
             [
              1,
              "#f0f921"
             ]
            ],
            "type": "surface"
           }
          ],
          "table": [
           {
            "cells": {
             "fill": {
              "color": "#EBF0F8"
             },
             "line": {
              "color": "white"
             }
            },
            "header": {
             "fill": {
              "color": "#C8D4E3"
             },
             "line": {
              "color": "white"
             }
            },
            "type": "table"
           }
          ]
         },
         "layout": {
          "annotationdefaults": {
           "arrowcolor": "#2a3f5f",
           "arrowhead": 0,
           "arrowwidth": 1
          },
          "coloraxis": {
           "colorbar": {
            "outlinewidth": 0,
            "ticks": ""
           }
          },
          "colorscale": {
           "diverging": [
            [
             0,
             "#8e0152"
            ],
            [
             0.1,
             "#c51b7d"
            ],
            [
             0.2,
             "#de77ae"
            ],
            [
             0.3,
             "#f1b6da"
            ],
            [
             0.4,
             "#fde0ef"
            ],
            [
             0.5,
             "#f7f7f7"
            ],
            [
             0.6,
             "#e6f5d0"
            ],
            [
             0.7,
             "#b8e186"
            ],
            [
             0.8,
             "#7fbc41"
            ],
            [
             0.9,
             "#4d9221"
            ],
            [
             1,
             "#276419"
            ]
           ],
           "sequential": [
            [
             0,
             "#0d0887"
            ],
            [
             0.1111111111111111,
             "#46039f"
            ],
            [
             0.2222222222222222,
             "#7201a8"
            ],
            [
             0.3333333333333333,
             "#9c179e"
            ],
            [
             0.4444444444444444,
             "#bd3786"
            ],
            [
             0.5555555555555556,
             "#d8576b"
            ],
            [
             0.6666666666666666,
             "#ed7953"
            ],
            [
             0.7777777777777778,
             "#fb9f3a"
            ],
            [
             0.8888888888888888,
             "#fdca26"
            ],
            [
             1,
             "#f0f921"
            ]
           ],
           "sequentialminus": [
            [
             0,
             "#0d0887"
            ],
            [
             0.1111111111111111,
             "#46039f"
            ],
            [
             0.2222222222222222,
             "#7201a8"
            ],
            [
             0.3333333333333333,
             "#9c179e"
            ],
            [
             0.4444444444444444,
             "#bd3786"
            ],
            [
             0.5555555555555556,
             "#d8576b"
            ],
            [
             0.6666666666666666,
             "#ed7953"
            ],
            [
             0.7777777777777778,
             "#fb9f3a"
            ],
            [
             0.8888888888888888,
             "#fdca26"
            ],
            [
             1,
             "#f0f921"
            ]
           ]
          },
          "colorway": [
           "#636efa",
           "#EF553B",
           "#00cc96",
           "#ab63fa",
           "#FFA15A",
           "#19d3f3",
           "#FF6692",
           "#B6E880",
           "#FF97FF",
           "#FECB52"
          ],
          "font": {
           "color": "#2a3f5f"
          },
          "geo": {
           "bgcolor": "white",
           "lakecolor": "white",
           "landcolor": "#E5ECF6",
           "showlakes": true,
           "showland": true,
           "subunitcolor": "white"
          },
          "hoverlabel": {
           "align": "left"
          },
          "hovermode": "closest",
          "mapbox": {
           "style": "light"
          },
          "paper_bgcolor": "white",
          "plot_bgcolor": "#E5ECF6",
          "polar": {
           "angularaxis": {
            "gridcolor": "white",
            "linecolor": "white",
            "ticks": ""
           },
           "bgcolor": "#E5ECF6",
           "radialaxis": {
            "gridcolor": "white",
            "linecolor": "white",
            "ticks": ""
           }
          },
          "scene": {
           "xaxis": {
            "backgroundcolor": "#E5ECF6",
            "gridcolor": "white",
            "gridwidth": 2,
            "linecolor": "white",
            "showbackground": true,
            "ticks": "",
            "zerolinecolor": "white"
           },
           "yaxis": {
            "backgroundcolor": "#E5ECF6",
            "gridcolor": "white",
            "gridwidth": 2,
            "linecolor": "white",
            "showbackground": true,
            "ticks": "",
            "zerolinecolor": "white"
           },
           "zaxis": {
            "backgroundcolor": "#E5ECF6",
            "gridcolor": "white",
            "gridwidth": 2,
            "linecolor": "white",
            "showbackground": true,
            "ticks": "",
            "zerolinecolor": "white"
           }
          },
          "shapedefaults": {
           "line": {
            "color": "#2a3f5f"
           }
          },
          "ternary": {
           "aaxis": {
            "gridcolor": "white",
            "linecolor": "white",
            "ticks": ""
           },
           "baxis": {
            "gridcolor": "white",
            "linecolor": "white",
            "ticks": ""
           },
           "bgcolor": "#E5ECF6",
           "caxis": {
            "gridcolor": "white",
            "linecolor": "white",
            "ticks": ""
           }
          },
          "title": {
           "x": 0.05
          },
          "xaxis": {
           "automargin": true,
           "gridcolor": "white",
           "linecolor": "white",
           "ticks": "",
           "title": {
            "standoff": 15
           },
           "zerolinecolor": "white",
           "zerolinewidth": 2
          },
          "yaxis": {
           "automargin": true,
           "gridcolor": "white",
           "linecolor": "white",
           "ticks": "",
           "title": {
            "standoff": 15
           },
           "zerolinecolor": "white",
           "zerolinewidth": 2
          }
         }
        },
        "title": {
         "font": {
          "color": "#4D5663"
         },
         "text": "Precision/Recall Tradeoff for label: 1"
        },
        "xaxis": {
         "gridcolor": "#E1E5ED",
         "showgrid": true,
         "tickfont": {
          "color": "#4D5663"
         },
         "title": {
          "font": {
           "color": "#4D5663"
          },
          "text": "Decision Threshold"
         },
         "zerolinecolor": "#E1E5ED"
        },
        "yaxis": {
         "gridcolor": "#E1E5ED",
         "showgrid": true,
         "tickfont": {
          "color": "#4D5663"
         },
         "title": {
          "font": {
           "color": "#4D5663"
          },
          "text": "Score"
         },
         "zerolinecolor": "#E1E5ED"
        }
       }
      },
      "text/html": [
       "<div>\n",
       "        \n",
       "        \n",
       "            <div id=\"230c8d87-080b-4e3a-bd8c-0ffdb900b7ed\" class=\"plotly-graph-div\" style=\"height:525px; width:100%;\"></div>\n",
       "            <script type=\"text/javascript\">\n",
       "                require([\"plotly\"], function(Plotly) {\n",
       "                    window.PLOTLYENV=window.PLOTLYENV || {};\n",
       "                    window.PLOTLYENV.BASE_URL='https://plot.ly';\n",
       "                    \n",
       "                if (document.getElementById(\"230c8d87-080b-4e3a-bd8c-0ffdb900b7ed\")) {\n",
       "                    Plotly.newPlot(\n",
       "                        '230c8d87-080b-4e3a-bd8c-0ffdb900b7ed',\n",
       "                        [{\"line\": {\"color\": \"rgba(255, 153, 51, 1.0)\", \"dash\": \"solid\", \"shape\": \"linear\", \"width\": 1.3}, \"mode\": \"lines\", \"name\": \"Precision\", \"text\": \"\", \"type\": \"scatter\", \"x\": [0.15, 0.16, 0.17, 0.18, 0.19, 0.2, 0.21, 0.22, 0.23, 0.24, 0.25, 0.26, 0.27, 0.28, 0.29, 0.3, 0.31, 0.32, 0.33, 0.34, 0.35, 0.38, 0.43, 0.44, 0.47, 0.49, 0.5, 0.52, 0.54, 0.55, 0.6, 0.61, 0.63, 0.64, 0.68, 0.69, 0.7, 0.72, 0.73, 0.76, 0.77, 0.78, 0.79, 0.8, 0.81, 0.82, 0.83, 0.84, 0.85, 0.87, 0.88, 0.9, 0.94, null], \"y\": [0.22727272727272727, 0.23671497584541062, 0.2552083333333333, 0.28, 0.30625, 0.32450331125827814, 0.3582089552238806, 0.38524590163934425, 0.41228070175438597, 0.4563106796116505, 0.48936170212765956, 0.5287356321839081, 0.5625, 0.5769230769230769, 0.6617647058823529, 0.6716417910447762, 0.703125, 0.7258064516129032, 0.7627118644067796, 0.7758620689655172, 0.8333333333333334, 0.8653846153846154, 0.8627450980392157, 0.88, 0.8775510204081632, 0.8958333333333334, 0.8936170212765957, 0.9111111111111111, 0.9534883720930233, 0.9512195121951219, 0.9743589743589743, 0.9736842105263158, 0.972972972972973, 0.9714285714285714, 0.9696969696969697, 0.96875, 0.967741935483871, 0.9666666666666667, 1.0, 1.0, 1.0, 1.0, 1.0, 1.0, 1.0, 1.0, 1.0, 1.0, 1.0, 1.0, 1.0, 1.0, 1.0, 1.0]}, {\"line\": {\"color\": \"rgba(55, 128, 191, 1.0)\", \"dash\": \"solid\", \"shape\": \"linear\", \"width\": 1.3}, \"mode\": \"lines\", \"name\": \"Recall\", \"text\": \"\", \"type\": \"scatter\", \"x\": [0.15, 0.16, 0.17, 0.18, 0.19, 0.2, 0.21, 0.22, 0.23, 0.24, 0.25, 0.26, 0.27, 0.28, 0.29, 0.3, 0.31, 0.32, 0.33, 0.34, 0.35, 0.38, 0.43, 0.44, 0.47, 0.49, 0.5, 0.52, 0.54, 0.55, 0.6, 0.61, 0.63, 0.64, 0.68, 0.69, 0.7, 0.72, 0.73, 0.76, 0.77, 0.78, 0.79, 0.8, 0.81, 0.82, 0.83, 0.84, 0.85, 0.87, 0.88, 0.9, 0.94, null], \"y\": [1.0, 0.98, 0.98, 0.98, 0.98, 0.98, 0.96, 0.94, 0.94, 0.94, 0.92, 0.92, 0.9, 0.9, 0.9, 0.9, 0.9, 0.9, 0.9, 0.9, 0.9, 0.9, 0.88, 0.88, 0.86, 0.86, 0.84, 0.82, 0.82, 0.78, 0.76, 0.74, 0.72, 0.68, 0.64, 0.62, 0.6, 0.58, 0.56, 0.54, 0.52, 0.5, 0.48, 0.38, 0.36, 0.32, 0.3, 0.22, 0.2, 0.18, 0.08, 0.06, 0.04, 0.0]}],\n",
       "                        {\"legend\": {\"bgcolor\": \"#F5F6F9\", \"font\": {\"color\": \"#4D5663\"}}, \"paper_bgcolor\": \"#F5F6F9\", \"plot_bgcolor\": \"#F5F6F9\", \"template\": {\"data\": {\"bar\": [{\"error_x\": {\"color\": \"#2a3f5f\"}, \"error_y\": {\"color\": \"#2a3f5f\"}, \"marker\": {\"line\": {\"color\": \"#E5ECF6\", \"width\": 0.5}}, \"type\": \"bar\"}], \"barpolar\": [{\"marker\": {\"line\": {\"color\": \"#E5ECF6\", \"width\": 0.5}}, \"type\": \"barpolar\"}], \"carpet\": [{\"aaxis\": {\"endlinecolor\": \"#2a3f5f\", \"gridcolor\": \"white\", \"linecolor\": \"white\", \"minorgridcolor\": \"white\", \"startlinecolor\": \"#2a3f5f\"}, \"baxis\": {\"endlinecolor\": \"#2a3f5f\", \"gridcolor\": \"white\", \"linecolor\": \"white\", \"minorgridcolor\": \"white\", \"startlinecolor\": \"#2a3f5f\"}, \"type\": \"carpet\"}], \"choropleth\": [{\"colorbar\": {\"outlinewidth\": 0, \"ticks\": \"\"}, \"type\": \"choropleth\"}], \"contour\": [{\"colorbar\": {\"outlinewidth\": 0, \"ticks\": \"\"}, \"colorscale\": [[0.0, \"#0d0887\"], [0.1111111111111111, \"#46039f\"], [0.2222222222222222, \"#7201a8\"], [0.3333333333333333, \"#9c179e\"], [0.4444444444444444, \"#bd3786\"], [0.5555555555555556, \"#d8576b\"], [0.6666666666666666, \"#ed7953\"], [0.7777777777777778, \"#fb9f3a\"], [0.8888888888888888, \"#fdca26\"], [1.0, \"#f0f921\"]], \"type\": \"contour\"}], \"contourcarpet\": [{\"colorbar\": {\"outlinewidth\": 0, \"ticks\": \"\"}, \"type\": \"contourcarpet\"}], \"heatmap\": [{\"colorbar\": {\"outlinewidth\": 0, \"ticks\": \"\"}, \"colorscale\": [[0.0, \"#0d0887\"], [0.1111111111111111, \"#46039f\"], [0.2222222222222222, \"#7201a8\"], [0.3333333333333333, \"#9c179e\"], [0.4444444444444444, \"#bd3786\"], [0.5555555555555556, \"#d8576b\"], [0.6666666666666666, \"#ed7953\"], [0.7777777777777778, \"#fb9f3a\"], [0.8888888888888888, \"#fdca26\"], [1.0, \"#f0f921\"]], \"type\": \"heatmap\"}], \"heatmapgl\": [{\"colorbar\": {\"outlinewidth\": 0, \"ticks\": \"\"}, \"colorscale\": [[0.0, \"#0d0887\"], [0.1111111111111111, \"#46039f\"], [0.2222222222222222, \"#7201a8\"], [0.3333333333333333, \"#9c179e\"], [0.4444444444444444, \"#bd3786\"], [0.5555555555555556, \"#d8576b\"], [0.6666666666666666, \"#ed7953\"], [0.7777777777777778, \"#fb9f3a\"], [0.8888888888888888, \"#fdca26\"], [1.0, \"#f0f921\"]], \"type\": \"heatmapgl\"}], \"histogram\": [{\"marker\": {\"colorbar\": {\"outlinewidth\": 0, \"ticks\": \"\"}}, \"type\": \"histogram\"}], \"histogram2d\": [{\"colorbar\": {\"outlinewidth\": 0, \"ticks\": \"\"}, \"colorscale\": [[0.0, \"#0d0887\"], [0.1111111111111111, \"#46039f\"], [0.2222222222222222, \"#7201a8\"], [0.3333333333333333, \"#9c179e\"], [0.4444444444444444, \"#bd3786\"], [0.5555555555555556, \"#d8576b\"], [0.6666666666666666, \"#ed7953\"], [0.7777777777777778, \"#fb9f3a\"], [0.8888888888888888, \"#fdca26\"], [1.0, \"#f0f921\"]], \"type\": \"histogram2d\"}], \"histogram2dcontour\": [{\"colorbar\": {\"outlinewidth\": 0, \"ticks\": \"\"}, \"colorscale\": [[0.0, \"#0d0887\"], [0.1111111111111111, \"#46039f\"], [0.2222222222222222, \"#7201a8\"], [0.3333333333333333, \"#9c179e\"], [0.4444444444444444, \"#bd3786\"], [0.5555555555555556, \"#d8576b\"], [0.6666666666666666, \"#ed7953\"], [0.7777777777777778, \"#fb9f3a\"], [0.8888888888888888, \"#fdca26\"], [1.0, \"#f0f921\"]], \"type\": \"histogram2dcontour\"}], \"mesh3d\": [{\"colorbar\": {\"outlinewidth\": 0, \"ticks\": \"\"}, \"type\": \"mesh3d\"}], \"parcoords\": [{\"line\": {\"colorbar\": {\"outlinewidth\": 0, \"ticks\": \"\"}}, \"type\": \"parcoords\"}], \"pie\": [{\"automargin\": true, \"type\": \"pie\"}], \"scatter\": [{\"marker\": {\"colorbar\": {\"outlinewidth\": 0, \"ticks\": \"\"}}, \"type\": \"scatter\"}], \"scatter3d\": [{\"line\": {\"colorbar\": {\"outlinewidth\": 0, \"ticks\": \"\"}}, \"marker\": {\"colorbar\": {\"outlinewidth\": 0, \"ticks\": \"\"}}, \"type\": \"scatter3d\"}], \"scattercarpet\": [{\"marker\": {\"colorbar\": {\"outlinewidth\": 0, \"ticks\": \"\"}}, \"type\": \"scattercarpet\"}], \"scattergeo\": [{\"marker\": {\"colorbar\": {\"outlinewidth\": 0, \"ticks\": \"\"}}, \"type\": \"scattergeo\"}], \"scattergl\": [{\"marker\": {\"colorbar\": {\"outlinewidth\": 0, \"ticks\": \"\"}}, \"type\": \"scattergl\"}], \"scattermapbox\": [{\"marker\": {\"colorbar\": {\"outlinewidth\": 0, \"ticks\": \"\"}}, \"type\": \"scattermapbox\"}], \"scatterpolar\": [{\"marker\": {\"colorbar\": {\"outlinewidth\": 0, \"ticks\": \"\"}}, \"type\": \"scatterpolar\"}], \"scatterpolargl\": [{\"marker\": {\"colorbar\": {\"outlinewidth\": 0, \"ticks\": \"\"}}, \"type\": \"scatterpolargl\"}], \"scatterternary\": [{\"marker\": {\"colorbar\": {\"outlinewidth\": 0, \"ticks\": \"\"}}, \"type\": \"scatterternary\"}], \"surface\": [{\"colorbar\": {\"outlinewidth\": 0, \"ticks\": \"\"}, \"colorscale\": [[0.0, \"#0d0887\"], [0.1111111111111111, \"#46039f\"], [0.2222222222222222, \"#7201a8\"], [0.3333333333333333, \"#9c179e\"], [0.4444444444444444, \"#bd3786\"], [0.5555555555555556, \"#d8576b\"], [0.6666666666666666, \"#ed7953\"], [0.7777777777777778, \"#fb9f3a\"], [0.8888888888888888, \"#fdca26\"], [1.0, \"#f0f921\"]], \"type\": \"surface\"}], \"table\": [{\"cells\": {\"fill\": {\"color\": \"#EBF0F8\"}, \"line\": {\"color\": \"white\"}}, \"header\": {\"fill\": {\"color\": \"#C8D4E3\"}, \"line\": {\"color\": \"white\"}}, \"type\": \"table\"}]}, \"layout\": {\"annotationdefaults\": {\"arrowcolor\": \"#2a3f5f\", \"arrowhead\": 0, \"arrowwidth\": 1}, \"coloraxis\": {\"colorbar\": {\"outlinewidth\": 0, \"ticks\": \"\"}}, \"colorscale\": {\"diverging\": [[0, \"#8e0152\"], [0.1, \"#c51b7d\"], [0.2, \"#de77ae\"], [0.3, \"#f1b6da\"], [0.4, \"#fde0ef\"], [0.5, \"#f7f7f7\"], [0.6, \"#e6f5d0\"], [0.7, \"#b8e186\"], [0.8, \"#7fbc41\"], [0.9, \"#4d9221\"], [1, \"#276419\"]], \"sequential\": [[0.0, \"#0d0887\"], [0.1111111111111111, \"#46039f\"], [0.2222222222222222, \"#7201a8\"], [0.3333333333333333, \"#9c179e\"], [0.4444444444444444, \"#bd3786\"], [0.5555555555555556, \"#d8576b\"], [0.6666666666666666, \"#ed7953\"], [0.7777777777777778, \"#fb9f3a\"], [0.8888888888888888, \"#fdca26\"], [1.0, \"#f0f921\"]], \"sequentialminus\": [[0.0, \"#0d0887\"], [0.1111111111111111, \"#46039f\"], [0.2222222222222222, \"#7201a8\"], [0.3333333333333333, \"#9c179e\"], [0.4444444444444444, \"#bd3786\"], [0.5555555555555556, \"#d8576b\"], [0.6666666666666666, \"#ed7953\"], [0.7777777777777778, \"#fb9f3a\"], [0.8888888888888888, \"#fdca26\"], [1.0, \"#f0f921\"]]}, \"colorway\": [\"#636efa\", \"#EF553B\", \"#00cc96\", \"#ab63fa\", \"#FFA15A\", \"#19d3f3\", \"#FF6692\", \"#B6E880\", \"#FF97FF\", \"#FECB52\"], \"font\": {\"color\": \"#2a3f5f\"}, \"geo\": {\"bgcolor\": \"white\", \"lakecolor\": \"white\", \"landcolor\": \"#E5ECF6\", \"showlakes\": true, \"showland\": true, \"subunitcolor\": \"white\"}, \"hoverlabel\": {\"align\": \"left\"}, \"hovermode\": \"closest\", \"mapbox\": {\"style\": \"light\"}, \"paper_bgcolor\": \"white\", \"plot_bgcolor\": \"#E5ECF6\", \"polar\": {\"angularaxis\": {\"gridcolor\": \"white\", \"linecolor\": \"white\", \"ticks\": \"\"}, \"bgcolor\": \"#E5ECF6\", \"radialaxis\": {\"gridcolor\": \"white\", \"linecolor\": \"white\", \"ticks\": \"\"}}, \"scene\": {\"xaxis\": {\"backgroundcolor\": \"#E5ECF6\", \"gridcolor\": \"white\", \"gridwidth\": 2, \"linecolor\": \"white\", \"showbackground\": true, \"ticks\": \"\", \"zerolinecolor\": \"white\"}, \"yaxis\": {\"backgroundcolor\": \"#E5ECF6\", \"gridcolor\": \"white\", \"gridwidth\": 2, \"linecolor\": \"white\", \"showbackground\": true, \"ticks\": \"\", \"zerolinecolor\": \"white\"}, \"zaxis\": {\"backgroundcolor\": \"#E5ECF6\", \"gridcolor\": \"white\", \"gridwidth\": 2, \"linecolor\": \"white\", \"showbackground\": true, \"ticks\": \"\", \"zerolinecolor\": \"white\"}}, \"shapedefaults\": {\"line\": {\"color\": \"#2a3f5f\"}}, \"ternary\": {\"aaxis\": {\"gridcolor\": \"white\", \"linecolor\": \"white\", \"ticks\": \"\"}, \"baxis\": {\"gridcolor\": \"white\", \"linecolor\": \"white\", \"ticks\": \"\"}, \"bgcolor\": \"#E5ECF6\", \"caxis\": {\"gridcolor\": \"white\", \"linecolor\": \"white\", \"ticks\": \"\"}}, \"title\": {\"x\": 0.05}, \"xaxis\": {\"automargin\": true, \"gridcolor\": \"white\", \"linecolor\": \"white\", \"ticks\": \"\", \"title\": {\"standoff\": 15}, \"zerolinecolor\": \"white\", \"zerolinewidth\": 2}, \"yaxis\": {\"automargin\": true, \"gridcolor\": \"white\", \"linecolor\": \"white\", \"ticks\": \"\", \"title\": {\"standoff\": 15}, \"zerolinecolor\": \"white\", \"zerolinewidth\": 2}}}, \"title\": {\"font\": {\"color\": \"#4D5663\"}, \"text\": \"Precision/Recall Tradeoff for label: 1\"}, \"xaxis\": {\"gridcolor\": \"#E1E5ED\", \"showgrid\": true, \"tickfont\": {\"color\": \"#4D5663\"}, \"title\": {\"font\": {\"color\": \"#4D5663\"}, \"text\": \"Decision Threshold\"}, \"zerolinecolor\": \"#E1E5ED\"}, \"yaxis\": {\"gridcolor\": \"#E1E5ED\", \"showgrid\": true, \"tickfont\": {\"color\": \"#4D5663\"}, \"title\": {\"font\": {\"color\": \"#4D5663\"}, \"text\": \"Score\"}, \"zerolinecolor\": \"#E1E5ED\"}},\n",
       "                        {\"showLink\": true, \"linkText\": \"Export to plot.ly\", \"plotlyServerURL\": \"https://plot.ly\", \"responsive\": true}\n",
       "                    ).then(function(){\n",
       "                            \n",
       "var gd = document.getElementById('230c8d87-080b-4e3a-bd8c-0ffdb900b7ed');\n",
       "var x = new MutationObserver(function (mutations, observer) {{\n",
       "        var display = window.getComputedStyle(gd).display;\n",
       "        if (!display || display === 'none') {{\n",
       "            console.log([gd, 'removed!']);\n",
       "            Plotly.purge(gd);\n",
       "            observer.disconnect();\n",
       "        }}\n",
       "}});\n",
       "\n",
       "// Listen for the removal of the full notebook cells\n",
       "var notebookContainer = gd.closest('#notebook-container');\n",
       "if (notebookContainer) {{\n",
       "    x.observe(notebookContainer, {childList: true});\n",
       "}}\n",
       "\n",
       "// Listen for the clearing of the current output cell\n",
       "var outputEl = gd.closest('.output');\n",
       "if (outputEl) {{\n",
       "    x.observe(outputEl, {childList: true});\n",
       "}}\n",
       "\n",
       "                        })\n",
       "                };\n",
       "                });\n",
       "            </script>\n",
       "        </div>"
      ]
     },
     "metadata": {},
     "output_type": "display_data"
    },
    {
     "data": {
      "application/vnd.plotly.v1+json": {
       "config": {
        "linkText": "Export to plot.ly",
        "plotlyServerURL": "https://plot.ly",
        "showLink": true
       },
       "data": [
        {
         "line": {
          "color": "rgba(255, 153, 51, 1.0)",
          "dash": "solid",
          "shape": "linear",
          "width": 1.3
         },
         "mode": "lines",
         "name": "Precision",
         "text": "",
         "type": "scatter",
         "x": [
          0.49,
          0.56,
          0.58,
          0.62,
          0.66,
          0.68,
          0.7,
          0.71,
          0.72,
          0.77,
          0.79,
          0.8,
          0.81,
          0.85,
          0.86,
          0.88,
          0.89,
          0.9,
          0.91,
          0.92,
          0.93,
          null
         ],
         "y": [
          0.9117647058823529,
          0.9090909090909091,
          0.90625,
          0.9032258064516129,
          0.9,
          0.896551724137931,
          0.9285714285714286,
          0.9259259259259259,
          0.96,
          0.9583333333333334,
          1,
          1,
          1,
          1,
          1,
          1,
          1,
          1,
          1,
          1,
          1,
          1
         ]
        },
        {
         "line": {
          "color": "rgba(55, 128, 191, 1.0)",
          "dash": "solid",
          "shape": "linear",
          "width": 1.3
         },
         "mode": "lines",
         "name": "Recall",
         "text": "",
         "type": "scatter",
         "x": [
          0.49,
          0.56,
          0.58,
          0.62,
          0.66,
          0.68,
          0.7,
          0.71,
          0.72,
          0.77,
          0.79,
          0.8,
          0.81,
          0.85,
          0.86,
          0.88,
          0.89,
          0.9,
          0.91,
          0.92,
          0.93,
          null
         ],
         "y": [
          1,
          0.967741935483871,
          0.9354838709677419,
          0.9032258064516129,
          0.8709677419354839,
          0.8387096774193549,
          0.8387096774193549,
          0.8064516129032258,
          0.7741935483870968,
          0.7419354838709677,
          0.7419354838709677,
          0.6774193548387096,
          0.6129032258064516,
          0.5806451612903226,
          0.5483870967741935,
          0.5161290322580645,
          0.3548387096774194,
          0.3225806451612903,
          0.25806451612903225,
          0.16129032258064516,
          0.03225806451612903,
          0
         ]
        }
       ],
       "layout": {
        "legend": {
         "bgcolor": "#F5F6F9",
         "font": {
          "color": "#4D5663"
         }
        },
        "paper_bgcolor": "#F5F6F9",
        "plot_bgcolor": "#F5F6F9",
        "template": {
         "data": {
          "bar": [
           {
            "error_x": {
             "color": "#2a3f5f"
            },
            "error_y": {
             "color": "#2a3f5f"
            },
            "marker": {
             "line": {
              "color": "#E5ECF6",
              "width": 0.5
             }
            },
            "type": "bar"
           }
          ],
          "barpolar": [
           {
            "marker": {
             "line": {
              "color": "#E5ECF6",
              "width": 0.5
             }
            },
            "type": "barpolar"
           }
          ],
          "carpet": [
           {
            "aaxis": {
             "endlinecolor": "#2a3f5f",
             "gridcolor": "white",
             "linecolor": "white",
             "minorgridcolor": "white",
             "startlinecolor": "#2a3f5f"
            },
            "baxis": {
             "endlinecolor": "#2a3f5f",
             "gridcolor": "white",
             "linecolor": "white",
             "minorgridcolor": "white",
             "startlinecolor": "#2a3f5f"
            },
            "type": "carpet"
           }
          ],
          "choropleth": [
           {
            "colorbar": {
             "outlinewidth": 0,
             "ticks": ""
            },
            "type": "choropleth"
           }
          ],
          "contour": [
           {
            "colorbar": {
             "outlinewidth": 0,
             "ticks": ""
            },
            "colorscale": [
             [
              0,
              "#0d0887"
             ],
             [
              0.1111111111111111,
              "#46039f"
             ],
             [
              0.2222222222222222,
              "#7201a8"
             ],
             [
              0.3333333333333333,
              "#9c179e"
             ],
             [
              0.4444444444444444,
              "#bd3786"
             ],
             [
              0.5555555555555556,
              "#d8576b"
             ],
             [
              0.6666666666666666,
              "#ed7953"
             ],
             [
              0.7777777777777778,
              "#fb9f3a"
             ],
             [
              0.8888888888888888,
              "#fdca26"
             ],
             [
              1,
              "#f0f921"
             ]
            ],
            "type": "contour"
           }
          ],
          "contourcarpet": [
           {
            "colorbar": {
             "outlinewidth": 0,
             "ticks": ""
            },
            "type": "contourcarpet"
           }
          ],
          "heatmap": [
           {
            "colorbar": {
             "outlinewidth": 0,
             "ticks": ""
            },
            "colorscale": [
             [
              0,
              "#0d0887"
             ],
             [
              0.1111111111111111,
              "#46039f"
             ],
             [
              0.2222222222222222,
              "#7201a8"
             ],
             [
              0.3333333333333333,
              "#9c179e"
             ],
             [
              0.4444444444444444,
              "#bd3786"
             ],
             [
              0.5555555555555556,
              "#d8576b"
             ],
             [
              0.6666666666666666,
              "#ed7953"
             ],
             [
              0.7777777777777778,
              "#fb9f3a"
             ],
             [
              0.8888888888888888,
              "#fdca26"
             ],
             [
              1,
              "#f0f921"
             ]
            ],
            "type": "heatmap"
           }
          ],
          "heatmapgl": [
           {
            "colorbar": {
             "outlinewidth": 0,
             "ticks": ""
            },
            "colorscale": [
             [
              0,
              "#0d0887"
             ],
             [
              0.1111111111111111,
              "#46039f"
             ],
             [
              0.2222222222222222,
              "#7201a8"
             ],
             [
              0.3333333333333333,
              "#9c179e"
             ],
             [
              0.4444444444444444,
              "#bd3786"
             ],
             [
              0.5555555555555556,
              "#d8576b"
             ],
             [
              0.6666666666666666,
              "#ed7953"
             ],
             [
              0.7777777777777778,
              "#fb9f3a"
             ],
             [
              0.8888888888888888,
              "#fdca26"
             ],
             [
              1,
              "#f0f921"
             ]
            ],
            "type": "heatmapgl"
           }
          ],
          "histogram": [
           {
            "marker": {
             "colorbar": {
              "outlinewidth": 0,
              "ticks": ""
             }
            },
            "type": "histogram"
           }
          ],
          "histogram2d": [
           {
            "colorbar": {
             "outlinewidth": 0,
             "ticks": ""
            },
            "colorscale": [
             [
              0,
              "#0d0887"
             ],
             [
              0.1111111111111111,
              "#46039f"
             ],
             [
              0.2222222222222222,
              "#7201a8"
             ],
             [
              0.3333333333333333,
              "#9c179e"
             ],
             [
              0.4444444444444444,
              "#bd3786"
             ],
             [
              0.5555555555555556,
              "#d8576b"
             ],
             [
              0.6666666666666666,
              "#ed7953"
             ],
             [
              0.7777777777777778,
              "#fb9f3a"
             ],
             [
              0.8888888888888888,
              "#fdca26"
             ],
             [
              1,
              "#f0f921"
             ]
            ],
            "type": "histogram2d"
           }
          ],
          "histogram2dcontour": [
           {
            "colorbar": {
             "outlinewidth": 0,
             "ticks": ""
            },
            "colorscale": [
             [
              0,
              "#0d0887"
             ],
             [
              0.1111111111111111,
              "#46039f"
             ],
             [
              0.2222222222222222,
              "#7201a8"
             ],
             [
              0.3333333333333333,
              "#9c179e"
             ],
             [
              0.4444444444444444,
              "#bd3786"
             ],
             [
              0.5555555555555556,
              "#d8576b"
             ],
             [
              0.6666666666666666,
              "#ed7953"
             ],
             [
              0.7777777777777778,
              "#fb9f3a"
             ],
             [
              0.8888888888888888,
              "#fdca26"
             ],
             [
              1,
              "#f0f921"
             ]
            ],
            "type": "histogram2dcontour"
           }
          ],
          "mesh3d": [
           {
            "colorbar": {
             "outlinewidth": 0,
             "ticks": ""
            },
            "type": "mesh3d"
           }
          ],
          "parcoords": [
           {
            "line": {
             "colorbar": {
              "outlinewidth": 0,
              "ticks": ""
             }
            },
            "type": "parcoords"
           }
          ],
          "pie": [
           {
            "automargin": true,
            "type": "pie"
           }
          ],
          "scatter": [
           {
            "marker": {
             "colorbar": {
              "outlinewidth": 0,
              "ticks": ""
             }
            },
            "type": "scatter"
           }
          ],
          "scatter3d": [
           {
            "line": {
             "colorbar": {
              "outlinewidth": 0,
              "ticks": ""
             }
            },
            "marker": {
             "colorbar": {
              "outlinewidth": 0,
              "ticks": ""
             }
            },
            "type": "scatter3d"
           }
          ],
          "scattercarpet": [
           {
            "marker": {
             "colorbar": {
              "outlinewidth": 0,
              "ticks": ""
             }
            },
            "type": "scattercarpet"
           }
          ],
          "scattergeo": [
           {
            "marker": {
             "colorbar": {
              "outlinewidth": 0,
              "ticks": ""
             }
            },
            "type": "scattergeo"
           }
          ],
          "scattergl": [
           {
            "marker": {
             "colorbar": {
              "outlinewidth": 0,
              "ticks": ""
             }
            },
            "type": "scattergl"
           }
          ],
          "scattermapbox": [
           {
            "marker": {
             "colorbar": {
              "outlinewidth": 0,
              "ticks": ""
             }
            },
            "type": "scattermapbox"
           }
          ],
          "scatterpolar": [
           {
            "marker": {
             "colorbar": {
              "outlinewidth": 0,
              "ticks": ""
             }
            },
            "type": "scatterpolar"
           }
          ],
          "scatterpolargl": [
           {
            "marker": {
             "colorbar": {
              "outlinewidth": 0,
              "ticks": ""
             }
            },
            "type": "scatterpolargl"
           }
          ],
          "scatterternary": [
           {
            "marker": {
             "colorbar": {
              "outlinewidth": 0,
              "ticks": ""
             }
            },
            "type": "scatterternary"
           }
          ],
          "surface": [
           {
            "colorbar": {
             "outlinewidth": 0,
             "ticks": ""
            },
            "colorscale": [
             [
              0,
              "#0d0887"
             ],
             [
              0.1111111111111111,
              "#46039f"
             ],
             [
              0.2222222222222222,
              "#7201a8"
             ],
             [
              0.3333333333333333,
              "#9c179e"
             ],
             [
              0.4444444444444444,
              "#bd3786"
             ],
             [
              0.5555555555555556,
              "#d8576b"
             ],
             [
              0.6666666666666666,
              "#ed7953"
             ],
             [
              0.7777777777777778,
              "#fb9f3a"
             ],
             [
              0.8888888888888888,
              "#fdca26"
             ],
             [
              1,
              "#f0f921"
             ]
            ],
            "type": "surface"
           }
          ],
          "table": [
           {
            "cells": {
             "fill": {
              "color": "#EBF0F8"
             },
             "line": {
              "color": "white"
             }
            },
            "header": {
             "fill": {
              "color": "#C8D4E3"
             },
             "line": {
              "color": "white"
             }
            },
            "type": "table"
           }
          ]
         },
         "layout": {
          "annotationdefaults": {
           "arrowcolor": "#2a3f5f",
           "arrowhead": 0,
           "arrowwidth": 1
          },
          "coloraxis": {
           "colorbar": {
            "outlinewidth": 0,
            "ticks": ""
           }
          },
          "colorscale": {
           "diverging": [
            [
             0,
             "#8e0152"
            ],
            [
             0.1,
             "#c51b7d"
            ],
            [
             0.2,
             "#de77ae"
            ],
            [
             0.3,
             "#f1b6da"
            ],
            [
             0.4,
             "#fde0ef"
            ],
            [
             0.5,
             "#f7f7f7"
            ],
            [
             0.6,
             "#e6f5d0"
            ],
            [
             0.7,
             "#b8e186"
            ],
            [
             0.8,
             "#7fbc41"
            ],
            [
             0.9,
             "#4d9221"
            ],
            [
             1,
             "#276419"
            ]
           ],
           "sequential": [
            [
             0,
             "#0d0887"
            ],
            [
             0.1111111111111111,
             "#46039f"
            ],
            [
             0.2222222222222222,
             "#7201a8"
            ],
            [
             0.3333333333333333,
             "#9c179e"
            ],
            [
             0.4444444444444444,
             "#bd3786"
            ],
            [
             0.5555555555555556,
             "#d8576b"
            ],
            [
             0.6666666666666666,
             "#ed7953"
            ],
            [
             0.7777777777777778,
             "#fb9f3a"
            ],
            [
             0.8888888888888888,
             "#fdca26"
            ],
            [
             1,
             "#f0f921"
            ]
           ],
           "sequentialminus": [
            [
             0,
             "#0d0887"
            ],
            [
             0.1111111111111111,
             "#46039f"
            ],
            [
             0.2222222222222222,
             "#7201a8"
            ],
            [
             0.3333333333333333,
             "#9c179e"
            ],
            [
             0.4444444444444444,
             "#bd3786"
            ],
            [
             0.5555555555555556,
             "#d8576b"
            ],
            [
             0.6666666666666666,
             "#ed7953"
            ],
            [
             0.7777777777777778,
             "#fb9f3a"
            ],
            [
             0.8888888888888888,
             "#fdca26"
            ],
            [
             1,
             "#f0f921"
            ]
           ]
          },
          "colorway": [
           "#636efa",
           "#EF553B",
           "#00cc96",
           "#ab63fa",
           "#FFA15A",
           "#19d3f3",
           "#FF6692",
           "#B6E880",
           "#FF97FF",
           "#FECB52"
          ],
          "font": {
           "color": "#2a3f5f"
          },
          "geo": {
           "bgcolor": "white",
           "lakecolor": "white",
           "landcolor": "#E5ECF6",
           "showlakes": true,
           "showland": true,
           "subunitcolor": "white"
          },
          "hoverlabel": {
           "align": "left"
          },
          "hovermode": "closest",
          "mapbox": {
           "style": "light"
          },
          "paper_bgcolor": "white",
          "plot_bgcolor": "#E5ECF6",
          "polar": {
           "angularaxis": {
            "gridcolor": "white",
            "linecolor": "white",
            "ticks": ""
           },
           "bgcolor": "#E5ECF6",
           "radialaxis": {
            "gridcolor": "white",
            "linecolor": "white",
            "ticks": ""
           }
          },
          "scene": {
           "xaxis": {
            "backgroundcolor": "#E5ECF6",
            "gridcolor": "white",
            "gridwidth": 2,
            "linecolor": "white",
            "showbackground": true,
            "ticks": "",
            "zerolinecolor": "white"
           },
           "yaxis": {
            "backgroundcolor": "#E5ECF6",
            "gridcolor": "white",
            "gridwidth": 2,
            "linecolor": "white",
            "showbackground": true,
            "ticks": "",
            "zerolinecolor": "white"
           },
           "zaxis": {
            "backgroundcolor": "#E5ECF6",
            "gridcolor": "white",
            "gridwidth": 2,
            "linecolor": "white",
            "showbackground": true,
            "ticks": "",
            "zerolinecolor": "white"
           }
          },
          "shapedefaults": {
           "line": {
            "color": "#2a3f5f"
           }
          },
          "ternary": {
           "aaxis": {
            "gridcolor": "white",
            "linecolor": "white",
            "ticks": ""
           },
           "baxis": {
            "gridcolor": "white",
            "linecolor": "white",
            "ticks": ""
           },
           "bgcolor": "#E5ECF6",
           "caxis": {
            "gridcolor": "white",
            "linecolor": "white",
            "ticks": ""
           }
          },
          "title": {
           "x": 0.05
          },
          "xaxis": {
           "automargin": true,
           "gridcolor": "white",
           "linecolor": "white",
           "ticks": "",
           "title": {
            "standoff": 15
           },
           "zerolinecolor": "white",
           "zerolinewidth": 2
          },
          "yaxis": {
           "automargin": true,
           "gridcolor": "white",
           "linecolor": "white",
           "ticks": "",
           "title": {
            "standoff": 15
           },
           "zerolinecolor": "white",
           "zerolinewidth": 2
          }
         }
        },
        "title": {
         "font": {
          "color": "#4D5663"
         },
         "text": "Precision/Recall Tradeoff for label: 2"
        },
        "xaxis": {
         "gridcolor": "#E1E5ED",
         "showgrid": true,
         "tickfont": {
          "color": "#4D5663"
         },
         "title": {
          "font": {
           "color": "#4D5663"
          },
          "text": "Decision Threshold"
         },
         "zerolinecolor": "#E1E5ED"
        },
        "yaxis": {
         "gridcolor": "#E1E5ED",
         "showgrid": true,
         "tickfont": {
          "color": "#4D5663"
         },
         "title": {
          "font": {
           "color": "#4D5663"
          },
          "text": "Score"
         },
         "zerolinecolor": "#E1E5ED"
        }
       }
      },
      "text/html": [
       "<div>\n",
       "        \n",
       "        \n",
       "            <div id=\"4cdd7d20-e101-4fa1-81b0-5d6a7811a0d4\" class=\"plotly-graph-div\" style=\"height:525px; width:100%;\"></div>\n",
       "            <script type=\"text/javascript\">\n",
       "                require([\"plotly\"], function(Plotly) {\n",
       "                    window.PLOTLYENV=window.PLOTLYENV || {};\n",
       "                    window.PLOTLYENV.BASE_URL='https://plot.ly';\n",
       "                    \n",
       "                if (document.getElementById(\"4cdd7d20-e101-4fa1-81b0-5d6a7811a0d4\")) {\n",
       "                    Plotly.newPlot(\n",
       "                        '4cdd7d20-e101-4fa1-81b0-5d6a7811a0d4',\n",
       "                        [{\"line\": {\"color\": \"rgba(255, 153, 51, 1.0)\", \"dash\": \"solid\", \"shape\": \"linear\", \"width\": 1.3}, \"mode\": \"lines\", \"name\": \"Precision\", \"text\": \"\", \"type\": \"scatter\", \"x\": [0.49, 0.56, 0.58, 0.62, 0.66, 0.68, 0.7, 0.71, 0.72, 0.77, 0.79, 0.8, 0.81, 0.85, 0.86, 0.88, 0.89, 0.9, 0.91, 0.92, 0.93, null], \"y\": [0.9117647058823529, 0.9090909090909091, 0.90625, 0.9032258064516129, 0.9, 0.896551724137931, 0.9285714285714286, 0.9259259259259259, 0.96, 0.9583333333333334, 1.0, 1.0, 1.0, 1.0, 1.0, 1.0, 1.0, 1.0, 1.0, 1.0, 1.0, 1.0]}, {\"line\": {\"color\": \"rgba(55, 128, 191, 1.0)\", \"dash\": \"solid\", \"shape\": \"linear\", \"width\": 1.3}, \"mode\": \"lines\", \"name\": \"Recall\", \"text\": \"\", \"type\": \"scatter\", \"x\": [0.49, 0.56, 0.58, 0.62, 0.66, 0.68, 0.7, 0.71, 0.72, 0.77, 0.79, 0.8, 0.81, 0.85, 0.86, 0.88, 0.89, 0.9, 0.91, 0.92, 0.93, null], \"y\": [1.0, 0.967741935483871, 0.9354838709677419, 0.9032258064516129, 0.8709677419354839, 0.8387096774193549, 0.8387096774193549, 0.8064516129032258, 0.7741935483870968, 0.7419354838709677, 0.7419354838709677, 0.6774193548387096, 0.6129032258064516, 0.5806451612903226, 0.5483870967741935, 0.5161290322580645, 0.3548387096774194, 0.3225806451612903, 0.25806451612903225, 0.16129032258064516, 0.03225806451612903, 0.0]}],\n",
       "                        {\"legend\": {\"bgcolor\": \"#F5F6F9\", \"font\": {\"color\": \"#4D5663\"}}, \"paper_bgcolor\": \"#F5F6F9\", \"plot_bgcolor\": \"#F5F6F9\", \"template\": {\"data\": {\"bar\": [{\"error_x\": {\"color\": \"#2a3f5f\"}, \"error_y\": {\"color\": \"#2a3f5f\"}, \"marker\": {\"line\": {\"color\": \"#E5ECF6\", \"width\": 0.5}}, \"type\": \"bar\"}], \"barpolar\": [{\"marker\": {\"line\": {\"color\": \"#E5ECF6\", \"width\": 0.5}}, \"type\": \"barpolar\"}], \"carpet\": [{\"aaxis\": {\"endlinecolor\": \"#2a3f5f\", \"gridcolor\": \"white\", \"linecolor\": \"white\", \"minorgridcolor\": \"white\", \"startlinecolor\": \"#2a3f5f\"}, \"baxis\": {\"endlinecolor\": \"#2a3f5f\", \"gridcolor\": \"white\", \"linecolor\": \"white\", \"minorgridcolor\": \"white\", \"startlinecolor\": \"#2a3f5f\"}, \"type\": \"carpet\"}], \"choropleth\": [{\"colorbar\": {\"outlinewidth\": 0, \"ticks\": \"\"}, \"type\": \"choropleth\"}], \"contour\": [{\"colorbar\": {\"outlinewidth\": 0, \"ticks\": \"\"}, \"colorscale\": [[0.0, \"#0d0887\"], [0.1111111111111111, \"#46039f\"], [0.2222222222222222, \"#7201a8\"], [0.3333333333333333, \"#9c179e\"], [0.4444444444444444, \"#bd3786\"], [0.5555555555555556, \"#d8576b\"], [0.6666666666666666, \"#ed7953\"], [0.7777777777777778, \"#fb9f3a\"], [0.8888888888888888, \"#fdca26\"], [1.0, \"#f0f921\"]], \"type\": \"contour\"}], \"contourcarpet\": [{\"colorbar\": {\"outlinewidth\": 0, \"ticks\": \"\"}, \"type\": \"contourcarpet\"}], \"heatmap\": [{\"colorbar\": {\"outlinewidth\": 0, \"ticks\": \"\"}, \"colorscale\": [[0.0, \"#0d0887\"], [0.1111111111111111, \"#46039f\"], [0.2222222222222222, \"#7201a8\"], [0.3333333333333333, \"#9c179e\"], [0.4444444444444444, \"#bd3786\"], [0.5555555555555556, \"#d8576b\"], [0.6666666666666666, \"#ed7953\"], [0.7777777777777778, \"#fb9f3a\"], [0.8888888888888888, \"#fdca26\"], [1.0, \"#f0f921\"]], \"type\": \"heatmap\"}], \"heatmapgl\": [{\"colorbar\": {\"outlinewidth\": 0, \"ticks\": \"\"}, \"colorscale\": [[0.0, \"#0d0887\"], [0.1111111111111111, \"#46039f\"], [0.2222222222222222, \"#7201a8\"], [0.3333333333333333, \"#9c179e\"], [0.4444444444444444, \"#bd3786\"], [0.5555555555555556, \"#d8576b\"], [0.6666666666666666, \"#ed7953\"], [0.7777777777777778, \"#fb9f3a\"], [0.8888888888888888, \"#fdca26\"], [1.0, \"#f0f921\"]], \"type\": \"heatmapgl\"}], \"histogram\": [{\"marker\": {\"colorbar\": {\"outlinewidth\": 0, \"ticks\": \"\"}}, \"type\": \"histogram\"}], \"histogram2d\": [{\"colorbar\": {\"outlinewidth\": 0, \"ticks\": \"\"}, \"colorscale\": [[0.0, \"#0d0887\"], [0.1111111111111111, \"#46039f\"], [0.2222222222222222, \"#7201a8\"], [0.3333333333333333, \"#9c179e\"], [0.4444444444444444, \"#bd3786\"], [0.5555555555555556, \"#d8576b\"], [0.6666666666666666, \"#ed7953\"], [0.7777777777777778, \"#fb9f3a\"], [0.8888888888888888, \"#fdca26\"], [1.0, \"#f0f921\"]], \"type\": \"histogram2d\"}], \"histogram2dcontour\": [{\"colorbar\": {\"outlinewidth\": 0, \"ticks\": \"\"}, \"colorscale\": [[0.0, \"#0d0887\"], [0.1111111111111111, \"#46039f\"], [0.2222222222222222, \"#7201a8\"], [0.3333333333333333, \"#9c179e\"], [0.4444444444444444, \"#bd3786\"], [0.5555555555555556, \"#d8576b\"], [0.6666666666666666, \"#ed7953\"], [0.7777777777777778, \"#fb9f3a\"], [0.8888888888888888, \"#fdca26\"], [1.0, \"#f0f921\"]], \"type\": \"histogram2dcontour\"}], \"mesh3d\": [{\"colorbar\": {\"outlinewidth\": 0, \"ticks\": \"\"}, \"type\": \"mesh3d\"}], \"parcoords\": [{\"line\": {\"colorbar\": {\"outlinewidth\": 0, \"ticks\": \"\"}}, \"type\": \"parcoords\"}], \"pie\": [{\"automargin\": true, \"type\": \"pie\"}], \"scatter\": [{\"marker\": {\"colorbar\": {\"outlinewidth\": 0, \"ticks\": \"\"}}, \"type\": \"scatter\"}], \"scatter3d\": [{\"line\": {\"colorbar\": {\"outlinewidth\": 0, \"ticks\": \"\"}}, \"marker\": {\"colorbar\": {\"outlinewidth\": 0, \"ticks\": \"\"}}, \"type\": \"scatter3d\"}], \"scattercarpet\": [{\"marker\": {\"colorbar\": {\"outlinewidth\": 0, \"ticks\": \"\"}}, \"type\": \"scattercarpet\"}], \"scattergeo\": [{\"marker\": {\"colorbar\": {\"outlinewidth\": 0, \"ticks\": \"\"}}, \"type\": \"scattergeo\"}], \"scattergl\": [{\"marker\": {\"colorbar\": {\"outlinewidth\": 0, \"ticks\": \"\"}}, \"type\": \"scattergl\"}], \"scattermapbox\": [{\"marker\": {\"colorbar\": {\"outlinewidth\": 0, \"ticks\": \"\"}}, \"type\": \"scattermapbox\"}], \"scatterpolar\": [{\"marker\": {\"colorbar\": {\"outlinewidth\": 0, \"ticks\": \"\"}}, \"type\": \"scatterpolar\"}], \"scatterpolargl\": [{\"marker\": {\"colorbar\": {\"outlinewidth\": 0, \"ticks\": \"\"}}, \"type\": \"scatterpolargl\"}], \"scatterternary\": [{\"marker\": {\"colorbar\": {\"outlinewidth\": 0, \"ticks\": \"\"}}, \"type\": \"scatterternary\"}], \"surface\": [{\"colorbar\": {\"outlinewidth\": 0, \"ticks\": \"\"}, \"colorscale\": [[0.0, \"#0d0887\"], [0.1111111111111111, \"#46039f\"], [0.2222222222222222, \"#7201a8\"], [0.3333333333333333, \"#9c179e\"], [0.4444444444444444, \"#bd3786\"], [0.5555555555555556, \"#d8576b\"], [0.6666666666666666, \"#ed7953\"], [0.7777777777777778, \"#fb9f3a\"], [0.8888888888888888, \"#fdca26\"], [1.0, \"#f0f921\"]], \"type\": \"surface\"}], \"table\": [{\"cells\": {\"fill\": {\"color\": \"#EBF0F8\"}, \"line\": {\"color\": \"white\"}}, \"header\": {\"fill\": {\"color\": \"#C8D4E3\"}, \"line\": {\"color\": \"white\"}}, \"type\": \"table\"}]}, \"layout\": {\"annotationdefaults\": {\"arrowcolor\": \"#2a3f5f\", \"arrowhead\": 0, \"arrowwidth\": 1}, \"coloraxis\": {\"colorbar\": {\"outlinewidth\": 0, \"ticks\": \"\"}}, \"colorscale\": {\"diverging\": [[0, \"#8e0152\"], [0.1, \"#c51b7d\"], [0.2, \"#de77ae\"], [0.3, \"#f1b6da\"], [0.4, \"#fde0ef\"], [0.5, \"#f7f7f7\"], [0.6, \"#e6f5d0\"], [0.7, \"#b8e186\"], [0.8, \"#7fbc41\"], [0.9, \"#4d9221\"], [1, \"#276419\"]], \"sequential\": [[0.0, \"#0d0887\"], [0.1111111111111111, \"#46039f\"], [0.2222222222222222, \"#7201a8\"], [0.3333333333333333, \"#9c179e\"], [0.4444444444444444, \"#bd3786\"], [0.5555555555555556, \"#d8576b\"], [0.6666666666666666, \"#ed7953\"], [0.7777777777777778, \"#fb9f3a\"], [0.8888888888888888, \"#fdca26\"], [1.0, \"#f0f921\"]], \"sequentialminus\": [[0.0, \"#0d0887\"], [0.1111111111111111, \"#46039f\"], [0.2222222222222222, \"#7201a8\"], [0.3333333333333333, \"#9c179e\"], [0.4444444444444444, \"#bd3786\"], [0.5555555555555556, \"#d8576b\"], [0.6666666666666666, \"#ed7953\"], [0.7777777777777778, \"#fb9f3a\"], [0.8888888888888888, \"#fdca26\"], [1.0, \"#f0f921\"]]}, \"colorway\": [\"#636efa\", \"#EF553B\", \"#00cc96\", \"#ab63fa\", \"#FFA15A\", \"#19d3f3\", \"#FF6692\", \"#B6E880\", \"#FF97FF\", \"#FECB52\"], \"font\": {\"color\": \"#2a3f5f\"}, \"geo\": {\"bgcolor\": \"white\", \"lakecolor\": \"white\", \"landcolor\": \"#E5ECF6\", \"showlakes\": true, \"showland\": true, \"subunitcolor\": \"white\"}, \"hoverlabel\": {\"align\": \"left\"}, \"hovermode\": \"closest\", \"mapbox\": {\"style\": \"light\"}, \"paper_bgcolor\": \"white\", \"plot_bgcolor\": \"#E5ECF6\", \"polar\": {\"angularaxis\": {\"gridcolor\": \"white\", \"linecolor\": \"white\", \"ticks\": \"\"}, \"bgcolor\": \"#E5ECF6\", \"radialaxis\": {\"gridcolor\": \"white\", \"linecolor\": \"white\", \"ticks\": \"\"}}, \"scene\": {\"xaxis\": {\"backgroundcolor\": \"#E5ECF6\", \"gridcolor\": \"white\", \"gridwidth\": 2, \"linecolor\": \"white\", \"showbackground\": true, \"ticks\": \"\", \"zerolinecolor\": \"white\"}, \"yaxis\": {\"backgroundcolor\": \"#E5ECF6\", \"gridcolor\": \"white\", \"gridwidth\": 2, \"linecolor\": \"white\", \"showbackground\": true, \"ticks\": \"\", \"zerolinecolor\": \"white\"}, \"zaxis\": {\"backgroundcolor\": \"#E5ECF6\", \"gridcolor\": \"white\", \"gridwidth\": 2, \"linecolor\": \"white\", \"showbackground\": true, \"ticks\": \"\", \"zerolinecolor\": \"white\"}}, \"shapedefaults\": {\"line\": {\"color\": \"#2a3f5f\"}}, \"ternary\": {\"aaxis\": {\"gridcolor\": \"white\", \"linecolor\": \"white\", \"ticks\": \"\"}, \"baxis\": {\"gridcolor\": \"white\", \"linecolor\": \"white\", \"ticks\": \"\"}, \"bgcolor\": \"#E5ECF6\", \"caxis\": {\"gridcolor\": \"white\", \"linecolor\": \"white\", \"ticks\": \"\"}}, \"title\": {\"x\": 0.05}, \"xaxis\": {\"automargin\": true, \"gridcolor\": \"white\", \"linecolor\": \"white\", \"ticks\": \"\", \"title\": {\"standoff\": 15}, \"zerolinecolor\": \"white\", \"zerolinewidth\": 2}, \"yaxis\": {\"automargin\": true, \"gridcolor\": \"white\", \"linecolor\": \"white\", \"ticks\": \"\", \"title\": {\"standoff\": 15}, \"zerolinecolor\": \"white\", \"zerolinewidth\": 2}}}, \"title\": {\"font\": {\"color\": \"#4D5663\"}, \"text\": \"Precision/Recall Tradeoff for label: 2\"}, \"xaxis\": {\"gridcolor\": \"#E1E5ED\", \"showgrid\": true, \"tickfont\": {\"color\": \"#4D5663\"}, \"title\": {\"font\": {\"color\": \"#4D5663\"}, \"text\": \"Decision Threshold\"}, \"zerolinecolor\": \"#E1E5ED\"}, \"yaxis\": {\"gridcolor\": \"#E1E5ED\", \"showgrid\": true, \"tickfont\": {\"color\": \"#4D5663\"}, \"title\": {\"font\": {\"color\": \"#4D5663\"}, \"text\": \"Score\"}, \"zerolinecolor\": \"#E1E5ED\"}},\n",
       "                        {\"showLink\": true, \"linkText\": \"Export to plot.ly\", \"plotlyServerURL\": \"https://plot.ly\", \"responsive\": true}\n",
       "                    ).then(function(){\n",
       "                            \n",
       "var gd = document.getElementById('4cdd7d20-e101-4fa1-81b0-5d6a7811a0d4');\n",
       "var x = new MutationObserver(function (mutations, observer) {{\n",
       "        var display = window.getComputedStyle(gd).display;\n",
       "        if (!display || display === 'none') {{\n",
       "            console.log([gd, 'removed!']);\n",
       "            Plotly.purge(gd);\n",
       "            observer.disconnect();\n",
       "        }}\n",
       "}});\n",
       "\n",
       "// Listen for the removal of the full notebook cells\n",
       "var notebookContainer = gd.closest('#notebook-container');\n",
       "if (notebookContainer) {{\n",
       "    x.observe(notebookContainer, {childList: true});\n",
       "}}\n",
       "\n",
       "// Listen for the clearing of the current output cell\n",
       "var outputEl = gd.closest('.output');\n",
       "if (outputEl) {{\n",
       "    x.observe(outputEl, {childList: true});\n",
       "}}\n",
       "\n",
       "                        })\n",
       "                };\n",
       "                });\n",
       "            </script>\n",
       "        </div>"
      ]
     },
     "metadata": {},
     "output_type": "display_data"
    }
   ],
   "source": [
    "# taken from https://www.kaggle.com/kevinarvai/fine-tuning-a-classifier-in-scikit-learn\n",
    "\n",
    "from sklearn.metrics import precision_recall_curve\n",
    "from sklearn import preprocessing\n",
    "from sklearn.multiclass import OneVsRestClassifier\n",
    "\n",
    "import plotly.graph_objs as go\n",
    "import chart_studio.plotly as py\n",
    "import cufflinks\n",
    "from IPython.core.interactiveshell import InteractiveShell\n",
    "InteractiveShell.ast_node_interactivity = 'all'\n",
    "from plotly.offline import iplot\n",
    "\n",
    "\n",
    "def test():\n",
    "    clf_o = OneVsRestClassifier(RandomForestClassifier())\n",
    "    \n",
    "    y_train_bins = preprocessing.label_binarize(model.y_train, classes=[0, 1, 2])\n",
    "    clf_o.fit(model.X_train, y_train_bins)\n",
    "    \n",
    "    X = list(data.apply(lambda x: model.extract_features2vector(x.to_dict()), axis=1))\n",
    "    y = data['search_results.label']\n",
    "    \n",
    "    \n",
    "    y_scores = clf_o.predict_proba(X)\n",
    "    y_bins = preprocessing.label_binarize(y, classes=[0, 1, 2])\n",
    "    \n",
    "    cufflinks.go_offline()\n",
    "    cufflinks.set_config_file(world_readable=True, theme='pearl')\n",
    "\n",
    "    for i in range(3):\n",
    "        precision_recall = precision_recall_curve(y_bins[:, i], y_scores[:, i])\n",
    "        precision_recall = pd.DataFrame.from_records(precision_recall).T\n",
    "        precision_recall.columns = ['Precision', 'Recall', 'Thresholds']\n",
    "        precision_recall.iplot(x='Thresholds', xTitle='Decision Threshold',yTitle='Score', \n",
    "                               title='Precision/Recall Tradeoff for label: ' + str(i))\n",
    "\n",
    "test()"
   ]
  },
  {
   "cell_type": "markdown",
   "metadata": {},
   "source": [
    "# Draft"
   ]
  },
  {
   "cell_type": "code",
   "execution_count": 15,
   "metadata": {},
   "outputs": [
    {
     "name": "stdout",
     "output_type": "stream",
     "text": [
      "{'search_results.title': 'Delphine Fawundu', 'search_results.snippet': 'Adama Delphine Fawundu (born 1971) is an American multi-disciplinary photographer and visual artist promoting African culture and heritage, a co-founder', 'search_results.label': 2, 'name': 'Delphine A Fawundu', 'department': 'Visual Arts'}\n",
      "{'__name_match_title': True, '__name_match_title2': True, '__name_similarity_title': 0.9652777777777778, '__name_match_snippet': True, '__name_match_snippet2': True, '__department_similarity_snippet': 0.5249601275917065, '__columbia_match_snippet': False, '__word_adama': True, '__word_delphin': True, '__word_fawundu': True, '__word_(': True, '__word_born': True, '__word_1971': True, '__word_)': True, '__word_is': True, '__word_an': True, '__word_american': True, '__word_multi-disciplinari': True, '__word_photograph': True, '__word_and': True, '__word_visual': True, '__word_artist': True, '__word_promot': True, '__word_african': True, '__word_cultur': True, '__word_heritag': True, '__word_,': True, '__word_a': True, '__word_co-found': True}\n"
     ]
    },
    {
     "data": {
      "text/html": [
       "<div>\n",
       "<style scoped>\n",
       "    .dataframe tbody tr th:only-of-type {\n",
       "        vertical-align: middle;\n",
       "    }\n",
       "\n",
       "    .dataframe tbody tr th {\n",
       "        vertical-align: top;\n",
       "    }\n",
       "\n",
       "    .dataframe thead th {\n",
       "        text-align: right;\n",
       "    }\n",
       "</style>\n",
       "<table border=\"1\" class=\"dataframe\">\n",
       "  <thead>\n",
       "    <tr style=\"text-align: right;\">\n",
       "      <th></th>\n",
       "      <th>search_results.title</th>\n",
       "      <th>search_results.snippet</th>\n",
       "      <th>search_results.label</th>\n",
       "      <th>name</th>\n",
       "      <th>department</th>\n",
       "    </tr>\n",
       "  </thead>\n",
       "  <tbody>\n",
       "    <tr>\n",
       "      <th>2</th>\n",
       "      <td>Delphine Fawundu</td>\n",
       "      <td>Adama Delphine Fawundu (born 1971) is an Ameri...</td>\n",
       "      <td>2</td>\n",
       "      <td>Delphine A Fawundu</td>\n",
       "      <td>Visual Arts</td>\n",
       "    </tr>\n",
       "  </tbody>\n",
       "</table>\n",
       "</div>"
      ],
      "text/plain": [
       "  search_results.title                             search_results.snippet  \\\n",
       "2     Delphine Fawundu  Adama Delphine Fawundu (born 1971) is an Ameri...   \n",
       "\n",
       "   search_results.label                name   department  \n",
       "2                     2  Delphine A Fawundu  Visual Arts  "
      ]
     },
     "metadata": {},
     "output_type": "display_data"
    },
    {
     "name": "stdout",
     "output_type": "stream",
     "text": [
      "{'search_results.title': 'Mark N. Brown', 'search_results.snippet': 'Mark Neil Brown (born November 18, 1951) is an American engineer, retired colonel in the United States Air Force and former NASA astronaut. Brown spent', 'search_results.label': 1, 'name': 'Mark Brown', 'department': 'Statistics'}\n",
      "{'__name_match_title': True, '__name_match_title2': True, '__name_similarity_title': 0.9138461538461539, '__name_match_snippet': True, '__name_match_snippet2': True, '__department_similarity_snippet': 0.3799116997792493, '__columbia_match_snippet': False, '__word_mark': True, '__word_neil': True, '__word_brown': True, '__word_(': True, '__word_born': True, '__word_novemb': True, '__word_18': True, '__word_,': True, '__word_1951': True, '__word_)': True, '__word_is': True, '__word_an': True, '__word_american': True, '__word_engin': True, '__word_retir': True, '__word_colonel': True, '__word_in': True, '__word_the': True, '__word_unit': True, '__word_state': True, '__word_air': True, '__word_forc': True, '__word_and': True, '__word_former': True, '__word_nasa': True, '__word_astronaut': True, '__word_.': True, '__word_spent': True}\n"
     ]
    },
    {
     "data": {
      "text/html": [
       "<div>\n",
       "<style scoped>\n",
       "    .dataframe tbody tr th:only-of-type {\n",
       "        vertical-align: middle;\n",
       "    }\n",
       "\n",
       "    .dataframe tbody tr th {\n",
       "        vertical-align: top;\n",
       "    }\n",
       "\n",
       "    .dataframe thead th {\n",
       "        text-align: right;\n",
       "    }\n",
       "</style>\n",
       "<table border=\"1\" class=\"dataframe\">\n",
       "  <thead>\n",
       "    <tr style=\"text-align: right;\">\n",
       "      <th></th>\n",
       "      <th>search_results.title</th>\n",
       "      <th>search_results.snippet</th>\n",
       "      <th>search_results.label</th>\n",
       "      <th>name</th>\n",
       "      <th>department</th>\n",
       "    </tr>\n",
       "  </thead>\n",
       "  <tbody>\n",
       "    <tr>\n",
       "      <th>188</th>\n",
       "      <td>Mark N. Brown</td>\n",
       "      <td>Mark Neil Brown (born November 18, 1951) is an...</td>\n",
       "      <td>1</td>\n",
       "      <td>Mark Brown</td>\n",
       "      <td>Statistics</td>\n",
       "    </tr>\n",
       "  </tbody>\n",
       "</table>\n",
       "</div>"
      ],
      "text/plain": [
       "    search_results.title                             search_results.snippet  \\\n",
       "188        Mark N. Brown  Mark Neil Brown (born November 18, 1951) is an...   \n",
       "\n",
       "     search_results.label        name  department  \n",
       "188                     1  Mark Brown  Statistics  "
      ]
     },
     "metadata": {},
     "output_type": "display_data"
    },
    {
     "name": "stdout",
     "output_type": "stream",
     "text": [
      "{'search_results.title': 'David Rosner', 'search_results.snippet': 'David Rosner is the Ronald H. Lauterstein Professor of Sociomedical Sciences and professor of history in the Graduate School of Arts and Sciences at Columbia', 'search_results.label': 2, 'name': 'David Rosner', 'department': 'Sociomedical Sciences'}\n",
      "{'__name_match_title': True, '__name_match_title2': True, '__name_similarity_title': 1.0, '__name_match_snippet': True, '__name_match_snippet2': True, '__department_similarity_snippet': 0.5842685269436861, '__columbia_match_snippet': True, '__word_david': True, '__word_rosner': True, '__word_is': True, '__word_the': True, '__word_ronald': True, '__word_H.': True, '__word_lauterstein': True, '__word_professor': True, '__word_of': True, '__word_sociomed': True, '__word_scienc': True, '__word_and': True, '__word_histori': True, '__word_in': True, '__word_graduat': True, '__word_school': True, '__word_art': True, '__word_at': True, '__word_columbia': True}\n"
     ]
    },
    {
     "data": {
      "text/html": [
       "<div>\n",
       "<style scoped>\n",
       "    .dataframe tbody tr th:only-of-type {\n",
       "        vertical-align: middle;\n",
       "    }\n",
       "\n",
       "    .dataframe tbody tr th {\n",
       "        vertical-align: top;\n",
       "    }\n",
       "\n",
       "    .dataframe thead th {\n",
       "        text-align: right;\n",
       "    }\n",
       "</style>\n",
       "<table border=\"1\" class=\"dataframe\">\n",
       "  <thead>\n",
       "    <tr style=\"text-align: right;\">\n",
       "      <th></th>\n",
       "      <th>search_results.title</th>\n",
       "      <th>search_results.snippet</th>\n",
       "      <th>search_results.label</th>\n",
       "      <th>name</th>\n",
       "      <th>department</th>\n",
       "    </tr>\n",
       "  </thead>\n",
       "  <tbody>\n",
       "    <tr>\n",
       "      <th>254</th>\n",
       "      <td>David Rosner</td>\n",
       "      <td>David Rosner is the Ronald H. Lauterstein Prof...</td>\n",
       "      <td>2</td>\n",
       "      <td>David Rosner</td>\n",
       "      <td>Sociomedical Sciences</td>\n",
       "    </tr>\n",
       "  </tbody>\n",
       "</table>\n",
       "</div>"
      ],
      "text/plain": [
       "    search_results.title                             search_results.snippet  \\\n",
       "254         David Rosner  David Rosner is the Ronald H. Lauterstein Prof...   \n",
       "\n",
       "     search_results.label          name             department  \n",
       "254                     2  David Rosner  Sociomedical Sciences  "
      ]
     },
     "metadata": {},
     "output_type": "display_data"
    },
    {
     "name": "stdout",
     "output_type": "stream",
     "text": [
      "{'search_results.title': 'Andrew Jacobs (journalist)', 'search_results.snippet': 'Andrew Jacobs is an American correspondent for The New York Times. Jacobs has been based in Beijing, China, since April 2008, covering the country for', 'search_results.label': 1, 'name': 'Andrew Jacobs', 'department': 'Finance'}\n",
      "{'__name_match_title': True, '__name_match_title2': True, '__name_similarity_title': 0.9, '__name_match_snippet': True, '__name_match_snippet2': True, '__department_similarity_snippet': 0.5393650793650794, '__columbia_match_snippet': False, '__word_andrew': True, '__word_jacob': True, '__word_is': True, '__word_an': True, '__word_american': True, '__word_correspond': True, '__word_for': True, '__word_the': True, '__word_new': True, '__word_york': True, '__word_time': True, '__word_.': True, '__word_ha': True, '__word_been': True, '__word_base': True, '__word_in': True, '__word_beij': True, '__word_,': True, '__word_china': True, '__word_sinc': True, '__word_april': True, '__word_2008': True, '__word_cover': True, '__word_countri': True}\n"
     ]
    },
    {
     "data": {
      "text/html": [
       "<div>\n",
       "<style scoped>\n",
       "    .dataframe tbody tr th:only-of-type {\n",
       "        vertical-align: middle;\n",
       "    }\n",
       "\n",
       "    .dataframe tbody tr th {\n",
       "        vertical-align: top;\n",
       "    }\n",
       "\n",
       "    .dataframe thead th {\n",
       "        text-align: right;\n",
       "    }\n",
       "</style>\n",
       "<table border=\"1\" class=\"dataframe\">\n",
       "  <thead>\n",
       "    <tr style=\"text-align: right;\">\n",
       "      <th></th>\n",
       "      <th>search_results.title</th>\n",
       "      <th>search_results.snippet</th>\n",
       "      <th>search_results.label</th>\n",
       "      <th>name</th>\n",
       "      <th>department</th>\n",
       "    </tr>\n",
       "  </thead>\n",
       "  <tbody>\n",
       "    <tr>\n",
       "      <th>237</th>\n",
       "      <td>Andrew Jacobs (journalist)</td>\n",
       "      <td>Andrew Jacobs is an American correspondent for...</td>\n",
       "      <td>1</td>\n",
       "      <td>Andrew Jacobs</td>\n",
       "      <td>Finance</td>\n",
       "    </tr>\n",
       "  </tbody>\n",
       "</table>\n",
       "</div>"
      ],
      "text/plain": [
       "           search_results.title  \\\n",
       "237  Andrew Jacobs (journalist)   \n",
       "\n",
       "                                search_results.snippet  search_results.label  \\\n",
       "237  Andrew Jacobs is an American correspondent for...                     1   \n",
       "\n",
       "              name department  \n",
       "237  Andrew Jacobs    Finance  "
      ]
     },
     "metadata": {},
     "output_type": "display_data"
    },
    {
     "name": "stdout",
     "output_type": "stream",
     "text": [
      "{'search_results.title': 'Michael Eric Dyson', 'search_results.snippet': 'Michael Eric Dyson (born 1958) is an academic, author, preacher, and radio host. He is Professor of Sociology at Georgetown University. Described by Michael', 'search_results.label': 0, 'name': 'Michael P McNeil', 'department': 'Sociomedical Sciences'}\n",
      "{'__name_match_title': False, '__name_match_title2': False, '__name_similarity_title': 0.8761752136752138, '__name_match_snippet': False, '__name_match_snippet2': False, '__department_similarity_snippet': 0.5845543345543346, '__columbia_match_snippet': False, '__word_michael': True, '__word_eric': True, '__word_dyson': True, '__word_(': True, '__word_born': True, '__word_1958': True, '__word_)': True, '__word_is': True, '__word_an': True, '__word_academ': True, '__word_,': True, '__word_author': True, '__word_preacher': True, '__word_and': True, '__word_radio': True, '__word_host': True, '__word_.': True, '__word_He': True, '__word_professor': True, '__word_of': True, '__word_sociolog': True, '__word_at': True, '__word_georgetown': True, '__word_univers': True, '__word_describ': True, '__word_by': True}\n"
     ]
    },
    {
     "data": {
      "text/html": [
       "<div>\n",
       "<style scoped>\n",
       "    .dataframe tbody tr th:only-of-type {\n",
       "        vertical-align: middle;\n",
       "    }\n",
       "\n",
       "    .dataframe tbody tr th {\n",
       "        vertical-align: top;\n",
       "    }\n",
       "\n",
       "    .dataframe thead th {\n",
       "        text-align: right;\n",
       "    }\n",
       "</style>\n",
       "<table border=\"1\" class=\"dataframe\">\n",
       "  <thead>\n",
       "    <tr style=\"text-align: right;\">\n",
       "      <th></th>\n",
       "      <th>search_results.title</th>\n",
       "      <th>search_results.snippet</th>\n",
       "      <th>search_results.label</th>\n",
       "      <th>name</th>\n",
       "      <th>department</th>\n",
       "    </tr>\n",
       "  </thead>\n",
       "  <tbody>\n",
       "    <tr>\n",
       "      <th>462</th>\n",
       "      <td>Michael Eric Dyson</td>\n",
       "      <td>Michael Eric Dyson (born 1958) is an academic,...</td>\n",
       "      <td>0</td>\n",
       "      <td>Michael P McNeil</td>\n",
       "      <td>Sociomedical Sciences</td>\n",
       "    </tr>\n",
       "  </tbody>\n",
       "</table>\n",
       "</div>"
      ],
      "text/plain": [
       "    search_results.title                             search_results.snippet  \\\n",
       "462   Michael Eric Dyson  Michael Eric Dyson (born 1958) is an academic,...   \n",
       "\n",
       "     search_results.label              name             department  \n",
       "462                     0  Michael P McNeil  Sociomedical Sciences  "
      ]
     },
     "metadata": {},
     "output_type": "display_data"
    }
   ],
   "source": [
    "# Viewing samples and its features\n",
    "model.view_sample(2)\n",
    "model.view_sample(188)\n",
    "model.view_sample(254)\n",
    "model.view_sample(237)\n",
    "model.view_sample(462)"
   ]
  },
  {
   "cell_type": "code",
   "execution_count": 54,
   "metadata": {},
   "outputs": [
    {
     "name": "stdout",
     "output_type": "stream",
     "text": [
      "[False, True, False, False]\n",
      "[2]\n"
     ]
    }
   ],
   "source": [
    "# testing NB on small data\n",
    "def test():\n",
    "    X = np.array([{\"a\": True, \"b\": True}, {\"a\": True, \"c\": True}, {\"b\": True, \"d\": True}])\n",
    "    Y = np.array([1, 1, 2])\n",
    "    # Y = np.array([[1, 0], [1, 0], [0, 1]])\n",
    "\n",
    "    d2v = get_dict2vec_converter(X)\n",
    "\n",
    "    vecX = []\n",
    "    for x in X:\n",
    "        vecX.append(d2v(x))\n",
    "    vecX = np.array(vecX)\n",
    "\n",
    "    clf = GaussianNB()\n",
    "    clf.fit(vecX, Y)\n",
    "    test = d2v({'b': True})\n",
    "    print(test)\n",
    "    print(clf.predict([test]))\n",
    "test()"
   ]
  },
  {
   "cell_type": "code",
   "execution_count": 16,
   "metadata": {},
   "outputs": [
    {
     "name": "stdout",
     "output_type": "stream",
     "text": [
      "name:  levenshtein\n",
      "0.8888888888888888\n",
      "0.7692307692307692\n",
      "0.125\n",
      "1.0\n",
      "0.5\n",
      "0.5\n",
      "0.08974358974358976\n",
      "0.05369127516778527\n",
      "0.05921052631578949\n",
      "name:  jaro_winkler\n",
      "0.9777777777777777\n",
      "0.9538461538461538\n",
      "0.46666666666666656\n",
      "1.0\n",
      "0.9\n",
      "0.9\n",
      "0.5811965811965812\n",
      "0.4686546674801708\n",
      "0.5249601275917065\n",
      "name:  jaccard\n",
      "0.6666666666666666\n",
      "0.6666666666666666\n",
      "0.0\n",
      "1.0\n",
      "0.6666666666666666\n",
      "0.6666666666666666\n",
      "0.038461538461538436\n",
      "0.0\n",
      "0.04761904761904767\n",
      "name:  sorensen\n",
      "0.8\n",
      "0.8\n",
      "0.0\n",
      "1.0\n",
      "0.8\n",
      "0.8\n",
      "0.07407407407407407\n",
      "0.0\n",
      "0.09090909090909094\n"
     ]
    }
   ],
   "source": [
    "# evaluating string distance/similarity functions\n",
    "def test_distances(name, words_match_partial):\n",
    "    print(\"name: \", name)\n",
    "    print(words_match_partial(\"Delphine Fawundu\", \"Delphine A Fawundu\"))\n",
    "    print(words_match_partial(\"Mark Brown\", \"Mark N. Brown\"))\n",
    "    print(words_match_partial(\"Mark Brown\", \"Grisha Temchenko\"))\n",
    "    print(words_match_partial(\"Delphine Fawundu\", \"Delphine Fawundu\"))\n",
    "    print(words_match_partial(\"Andrew Jacobs (journalist)\", \"Andrew Jacobs\"))\n",
    "    print(words_match_partial(\"Andrew Jacobs\", \"Andrew Jacobs (journalist)\"))\n",
    "    print(words_match_partial('Michael Eric Dyson (born 1958) is an academic, author, preacher, and radio host. He is Professor of Sociology at Georgetown University. Described by Michael',\n",
    "                             'Michael P McNeil'))\n",
    "    print(words_match_partial('Christine Ann Wellington OBE (born 18 February 1977) is an English former professional triathlete and four-time Ironman Triathlon World Champion. She',\n",
    "                             'Social Work'))\n",
    "    print(words_match_partial('Adama Delphine Fawundu (born 1971) is an American multi-disciplinary photographer and visual artist promoting African culture and heritage, a co-founder',\n",
    "                             'Visual Arts'))\n",
    "    \n",
    "test_distances(\"levenshtein\", textdistance.levenshtein.normalized_similarity)\n",
    "test_distances(\"jaro_winkler\", textdistance.jaro_winkler.normalized_similarity)\n",
    "test_distances(\"jaccard\", lambda x, y: textdistance.jaccard.normalized_similarity(x.lower().split(), y.lower().split()))\n",
    "test_distances(\"sorensen\", lambda x, y: textdistance.sorensen.normalized_similarity(x.lower().split(), y.lower().split()))"
   ]
  },
  {
   "cell_type": "code",
   "execution_count": 19,
   "metadata": {},
   "outputs": [
    {
     "name": "stdout",
     "output_type": "stream",
     "text": [
      "              precision    recall  f1-score   support\n",
      "\n",
      "           0       0.86      1.00      0.92         6\n",
      "           1       1.00      0.83      0.91         6\n",
      "           2       1.00      1.00      1.00         7\n",
      "\n",
      "    accuracy                           0.95        19\n",
      "   macro avg       0.95      0.94      0.94        19\n",
      "weighted avg       0.95      0.95      0.95        19\n",
      "\n",
      "Predicted:\n",
      "[2 0 0 0 1 2 0 2 2 1 0 1 1 2 2 0 2 1 0]\n",
      "True:\n",
      "[2 0 0 0 1 2 0 2 2 1 1 1 1 2 2 0 2 1 0]\n"
     ]
    },
    {
     "data": {
      "text/plain": [
       "search_results.label    \n",
       "2                     7     2\n",
       "0                     14    0\n",
       "                      20    0\n",
       "                      7     0\n",
       "1                     14    1\n",
       "2                     28    2\n",
       "0                     6     0\n",
       "2                     6     2\n",
       "                      13    2\n",
       "1                     15    1\n",
       "                      26    1\n",
       "                      29    1\n",
       "                      27    1\n",
       "2                     14    2\n",
       "                      2     2\n",
       "0                     10    0\n",
       "2                     11    2\n",
       "1                     9     1\n",
       "0                     28    0\n",
       "Name: search_results.label, dtype: int64"
      ]
     },
     "metadata": {},
     "output_type": "display_data"
    },
    {
     "name": "stdout",
     "output_type": "stream",
     "text": [
      "Confusion Matrix:\n",
      "          neg  possible  match\n",
      "neg         6         0      0\n",
      "possible    1         5      0\n",
      "match       0         0      7\n"
     ]
    }
   ],
   "source": [
    "from sklearn.metrics import confusion_matrix\n",
    "\n",
    "# Random forest classifier\n",
    "clf = RandomForestClassifier(n_jobs=-1, n_estimators=100)#, max_depth=3)\n",
    "clf.fit(model.X_train, model.y_train)\n",
    "\n",
    "# evaluate model\n",
    "ypred = clf.predict(model.X_test)\n",
    "print(classification_report(model.y_test, ypred))\n",
    "model.show_true_pred(model.y_test, ypred)\n",
    "display(model.y_test)\n",
    "\n",
    "print(\"Confusion Matrix:\")\n",
    "print(pd.DataFrame(confusion_matrix(model.y_test, ypred),\n",
    "        columns=['neg', 'possible', 'match'], index=['neg', 'possible', 'match']))"
   ]
  },
  {
   "cell_type": "code",
   "execution_count": null,
   "metadata": {},
   "outputs": [],
   "source": []
  }
 ],
 "metadata": {
  "kernelspec": {
   "display_name": "Python 3",
   "language": "python",
   "name": "python3"
  },
  "language_info": {
   "codemirror_mode": {
    "name": "ipython",
    "version": 3
   },
   "file_extension": ".py",
   "mimetype": "text/x-python",
   "name": "python",
   "nbconvert_exporter": "python",
   "pygments_lexer": "ipython3",
   "version": "3.7.3"
  },
  "toc": {
   "base_numbering": 1,
   "nav_menu": {},
   "number_sections": true,
   "sideBar": true,
   "skip_h1_title": false,
   "title_cell": "Table of Contents",
   "title_sidebar": "Contents",
   "toc_cell": false,
   "toc_position": {
    "height": "calc(100% - 180px)",
    "left": "10px",
    "top": "150px",
    "width": "288px"
   },
   "toc_section_display": true,
   "toc_window_display": true
  }
 },
 "nbformat": 4,
 "nbformat_minor": 2
}
