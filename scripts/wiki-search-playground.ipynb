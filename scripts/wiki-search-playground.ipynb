{
 "cells": [
  {
   "cell_type": "markdown",
   "metadata": {},
   "source": [
    "# Setup"
   ]
  },
  {
   "cell_type": "code",
   "execution_count": 1,
   "metadata": {},
   "outputs": [],
   "source": [
    "%load_ext autoreload"
   ]
  },
  {
   "cell_type": "code",
   "execution_count": 2,
   "metadata": {},
   "outputs": [],
   "source": [
    "%autoreload 2"
   ]
  },
  {
   "cell_type": "code",
   "execution_count": 3,
   "metadata": {},
   "outputs": [],
   "source": [
    "import os\n",
    "from os.path import dirname, abspath\n",
    "import sys\n",
    "sys.path.append(\"/Users/soid/Dropbox/Code/2020/columbia-catalog\")\n",
    "sys.path.append(os.path.join('D:\\\\', 'Dropbox', 'Code', '2020', 'columbia-catalog'))\n",
    "\n",
    "from cu_catalog import config\n",
    "\n",
    "import pandas as pd\n",
    "from pandas.io.json import json_normalize\n",
    "\n",
    "import matplotlib.pyplot as plt\n",
    "\n",
    "import numpy as np\n",
    "\n",
    "\n",
    "from sklearn.naive_bayes import GaussianNB\n",
    "from sklearn.ensemble import RandomForestClassifier\n",
    "from sklearn.model_selection import train_test_split\n",
    "from sklearn.metrics import accuracy_score, classification_report\n",
    "\n",
    "from nltk.tokenize import word_tokenize\n",
    "from nltk.stem import PorterStemmer\n",
    "\n",
    "import torch\n",
    "\n",
    "import textdistance"
   ]
  },
  {
   "cell_type": "code",
   "execution_count": 4,
   "metadata": {},
   "outputs": [
    {
     "name": "stderr",
     "output_type": "stream",
     "text": [
      "[nltk_data] Downloading package punkt to\n",
      "[nltk_data]     C:\\Users\\soide\\AppData\\Roaming\\nltk_data...\n",
      "[nltk_data]   Package punkt is already up-to-date!\n"
     ]
    },
    {
     "data": {
      "text/plain": [
       "True"
      ]
     },
     "execution_count": 4,
     "metadata": {},
     "output_type": "execute_result"
    }
   ],
   "source": [
    "import nltk\n",
    "nltk.download('punkt')"
   ]
  },
  {
   "cell_type": "markdown",
   "metadata": {},
   "source": [
    "## Install needed packages"
   ]
  },
  {
   "cell_type": "code",
   "execution_count": 3,
   "metadata": {
    "tags": []
   },
   "outputs": [
    {
     "name": "stderr",
     "output_type": "stream",
     "text": [
      "'{sys.executable}' is not recognized as an internal or external command,\n",
      "operable program or batch file.\n"
     ]
    }
   ],
   "source": [
    "!{sys.executable} -m pip install 'Unidecode'"
   ]
  },
  {
   "cell_type": "code",
   "execution_count": 4,
   "metadata": {
    "tags": []
   },
   "outputs": [
    {
     "name": "stderr",
     "output_type": "stream",
     "text": [
      "ERROR: Invalid requirement: \"'sklearn'\"\n",
      "WARNING: Ignoring invalid distribution -andas (c:\\users\\soide\\appdata\\local\\programs\\python\\python38\\lib\\site-packages)\n",
      "ERROR: Invalid requirement: \"'pandas'\"\n",
      "WARNING: Ignoring invalid distribution -andas (c:\\users\\soide\\appdata\\local\\programs\\python\\python38\\lib\\site-packages)\n",
      "WARNING: Ignoring invalid distribution -andas (c:\\users\\soide\\appdata\\local\\programs\\python\\python38\\lib\\site-packages)\n",
      "WARNING: Ignoring invalid distribution -andas (c:\\users\\soide\\appdata\\local\\programs\\python\\python38\\lib\\site-packages)\n",
      "WARNING: Ignoring invalid distribution -andas (c:\\users\\soide\\appdata\\local\\programs\\python\\python38\\lib\\site-packages)\n",
      "ERROR: Invalid requirement: \"'cufflinks'\"\n",
      "WARNING: Ignoring invalid distribution -andas (c:\\users\\soide\\appdata\\local\\programs\\python\\python38\\lib\\site-packages)\n",
      "WARNING: Ignoring invalid distribution -andas (c:\\users\\soide\\appdata\\local\\programs\\python\\python38\\lib\\site-packages)\n",
      "WARNING: Ignoring invalid distribution -andas (c:\\users\\soide\\appdata\\local\\programs\\python\\python38\\lib\\site-packages)\n",
      "WARNING: Ignoring invalid distribution -andas (c:\\users\\soide\\appdata\\local\\programs\\python\\python38\\lib\\site-packages)\n",
      "ERROR: Invalid requirement: \"'textdistance[extras]'\"\n",
      "WARNING: Ignoring invalid distribution -andas (c:\\users\\soide\\appdata\\local\\programs\\python\\python38\\lib\\site-packages)\n",
      "WARNING: Ignoring invalid distribution -andas (c:\\users\\soide\\appdata\\local\\programs\\python\\python38\\lib\\site-packages)\n",
      "WARNING: Ignoring invalid distribution -andas (c:\\users\\soide\\appdata\\local\\programs\\python\\python38\\lib\\site-packages)\n",
      "WARNING: Ignoring invalid distribution -andas (c:\\users\\soide\\appdata\\local\\programs\\python\\python38\\lib\\site-packages)\n",
      "ERROR: Invalid requirement: \"'chart_studio'\"\n",
      "WARNING: Ignoring invalid distribution -andas (c:\\users\\soide\\appdata\\local\\programs\\python\\python38\\lib\\site-packages)\n",
      "WARNING: Ignoring invalid distribution -andas (c:\\users\\soide\\appdata\\local\\programs\\python\\python38\\lib\\site-packages)\n",
      "WARNING: Ignoring invalid distribution -andas (c:\\users\\soide\\appdata\\local\\programs\\python\\python38\\lib\\site-packages)\n",
      "WARNING: Ignoring invalid distribution -andas (c:\\users\\soide\\appdata\\local\\programs\\python\\python38\\lib\\site-packages)\n",
      "ERROR: Invalid requirement: \"'nltk'\"\n",
      "WARNING: Ignoring invalid distribution -andas (c:\\users\\soide\\appdata\\local\\programs\\python\\python38\\lib\\site-packages)\n",
      "WARNING: Ignoring invalid distribution -andas (c:\\users\\soide\\appdata\\local\\programs\\python\\python38\\lib\\site-packages)\n",
      "WARNING: Ignoring invalid distribution -andas (c:\\users\\soide\\appdata\\local\\programs\\python\\python38\\lib\\site-packages)\n",
      "ERROR: Invalid requirement: \"'matplotlib'\"\n",
      "ERROR: Invalid requirement: \"'transformers'\"\n",
      "ERROR: Invalid requirement: \"'datasets'\"\n",
      "ERROR: Invalid requirement: \"'tensorflow'\"\n",
      "ERROR: Invalid requirement: \"'torch'\"\n",
      "ERROR: Invalid requirement: \"'Unidecode'\"\n"
     ]
    }
   ],
   "source": [
    "import sys\n",
    "!{sys.executable} -m pip install 'sklearn'\n",
    "!{sys.executable} -m pip install 'pandas'\n",
    "!{sys.executable} -m pip install 'cufflinks'\n",
    "!{sys.executable} -m pip install 'textdistance[extras]'\n",
    "!{sys.executable} -m pip install 'chart_studio'\n",
    "!{sys.executable} -m pip install 'nltk'\n",
    "!{sys.executable} -m pip install 'matplotlib'\n",
    "!{sys.executable} -m pip install 'transformers'\n",
    "!{sys.executable} -m pip install 'datasets'\n",
    "!{sys.executable} -m pip install 'tensorflow'\n",
    "!{sys.executable} -m pip install 'torch'\n",
    "!{sys.executable} -m pip install 'Unidecode'"
   ]
  },
  {
   "cell_type": "markdown",
   "metadata": {},
   "source": [
    "# Wiki Search Results Classifier"
   ]
  },
  {
   "cell_type": "code",
   "execution_count": 6,
   "metadata": {},
   "outputs": [],
   "source": [
    "import wiki_search_train\n",
    "\n",
    "model = wiki_search_train.WikiSearchClassifier()"
   ]
  },
  {
   "cell_type": "code",
   "execution_count": 7,
   "metadata": {},
   "outputs": [
    {
     "name": "stdout",
     "output_type": "stream",
     "text": [
      "Initial data for training before balancing:\n",
      "0    741\n",
      "1     53\n",
      "2     31\n",
      "Name: search_results.label, dtype: int64\n",
      "Train set:\n",
      "0    593\n",
      "1     42\n",
      "2     25\n",
      "Name: search_results.label, dtype: int64\n",
      "Test set:\n",
      "0    148\n",
      "1     11\n",
      "2      6\n",
      "Name: search_results.label, dtype: int64\n"
     ]
    },
    {
     "data": {
      "text/html": [
       "<div>\n",
       "<style scoped>\n",
       "    .dataframe tbody tr th:only-of-type {\n",
       "        vertical-align: middle;\n",
       "    }\n",
       "\n",
       "    .dataframe tbody tr th {\n",
       "        vertical-align: top;\n",
       "    }\n",
       "\n",
       "    .dataframe thead th {\n",
       "        text-align: right;\n",
       "    }\n",
       "</style>\n",
       "<table border=\"1\" class=\"dataframe\">\n",
       "  <thead>\n",
       "    <tr style=\"text-align: right;\">\n",
       "      <th></th>\n",
       "      <th>search_results.title</th>\n",
       "      <th>search_results.snippet</th>\n",
       "      <th>search_results.label</th>\n",
       "      <th>name</th>\n",
       "      <th>department</th>\n",
       "    </tr>\n",
       "  </thead>\n",
       "  <tbody>\n",
       "    <tr>\n",
       "      <th>0</th>\n",
       "      <td>Haruo Shirane</td>\n",
       "      <td>Columbia University Press. Shirane, Haruo, ed....</td>\n",
       "      <td>1</td>\n",
       "      <td>Haruo Shirane</td>\n",
       "      <td>East Asian Languages and Cultures\\t</td>\n",
       "    </tr>\n",
       "    <tr>\n",
       "      <th>1</th>\n",
       "      <td>James Schamus</td>\n",
       "      <td>FilmDistrict. Schamus was born in Detroit, Mic...</td>\n",
       "      <td>1</td>\n",
       "      <td>James A Schamus</td>\n",
       "      <td>Film</td>\n",
       "    </tr>\n",
       "    <tr>\n",
       "      <th>2</th>\n",
       "      <td>Delphine Fawundu</td>\n",
       "      <td>Adama Delphine Fawundu (born 1971) is an Ameri...</td>\n",
       "      <td>2</td>\n",
       "      <td>Delphine A Fawundu</td>\n",
       "      <td>Visual Arts</td>\n",
       "    </tr>\n",
       "    <tr>\n",
       "      <th>3</th>\n",
       "      <td>Christine Blasey Ford</td>\n",
       "      <td>Christine Margaret Blasey Ford (/ˈblɑːzi/; bor...</td>\n",
       "      <td>0</td>\n",
       "      <td>Christine S Low</td>\n",
       "      <td>Social Work</td>\n",
       "    </tr>\n",
       "    <tr>\n",
       "      <th>4</th>\n",
       "      <td>Christine Gregoire</td>\n",
       "      <td>Christine &amp;quot;Chris&amp;quot; O'Grady Gregoire (...</td>\n",
       "      <td>0</td>\n",
       "      <td>Christine S Low</td>\n",
       "      <td>Social Work</td>\n",
       "    </tr>\n",
       "    <tr>\n",
       "      <th>...</th>\n",
       "      <td>...</td>\n",
       "      <td>...</td>\n",
       "      <td>...</td>\n",
       "      <td>...</td>\n",
       "      <td>...</td>\n",
       "    </tr>\n",
       "    <tr>\n",
       "      <th>820</th>\n",
       "      <td>W. John Kress</td>\n",
       "      <td>Retrieved 2018-10-18. &amp;quot;2013 W. John Kress...</td>\n",
       "      <td>0</td>\n",
       "      <td>John A Gentry</td>\n",
       "      <td>International and Public Affairs</td>\n",
       "    </tr>\n",
       "    <tr>\n",
       "      <th>821</th>\n",
       "      <td>Todd Gitlin</td>\n",
       "      <td>Todd Alan Gitlin (born January 6, 1943) is an ...</td>\n",
       "      <td>1</td>\n",
       "      <td>Todd Gitlin</td>\n",
       "      <td>Journalism</td>\n",
       "    </tr>\n",
       "    <tr>\n",
       "      <th>822</th>\n",
       "      <td>List of Mad Men characters</td>\n",
       "      <td>talks Ginsberg's breakdown&amp;quot;. CBS News. 20...</td>\n",
       "      <td>0</td>\n",
       "      <td>Phillip L Marotta</td>\n",
       "      <td>Social Work</td>\n",
       "    </tr>\n",
       "    <tr>\n",
       "      <th>823</th>\n",
       "      <td>Axel Honneth</td>\n",
       "      <td>Axel Honneth (/ˈhɒnɪt, -ɛt/; German: [aksl̩ ˈh...</td>\n",
       "      <td>1</td>\n",
       "      <td>Axel Honneth</td>\n",
       "      <td>Philosophy</td>\n",
       "    </tr>\n",
       "    <tr>\n",
       "      <th>824</th>\n",
       "      <td>Nicolai Ouroussoff</td>\n",
       "      <td>Kimmelman. &amp;quot;Columbia University Faculty a...</td>\n",
       "      <td>1</td>\n",
       "      <td>Nicolai Ouroussoff</td>\n",
       "      <td>Architecture, Planning and Preservation</td>\n",
       "    </tr>\n",
       "  </tbody>\n",
       "</table>\n",
       "<p>825 rows × 5 columns</p>\n",
       "</div>"
      ],
      "text/plain": [
       "           search_results.title  \\\n",
       "0                 Haruo Shirane   \n",
       "1                 James Schamus   \n",
       "2              Delphine Fawundu   \n",
       "3         Christine Blasey Ford   \n",
       "4            Christine Gregoire   \n",
       "..                          ...   \n",
       "820               W. John Kress   \n",
       "821                 Todd Gitlin   \n",
       "822  List of Mad Men characters   \n",
       "823                Axel Honneth   \n",
       "824          Nicolai Ouroussoff   \n",
       "\n",
       "                                search_results.snippet  search_results.label  \\\n",
       "0    Columbia University Press. Shirane, Haruo, ed....                     1   \n",
       "1    FilmDistrict. Schamus was born in Detroit, Mic...                     1   \n",
       "2    Adama Delphine Fawundu (born 1971) is an Ameri...                     2   \n",
       "3    Christine Margaret Blasey Ford (/ˈblɑːzi/; bor...                     0   \n",
       "4    Christine &quot;Chris&quot; O'Grady Gregoire (...                     0   \n",
       "..                                                 ...                   ...   \n",
       "820  Retrieved 2018-10-18. &quot;2013 W. John Kress...                     0   \n",
       "821  Todd Alan Gitlin (born January 6, 1943) is an ...                     1   \n",
       "822  talks Ginsberg's breakdown&quot;. CBS News. 20...                     0   \n",
       "823  Axel Honneth (/ˈhɒnɪt, -ɛt/; German: [aksl̩ ˈh...                     1   \n",
       "824  Kimmelman. &quot;Columbia University Faculty a...                     1   \n",
       "\n",
       "                   name                               department  \n",
       "0         Haruo Shirane      East Asian Languages and Cultures\\t  \n",
       "1       James A Schamus                                     Film  \n",
       "2    Delphine A Fawundu                              Visual Arts  \n",
       "3       Christine S Low                              Social Work  \n",
       "4       Christine S Low                              Social Work  \n",
       "..                  ...                                      ...  \n",
       "820       John A Gentry         International and Public Affairs  \n",
       "821         Todd Gitlin                               Journalism  \n",
       "822   Phillip L Marotta                              Social Work  \n",
       "823        Axel Honneth                               Philosophy  \n",
       "824  Nicolai Ouroussoff  Architecture, Planning and Preservation  \n",
       "\n",
       "[825 rows x 5 columns]"
      ]
     },
     "metadata": {},
     "output_type": "display_data"
    }
   ],
   "source": [
    "model.load_training_data()\n",
    "data = model.data\n",
    "display(data)"
   ]
  },
  {
   "cell_type": "code",
   "execution_count": 8,
   "metadata": {
    "scrolled": true
   },
   "outputs": [
    {
     "name": "stdout",
     "output_type": "stream",
     "text": [
      "Evaluating test data set:\n",
      "  Misclassified as irrelevant but are relevant (no big deal): [15, 21, 45, 61, 138, 159]\n",
      "\n",
      "              precision    recall  f1-score   support\n",
      "\n",
      "           0       0.99      0.99      0.99       148\n",
      "           1       0.62      0.91      0.74        11\n",
      "           2       0.00      0.00      0.00         6\n",
      "\n",
      "    accuracy                           0.95       165\n",
      "   macro avg       0.54      0.63      0.58       165\n",
      "weighted avg       0.93      0.95      0.94       165\n",
      "\n",
      "Predicted:\n",
      "[0 0 0 0 0 1 0 0 0 0 0 0 0 0 0 1 0 0 0 0 0 1 0 0 0 0 1 0 0 0 0 0 0 0 0 0 0\n",
      " 0 0 0 0 0 0 0 0 1 0 0 0 0 1 0 0 0 0 0 0 0 0 0 0 0 0 1 0 0 0 0 0 0 1 0 0 0\n",
      " 1 0 0 0 0 0 0 0 0 0 0 0 0 0 0 0 1 0 0 0 0 0 0 0 0 0 0 1 0 0 0 0 0 0 0 0 0\n",
      " 0 0 0 0 0 0 0 0 0 0 0 1 0 0 0 0 0 0 0 0 0 0 0 0 0 0 0 1 0 1 0 0 0 0 0 0 0\n",
      " 0 0 0 0 0 0 0 0 0 0 1 1 0 0 0 0 0]\n",
      "True:\n",
      "[0 0 0 0 0 0 0 0 0 0 0 0 0 0 0 2 0 0 0 0 0 2 0 0 0 0 1 0 0 0 0 0 0 0 0 0 0\n",
      " 0 0 0 0 0 0 0 0 2 0 0 0 0 1 0 0 0 0 0 0 0 0 0 0 2 0 1 0 0 0 0 0 0 1 0 0 0\n",
      " 1 0 0 0 0 0 0 0 0 0 0 0 0 0 0 0 1 0 0 0 0 0 0 0 0 0 0 1 0 0 0 0 0 0 0 0 0\n",
      " 0 0 0 0 0 0 0 0 0 0 0 1 0 0 0 0 0 0 1 0 0 0 0 0 0 0 0 2 0 1 0 0 0 0 0 0 0\n",
      " 0 0 0 0 0 0 0 0 0 0 1 2 0 0 0 0 0]\n",
      "Confusion Matrix:\n",
      "            Irrelevant  Possible  Relevant\n",
      "Irrelevant         147         1         0\n",
      "Possible             1        10         0\n",
      "Relevant             1         5         0\n",
      "\n",
      "Evaluating the entire unbalanced data set:\n"
     ]
    },
    {
     "name": "stderr",
     "output_type": "stream",
     "text": [
      "C:\\Users\\soide\\AppData\\Local\\Programs\\Python\\Python38\\lib\\site-packages\\sklearn\\metrics\\_classification.py:1221: UndefinedMetricWarning: Precision and F-score are ill-defined and being set to 0.0 in labels with no predicted samples. Use `zero_division` parameter to control this behavior.\n",
      "  _warn_prf(average, modifier, msg_start, len(result))\n"
     ]
    },
    {
     "name": "stdout",
     "output_type": "stream",
     "text": [
      "  Misclassified as irrelevant but are relevant (no big deal): [2, 60, 61, 92, 159, 168, 227, 254, 436, 498, 713, 758, 806]\n",
      "\n",
      "              precision    recall  f1-score   support\n",
      "\n",
      "           0       1.00      1.00      1.00       741\n",
      "           1       0.80      0.98      0.88        53\n",
      "           2       1.00      0.58      0.73        31\n",
      "\n",
      "    accuracy                           0.98       825\n",
      "   macro avg       0.93      0.85      0.87       825\n",
      "weighted avg       0.98      0.98      0.98       825\n",
      "\n",
      "Confusion Matrix:\n",
      "            Irrelevant  Possible  Relevant\n",
      "Irrelevant         740         1         0\n",
      "Possible             1        52         0\n",
      "Relevant             1        12        18\n"
     ]
    }
   ],
   "source": [
    "model.fit()\n",
    "model.evaluate()"
   ]
  },
  {
   "cell_type": "markdown",
   "metadata": {},
   "source": [
    "# Wiki Search BERT classifier"
   ]
  },
  {
   "cell_type": "code",
   "execution_count": 6,
   "metadata": {},
   "outputs": [],
   "source": [
    "from cu_catalog.models import wiki_search_bert\n",
    "\n",
    "model2 = wiki_search_bert.WikiSearchClassifier()"
   ]
  },
  {
   "cell_type": "code",
   "execution_count": 7,
   "metadata": {},
   "outputs": [
    {
     "name": "stderr",
     "output_type": "stream",
     "text": [
      "Using custom data configuration default-0aef5ca27a7801bd\n",
      "Reusing dataset json (C:\\Users\\soide\\.cache\\huggingface\\datasets\\json\\default-0aef5ca27a7801bd\\0.0.0\\c90812beea906fcffe0d5e3bb9eba909a80a998b5f88e9f8acbd320aa91acfde)\n",
      "Using custom data configuration default-0aef5ca27a7801bd\n",
      "Reusing dataset json (C:\\Users\\soide\\.cache\\huggingface\\datasets\\json\\default-0aef5ca27a7801bd\\0.0.0\\c90812beea906fcffe0d5e3bb9eba909a80a998b5f88e9f8acbd320aa91acfde)\n",
      "Using custom data configuration default-0aef5ca27a7801bd\n",
      "Reusing dataset json (C:\\Users\\soide\\.cache\\huggingface\\datasets\\json\\default-0aef5ca27a7801bd\\0.0.0\\c90812beea906fcffe0d5e3bb9eba909a80a998b5f88e9f8acbd320aa91acfde)\n"
     ]
    },
    {
     "name": "stdout",
     "output_type": "stream",
     "text": [
      "Initial data for training:\n",
      "0    741\n",
      "1     53\n",
      "2     31\n",
      "Name: search_results.label, dtype: int64\n"
     ]
    },
    {
     "data": {
      "text/plain": [
       "Dataset({\n",
       "    features: ['search_results.title', 'search_results.snippet', 'search_results.label', 'name', 'department', 'labels'],\n",
       "    num_rows: 825\n",
       "})"
      ]
     },
     "metadata": {},
     "output_type": "display_data"
    }
   ],
   "source": [
    "model2.load_training_data()\n",
    "data = model2.data\n",
    "display(data)"
   ]
  },
  {
   "cell_type": "code",
   "execution_count": 8,
   "metadata": {},
   "outputs": [
    {
     "name": "stdout",
     "output_type": "stream",
     "text": [
      "Dataset({\n",
      "    features: ['search_results.title', 'search_results.snippet', 'search_results.label', 'name', 'department', 'labels'],\n",
      "    num_rows: 699\n",
      "})\n"
     ]
    },
    {
     "name": "stderr",
     "output_type": "stream",
     "text": [
      "Some weights of the model checkpoint at distilbert-base-uncased were not used when initializing DistilBertForSequenceClassification: ['vocab_projector.weight', 'vocab_transform.bias', 'vocab_layer_norm.bias', 'vocab_transform.weight', 'vocab_projector.bias', 'vocab_layer_norm.weight']\n",
      "- This IS expected if you are initializing DistilBertForSequenceClassification from the checkpoint of a model trained on another task or with another architecture (e.g. initializing a BertForSequenceClassification model from a BertForPreTraining model).\n",
      "- This IS NOT expected if you are initializing DistilBertForSequenceClassification from the checkpoint of a model that you expect to be exactly identical (initializing a BertForSequenceClassification model from a BertForSequenceClassification model).\n",
      "Some weights of DistilBertForSequenceClassification were not initialized from the model checkpoint at distilbert-base-uncased and are newly initialized: ['classifier.bias', 'pre_classifier.weight', 'classifier.weight', 'pre_classifier.bias']\n",
      "You should probably TRAIN this model on a down-stream task to be able to use it for predictions and inference.\n"
     ]
    },
    {
     "data": {
      "application/vnd.jupyter.widget-view+json": {
       "model_id": "62cf1426cb3b4b0684cf99941840fd97",
       "version_major": 2,
       "version_minor": 0
      },
      "text/plain": [
       "  0%|          | 0/699 [00:00<?, ?ex/s]"
      ]
     },
     "metadata": {},
     "output_type": "display_data"
    },
    {
     "data": {
      "application/vnd.jupyter.widget-view+json": {
       "model_id": "ba776f74ba464105a45268c38b3b363c",
       "version_major": 2,
       "version_minor": 0
      },
      "text/plain": [
       "  0%|          | 0/126 [00:00<?, ?ex/s]"
      ]
     },
     "metadata": {},
     "output_type": "display_data"
    },
    {
     "name": "stderr",
     "output_type": "stream",
     "text": [
      "The following columns in the training set don't have a corresponding argument in `DistilBertForSequenceClassification.forward` and have been ignored: search_results.snippet, name, department, search_results.title, search_results.label. If search_results.snippet, name, department, search_results.title, search_results.label are not expected by `DistilBertForSequenceClassification.forward`,  you can safely ignore this message.\n",
      "C:\\Users\\soide\\AppData\\Local\\Programs\\Python\\Python38\\lib\\site-packages\\transformers\\optimization.py:306: FutureWarning: This implementation of AdamW is deprecated and will be removed in a future version. Use the PyTorch implementation torch.optim.AdamW instead, or set `no_deprecation_warning=True` to disable this warning\n",
      "  warnings.warn(\n",
      "***** Running training *****\n",
      "  Num examples = 699\n",
      "  Num Epochs = 20\n",
      "  Instantaneous batch size per device = 32\n",
      "  Total train batch size (w. parallel, distributed & accumulation) = 32\n",
      "  Gradient Accumulation steps = 1\n",
      "  Total optimization steps = 440\n",
      "  Number of trainable parameters = 66955779\n",
      "You're using a DistilBertTokenizerFast tokenizer. Please note that with a fast tokenizer, using the `__call__` method is faster than using a method to encode the text followed by a call to the `pad` method to get a padded encoding.\n"
     ]
    },
    {
     "data": {
      "text/html": [
       "\n",
       "    <div>\n",
       "      \n",
       "      <progress value='440' max='440' style='width:300px; height:20px; vertical-align: middle;'></progress>\n",
       "      [440/440 35:11, Epoch 20/20]\n",
       "    </div>\n",
       "    <table border=\"1\" class=\"dataframe\">\n",
       "  <thead>\n",
       " <tr style=\"text-align: left;\">\n",
       "      <th>Epoch</th>\n",
       "      <th>Training Loss</th>\n",
       "      <th>Validation Loss</th>\n",
       "      <th>Accuracy</th>\n",
       "      <th>F1</th>\n",
       "    </tr>\n",
       "  </thead>\n",
       "  <tbody>\n",
       "    <tr>\n",
       "      <td>1</td>\n",
       "      <td>No log</td>\n",
       "      <td>1.080802</td>\n",
       "      <td>0.785714</td>\n",
       "      <td>0.726126</td>\n",
       "    </tr>\n",
       "    <tr>\n",
       "      <td>2</td>\n",
       "      <td>0.981400</td>\n",
       "      <td>0.911683</td>\n",
       "      <td>0.817460</td>\n",
       "      <td>0.797095</td>\n",
       "    </tr>\n",
       "    <tr>\n",
       "      <td>3</td>\n",
       "      <td>0.594500</td>\n",
       "      <td>0.795955</td>\n",
       "      <td>0.896825</td>\n",
       "      <td>0.895645</td>\n",
       "    </tr>\n",
       "    <tr>\n",
       "      <td>4</td>\n",
       "      <td>0.594500</td>\n",
       "      <td>0.655464</td>\n",
       "      <td>0.936508</td>\n",
       "      <td>0.935809</td>\n",
       "    </tr>\n",
       "    <tr>\n",
       "      <td>5</td>\n",
       "      <td>0.416500</td>\n",
       "      <td>0.424201</td>\n",
       "      <td>0.944444</td>\n",
       "      <td>0.944444</td>\n",
       "    </tr>\n",
       "    <tr>\n",
       "      <td>6</td>\n",
       "      <td>0.299400</td>\n",
       "      <td>0.379676</td>\n",
       "      <td>0.936508</td>\n",
       "      <td>0.937550</td>\n",
       "    </tr>\n",
       "    <tr>\n",
       "      <td>7</td>\n",
       "      <td>0.299400</td>\n",
       "      <td>0.299984</td>\n",
       "      <td>0.952381</td>\n",
       "      <td>0.952982</td>\n",
       "    </tr>\n",
       "    <tr>\n",
       "      <td>8</td>\n",
       "      <td>0.132500</td>\n",
       "      <td>0.242617</td>\n",
       "      <td>0.952381</td>\n",
       "      <td>0.952982</td>\n",
       "    </tr>\n",
       "    <tr>\n",
       "      <td>9</td>\n",
       "      <td>0.118600</td>\n",
       "      <td>0.343339</td>\n",
       "      <td>0.960317</td>\n",
       "      <td>0.960224</td>\n",
       "    </tr>\n",
       "    <tr>\n",
       "      <td>10</td>\n",
       "      <td>0.118600</td>\n",
       "      <td>0.228743</td>\n",
       "      <td>0.952381</td>\n",
       "      <td>0.952982</td>\n",
       "    </tr>\n",
       "    <tr>\n",
       "      <td>11</td>\n",
       "      <td>0.064800</td>\n",
       "      <td>0.284685</td>\n",
       "      <td>0.960317</td>\n",
       "      <td>0.960224</td>\n",
       "    </tr>\n",
       "    <tr>\n",
       "      <td>12</td>\n",
       "      <td>0.086000</td>\n",
       "      <td>0.193988</td>\n",
       "      <td>0.960317</td>\n",
       "      <td>0.961143</td>\n",
       "    </tr>\n",
       "    <tr>\n",
       "      <td>13</td>\n",
       "      <td>0.086000</td>\n",
       "      <td>0.238948</td>\n",
       "      <td>0.960317</td>\n",
       "      <td>0.961143</td>\n",
       "    </tr>\n",
       "    <tr>\n",
       "      <td>14</td>\n",
       "      <td>0.056400</td>\n",
       "      <td>0.265562</td>\n",
       "      <td>0.952381</td>\n",
       "      <td>0.952982</td>\n",
       "    </tr>\n",
       "    <tr>\n",
       "      <td>15</td>\n",
       "      <td>0.043600</td>\n",
       "      <td>0.253012</td>\n",
       "      <td>0.960317</td>\n",
       "      <td>0.961143</td>\n",
       "    </tr>\n",
       "    <tr>\n",
       "      <td>16</td>\n",
       "      <td>0.080700</td>\n",
       "      <td>0.272510</td>\n",
       "      <td>0.960317</td>\n",
       "      <td>0.960224</td>\n",
       "    </tr>\n",
       "    <tr>\n",
       "      <td>17</td>\n",
       "      <td>0.080700</td>\n",
       "      <td>0.250131</td>\n",
       "      <td>0.960317</td>\n",
       "      <td>0.960224</td>\n",
       "    </tr>\n",
       "    <tr>\n",
       "      <td>18</td>\n",
       "      <td>0.041600</td>\n",
       "      <td>0.261683</td>\n",
       "      <td>0.960317</td>\n",
       "      <td>0.960224</td>\n",
       "    </tr>\n",
       "    <tr>\n",
       "      <td>19</td>\n",
       "      <td>0.047000</td>\n",
       "      <td>0.259858</td>\n",
       "      <td>0.960317</td>\n",
       "      <td>0.960224</td>\n",
       "    </tr>\n",
       "    <tr>\n",
       "      <td>20</td>\n",
       "      <td>0.047000</td>\n",
       "      <td>0.258266</td>\n",
       "      <td>0.960317</td>\n",
       "      <td>0.960224</td>\n",
       "    </tr>\n",
       "  </tbody>\n",
       "</table><p>"
      ],
      "text/plain": [
       "<IPython.core.display.HTML object>"
      ]
     },
     "metadata": {},
     "output_type": "display_data"
    },
    {
     "name": "stderr",
     "output_type": "stream",
     "text": [
      "The following columns in the evaluation set don't have a corresponding argument in `DistilBertForSequenceClassification.forward` and have been ignored: search_results.snippet, name, department, search_results.title, search_results.label. If search_results.snippet, name, department, search_results.title, search_results.label are not expected by `DistilBertForSequenceClassification.forward`,  you can safely ignore this message.\n",
      "***** Running Evaluation *****\n",
      "  Num examples = 126\n",
      "  Batch size = 32\n",
      "Saving model checkpoint to D:\\my-stuff\\cu-catalog-temp/instructor-article.checkpoints\\checkpoint-22\n",
      "Configuration saved in D:\\my-stuff\\cu-catalog-temp/instructor-article.checkpoints\\checkpoint-22\\config.json\n",
      "Model weights saved in D:\\my-stuff\\cu-catalog-temp/instructor-article.checkpoints\\checkpoint-22\\pytorch_model.bin\n",
      "tokenizer config file saved in D:\\my-stuff\\cu-catalog-temp/instructor-article.checkpoints\\checkpoint-22\\tokenizer_config.json\n",
      "Special tokens file saved in D:\\my-stuff\\cu-catalog-temp/instructor-article.checkpoints\\checkpoint-22\\special_tokens_map.json\n",
      "The following columns in the evaluation set don't have a corresponding argument in `DistilBertForSequenceClassification.forward` and have been ignored: search_results.snippet, name, department, search_results.title, search_results.label. If search_results.snippet, name, department, search_results.title, search_results.label are not expected by `DistilBertForSequenceClassification.forward`,  you can safely ignore this message.\n",
      "***** Running Evaluation *****\n",
      "  Num examples = 126\n",
      "  Batch size = 32\n",
      "Saving model checkpoint to D:\\my-stuff\\cu-catalog-temp/instructor-article.checkpoints\\checkpoint-44\n",
      "Configuration saved in D:\\my-stuff\\cu-catalog-temp/instructor-article.checkpoints\\checkpoint-44\\config.json\n",
      "Model weights saved in D:\\my-stuff\\cu-catalog-temp/instructor-article.checkpoints\\checkpoint-44\\pytorch_model.bin\n",
      "tokenizer config file saved in D:\\my-stuff\\cu-catalog-temp/instructor-article.checkpoints\\checkpoint-44\\tokenizer_config.json\n",
      "Special tokens file saved in D:\\my-stuff\\cu-catalog-temp/instructor-article.checkpoints\\checkpoint-44\\special_tokens_map.json\n",
      "The following columns in the evaluation set don't have a corresponding argument in `DistilBertForSequenceClassification.forward` and have been ignored: search_results.snippet, name, department, search_results.title, search_results.label. If search_results.snippet, name, department, search_results.title, search_results.label are not expected by `DistilBertForSequenceClassification.forward`,  you can safely ignore this message.\n",
      "***** Running Evaluation *****\n",
      "  Num examples = 126\n",
      "  Batch size = 32\n",
      "Saving model checkpoint to D:\\my-stuff\\cu-catalog-temp/instructor-article.checkpoints\\checkpoint-66\n",
      "Configuration saved in D:\\my-stuff\\cu-catalog-temp/instructor-article.checkpoints\\checkpoint-66\\config.json\n",
      "Model weights saved in D:\\my-stuff\\cu-catalog-temp/instructor-article.checkpoints\\checkpoint-66\\pytorch_model.bin\n",
      "tokenizer config file saved in D:\\my-stuff\\cu-catalog-temp/instructor-article.checkpoints\\checkpoint-66\\tokenizer_config.json\n",
      "Special tokens file saved in D:\\my-stuff\\cu-catalog-temp/instructor-article.checkpoints\\checkpoint-66\\special_tokens_map.json\n",
      "The following columns in the evaluation set don't have a corresponding argument in `DistilBertForSequenceClassification.forward` and have been ignored: search_results.snippet, name, department, search_results.title, search_results.label. If search_results.snippet, name, department, search_results.title, search_results.label are not expected by `DistilBertForSequenceClassification.forward`,  you can safely ignore this message.\n",
      "***** Running Evaluation *****\n",
      "  Num examples = 126\n",
      "  Batch size = 32\n",
      "Saving model checkpoint to D:\\my-stuff\\cu-catalog-temp/instructor-article.checkpoints\\checkpoint-88\n",
      "Configuration saved in D:\\my-stuff\\cu-catalog-temp/instructor-article.checkpoints\\checkpoint-88\\config.json\n",
      "Model weights saved in D:\\my-stuff\\cu-catalog-temp/instructor-article.checkpoints\\checkpoint-88\\pytorch_model.bin\n",
      "tokenizer config file saved in D:\\my-stuff\\cu-catalog-temp/instructor-article.checkpoints\\checkpoint-88\\tokenizer_config.json\n",
      "Special tokens file saved in D:\\my-stuff\\cu-catalog-temp/instructor-article.checkpoints\\checkpoint-88\\special_tokens_map.json\n",
      "The following columns in the evaluation set don't have a corresponding argument in `DistilBertForSequenceClassification.forward` and have been ignored: search_results.snippet, name, department, search_results.title, search_results.label. If search_results.snippet, name, department, search_results.title, search_results.label are not expected by `DistilBertForSequenceClassification.forward`,  you can safely ignore this message.\n",
      "***** Running Evaluation *****\n",
      "  Num examples = 126\n",
      "  Batch size = 32\n",
      "Saving model checkpoint to D:\\my-stuff\\cu-catalog-temp/instructor-article.checkpoints\\checkpoint-110\n",
      "Configuration saved in D:\\my-stuff\\cu-catalog-temp/instructor-article.checkpoints\\checkpoint-110\\config.json\n",
      "Model weights saved in D:\\my-stuff\\cu-catalog-temp/instructor-article.checkpoints\\checkpoint-110\\pytorch_model.bin\n",
      "tokenizer config file saved in D:\\my-stuff\\cu-catalog-temp/instructor-article.checkpoints\\checkpoint-110\\tokenizer_config.json\n",
      "Special tokens file saved in D:\\my-stuff\\cu-catalog-temp/instructor-article.checkpoints\\checkpoint-110\\special_tokens_map.json\n",
      "The following columns in the evaluation set don't have a corresponding argument in `DistilBertForSequenceClassification.forward` and have been ignored: search_results.snippet, name, department, search_results.title, search_results.label. If search_results.snippet, name, department, search_results.title, search_results.label are not expected by `DistilBertForSequenceClassification.forward`,  you can safely ignore this message.\n",
      "***** Running Evaluation *****\n",
      "  Num examples = 126\n",
      "  Batch size = 32\n",
      "Saving model checkpoint to D:\\my-stuff\\cu-catalog-temp/instructor-article.checkpoints\\checkpoint-132\n",
      "Configuration saved in D:\\my-stuff\\cu-catalog-temp/instructor-article.checkpoints\\checkpoint-132\\config.json\n",
      "Model weights saved in D:\\my-stuff\\cu-catalog-temp/instructor-article.checkpoints\\checkpoint-132\\pytorch_model.bin\n",
      "tokenizer config file saved in D:\\my-stuff\\cu-catalog-temp/instructor-article.checkpoints\\checkpoint-132\\tokenizer_config.json\n",
      "Special tokens file saved in D:\\my-stuff\\cu-catalog-temp/instructor-article.checkpoints\\checkpoint-132\\special_tokens_map.json\n",
      "The following columns in the evaluation set don't have a corresponding argument in `DistilBertForSequenceClassification.forward` and have been ignored: search_results.snippet, name, department, search_results.title, search_results.label. If search_results.snippet, name, department, search_results.title, search_results.label are not expected by `DistilBertForSequenceClassification.forward`,  you can safely ignore this message.\n",
      "***** Running Evaluation *****\n",
      "  Num examples = 126\n",
      "  Batch size = 32\n",
      "Saving model checkpoint to D:\\my-stuff\\cu-catalog-temp/instructor-article.checkpoints\\checkpoint-154\n",
      "Configuration saved in D:\\my-stuff\\cu-catalog-temp/instructor-article.checkpoints\\checkpoint-154\\config.json\n",
      "Model weights saved in D:\\my-stuff\\cu-catalog-temp/instructor-article.checkpoints\\checkpoint-154\\pytorch_model.bin\n",
      "tokenizer config file saved in D:\\my-stuff\\cu-catalog-temp/instructor-article.checkpoints\\checkpoint-154\\tokenizer_config.json\n",
      "Special tokens file saved in D:\\my-stuff\\cu-catalog-temp/instructor-article.checkpoints\\checkpoint-154\\special_tokens_map.json\n",
      "The following columns in the evaluation set don't have a corresponding argument in `DistilBertForSequenceClassification.forward` and have been ignored: search_results.snippet, name, department, search_results.title, search_results.label. If search_results.snippet, name, department, search_results.title, search_results.label are not expected by `DistilBertForSequenceClassification.forward`,  you can safely ignore this message.\n",
      "***** Running Evaluation *****\n",
      "  Num examples = 126\n",
      "  Batch size = 32\n",
      "Saving model checkpoint to D:\\my-stuff\\cu-catalog-temp/instructor-article.checkpoints\\checkpoint-176\n",
      "Configuration saved in D:\\my-stuff\\cu-catalog-temp/instructor-article.checkpoints\\checkpoint-176\\config.json\n",
      "Model weights saved in D:\\my-stuff\\cu-catalog-temp/instructor-article.checkpoints\\checkpoint-176\\pytorch_model.bin\n",
      "tokenizer config file saved in D:\\my-stuff\\cu-catalog-temp/instructor-article.checkpoints\\checkpoint-176\\tokenizer_config.json\n",
      "Special tokens file saved in D:\\my-stuff\\cu-catalog-temp/instructor-article.checkpoints\\checkpoint-176\\special_tokens_map.json\n",
      "The following columns in the evaluation set don't have a corresponding argument in `DistilBertForSequenceClassification.forward` and have been ignored: search_results.snippet, name, department, search_results.title, search_results.label. If search_results.snippet, name, department, search_results.title, search_results.label are not expected by `DistilBertForSequenceClassification.forward`,  you can safely ignore this message.\n",
      "***** Running Evaluation *****\n",
      "  Num examples = 126\n",
      "  Batch size = 32\n",
      "Saving model checkpoint to D:\\my-stuff\\cu-catalog-temp/instructor-article.checkpoints\\checkpoint-198\n",
      "Configuration saved in D:\\my-stuff\\cu-catalog-temp/instructor-article.checkpoints\\checkpoint-198\\config.json\n",
      "Model weights saved in D:\\my-stuff\\cu-catalog-temp/instructor-article.checkpoints\\checkpoint-198\\pytorch_model.bin\n",
      "tokenizer config file saved in D:\\my-stuff\\cu-catalog-temp/instructor-article.checkpoints\\checkpoint-198\\tokenizer_config.json\n",
      "Special tokens file saved in D:\\my-stuff\\cu-catalog-temp/instructor-article.checkpoints\\checkpoint-198\\special_tokens_map.json\n",
      "The following columns in the evaluation set don't have a corresponding argument in `DistilBertForSequenceClassification.forward` and have been ignored: search_results.snippet, name, department, search_results.title, search_results.label. If search_results.snippet, name, department, search_results.title, search_results.label are not expected by `DistilBertForSequenceClassification.forward`,  you can safely ignore this message.\n",
      "***** Running Evaluation *****\n",
      "  Num examples = 126\n",
      "  Batch size = 32\n",
      "Saving model checkpoint to D:\\my-stuff\\cu-catalog-temp/instructor-article.checkpoints\\checkpoint-220\n",
      "Configuration saved in D:\\my-stuff\\cu-catalog-temp/instructor-article.checkpoints\\checkpoint-220\\config.json\n",
      "Model weights saved in D:\\my-stuff\\cu-catalog-temp/instructor-article.checkpoints\\checkpoint-220\\pytorch_model.bin\n",
      "tokenizer config file saved in D:\\my-stuff\\cu-catalog-temp/instructor-article.checkpoints\\checkpoint-220\\tokenizer_config.json\n",
      "Special tokens file saved in D:\\my-stuff\\cu-catalog-temp/instructor-article.checkpoints\\checkpoint-220\\special_tokens_map.json\n",
      "The following columns in the evaluation set don't have a corresponding argument in `DistilBertForSequenceClassification.forward` and have been ignored: search_results.snippet, name, department, search_results.title, search_results.label. If search_results.snippet, name, department, search_results.title, search_results.label are not expected by `DistilBertForSequenceClassification.forward`,  you can safely ignore this message.\n",
      "***** Running Evaluation *****\n",
      "  Num examples = 126\n",
      "  Batch size = 32\n",
      "Saving model checkpoint to D:\\my-stuff\\cu-catalog-temp/instructor-article.checkpoints\\checkpoint-242\n",
      "Configuration saved in D:\\my-stuff\\cu-catalog-temp/instructor-article.checkpoints\\checkpoint-242\\config.json\n",
      "Model weights saved in D:\\my-stuff\\cu-catalog-temp/instructor-article.checkpoints\\checkpoint-242\\pytorch_model.bin\n",
      "tokenizer config file saved in D:\\my-stuff\\cu-catalog-temp/instructor-article.checkpoints\\checkpoint-242\\tokenizer_config.json\n",
      "Special tokens file saved in D:\\my-stuff\\cu-catalog-temp/instructor-article.checkpoints\\checkpoint-242\\special_tokens_map.json\n",
      "The following columns in the evaluation set don't have a corresponding argument in `DistilBertForSequenceClassification.forward` and have been ignored: search_results.snippet, name, department, search_results.title, search_results.label. If search_results.snippet, name, department, search_results.title, search_results.label are not expected by `DistilBertForSequenceClassification.forward`,  you can safely ignore this message.\n",
      "***** Running Evaluation *****\n",
      "  Num examples = 126\n",
      "  Batch size = 32\n",
      "Saving model checkpoint to D:\\my-stuff\\cu-catalog-temp/instructor-article.checkpoints\\checkpoint-264\n",
      "Configuration saved in D:\\my-stuff\\cu-catalog-temp/instructor-article.checkpoints\\checkpoint-264\\config.json\n",
      "Model weights saved in D:\\my-stuff\\cu-catalog-temp/instructor-article.checkpoints\\checkpoint-264\\pytorch_model.bin\n",
      "tokenizer config file saved in D:\\my-stuff\\cu-catalog-temp/instructor-article.checkpoints\\checkpoint-264\\tokenizer_config.json\n",
      "Special tokens file saved in D:\\my-stuff\\cu-catalog-temp/instructor-article.checkpoints\\checkpoint-264\\special_tokens_map.json\n",
      "The following columns in the evaluation set don't have a corresponding argument in `DistilBertForSequenceClassification.forward` and have been ignored: search_results.snippet, name, department, search_results.title, search_results.label. If search_results.snippet, name, department, search_results.title, search_results.label are not expected by `DistilBertForSequenceClassification.forward`,  you can safely ignore this message.\n",
      "***** Running Evaluation *****\n",
      "  Num examples = 126\n",
      "  Batch size = 32\n",
      "Saving model checkpoint to D:\\my-stuff\\cu-catalog-temp/instructor-article.checkpoints\\checkpoint-286\n",
      "Configuration saved in D:\\my-stuff\\cu-catalog-temp/instructor-article.checkpoints\\checkpoint-286\\config.json\n",
      "Model weights saved in D:\\my-stuff\\cu-catalog-temp/instructor-article.checkpoints\\checkpoint-286\\pytorch_model.bin\n",
      "tokenizer config file saved in D:\\my-stuff\\cu-catalog-temp/instructor-article.checkpoints\\checkpoint-286\\tokenizer_config.json\n",
      "Special tokens file saved in D:\\my-stuff\\cu-catalog-temp/instructor-article.checkpoints\\checkpoint-286\\special_tokens_map.json\n",
      "The following columns in the evaluation set don't have a corresponding argument in `DistilBertForSequenceClassification.forward` and have been ignored: search_results.snippet, name, department, search_results.title, search_results.label. If search_results.snippet, name, department, search_results.title, search_results.label are not expected by `DistilBertForSequenceClassification.forward`,  you can safely ignore this message.\n",
      "***** Running Evaluation *****\n",
      "  Num examples = 126\n",
      "  Batch size = 32\n",
      "Saving model checkpoint to D:\\my-stuff\\cu-catalog-temp/instructor-article.checkpoints\\checkpoint-308\n",
      "Configuration saved in D:\\my-stuff\\cu-catalog-temp/instructor-article.checkpoints\\checkpoint-308\\config.json\n",
      "Model weights saved in D:\\my-stuff\\cu-catalog-temp/instructor-article.checkpoints\\checkpoint-308\\pytorch_model.bin\n",
      "tokenizer config file saved in D:\\my-stuff\\cu-catalog-temp/instructor-article.checkpoints\\checkpoint-308\\tokenizer_config.json\n",
      "Special tokens file saved in D:\\my-stuff\\cu-catalog-temp/instructor-article.checkpoints\\checkpoint-308\\special_tokens_map.json\n",
      "The following columns in the evaluation set don't have a corresponding argument in `DistilBertForSequenceClassification.forward` and have been ignored: search_results.snippet, name, department, search_results.title, search_results.label. If search_results.snippet, name, department, search_results.title, search_results.label are not expected by `DistilBertForSequenceClassification.forward`,  you can safely ignore this message.\n",
      "***** Running Evaluation *****\n",
      "  Num examples = 126\n",
      "  Batch size = 32\n",
      "Saving model checkpoint to D:\\my-stuff\\cu-catalog-temp/instructor-article.checkpoints\\checkpoint-330\n",
      "Configuration saved in D:\\my-stuff\\cu-catalog-temp/instructor-article.checkpoints\\checkpoint-330\\config.json\n",
      "Model weights saved in D:\\my-stuff\\cu-catalog-temp/instructor-article.checkpoints\\checkpoint-330\\pytorch_model.bin\n",
      "tokenizer config file saved in D:\\my-stuff\\cu-catalog-temp/instructor-article.checkpoints\\checkpoint-330\\tokenizer_config.json\n",
      "Special tokens file saved in D:\\my-stuff\\cu-catalog-temp/instructor-article.checkpoints\\checkpoint-330\\special_tokens_map.json\n",
      "The following columns in the evaluation set don't have a corresponding argument in `DistilBertForSequenceClassification.forward` and have been ignored: search_results.snippet, name, department, search_results.title, search_results.label. If search_results.snippet, name, department, search_results.title, search_results.label are not expected by `DistilBertForSequenceClassification.forward`,  you can safely ignore this message.\n",
      "***** Running Evaluation *****\n",
      "  Num examples = 126\n",
      "  Batch size = 32\n",
      "Saving model checkpoint to D:\\my-stuff\\cu-catalog-temp/instructor-article.checkpoints\\checkpoint-352\n",
      "Configuration saved in D:\\my-stuff\\cu-catalog-temp/instructor-article.checkpoints\\checkpoint-352\\config.json\n",
      "Model weights saved in D:\\my-stuff\\cu-catalog-temp/instructor-article.checkpoints\\checkpoint-352\\pytorch_model.bin\n",
      "tokenizer config file saved in D:\\my-stuff\\cu-catalog-temp/instructor-article.checkpoints\\checkpoint-352\\tokenizer_config.json\n",
      "Special tokens file saved in D:\\my-stuff\\cu-catalog-temp/instructor-article.checkpoints\\checkpoint-352\\special_tokens_map.json\n",
      "The following columns in the evaluation set don't have a corresponding argument in `DistilBertForSequenceClassification.forward` and have been ignored: search_results.snippet, name, department, search_results.title, search_results.label. If search_results.snippet, name, department, search_results.title, search_results.label are not expected by `DistilBertForSequenceClassification.forward`,  you can safely ignore this message.\n",
      "***** Running Evaluation *****\n",
      "  Num examples = 126\n",
      "  Batch size = 32\n",
      "Saving model checkpoint to D:\\my-stuff\\cu-catalog-temp/instructor-article.checkpoints\\checkpoint-374\n",
      "Configuration saved in D:\\my-stuff\\cu-catalog-temp/instructor-article.checkpoints\\checkpoint-374\\config.json\n",
      "Model weights saved in D:\\my-stuff\\cu-catalog-temp/instructor-article.checkpoints\\checkpoint-374\\pytorch_model.bin\n",
      "tokenizer config file saved in D:\\my-stuff\\cu-catalog-temp/instructor-article.checkpoints\\checkpoint-374\\tokenizer_config.json\n",
      "Special tokens file saved in D:\\my-stuff\\cu-catalog-temp/instructor-article.checkpoints\\checkpoint-374\\special_tokens_map.json\n",
      "The following columns in the evaluation set don't have a corresponding argument in `DistilBertForSequenceClassification.forward` and have been ignored: search_results.snippet, name, department, search_results.title, search_results.label. If search_results.snippet, name, department, search_results.title, search_results.label are not expected by `DistilBertForSequenceClassification.forward`,  you can safely ignore this message.\n",
      "***** Running Evaluation *****\n",
      "  Num examples = 126\n",
      "  Batch size = 32\n",
      "Saving model checkpoint to D:\\my-stuff\\cu-catalog-temp/instructor-article.checkpoints\\checkpoint-396\n",
      "Configuration saved in D:\\my-stuff\\cu-catalog-temp/instructor-article.checkpoints\\checkpoint-396\\config.json\n",
      "Model weights saved in D:\\my-stuff\\cu-catalog-temp/instructor-article.checkpoints\\checkpoint-396\\pytorch_model.bin\n",
      "tokenizer config file saved in D:\\my-stuff\\cu-catalog-temp/instructor-article.checkpoints\\checkpoint-396\\tokenizer_config.json\n",
      "Special tokens file saved in D:\\my-stuff\\cu-catalog-temp/instructor-article.checkpoints\\checkpoint-396\\special_tokens_map.json\n",
      "The following columns in the evaluation set don't have a corresponding argument in `DistilBertForSequenceClassification.forward` and have been ignored: search_results.snippet, name, department, search_results.title, search_results.label. If search_results.snippet, name, department, search_results.title, search_results.label are not expected by `DistilBertForSequenceClassification.forward`,  you can safely ignore this message.\n",
      "***** Running Evaluation *****\n",
      "  Num examples = 126\n",
      "  Batch size = 32\n",
      "Saving model checkpoint to D:\\my-stuff\\cu-catalog-temp/instructor-article.checkpoints\\checkpoint-418\n",
      "Configuration saved in D:\\my-stuff\\cu-catalog-temp/instructor-article.checkpoints\\checkpoint-418\\config.json\n",
      "Model weights saved in D:\\my-stuff\\cu-catalog-temp/instructor-article.checkpoints\\checkpoint-418\\pytorch_model.bin\n",
      "tokenizer config file saved in D:\\my-stuff\\cu-catalog-temp/instructor-article.checkpoints\\checkpoint-418\\tokenizer_config.json\n",
      "Special tokens file saved in D:\\my-stuff\\cu-catalog-temp/instructor-article.checkpoints\\checkpoint-418\\special_tokens_map.json\n",
      "The following columns in the evaluation set don't have a corresponding argument in `DistilBertForSequenceClassification.forward` and have been ignored: search_results.snippet, name, department, search_results.title, search_results.label. If search_results.snippet, name, department, search_results.title, search_results.label are not expected by `DistilBertForSequenceClassification.forward`,  you can safely ignore this message.\n",
      "***** Running Evaluation *****\n",
      "  Num examples = 126\n",
      "  Batch size = 32\n",
      "Saving model checkpoint to D:\\my-stuff\\cu-catalog-temp/instructor-article.checkpoints\\checkpoint-440\n",
      "Configuration saved in D:\\my-stuff\\cu-catalog-temp/instructor-article.checkpoints\\checkpoint-440\\config.json\n",
      "Model weights saved in D:\\my-stuff\\cu-catalog-temp/instructor-article.checkpoints\\checkpoint-440\\pytorch_model.bin\n",
      "tokenizer config file saved in D:\\my-stuff\\cu-catalog-temp/instructor-article.checkpoints\\checkpoint-440\\tokenizer_config.json\n",
      "Special tokens file saved in D:\\my-stuff\\cu-catalog-temp/instructor-article.checkpoints\\checkpoint-440\\special_tokens_map.json\n",
      "\n",
      "\n",
      "Training completed. Do not forget to share your model on huggingface.co/models =)\n",
      "\n",
      "\n",
      "Loading best model from D:\\my-stuff\\cu-catalog-temp/instructor-article.checkpoints\\checkpoint-264 (score: 0.19398771226406097).\n"
     ]
    }
   ],
   "source": [
    "print(model2.dataset_train)\n",
    "d = model2.fit()\n",
    "d"
   ]
  },
  {
   "cell_type": "code",
   "execution_count": 12,
   "metadata": {},
   "outputs": [
    {
     "data": {
      "text/plain": [
       "{'search_results.title': 'Natalie Maines',\n",
       " 'search_results.snippet': \"1, 2007. Rosen, Craig (December 3, 1999). &quot;Dixie Chicks And Sheryl Crow Prove They're Gutsy Women&quot;. Yahoo!Music. Retrieved June 1, 2007. &quot;A jewel of an\",\n",
       " 'search_results.label': 0,\n",
       " 'name': 'Louise A Rosen',\n",
       " 'department': 'International and Public Affairs',\n",
       " 'labels': 0}"
      ]
     },
     "execution_count": 12,
     "metadata": {},
     "output_type": "execute_result"
    }
   ],
   "source": [
    "model2.dataset_train[55]"
   ]
  },
  {
   "cell_type": "code",
   "execution_count": 16,
   "metadata": {},
   "outputs": [
    {
     "data": {
      "text/plain": [
       "'D:\\\\my-stuff\\\\cu-catalog-temp/instructor-search-results.model'"
      ]
     },
     "execution_count": 16,
     "metadata": {},
     "output_type": "execute_result"
    }
   ],
   "source": [
    "import cu_catalog\n",
    "cu_catalog.config.DATA_WIKI_SEARCH_MODEL_FILENAME"
   ]
  },
  {
   "cell_type": "code",
   "execution_count": 13,
   "metadata": {},
   "outputs": [
    {
     "name": "stdout",
     "output_type": "stream",
     "text": [
      "Evaluating test data set:\n",
      "  Misclassified as irrelevant but are relevant (no big deal): []\n",
      "  Misclassified as relevant but are not (big deal, unless mistake in dataset): []\n",
      "\n",
      "              precision    recall  f1-score   support\n",
      "\n",
      "           0       0.99      0.98      0.98        97\n",
      "           1       0.80      0.94      0.86        17\n",
      "           2       1.00      0.83      0.91        12\n",
      "\n",
      "    accuracy                           0.96       126\n",
      "   macro avg       0.93      0.92      0.92       126\n",
      "weighted avg       0.96      0.96      0.96       126\n",
      "\n",
      "Predicted:\n",
      "[1 1 0 1 0 0 0 0 0 0 0 0 0 0 2 0 1 0 0 0 0 0 0 0 0 0 0 0 0 0 0 0 2 1 2 1 0\n",
      " 0 0 1 0 1 0 0 1 0 1 0 0 2 2 1 0 0 0 1 2 0 0 2 0 2 0 1 0 0 0 0 1 0 0 2 0 1\n",
      " 0 0 0 0 1 0 0 0 0 0 0 0 0 0 0 0 1 0 0 0 0 0 0 0 0 0 0 0 0 0 0 0 0 2 0 0 0\n",
      " 0 0 0 0 0 0 0 0 0 0 0 1 0 1 1]\n",
      "True:\n",
      "[1 0 0 1 0 0 0 0 0 0 0 0 0 0 2 0 1 0 0 0 0 0 0 0 0 0 0 0 0 0 0 0 2 1 2 2 0\n",
      " 0 0 1 0 1 0 0 1 0 1 0 0 2 2 1 0 0 0 2 2 0 0 2 0 2 0 1 0 0 0 0 1 0 0 2 0 1\n",
      " 0 0 0 1 0 0 0 0 0 0 0 0 0 0 0 0 1 0 0 0 0 0 0 0 0 0 0 0 0 0 0 0 0 2 0 0 0\n",
      " 0 0 0 0 0 0 0 0 0 0 0 1 0 1 1]\n",
      "\n",
      "Confusion Matrix:\n",
      "            Irrelevant  Possible  Relevant\n",
      "Irrelevant          95         2         0\n",
      "Possible             1        16         0\n",
      "Relevant             0         2        10\n"
     ]
    }
   ],
   "source": [
    "model2.evaluate()"
   ]
  },
  {
   "cell_type": "code",
   "execution_count": null,
   "metadata": {},
   "outputs": [],
   "source": [
    "model2.persist_model()"
   ]
  },
  {
   "cell_type": "code",
   "execution_count": null,
   "metadata": {},
   "outputs": [],
   "source": [
    "model2.load_model()"
   ]
  },
  {
   "cell_type": "code",
   "execution_count": null,
   "metadata": {},
   "outputs": [],
   "source": [
    "#model2.dataset_test['labels']\n",
    "model2.dataset_test[55]"
   ]
  },
  {
   "cell_type": "code",
   "execution_count": null,
   "metadata": {},
   "outputs": [],
   "source": [
    "r = model2.predict_proba(model2.dataset_test)\n",
    "r[14]"
   ]
  },
  {
   "cell_type": "markdown",
   "metadata": {
    "tags": []
   },
   "source": [
    "# Wiki Article Classifier"
   ]
  },
  {
   "cell_type": "code",
   "execution_count": 5,
   "metadata": {},
   "outputs": [],
   "source": [
    "from cu_catalog.models import wiki_article\n",
    "\n",
    "wac_model = wiki_article.WikiArticleClassifier()"
   ]
  },
  {
   "cell_type": "code",
   "execution_count": 14,
   "metadata": {},
   "outputs": [
    {
     "name": "stderr",
     "output_type": "stream",
     "text": [
      "Using custom data configuration default-7f9112010e357534\n",
      "Reusing dataset json (C:\\Users\\soide\\.cache\\huggingface\\datasets\\json\\default-7f9112010e357534\\0.0.0\\c90812beea906fcffe0d5e3bb9eba909a80a998b5f88e9f8acbd320aa91acfde)\n",
      "Using custom data configuration default-7f9112010e357534\n",
      "Reusing dataset json (C:\\Users\\soide\\.cache\\huggingface\\datasets\\json\\default-7f9112010e357534\\0.0.0\\c90812beea906fcffe0d5e3bb9eba909a80a998b5f88e9f8acbd320aa91acfde)\n",
      "Using custom data configuration default-7f9112010e357534\n",
      "Reusing dataset json (C:\\Users\\soide\\.cache\\huggingface\\datasets\\json\\default-7f9112010e357534\\0.0.0\\c90812beea906fcffe0d5e3bb9eba909a80a998b5f88e9f8acbd320aa91acfde)\n"
     ]
    },
    {
     "name": "stdout",
     "output_type": "stream",
     "text": [
      "Initial all data:\n",
      "0    333\n",
      "1    100\n",
      "Name: label, dtype: int64\n",
      "\n",
      "Train set:\n",
      "0    229\n",
      "1     74\n",
      "Name: label, dtype: int64\n",
      "\n",
      "Test set:\n",
      "0    104\n",
      "1     26\n",
      "Name: label, dtype: int64\n"
     ]
    }
   ],
   "source": [
    "wac_model.load_training_data()\n",
    "#wac_model.data[:]"
   ]
  },
  {
   "cell_type": "code",
   "execution_count": null,
   "metadata": {
    "tags": []
   },
   "outputs": [
    {
     "name": "stderr",
     "output_type": "stream",
     "text": [
      "Some weights of the model checkpoint at distilbert-base-uncased were not used when initializing DistilBertForSequenceClassification: ['vocab_transform.weight', 'vocab_projector.bias', 'vocab_transform.bias', 'vocab_projector.weight', 'vocab_layer_norm.bias', 'vocab_layer_norm.weight']\n",
      "- This IS expected if you are initializing DistilBertForSequenceClassification from the checkpoint of a model trained on another task or with another architecture (e.g. initializing a BertForSequenceClassification model from a BertForPreTraining model).\n",
      "- This IS NOT expected if you are initializing DistilBertForSequenceClassification from the checkpoint of a model that you expect to be exactly identical (initializing a BertForSequenceClassification model from a BertForSequenceClassification model).\n",
      "Some weights of DistilBertForSequenceClassification were not initialized from the model checkpoint at distilbert-base-uncased and are newly initialized: ['pre_classifier.bias', 'classifier.bias', 'pre_classifier.weight', 'classifier.weight']\n",
      "You should probably TRAIN this model on a down-stream task to be able to use it for predictions and inference.\n"
     ]
    },
    {
     "data": {
      "application/vnd.jupyter.widget-view+json": {
       "model_id": "e5ba3530a3c94d568fb6988fc27ac9e7",
       "version_major": 2,
       "version_minor": 0
      },
      "text/plain": [
       "  0%|          | 0/303 [00:00<?, ?ex/s]"
      ]
     },
     "metadata": {},
     "output_type": "display_data"
    },
    {
     "data": {
      "application/vnd.jupyter.widget-view+json": {
       "model_id": "26b4ec241a0641dbb746503819a87b00",
       "version_major": 2,
       "version_minor": 0
      },
      "text/plain": [
       "  0%|          | 0/130 [00:00<?, ?ex/s]"
      ]
     },
     "metadata": {},
     "output_type": "display_data"
    },
    {
     "name": "stderr",
     "output_type": "stream",
     "text": [
      "The following columns in the training set don't have a corresponding argument in `DistilBertForSequenceClassification.forward` and have been ignored: name, course_descr, department, wiki_page, wiki_title. If name, course_descr, department, wiki_page, wiki_title are not expected by `DistilBertForSequenceClassification.forward`,  you can safely ignore this message.\n",
      "C:\\Users\\soide\\AppData\\Local\\Programs\\Python\\Python38\\lib\\site-packages\\transformers\\optimization.py:306: FutureWarning: This implementation of AdamW is deprecated and will be removed in a future version. Use the PyTorch implementation torch.optim.AdamW instead, or set `no_deprecation_warning=True` to disable this warning\n",
      "  warnings.warn(\n",
      "***** Running training *****\n",
      "  Num examples = 303\n",
      "  Num Epochs = 20\n",
      "  Instantaneous batch size per device = 4\n",
      "  Total train batch size (w. parallel, distributed & accumulation) = 4\n",
      "  Gradient Accumulation steps = 1\n",
      "  Total optimization steps = 1520\n",
      "  Number of trainable parameters = 66955010\n",
      "You're using a DistilBertTokenizerFast tokenizer. Please note that with a fast tokenizer, using the `__call__` method is faster than using a method to encode the text followed by a call to the `pad` method to get a padded encoding.\n"
     ]
    },
    {
     "data": {
      "text/html": [
       "\n",
       "    <div>\n",
       "      \n",
       "      <progress value='377' max='1520' style='width:300px; height:20px; vertical-align: middle;'></progress>\n",
       "      [ 377/1520 33:38 < 1:42:31, 0.19 it/s, Epoch 4.95/20]\n",
       "    </div>\n",
       "    <table border=\"1\" class=\"dataframe\">\n",
       "  <thead>\n",
       " <tr style=\"text-align: left;\">\n",
       "      <th>Epoch</th>\n",
       "      <th>Training Loss</th>\n",
       "      <th>Validation Loss</th>\n",
       "      <th>Accuracy</th>\n",
       "      <th>F1</th>\n",
       "    </tr>\n",
       "  </thead>\n",
       "  <tbody>\n",
       "    <tr>\n",
       "      <td>1</td>\n",
       "      <td>0.321200</td>\n",
       "      <td>0.266148</td>\n",
       "      <td>0.923077</td>\n",
       "      <td>0.919139</td>\n",
       "    </tr>\n",
       "    <tr>\n",
       "      <td>2</td>\n",
       "      <td>0.043400</td>\n",
       "      <td>0.145217</td>\n",
       "      <td>0.961538</td>\n",
       "      <td>0.960634</td>\n",
       "    </tr>\n",
       "    <tr>\n",
       "      <td>3</td>\n",
       "      <td>0.002800</td>\n",
       "      <td>0.125994</td>\n",
       "      <td>0.953846</td>\n",
       "      <td>0.954477</td>\n",
       "    </tr>\n",
       "    <tr>\n",
       "      <td>4</td>\n",
       "      <td>0.001400</td>\n",
       "      <td>0.104622</td>\n",
       "      <td>0.969231</td>\n",
       "      <td>0.969231</td>\n",
       "    </tr>\n",
       "  </tbody>\n",
       "</table><p>"
      ],
      "text/plain": [
       "<IPython.core.display.HTML object>"
      ]
     },
     "metadata": {},
     "output_type": "display_data"
    },
    {
     "name": "stderr",
     "output_type": "stream",
     "text": [
      "The following columns in the evaluation set don't have a corresponding argument in `DistilBertForSequenceClassification.forward` and have been ignored: name, course_descr, department, wiki_page, wiki_title. If name, course_descr, department, wiki_page, wiki_title are not expected by `DistilBertForSequenceClassification.forward`,  you can safely ignore this message.\n",
      "***** Running Evaluation *****\n",
      "  Num examples = 130\n",
      "  Batch size = 4\n",
      "Saving model checkpoint to D:\\my-stuff\\cu-catalog-temp/instructor-article.checkpoints\\checkpoint-76\n",
      "Configuration saved in D:\\my-stuff\\cu-catalog-temp/instructor-article.checkpoints\\checkpoint-76\\config.json\n",
      "Model weights saved in D:\\my-stuff\\cu-catalog-temp/instructor-article.checkpoints\\checkpoint-76\\pytorch_model.bin\n",
      "tokenizer config file saved in D:\\my-stuff\\cu-catalog-temp/instructor-article.checkpoints\\checkpoint-76\\tokenizer_config.json\n",
      "Special tokens file saved in D:\\my-stuff\\cu-catalog-temp/instructor-article.checkpoints\\checkpoint-76\\special_tokens_map.json\n",
      "The following columns in the evaluation set don't have a corresponding argument in `DistilBertForSequenceClassification.forward` and have been ignored: name, course_descr, department, wiki_page, wiki_title. If name, course_descr, department, wiki_page, wiki_title are not expected by `DistilBertForSequenceClassification.forward`,  you can safely ignore this message.\n",
      "***** Running Evaluation *****\n",
      "  Num examples = 130\n",
      "  Batch size = 4\n",
      "Saving model checkpoint to D:\\my-stuff\\cu-catalog-temp/instructor-article.checkpoints\\checkpoint-152\n",
      "Configuration saved in D:\\my-stuff\\cu-catalog-temp/instructor-article.checkpoints\\checkpoint-152\\config.json\n",
      "Model weights saved in D:\\my-stuff\\cu-catalog-temp/instructor-article.checkpoints\\checkpoint-152\\pytorch_model.bin\n",
      "tokenizer config file saved in D:\\my-stuff\\cu-catalog-temp/instructor-article.checkpoints\\checkpoint-152\\tokenizer_config.json\n",
      "Special tokens file saved in D:\\my-stuff\\cu-catalog-temp/instructor-article.checkpoints\\checkpoint-152\\special_tokens_map.json\n",
      "The following columns in the evaluation set don't have a corresponding argument in `DistilBertForSequenceClassification.forward` and have been ignored: name, course_descr, department, wiki_page, wiki_title. If name, course_descr, department, wiki_page, wiki_title are not expected by `DistilBertForSequenceClassification.forward`,  you can safely ignore this message.\n",
      "***** Running Evaluation *****\n",
      "  Num examples = 130\n",
      "  Batch size = 4\n",
      "Saving model checkpoint to D:\\my-stuff\\cu-catalog-temp/instructor-article.checkpoints\\checkpoint-228\n",
      "Configuration saved in D:\\my-stuff\\cu-catalog-temp/instructor-article.checkpoints\\checkpoint-228\\config.json\n",
      "Model weights saved in D:\\my-stuff\\cu-catalog-temp/instructor-article.checkpoints\\checkpoint-228\\pytorch_model.bin\n",
      "tokenizer config file saved in D:\\my-stuff\\cu-catalog-temp/instructor-article.checkpoints\\checkpoint-228\\tokenizer_config.json\n",
      "Special tokens file saved in D:\\my-stuff\\cu-catalog-temp/instructor-article.checkpoints\\checkpoint-228\\special_tokens_map.json\n",
      "The following columns in the evaluation set don't have a corresponding argument in `DistilBertForSequenceClassification.forward` and have been ignored: name, course_descr, department, wiki_page, wiki_title. If name, course_descr, department, wiki_page, wiki_title are not expected by `DistilBertForSequenceClassification.forward`,  you can safely ignore this message.\n",
      "***** Running Evaluation *****\n",
      "  Num examples = 130\n",
      "  Batch size = 4\n",
      "Saving model checkpoint to D:\\my-stuff\\cu-catalog-temp/instructor-article.checkpoints\\checkpoint-304\n",
      "Configuration saved in D:\\my-stuff\\cu-catalog-temp/instructor-article.checkpoints\\checkpoint-304\\config.json\n",
      "Model weights saved in D:\\my-stuff\\cu-catalog-temp/instructor-article.checkpoints\\checkpoint-304\\pytorch_model.bin\n",
      "tokenizer config file saved in D:\\my-stuff\\cu-catalog-temp/instructor-article.checkpoints\\checkpoint-304\\tokenizer_config.json\n",
      "Special tokens file saved in D:\\my-stuff\\cu-catalog-temp/instructor-article.checkpoints\\checkpoint-304\\special_tokens_map.json\n"
     ]
    }
   ],
   "source": [
    "wac_model.fit()"
   ]
  },
  {
   "cell_type": "code",
   "execution_count": 17,
   "metadata": {},
   "outputs": [
    {
     "name": "stderr",
     "output_type": "stream",
     "text": [
      "Saving model checkpoint to D:\\my-stuff\\cu-catalog-temp/instructor-article.model\n",
      "Configuration saved in D:\\my-stuff\\cu-catalog-temp/instructor-article.model\\config.json\n",
      "Model weights saved in D:\\my-stuff\\cu-catalog-temp/instructor-article.model\\pytorch_model.bin\n",
      "tokenizer config file saved in D:\\my-stuff\\cu-catalog-temp/instructor-article.model\\tokenizer_config.json\n",
      "Special tokens file saved in D:\\my-stuff\\cu-catalog-temp/instructor-article.model\\special_tokens_map.json\n"
     ]
    }
   ],
   "source": [
    "wac_model.persist_model()"
   ]
  },
  {
   "cell_type": "code",
   "execution_count": 18,
   "metadata": {},
   "outputs": [
    {
     "name": "stderr",
     "output_type": "stream",
     "text": [
      "loading file vocab.txt\n",
      "loading file tokenizer.json\n",
      "loading file added_tokens.json\n",
      "loading file special_tokens_map.json\n",
      "loading file tokenizer_config.json\n",
      "loading configuration file D:\\my-stuff\\cu-catalog-temp/instructor-article.model\\config.json\n",
      "Model config DistilBertConfig {\n",
      "  \"_name_or_path\": \"D:\\\\my-stuff\\\\cu-catalog-temp/instructor-article.model\",\n",
      "  \"activation\": \"gelu\",\n",
      "  \"architectures\": [\n",
      "    \"DistilBertForSequenceClassification\"\n",
      "  ],\n",
      "  \"attention_dropout\": 0.1,\n",
      "  \"dim\": 768,\n",
      "  \"dropout\": 0.1,\n",
      "  \"hidden_dim\": 3072,\n",
      "  \"initializer_range\": 0.02,\n",
      "  \"max_position_embeddings\": 512,\n",
      "  \"model_type\": \"distilbert\",\n",
      "  \"n_heads\": 12,\n",
      "  \"n_layers\": 6,\n",
      "  \"pad_token_id\": 0,\n",
      "  \"problem_type\": \"single_label_classification\",\n",
      "  \"qa_dropout\": 0.1,\n",
      "  \"seq_classif_dropout\": 0.2,\n",
      "  \"sinusoidal_pos_embds\": false,\n",
      "  \"tie_weights_\": true,\n",
      "  \"torch_dtype\": \"float32\",\n",
      "  \"transformers_version\": \"4.25.1\",\n",
      "  \"vocab_size\": 30522\n",
      "}\n",
      "\n",
      "loading weights file D:\\my-stuff\\cu-catalog-temp/instructor-article.model\\pytorch_model.bin\n",
      "All model checkpoint weights were used when initializing DistilBertForSequenceClassification.\n",
      "\n",
      "All the weights of DistilBertForSequenceClassification were initialized from the model checkpoint at D:\\my-stuff\\cu-catalog-temp/instructor-article.model.\n",
      "If your task is similar to the task the model of the checkpoint was trained on, you can already use DistilBertForSequenceClassification for predictions without further training.\n"
     ]
    }
   ],
   "source": [
    "wac_model.load_model()"
   ]
  },
  {
   "cell_type": "code",
   "execution_count": 19,
   "metadata": {},
   "outputs": [
    {
     "name": "stdout",
     "output_type": "stream",
     "text": [
      "Evaluating test data set:\n",
      "  Misclassified as irrelevant but are relevant: [6, 76]\n",
      "  Misclassified as relevant but are not: [29, 30]\n",
      "\n",
      "              precision    recall  f1-score   support\n",
      "\n",
      "           0       0.98      0.98      0.98       104\n",
      "           1       0.92      0.92      0.92        26\n",
      "\n",
      "    accuracy                           0.97       130\n",
      "   macro avg       0.95      0.95      0.95       130\n",
      "weighted avg       0.97      0.97      0.97       130\n",
      "\n",
      "Predicted:\n",
      "[0 0 1 0 0 0 0 0 0 1 0 0 0 0 0 0 0 0 0 1 1 0 0 0 0 0 0 1 0 1 1 1 1 0 0 0 0\n",
      " 0 0 1 0 0 0 0 0 0 1 0 0 0 0 1 0 1 0 0 0 0 0 0 0 0 0 0 0 0 0 1 1 1 0 1 0 1\n",
      " 0 0 0 0 0 0 0 0 0 0 0 0 0 0 0 0 0 0 0 1 1 0 0 0 1 0 0 0 1 0 0 0 0 0 0 0 0\n",
      " 0 0 0 1 0 0 0 0 1 0 1 0 0 0 0 0 0 0 1]\n",
      "True:\n",
      "[0 0 1 0 0 0 1 0 0 1 0 0 0 0 0 0 0 0 0 1 1 0 0 0 0 0 0 1 0 0 0 1 1 0 0 0 0\n",
      " 0 0 1 0 0 0 0 0 0 1 0 0 0 0 1 0 1 0 0 0 0 0 0 0 0 0 0 0 0 0 1 1 1 0 1 0 1\n",
      " 0 0 1 0 0 0 0 0 0 0 0 0 0 0 0 0 0 0 0 1 1 0 0 0 1 0 0 0 1 0 0 0 0 0 0 0 0\n",
      " 0 0 0 1 0 0 0 0 1 0 1 0 0 0 0 0 0 0 1]\n",
      "\n",
      "Confusion Matrix:\n",
      "[[102   2]\n",
      " [  2  24]]\n"
     ]
    }
   ],
   "source": [
    "#wac_model.threshold = 0.50\n",
    "wac_model.evaluate()"
   ]
  },
  {
   "cell_type": "code",
   "execution_count": 21,
   "metadata": {},
   "outputs": [
    {
     "data": {
      "text/plain": [
       "{'name': 'John W McCormack',\n",
       " 'department': 'English @Barnard; English and Comparative Literature; Writing',\n",
       " 'course_descr': '',\n",
       " 'wiki_title': 'John W. McCormack Graduate School of Policy and Global Studies',\n",
       " 'wiki_page': 'The John W. McCormack Graduate School of Policy Studies at UMass Boston was founded in 2003 and grew out of the John W. McCormack Institute for Public Affairs which opened in 1983. In 2010, the school expanded its mission and name. The McCormack Graduate School also provides editorial management of the New England Journal of Public Policy and two peer-reviewed academic journals, the Journal of Aging and Social Policy and Research on Aging.\\n\\n\\n== Graduate degree and Certificate programs ==\\nConflict resolution (Graduate certificates, MA degree)\\nGerontology (Graduate certificates, MS and PhD degrees)\\nGlobal Governance and Human Security (PhD degree)\\nInternational Relations (MSPA degree)\\nPublic Affairs (MSPA degree)\\nPublic Policy (PhD degree)\\nWomen in Politics and Public Policy (Graduate certificate)\\n\\n\\n== Centers, Institutes, and Special projects ==\\nCenter for Community Democracy and Democratic Literacy\\nCenter for Governance and Sustainability\\nCenter for Peace, Democracy, and Development\\nCenter for Rebuilding Sustainable Communities after Disasters\\nCenter for Social and Demographic Research on Aging\\nCenter for Social Policy\\nCenter for Women in Politics and Public Policy\\nCenter on Media and Society\\nCollaborative Institute for Oceans, Climate, and Security\\nCommonwealth Compact, a Massachusetts workforce diversity initiative\\nEdward J. Collins, Jr. Center for Public Management\\nGerontology Institute\\nJohn Joseph Moakley Chair for Peace and Reconciliation\\nOsher Lifelong Learning Institute\\nPension Action Center\\nThe Democracy Lab at UMass BostonThe school is named in honor of U.S. House of Representatives Speaker John W. McCormack.\\n\\n\\n== External links ==\\nOfficial website\\nJournal of Aging and Social Policy and Research on Aging\\nNew England Journal of Public Policy',\n",
       " 'label': 0}"
      ]
     },
     "execution_count": 21,
     "metadata": {},
     "output_type": "execute_result"
    }
   ],
   "source": [
    "wac_model.dataset_test[30]"
   ]
  },
  {
   "cell_type": "code",
   "execution_count": 24,
   "metadata": {},
   "outputs": [
    {
     "data": {
      "image/png": "[encoded data removed]",
      "text/plain": [
       "<Figure size 432x288 with 1 Axes>"
      ]
     },
     "metadata": {
      "needs_background": "light"
     },
     "output_type": "display_data"
    }
   ],
   "source": [
    "# Plotting ROC curve\n",
    "from sklearn.metrics import roc_curve, auc\n",
    "\n",
    "# from https://medium.com/analytics-vidhya/easily-implement-different-transformers-through-hugging-face-e471035e9c86\n",
    "def roc_curve_plot(fpr,tpr,roc_auc):\n",
    "    plt.figure()\n",
    "    lw = 2\n",
    "    plt.plot(fpr, tpr, color='darkorange',\n",
    "             lw=lw, label='ROC curve (area = %0.2f)' %roc_auc)\n",
    "    plt.plot([0, 1], [0, 1], color='navy', lw=lw, linestyle='--')\n",
    "    plt.xlim([0.0, 1.0])\n",
    "    plt.ylim([0.0, 1.05])\n",
    "    plt.xlabel('False Positive Rate')\n",
    "    plt.ylabel('True Positive Rate')\n",
    "    plt.title('Receiver operating characteristic example')\n",
    "    plt.legend(loc=\"lower right\")\n",
    "    plt.show()\n",
    "\n",
    "proba = wac_model.predict_proba(wac_model.dataset_test)\n",
    "\n",
    "fpr, tpr, thresholds = roc_curve(wac_model.dataset_test['label'], proba)\n",
    "roc_auc = auc(fpr, tpr)\n",
    "roc_curve_plot(fpr, tpr, roc_auc)\n",
    "\n",
    "# np.argmax(proba)"
   ]
  },
  {
   "cell_type": "code",
   "execution_count": 25,
   "metadata": {},
   "outputs": [
    {
     "data": {
      "image/png": "[encoded data removed]",
      "text/plain": [
       "<Figure size 432x288 with 1 Axes>"
      ]
     },
     "metadata": {
      "needs_background": "light"
     },
     "output_type": "display_data"
    }
   ],
   "source": [
    "plt.scatter(thresholds,np.abs(fpr+tpr-1))\n",
    "plt.xlabel(\"Threshold\")\n",
    "plt.ylabel(\"|FPR + TPR - 1|\")\n",
    "plt.show()"
   ]
  },
  {
   "cell_type": "code",
   "execution_count": 42,
   "metadata": {},
   "outputs": [
    {
     "data": {
      "text/plain": [
       "array([1.8845391 , 0.8845391 , 0.87678367, 0.8760972 , 0.8725164 ,\n",
       "       0.87247497, 0.871106  , 0.8702101 , 0.8322895 , 0.83009756,\n",
       "       0.80652404, 0.7974503 , 0.72910005, 0.6495897 , 0.6060107 ,\n",
       "       0.5652269 , 0.4276416 , 0.3908765 , 0.03486022, 0.03476772,\n",
       "       0.01773071], dtype=float32)"
      ]
     },
     "execution_count": 42,
     "metadata": {},
     "output_type": "execute_result"
    }
   ],
   "source": [
    "thresholds"
   ]
  },
  {
   "cell_type": "code",
   "execution_count": 31,
   "metadata": {},
   "outputs": [
    {
     "name": "stdout",
     "output_type": "stream",
     "text": [
      "{'name': {0: 'Gerard F Parkin'}, 'department': {0: 'Chemistry'}, 'course_descr': {0: 'The use of multinuclear NMR spectroscopy in the determination of the structures of inorganic molecules and the use of dynamic NMR spectroscopy (variable temperature NMR and magnetization transfer techniques) to provide information concerned with reaction mechanisms.\\n'}, 'wiki_title': {0: 'Gerard Parkin'}, 'wiki_page': {0: 'Gerard \"Ged\" F. R. Parkin (born 15 February 1959) is a professor of chemistry at Columbia University.\\n\\n\\n== Biography ==\\nGerard Parkin attended the English Martyrs School and Sixth Form College before working under Malcolm Green during both his undergraduate and graduate studies at Queens College of Oxford University.  His work involved exploring the chemistry of tungsten phosphine derivatives.  He obtained a post-doctoral position at the California Institute of Technology working with Professor John Bercaw on tungstenocene reactivity.  In 1988, Ged joined the faculty at Columbia University, where he currently investigates a myriad of problems in main group and transition metal chemistry, including:\\n\\nCalixarene complexes\\nRetrodative bonding, especially related to boratranes\\nGroup 6 reactivity relating to X-H (X=H, C, O) bond activation, hydrodesulfurization and hydrodenitrogenation\\nThe Tris(mercaptoimidazolyl) borate Tm ligand\\nTerminal chalcogen metal bonding\\nZinc complexes as models for biological systems\\nAntimony alkoxides and aryloxides\\nCleaving the mercury–carbon bond.\\n\\n\\n== Honors ==\\nParkin received the 2008 ACS Award in Organometallic Chemistry and the 1994 ACS Award in pure chemistry from the American Chemical Society.\\nHe also received the Corday–Morgan Medal from the Royal Society of Chemistry in 1995. In 2009 he received the Presidential Award for Excellence in Science, Mathematics and Engineering Mentoring, an award that was presented at a White House ceremony.\\n\\n\\n== References ==\\n\\n\\n== External links ==\\nParkin homepage\\nThe Parkin Website'}, 'label': {0: 1}}\n"
     ]
    }
   ],
   "source": [
    "wac_model.view_sample(22)"
   ]
  },
  {
   "cell_type": "code",
   "execution_count": 39,
   "metadata": {},
   "outputs": [
    {
     "data": {
      "text/plain": [
       "{'name': 'Richard Goldberg',\n",
       " 'department': 'Enterprise Risk Management; International and Public Affairs',\n",
       " 'course_descr': '',\n",
       " 'wiki_title': 'Richard Zare',\n",
       " 'wiki_page': 'Richard Neil Zare (born November 19, 1939 in Cleveland, Ohio) is the Marguerite Blake Wilbur Professor in Natural Science and a Professor of Chemistry at Stanford University. Throughout his career, Zare has made a considerable impact in physical chemistry and analytical chemistry, particularly  through the development of laser-induced fluorescence (LIF) and the study of chemical reactions at the molecular and nanoscale level. LIF is an extremely sensitive technique with applications ranging from analytical chemistry and molecular biology to astrophysics. One of its applications was the sequencing of the human genome.Zare is known for his enthusiasm for science and his exploration of new areas of research.  He has mentored over 150 PhD students and postdoctoral researchers, of whom more than 49 are women or members of minorities. Zare is a strong advocate for women in science, and a fellow of the Association for Women in Science (AWIS) as of 2008.\\n\\n\\n== Education ==\\nZare earned his B.A. in chemistry and physics in 1961 and his Ph.D. in 1964 in physical and analytical chemistry at Harvard University. As an undergraduate he worked with William Klemperer. Zare moved to the University of California, Berkeley to do Ph.D. work with Dudley Herschbach, then returned 2 years later when Herschbach accepted a position at Harvard. Zare completed his Ph.D. thesis, a theoretical analysis of Molecular fluorescence and photodissociation, with Herschbach at Harvard in 1964.\\n\\n\\n== Career ==\\nZare joined Massachusetts Institute of Technology as an assistant professor in 1965. From 1966 to 1969, he was jointly appointed in the departments of chemistry, physics and astrophysics at JILA at the University of Colorado Boulder.  In 1969 he became a full professor in the Department of Chemistry at Columbia University. He was named the Higgins Professor of Natural Science at Columbia in 1975.In 1977 Zare accepted a position as a full professor of chemistry at Stanford University, becoming the Marguerite Blake Wilbur Professor in Natural Science in 1987.  He served as chair of the chemistry department from 2005 to 2011.Zare  served on the National Science Board (NSB) of the National Science Foundation (NSF) from 1990 to 1996, and was the board’s chair from 1994 to 1996.\\nHe is a member of the editorial advisory boards of several scientific publications, among them Chemistry World, Angewandte Chemie, Central European Journal of Chemistry, Journal of Separation Sciences and the Chinese Journal of Chromatography. He also served on the Physical Sciences jury for the Infosys Prize from 2014 to 2016. \\nHe is Chairman of the Board of Directors at Annual Reviews, Inc., and serves on the Board of Directors of The Camille and Henry Dreyfus Foundation.\\n\\n\\n== Research ==\\nZare is well known for his research in laser chemistry, particularly the development of laser-induced fluorescence, which he has used to study reaction dynamics and analytical detection methods.  His research on the spectroscopy of chemical compounds suggested a new mechanism for energy transference in inelastic collisions.\\nHe and his students have developed tools and  techniques to examine chemical reactions at the molecular and nanoscale levels. They have explored a wide-ranging variety of problems in physical chemistry and chemical analysis including examination of heterogeneous structures in mineral samples, the contents of cells and subcellular compartments, and the chemical analysis of liquid samples.Early in his career, the question of whether laser-induced fluorescence (LIF) could be used to study aflatoxins spurred Zare to adapt LIF for use on liquids.  Work with postdoc Gerald Diebold resulted in the first use of LIF for detection in chemical analysis. \\nThis opened up the potential for a wide variety of fluid applications, including the detection of single molecules in liquids at room-temperature and detection methods for capillary electrophoresis.\\nZare and his coworkers have combined CCD imaging with LIF detection to detect amol and zeptamole amounts of FITC-labelled amino acids.\\nZare and his students have also developed cavity ring-down spectroscopy (CRDS) for quantitative diagnosis, and for high performance liquid chromatography (HPLC)  \\nZare is also involved in the development of desorption electrospray ionization (DESI) techniques, which are being used for mass spectrometric imaging of lipids, metabolites and proteins in tissue samples, including prostate cancer.\\n“I’m right now very excited about mass spectrometry, still excited about lasers, all types of [analytical techniques], but to me, they’re tools. They’re not ends in themselves... With new tools and measurement techniques, you can make advances in all types of fundamental problems.”  Richard Zare\\nZare has also worked with NASA and others on astrobiology. He is one of the co-authors of a paper that appeared in Science in 1996, raising the possibility that a meteorite from Mars, ALH84001, contained traces of Martian life. Zare used  two-step laser mass spectrometry (L2MS), a technique that is particularly sensitive to organic molecules, to examine samples from the interior of the meteorite. He found that the  4.5-billion-year-old Martian meteorite, discovered in Antarctica, contained polycyclic aromatic hydrocarbons. This lead researchers to speculate on the presence of fossilized remains from Mars. Other researchers questioned this interpretation, suggesting that the sample might have been contaminated after its arrival on Earth. Considerable controversy resulted, which Zare felt disrupted his ongoing laboratory research. Zare has also worked with NASA on examinations of organic materials obtained from Comet 81P/Wild by the Stardust Spacecraft.\\n\\n\\n== Publications ==\\nZare has published several books, including a widely used textbook on the topic of angular momentum in quantum systems that is considered a classic for its explanations of angular momentum algebra and the fundamentals of molecular spectroscopy.  He is an author or co-author of more than 1,000 peer-reviewed papers.\\n\\n\\n=== Selected publications ===\\nZare, RN; Fernández, FM; Kimmel, JR (3 January 2003). \"Hadamard transform time-of-flight mass spectrometry: more signal, more of the time\". Angewandte Chemie International Edition in English. 42 (1): 30–5. doi:10.1002/anie.200390047. PMID 19757587. S2CID 2259113.\\nWu, H.; Wheeler, A.; Zare, R. N. (24 August 2004). \"Chemical cytometry on a picoliter-scale integrated microfluidic chip\" (PDF). Proceedings of the National Academy of Sciences. 101 (35): 12809–12813. Bibcode:2004PNAS..10112809W. doi:10.1073/pnas.0405299101. PMC 516477. PMID 15328405.\\nZare, R. N. (20 March 1998). \"Laser Control of Chemical Reactions\" (PDF). Science. 279 (5358): 1875–1879. Bibcode:1998Sci...279.1875Z. CiteSeerX 10.1.1.454.2403. doi:10.1126/science.279.5358.1875. PMID 9506928.\\nAlexander, A. J.; Zare, R. N. (1998). \"Anatomy of Elementary Chemical Reactions\" (PDF). Journal of Chemical Education. 75 (9): 1105–1118. Bibcode:1998JChEd..75.1105A. doi:10.1021/ed075p1105.</ref>\\nAlthorpe, Stuart C.; Fernández-Alonso, Félix; Bean, Brian D.; Ayers, James D.; Pomerantz, Andrew E.; Zare, Richard N.; Wrede, Eckart (7 March 2002). \"Observation and interpretation of a time-delayed mechanism in the hydrogen exchange reaction\". Nature. 416 (6876): 67–70. Bibcode:2002Natur.416...67A. doi:10.1038/416067a. PMID 11882892. S2CID 4414725.\\n\\n\\n=== Books ===\\nHsu, Donald K.; Monts, David L.; Zare, Richard N. (1978). Spectral atlas of nitrogen dioxide, 5530 to 6480 Å. New York: Academic Press. ISBN 978-0-12-357950-8.\\nZare, Richard N. (1988). Angular momentum : understanding spatial aspects in chemistry and physics. New York: Wiley. ISBN 978-0-471-85892-8.\\nZare, Richard N.; Spencer, Bertrand H.; Springer, Dwight S.; Jacobson, Matthew P. (1995). Laser experiments for beginners. Sausalito, Calif.: University Science Books. ISBN 978-0-935702-36-1.\\nZare, Richard N. (1998). Angular momentum : understanding spatial aspects in chemistry and physics. New York: Wiley. ISBN 978-0-471-24478-3.\\nKleiman, Valeria; Park, Hongkun; Gordon, Robert J.; Zare, Richard N. (1998). Companion to Angular momentum. New York: Wiley. ISBN 978-0-471-19249-7.\\nYeung, Edward S.; Zare, Richard N. (2008). Annual Review of Analytical Chemistry, Volume 1. Annual Reviews Inc., U.S. ISBN 978-0-8243-4401-6.\\n\\n\\n== Awards, honors and fellowships ==\\n\\n\\n== References ==\\n\\n\\n== See also ==',\n",
       " 'label': 0}"
      ]
     },
     "execution_count": 39,
     "metadata": {},
     "output_type": "execute_result"
    }
   ],
   "source": [
    "wac_model.dataset_test[87]"
   ]
  },
  {
   "cell_type": "markdown",
   "metadata": {},
   "source": [
    "# Experimental Models"
   ]
  },
  {
   "cell_type": "code",
   "execution_count": 817,
   "metadata": {},
   "outputs": [
    {
     "name": "stdout",
     "output_type": "stream",
     "text": [
      "label = 1\n",
      "              precision    recall  f1-score   support\n",
      "\n",
      "           0       0.82      0.75      0.78        12\n",
      "           1       0.57      0.67      0.62         6\n",
      "\n",
      "    accuracy                           0.72        18\n",
      "   macro avg       0.69      0.71      0.70        18\n",
      "weighted avg       0.74      0.72      0.73        18\n",
      "\n",
      "predicted:\n",
      "[0 0 1 1 0 0 0 0 1 0 0 1 1 0 1 1 0 0]\n",
      "true:\n",
      "[0 0 1 1 0 1 0 0 0 0 0 0 1 0 0 1 0 1]\n"
     ]
    },
    {
     "data": {
      "text/plain": [
       "search_results.label     \n",
       "2                     494    0\n",
       "0                     730    0\n",
       "1                     53     1\n",
       "                      362    1\n",
       "2                     299    0\n",
       "1                     656    1\n",
       "0                     394    0\n",
       "2                     749    0\n",
       "                      760    0\n",
       "0                     647    0\n",
       "                      258    0\n",
       "                      652    0\n",
       "1                     130    1\n",
       "2                     748    0\n",
       "                      405    0\n",
       "1                     129    1\n",
       "0                     318    0\n",
       "1                     0      1\n",
       "Name: search_results.label, dtype: int64"
      ]
     },
     "metadata": {},
     "output_type": "display_data"
    },
    {
     "name": "stdout",
     "output_type": "stream",
     "text": [
      "\n",
      "label = 2\n",
      "              precision    recall  f1-score   support\n",
      "\n",
      "           0       0.75      1.00      0.86        12\n",
      "           1       1.00      0.33      0.50         6\n",
      "\n",
      "    accuracy                           0.78        18\n",
      "   macro avg       0.88      0.67      0.68        18\n",
      "weighted avg       0.83      0.78      0.74        18\n",
      "\n",
      "predicted:\n",
      "[0 0 0 0 1 0 0 1 0 0 0 0 0 0 0 0 0 0]\n",
      "true:\n",
      "[1 0 0 0 1 0 0 1 1 0 0 0 0 1 1 0 0 0]\n"
     ]
    },
    {
     "data": {
      "text/plain": [
       "search_results.label     \n",
       "2                     494    1\n",
       "0                     730    0\n",
       "1                     53     0\n",
       "                      362    0\n",
       "2                     299    1\n",
       "1                     656    0\n",
       "0                     394    0\n",
       "2                     749    1\n",
       "                      760    1\n",
       "0                     647    0\n",
       "                      258    0\n",
       "                      652    0\n",
       "1                     130    0\n",
       "2                     748    1\n",
       "                      405    1\n",
       "1                     129    0\n",
       "0                     318    0\n",
       "1                     0      0\n",
       "Name: search_results.label, dtype: int64"
      ]
     },
     "metadata": {},
     "output_type": "display_data"
    }
   ],
   "source": [
    "# experiment: NB on separate labels into two models\n",
    "y1_train = y_train.apply(lambda x: 1 if x == 1 else 0)\n",
    "y2_train = y_train.apply(lambda x: 1 if x == 2 else 0)\n",
    "y1_test = y_test.apply(lambda x: 1 if x == 1 else 0)\n",
    "y2_test = y_test.apply(lambda x: 1 if x == 2 else 0)\n",
    "\n",
    "print(\"label = 1\")\n",
    "clf = GaussianNB()\n",
    "clf.fit(X_train, y1_train)\n",
    "ypred = clf.predict(X_test)\n",
    "eval_results(y1_test, ypred)\n",
    "print()\n",
    "\n",
    "print(\"label = 2\")\n",
    "clf = GaussianNB()\n",
    "clf.fit(X_train, y2_train)\n",
    "ypred = clf.predict(X_test)\n",
    "eval_results(y2_test, ypred)"
   ]
  },
  {
   "cell_type": "code",
   "execution_count": 818,
   "metadata": {},
   "outputs": [
    {
     "name": "stdout",
     "output_type": "stream",
     "text": [
      "              precision    recall  f1-score   support\n",
      "\n",
      "           0       1.00      0.67      0.80         6\n",
      "           1       0.50      0.67      0.57         6\n",
      "           2       0.67      0.67      0.67         6\n",
      "\n",
      "    accuracy                           0.67        18\n",
      "   macro avg       0.72      0.67      0.68        18\n",
      "weighted avg       0.72      0.67      0.68        18\n",
      "\n",
      "predicted:\n",
      "[2 0 1 1 2 2 0 2 1 0 1 1 1 1 2 1 0 2]\n",
      "true:\n",
      "[2 0 1 1 2 1 0 2 2 0 0 0 1 2 2 1 0 1]\n"
     ]
    },
    {
     "data": {
      "text/plain": [
       "search_results.label     \n",
       "2                     494    2\n",
       "0                     730    0\n",
       "1                     53     1\n",
       "                      362    1\n",
       "2                     299    2\n",
       "1                     656    1\n",
       "0                     394    0\n",
       "2                     749    2\n",
       "                      760    2\n",
       "0                     647    0\n",
       "                      258    0\n",
       "                      652    0\n",
       "1                     130    1\n",
       "2                     748    2\n",
       "                      405    2\n",
       "1                     129    1\n",
       "0                     318    0\n",
       "1                     0      1\n",
       "Name: search_results.label, dtype: int64"
      ]
     },
     "metadata": {},
     "output_type": "display_data"
    }
   ],
   "source": [
    "# Train multi-class model\n",
    "clf = GaussianNB()\n",
    "clf.fit(X_train, y_train)\n",
    "\n",
    "# Evaluate model\n",
    "ypred = clf.predict(X_test)\n",
    "eval_results(y_test, ypred)"
   ]
  },
  {
   "cell_type": "markdown",
   "metadata": {},
   "source": [
    "# Precision/Recall Trade-off Calculation"
   ]
  },
  {
   "cell_type": "code",
   "execution_count": 22,
   "metadata": {},
   "outputs": [
    {
     "data": {
      "text/html": [
       "        <script type=\"text/javascript\">\n",
       "        window.PlotlyConfig = {MathJaxConfig: 'local'};\n",
       "        if (window.MathJax) {MathJax.Hub.Config({SVG: {font: \"STIX-Web\"}});}\n",
       "        if (typeof require !== 'undefined') {\n",
       "        require.undef(\"plotly\");\n",
       "        requirejs.config({\n",
       "            paths: {\n",
       "                'plotly': ['https://cdn.plot.ly/plotly-latest.min']\n",
       "            }\n",
       "        });\n",
       "        require(['plotly'], function(Plotly) {\n",
       "            window._Plotly = Plotly;\n",
       "        });\n",
       "        }\n",
       "        </script>\n",
       "        "
      ]
     },
     "metadata": {},
     "output_type": "display_data"
    },
    {
     "data": {
      "application/vnd.plotly.v1+json": {
       "config": {
        "linkText": "Export to plot.ly",
        "plotlyServerURL": "https://plot.ly",
        "showLink": true
       },
       "data": [
        {
         "line": {
          "color": "rgba(255, 153, 51, 1.0)",
          "dash": "solid",
          "shape": "linear",
          "width": 1.3
         },
         "mode": "lines",
         "name": "Precision",
         "text": "",
         "type": "scatter",
         "x": [
          0.07,
          0.08,
          0.09,
          0.1,
          0.11,
          0.12,
          0.13,
          0.14,
          0.15,
          0.16,
          0.17,
          0.18,
          0.22,
          0.24,
          0.33,
          0.36,
          0.39,
          0.41,
          0.42,
          0.43,
          0.44,
          0.45,
          0.47,
          0.48,
          0.5,
          0.51,
          0.52,
          0.53,
          0.54,
          0.55,
          0.56,
          0.57,
          0.58,
          0.59,
          0.6,
          0.61,
          0.62,
          0.63,
          0.64,
          0.65,
          0.66,
          0.67,
          0.68,
          0.69,
          0.7,
          0.71,
          0.72,
          0.73,
          0.74,
          0.75,
          0.76,
          0.77,
          0.78,
          0.79,
          0.8,
          0.81,
          0.82,
          0.83,
          0.84,
          0.85,
          0.86,
          0.87,
          0.88,
          0.89,
          0.9,
          0.91,
          0.92,
          0.93,
          0.94,
          0.95,
          0.96,
          0.97,
          0.98,
          0.99,
          null
         ],
         "y": [
          0.9719251336898396,
          0.9731903485254692,
          0.9771197846567967,
          0.9784366576819407,
          0.979757085020243,
          0.9824086603518268,
          0.9837177747625508,
          0.9863760217983651,
          0.9890710382513661,
          0.9904240766073872,
          0.9931318681318682,
          0.9944979367262724,
          0.9958677685950413,
          0.9958620689655172,
          0.9958563535911602,
          0.995850622406639,
          0.9958448753462604,
          0.9972260748959778,
          0.9972222222222222,
          0.9972183588317107,
          0.9972144846796658,
          0.9972027972027973,
          0.9985974754558204,
          0.9985915492957746,
          0.998587570621469,
          0.9985815602836879,
          0.9985795454545454,
          0.9985734664764622,
          0.9985611510791367,
          0.9985569985569985,
          0.998546511627907,
          0.9985294117647059,
          0.9985228951255539,
          0.9985141158989599,
          0.9984984984984985,
          0.9984802431610942,
          0.9984709480122325,
          0.9984591679506933,
          0.9984520123839009,
          0.9984399375975039,
          0.9984126984126984,
          0.9983974358974359,
          0.9983922829581994,
          0.9983792544570502,
          0.9983633387888707,
          0.9983443708609272,
          0.9983221476510067,
          0.9983050847457627,
          0.9982668977469671,
          0.9982300884955753,
          0.9981785063752276,
          1,
          1,
          1,
          1,
          1,
          1,
          1,
          1,
          1,
          1,
          1,
          1,
          1,
          1,
          1,
          1,
          1,
          1,
          1,
          1,
          1,
          1,
          1,
          1
         ]
        },
        {
         "line": {
          "color": "rgba(55, 128, 191, 1.0)",
          "dash": "solid",
          "shape": "linear",
          "width": 1.3
         },
         "mode": "lines",
         "name": "Recall",
         "text": "",
         "type": "scatter",
         "x": [
          0.07,
          0.08,
          0.09,
          0.1,
          0.11,
          0.12,
          0.13,
          0.14,
          0.15,
          0.16,
          0.17,
          0.18,
          0.22,
          0.24,
          0.33,
          0.36,
          0.39,
          0.41,
          0.42,
          0.43,
          0.44,
          0.45,
          0.47,
          0.48,
          0.5,
          0.51,
          0.52,
          0.53,
          0.54,
          0.55,
          0.56,
          0.57,
          0.58,
          0.59,
          0.6,
          0.61,
          0.62,
          0.63,
          0.64,
          0.65,
          0.66,
          0.67,
          0.68,
          0.69,
          0.7,
          0.71,
          0.72,
          0.73,
          0.74,
          0.75,
          0.76,
          0.77,
          0.78,
          0.79,
          0.8,
          0.81,
          0.82,
          0.83,
          0.84,
          0.85,
          0.86,
          0.87,
          0.88,
          0.89,
          0.9,
          0.91,
          0.92,
          0.93,
          0.94,
          0.95,
          0.96,
          0.97,
          0.98,
          0.99,
          null
         ],
         "y": [
          1,
          0.9986244841815681,
          0.9986244841815681,
          0.9986244841815681,
          0.9986244841815681,
          0.9986244841815681,
          0.9972489683631361,
          0.9958734525447043,
          0.9958734525447043,
          0.9958734525447043,
          0.9944979367262724,
          0.9944979367262724,
          0.9944979367262724,
          0.9931224209078404,
          0.9917469050894085,
          0.9903713892709766,
          0.9889958734525447,
          0.9889958734525447,
          0.9876203576341128,
          0.9862448418156808,
          0.984869325997249,
          0.9807427785419532,
          0.9793672627235214,
          0.9752407152682255,
          0.9724896836313618,
          0.9683631361760661,
          0.9669876203576341,
          0.9628610729023384,
          0.9546079779917469,
          0.951856946354883,
          0.9449793672627235,
          0.9339752407152683,
          0.9298486932599724,
          0.9243466299862448,
          0.9147180192572214,
          0.9037138927097662,
          0.8982118294360385,
          0.8913342503438789,
          0.8872077028885832,
          0.8803301237964236,
          0.8651994497936726,
          0.8569463548830811,
          0.8541953232462174,
          0.8473177441540578,
          0.8390646492434664,
          0.8294360385144429,
          0.8184319119669876,
          0.8101788170563962,
          0.7922971114167813,
          0.7757909215955984,
          0.7537826685006878,
          0.7359009628610729,
          0.7180192572214581,
          0.6905089408528198,
          0.6616231086657497,
          0.6286107290233838,
          0.5928473177441541,
          0.5598349381017882,
          0.5281980742778541,
          0.4786795048143054,
          0.4346629986244842,
          0.3988995873452545,
          0.3535075653370014,
          0.2984869325997249,
          0.265474552957359,
          0.2077028885832187,
          0.16368638239339753,
          0.11966987620357634,
          0.0811554332874828,
          0.0577716643741403,
          0.037138927097661624,
          0.02063273727647868,
          0.0068775790921595595,
          0.0041265474552957355,
          0
         ]
        }
       ],
       "layout": {
        "autosize": true,
        "legend": {
         "bgcolor": "#F5F6F9",
         "font": {
          "color": "#4D5663"
         }
        },
        "paper_bgcolor": "#F5F6F9",
        "plot_bgcolor": "#F5F6F9",
        "template": {
         "data": {
          "bar": [
           {
            "error_x": {
             "color": "#2a3f5f"
            },
            "error_y": {
             "color": "#2a3f5f"
            },
            "marker": {
             "line": {
              "color": "#E5ECF6",
              "width": 0.5
             }
            },
            "type": "bar"
           }
          ],
          "barpolar": [
           {
            "marker": {
             "line": {
              "color": "#E5ECF6",
              "width": 0.5
             }
            },
            "type": "barpolar"
           }
          ],
          "carpet": [
           {
            "aaxis": {
             "endlinecolor": "#2a3f5f",
             "gridcolor": "white",
             "linecolor": "white",
             "minorgridcolor": "white",
             "startlinecolor": "#2a3f5f"
            },
            "baxis": {
             "endlinecolor": "#2a3f5f",
             "gridcolor": "white",
             "linecolor": "white",
             "minorgridcolor": "white",
             "startlinecolor": "#2a3f5f"
            },
            "type": "carpet"
           }
          ],
          "choropleth": [
           {
            "colorbar": {
             "outlinewidth": 0,
             "ticks": ""
            },
            "type": "choropleth"
           }
          ],
          "contour": [
           {
            "colorbar": {
             "outlinewidth": 0,
             "ticks": ""
            },
            "colorscale": [
             [
              0,
              "#0d0887"
             ],
             [
              0.1111111111111111,
              "#46039f"
             ],
             [
              0.2222222222222222,
              "#7201a8"
             ],
             [
              0.3333333333333333,
              "#9c179e"
             ],
             [
              0.4444444444444444,
              "#bd3786"
             ],
             [
              0.5555555555555556,
              "#d8576b"
             ],
             [
              0.6666666666666666,
              "#ed7953"
             ],
             [
              0.7777777777777778,
              "#fb9f3a"
             ],
             [
              0.8888888888888888,
              "#fdca26"
             ],
             [
              1,
              "#f0f921"
             ]
            ],
            "type": "contour"
           }
          ],
          "contourcarpet": [
           {
            "colorbar": {
             "outlinewidth": 0,
             "ticks": ""
            },
            "type": "contourcarpet"
           }
          ],
          "heatmap": [
           {
            "colorbar": {
             "outlinewidth": 0,
             "ticks": ""
            },
            "colorscale": [
             [
              0,
              "#0d0887"
             ],
             [
              0.1111111111111111,
              "#46039f"
             ],
             [
              0.2222222222222222,
              "#7201a8"
             ],
             [
              0.3333333333333333,
              "#9c179e"
             ],
             [
              0.4444444444444444,
              "#bd3786"
             ],
             [
              0.5555555555555556,
              "#d8576b"
             ],
             [
              0.6666666666666666,
              "#ed7953"
             ],
             [
              0.7777777777777778,
              "#fb9f3a"
             ],
             [
              0.8888888888888888,
              "#fdca26"
             ],
             [
              1,
              "#f0f921"
             ]
            ],
            "type": "heatmap"
           }
          ],
          "heatmapgl": [
           {
            "colorbar": {
             "outlinewidth": 0,
             "ticks": ""
            },
            "colorscale": [
             [
              0,
              "#0d0887"
             ],
             [
              0.1111111111111111,
              "#46039f"
             ],
             [
              0.2222222222222222,
              "#7201a8"
             ],
             [
              0.3333333333333333,
              "#9c179e"
             ],
             [
              0.4444444444444444,
              "#bd3786"
             ],
             [
              0.5555555555555556,
              "#d8576b"
             ],
             [
              0.6666666666666666,
              "#ed7953"
             ],
             [
              0.7777777777777778,
              "#fb9f3a"
             ],
             [
              0.8888888888888888,
              "#fdca26"
             ],
             [
              1,
              "#f0f921"
             ]
            ],
            "type": "heatmapgl"
           }
          ],
          "histogram": [
           {
            "marker": {
             "colorbar": {
              "outlinewidth": 0,
              "ticks": ""
             }
            },
            "type": "histogram"
           }
          ],
          "histogram2d": [
           {
            "colorbar": {
             "outlinewidth": 0,
             "ticks": ""
            },
            "colorscale": [
             [
              0,
              "#0d0887"
             ],
             [
              0.1111111111111111,
              "#46039f"
             ],
             [
              0.2222222222222222,
              "#7201a8"
             ],
             [
              0.3333333333333333,
              "#9c179e"
             ],
             [
              0.4444444444444444,
              "#bd3786"
             ],
             [
              0.5555555555555556,
              "#d8576b"
             ],
             [
              0.6666666666666666,
              "#ed7953"
             ],
             [
              0.7777777777777778,
              "#fb9f3a"
             ],
             [
              0.8888888888888888,
              "#fdca26"
             ],
             [
              1,
              "#f0f921"
             ]
            ],
            "type": "histogram2d"
           }
          ],
          "histogram2dcontour": [
           {
            "colorbar": {
             "outlinewidth": 0,
             "ticks": ""
            },
            "colorscale": [
             [
              0,
              "#0d0887"
             ],
             [
              0.1111111111111111,
              "#46039f"
             ],
             [
              0.2222222222222222,
              "#7201a8"
             ],
             [
              0.3333333333333333,
              "#9c179e"
             ],
             [
              0.4444444444444444,
              "#bd3786"
             ],
             [
              0.5555555555555556,
              "#d8576b"
             ],
             [
              0.6666666666666666,
              "#ed7953"
             ],
             [
              0.7777777777777778,
              "#fb9f3a"
             ],
             [
              0.8888888888888888,
              "#fdca26"
             ],
             [
              1,
              "#f0f921"
             ]
            ],
            "type": "histogram2dcontour"
           }
          ],
          "mesh3d": [
           {
            "colorbar": {
             "outlinewidth": 0,
             "ticks": ""
            },
            "type": "mesh3d"
           }
          ],
          "parcoords": [
           {
            "line": {
             "colorbar": {
              "outlinewidth": 0,
              "ticks": ""
             }
            },
            "type": "parcoords"
           }
          ],
          "pie": [
           {
            "automargin": true,
            "type": "pie"
           }
          ],
          "scatter": [
           {
            "marker": {
             "colorbar": {
              "outlinewidth": 0,
              "ticks": ""
             }
            },
            "type": "scatter"
           }
          ],
          "scatter3d": [
           {
            "line": {
             "colorbar": {
              "outlinewidth": 0,
              "ticks": ""
             }
            },
            "marker": {
             "colorbar": {
              "outlinewidth": 0,
              "ticks": ""
             }
            },
            "type": "scatter3d"
           }
          ],
          "scattercarpet": [
           {
            "marker": {
             "colorbar": {
              "outlinewidth": 0,
              "ticks": ""
             }
            },
            "type": "scattercarpet"
           }
          ],
          "scattergeo": [
           {
            "marker": {
             "colorbar": {
              "outlinewidth": 0,
              "ticks": ""
             }
            },
            "type": "scattergeo"
           }
          ],
          "scattergl": [
           {
            "marker": {
             "colorbar": {
              "outlinewidth": 0,
              "ticks": ""
             }
            },
            "type": "scattergl"
           }
          ],
          "scattermapbox": [
           {
            "marker": {
             "colorbar": {
              "outlinewidth": 0,
              "ticks": ""
             }
            },
            "type": "scattermapbox"
           }
          ],
          "scatterpolar": [
           {
            "marker": {
             "colorbar": {
              "outlinewidth": 0,
              "ticks": ""
             }
            },
            "type": "scatterpolar"
           }
          ],
          "scatterpolargl": [
           {
            "marker": {
             "colorbar": {
              "outlinewidth": 0,
              "ticks": ""
             }
            },
            "type": "scatterpolargl"
           }
          ],
          "scatterternary": [
           {
            "marker": {
             "colorbar": {
              "outlinewidth": 0,
              "ticks": ""
             }
            },
            "type": "scatterternary"
           }
          ],
          "surface": [
           {
            "colorbar": {
             "outlinewidth": 0,
             "ticks": ""
            },
            "colorscale": [
             [
              0,
              "#0d0887"
             ],
             [
              0.1111111111111111,
              "#46039f"
             ],
             [
              0.2222222222222222,
              "#7201a8"
             ],
             [
              0.3333333333333333,
              "#9c179e"
             ],
             [
              0.4444444444444444,
              "#bd3786"
             ],
             [
              0.5555555555555556,
              "#d8576b"
             ],
             [
              0.6666666666666666,
              "#ed7953"
             ],
             [
              0.7777777777777778,
              "#fb9f3a"
             ],
             [
              0.8888888888888888,
              "#fdca26"
             ],
             [
              1,
              "#f0f921"
             ]
            ],
            "type": "surface"
           }
          ],
          "table": [
           {
            "cells": {
             "fill": {
              "color": "#EBF0F8"
             },
             "line": {
              "color": "white"
             }
            },
            "header": {
             "fill": {
              "color": "#C8D4E3"
             },
             "line": {
              "color": "white"
             }
            },
            "type": "table"
           }
          ]
         },
         "layout": {
          "annotationdefaults": {
           "arrowcolor": "#2a3f5f",
           "arrowhead": 0,
           "arrowwidth": 1
          },
          "coloraxis": {
           "colorbar": {
            "outlinewidth": 0,
            "ticks": ""
           }
          },
          "colorscale": {
           "diverging": [
            [
             0,
             "#8e0152"
            ],
            [
             0.1,
             "#c51b7d"
            ],
            [
             0.2,
             "#de77ae"
            ],
            [
             0.3,
             "#f1b6da"
            ],
            [
             0.4,
             "#fde0ef"
            ],
            [
             0.5,
             "#f7f7f7"
            ],
            [
             0.6,
             "#e6f5d0"
            ],
            [
             0.7,
             "#b8e186"
            ],
            [
             0.8,
             "#7fbc41"
            ],
            [
             0.9,
             "#4d9221"
            ],
            [
             1,
             "#276419"
            ]
           ],
           "sequential": [
            [
             0,
             "#0d0887"
            ],
            [
             0.1111111111111111,
             "#46039f"
            ],
            [
             0.2222222222222222,
             "#7201a8"
            ],
            [
             0.3333333333333333,
             "#9c179e"
            ],
            [
             0.4444444444444444,
             "#bd3786"
            ],
            [
             0.5555555555555556,
             "#d8576b"
            ],
            [
             0.6666666666666666,
             "#ed7953"
            ],
            [
             0.7777777777777778,
             "#fb9f3a"
            ],
            [
             0.8888888888888888,
             "#fdca26"
            ],
            [
             1,
             "#f0f921"
            ]
           ],
           "sequentialminus": [
            [
             0,
             "#0d0887"
            ],
            [
             0.1111111111111111,
             "#46039f"
            ],
            [
             0.2222222222222222,
             "#7201a8"
            ],
            [
             0.3333333333333333,
             "#9c179e"
            ],
            [
             0.4444444444444444,
             "#bd3786"
            ],
            [
             0.5555555555555556,
             "#d8576b"
            ],
            [
             0.6666666666666666,
             "#ed7953"
            ],
            [
             0.7777777777777778,
             "#fb9f3a"
            ],
            [
             0.8888888888888888,
             "#fdca26"
            ],
            [
             1,
             "#f0f921"
            ]
           ]
          },
          "colorway": [
           "#636efa",
           "#EF553B",
           "#00cc96",
           "#ab63fa",
           "#FFA15A",
           "#19d3f3",
           "#FF6692",
           "#B6E880",
           "#FF97FF",
           "#FECB52"
          ],
          "font": {
           "color": "#2a3f5f"
          },
          "geo": {
           "bgcolor": "white",
           "lakecolor": "white",
           "landcolor": "#E5ECF6",
           "showlakes": true,
           "showland": true,
           "subunitcolor": "white"
          },
          "hoverlabel": {
           "align": "left"
          },
          "hovermode": "closest",
          "mapbox": {
           "style": "light"
          },
          "paper_bgcolor": "white",
          "plot_bgcolor": "#E5ECF6",
          "polar": {
           "angularaxis": {
            "gridcolor": "white",
            "linecolor": "white",
            "ticks": ""
           },
           "bgcolor": "#E5ECF6",
           "radialaxis": {
            "gridcolor": "white",
            "linecolor": "white",
            "ticks": ""
           }
          },
          "scene": {
           "xaxis": {
            "backgroundcolor": "#E5ECF6",
            "gridcolor": "white",
            "gridwidth": 2,
            "linecolor": "white",
            "showbackground": true,
            "ticks": "",
            "zerolinecolor": "white"
           },
           "yaxis": {
            "backgroundcolor": "#E5ECF6",
            "gridcolor": "white",
            "gridwidth": 2,
            "linecolor": "white",
            "showbackground": true,
            "ticks": "",
            "zerolinecolor": "white"
           },
           "zaxis": {
            "backgroundcolor": "#E5ECF6",
            "gridcolor": "white",
            "gridwidth": 2,
            "linecolor": "white",
            "showbackground": true,
            "ticks": "",
            "zerolinecolor": "white"
           }
          },
          "shapedefaults": {
           "line": {
            "color": "#2a3f5f"
           }
          },
          "ternary": {
           "aaxis": {
            "gridcolor": "white",
            "linecolor": "white",
            "ticks": ""
           },
           "baxis": {
            "gridcolor": "white",
            "linecolor": "white",
            "ticks": ""
           },
           "bgcolor": "#E5ECF6",
           "caxis": {
            "gridcolor": "white",
            "linecolor": "white",
            "ticks": ""
           }
          },
          "title": {
           "x": 0.05
          },
          "xaxis": {
           "automargin": true,
           "gridcolor": "white",
           "linecolor": "white",
           "ticks": "",
           "title": {
            "standoff": 15
           },
           "zerolinecolor": "white",
           "zerolinewidth": 2
          },
          "yaxis": {
           "automargin": true,
           "gridcolor": "white",
           "linecolor": "white",
           "ticks": "",
           "title": {
            "standoff": 15
           },
           "zerolinecolor": "white",
           "zerolinewidth": 2
          }
         }
        },
        "title": {
         "font": {
          "color": "#4D5663"
         },
         "text": "Precision/Recall Tradeoff for label: 0"
        },
        "xaxis": {
         "autorange": true,
         "gridcolor": "#E1E5ED",
         "range": [
          0.07,
          0.99
         ],
         "showgrid": true,
         "tickfont": {
          "color": "#4D5663"
         },
         "title": {
          "font": {
           "color": "#4D5663"
          },
          "text": "Decision Threshold"
         },
         "type": "linear",
         "zerolinecolor": "#E1E5ED"
        },
        "yaxis": {
         "autorange": true,
         "gridcolor": "#E1E5ED",
         "range": [
          -0.05555555555555555,
          1.0555555555555556
         ],
         "showgrid": true,
         "tickfont": {
          "color": "#4D5663"
         },
         "title": {
          "font": {
           "color": "#4D5663"
          },
          "text": "Score"
         },
         "type": "linear",
         "zerolinecolor": "#E1E5ED"
        }
       }
      },
      "image/png": "[encoded data removed]",
      "text/html": [
       "<div>\n",
       "        \n",
       "        \n",
       "            <div id=\"712bfc40-6736-446c-ba75-33948884f627\" class=\"plotly-graph-div\" style=\"height:525px; width:100%;\"></div>\n",
       "            <script type=\"text/javascript\">\n",
       "                require([\"plotly\"], function(Plotly) {\n",
       "                    window.PLOTLYENV=window.PLOTLYENV || {};\n",
       "                    window.PLOTLYENV.BASE_URL='https://plot.ly';\n",
       "                    \n",
       "                if (document.getElementById(\"712bfc40-6736-446c-ba75-33948884f627\")) {\n",
       "                    Plotly.newPlot(\n",
       "                        '712bfc40-6736-446c-ba75-33948884f627',\n",
       "                        [{\"line\": {\"color\": \"rgba(255, 153, 51, 1.0)\", \"dash\": \"solid\", \"shape\": \"linear\", \"width\": 1.3}, \"mode\": \"lines\", \"name\": \"Precision\", \"text\": \"\", \"type\": \"scatter\", \"x\": [0.07, 0.08, 0.09, 0.1, 0.11, 0.12, 0.13, 0.14, 0.15, 0.16, 0.17, 0.18, 0.22, 0.24, 0.33, 0.36, 0.39, 0.41, 0.42, 0.43, 0.44, 0.45, 0.47, 0.48, 0.5, 0.51, 0.52, 0.53, 0.54, 0.55, 0.56, 0.57, 0.58, 0.59, 0.6, 0.61, 0.62, 0.63, 0.64, 0.65, 0.66, 0.67, 0.68, 0.69, 0.7, 0.71, 0.72, 0.73, 0.74, 0.75, 0.76, 0.77, 0.78, 0.79, 0.8, 0.81, 0.82, 0.83, 0.84, 0.85, 0.86, 0.87, 0.88, 0.89, 0.9, 0.91, 0.92, 0.93, 0.94, 0.95, 0.96, 0.97, 0.98, 0.99, null], \"y\": [0.9719251336898396, 0.9731903485254692, 0.9771197846567967, 0.9784366576819407, 0.979757085020243, 0.9824086603518268, 0.9837177747625508, 0.9863760217983651, 0.9890710382513661, 0.9904240766073872, 0.9931318681318682, 0.9944979367262724, 0.9958677685950413, 0.9958620689655172, 0.9958563535911602, 0.995850622406639, 0.9958448753462604, 0.9972260748959778, 0.9972222222222222, 0.9972183588317107, 0.9972144846796658, 0.9972027972027973, 0.9985974754558204, 0.9985915492957746, 0.998587570621469, 0.9985815602836879, 0.9985795454545454, 0.9985734664764622, 0.9985611510791367, 0.9985569985569985, 0.998546511627907, 0.9985294117647059, 0.9985228951255539, 0.9985141158989599, 0.9984984984984985, 0.9984802431610942, 0.9984709480122325, 0.9984591679506933, 0.9984520123839009, 0.9984399375975039, 0.9984126984126984, 0.9983974358974359, 0.9983922829581994, 0.9983792544570502, 0.9983633387888707, 0.9983443708609272, 0.9983221476510067, 0.9983050847457627, 0.9982668977469671, 0.9982300884955753, 0.9981785063752276, 1.0, 1.0, 1.0, 1.0, 1.0, 1.0, 1.0, 1.0, 1.0, 1.0, 1.0, 1.0, 1.0, 1.0, 1.0, 1.0, 1.0, 1.0, 1.0, 1.0, 1.0, 1.0, 1.0, 1.0]}, {\"line\": {\"color\": \"rgba(55, 128, 191, 1.0)\", \"dash\": \"solid\", \"shape\": \"linear\", \"width\": 1.3}, \"mode\": \"lines\", \"name\": \"Recall\", \"text\": \"\", \"type\": \"scatter\", \"x\": [0.07, 0.08, 0.09, 0.1, 0.11, 0.12, 0.13, 0.14, 0.15, 0.16, 0.17, 0.18, 0.22, 0.24, 0.33, 0.36, 0.39, 0.41, 0.42, 0.43, 0.44, 0.45, 0.47, 0.48, 0.5, 0.51, 0.52, 0.53, 0.54, 0.55, 0.56, 0.57, 0.58, 0.59, 0.6, 0.61, 0.62, 0.63, 0.64, 0.65, 0.66, 0.67, 0.68, 0.69, 0.7, 0.71, 0.72, 0.73, 0.74, 0.75, 0.76, 0.77, 0.78, 0.79, 0.8, 0.81, 0.82, 0.83, 0.84, 0.85, 0.86, 0.87, 0.88, 0.89, 0.9, 0.91, 0.92, 0.93, 0.94, 0.95, 0.96, 0.97, 0.98, 0.99, null], \"y\": [1.0, 0.9986244841815681, 0.9986244841815681, 0.9986244841815681, 0.9986244841815681, 0.9986244841815681, 0.9972489683631361, 0.9958734525447043, 0.9958734525447043, 0.9958734525447043, 0.9944979367262724, 0.9944979367262724, 0.9944979367262724, 0.9931224209078404, 0.9917469050894085, 0.9903713892709766, 0.9889958734525447, 0.9889958734525447, 0.9876203576341128, 0.9862448418156808, 0.984869325997249, 0.9807427785419532, 0.9793672627235214, 0.9752407152682255, 0.9724896836313618, 0.9683631361760661, 0.9669876203576341, 0.9628610729023384, 0.9546079779917469, 0.951856946354883, 0.9449793672627235, 0.9339752407152683, 0.9298486932599724, 0.9243466299862448, 0.9147180192572214, 0.9037138927097662, 0.8982118294360385, 0.8913342503438789, 0.8872077028885832, 0.8803301237964236, 0.8651994497936726, 0.8569463548830811, 0.8541953232462174, 0.8473177441540578, 0.8390646492434664, 0.8294360385144429, 0.8184319119669876, 0.8101788170563962, 0.7922971114167813, 0.7757909215955984, 0.7537826685006878, 0.7359009628610729, 0.7180192572214581, 0.6905089408528198, 0.6616231086657497, 0.6286107290233838, 0.5928473177441541, 0.5598349381017882, 0.5281980742778541, 0.4786795048143054, 0.4346629986244842, 0.3988995873452545, 0.3535075653370014, 0.2984869325997249, 0.265474552957359, 0.2077028885832187, 0.16368638239339753, 0.11966987620357634, 0.0811554332874828, 0.0577716643741403, 0.037138927097661624, 0.02063273727647868, 0.0068775790921595595, 0.0041265474552957355, 0.0]}],\n",
       "                        {\"legend\": {\"bgcolor\": \"#F5F6F9\", \"font\": {\"color\": \"#4D5663\"}}, \"paper_bgcolor\": \"#F5F6F9\", \"plot_bgcolor\": \"#F5F6F9\", \"template\": {\"data\": {\"bar\": [{\"error_x\": {\"color\": \"#2a3f5f\"}, \"error_y\": {\"color\": \"#2a3f5f\"}, \"marker\": {\"line\": {\"color\": \"#E5ECF6\", \"width\": 0.5}}, \"type\": \"bar\"}], \"barpolar\": [{\"marker\": {\"line\": {\"color\": \"#E5ECF6\", \"width\": 0.5}}, \"type\": \"barpolar\"}], \"carpet\": [{\"aaxis\": {\"endlinecolor\": \"#2a3f5f\", \"gridcolor\": \"white\", \"linecolor\": \"white\", \"minorgridcolor\": \"white\", \"startlinecolor\": \"#2a3f5f\"}, \"baxis\": {\"endlinecolor\": \"#2a3f5f\", \"gridcolor\": \"white\", \"linecolor\": \"white\", \"minorgridcolor\": \"white\", \"startlinecolor\": \"#2a3f5f\"}, \"type\": \"carpet\"}], \"choropleth\": [{\"colorbar\": {\"outlinewidth\": 0, \"ticks\": \"\"}, \"type\": \"choropleth\"}], \"contour\": [{\"colorbar\": {\"outlinewidth\": 0, \"ticks\": \"\"}, \"colorscale\": [[0.0, \"#0d0887\"], [0.1111111111111111, \"#46039f\"], [0.2222222222222222, \"#7201a8\"], [0.3333333333333333, \"#9c179e\"], [0.4444444444444444, \"#bd3786\"], [0.5555555555555556, \"#d8576b\"], [0.6666666666666666, \"#ed7953\"], [0.7777777777777778, \"#fb9f3a\"], [0.8888888888888888, \"#fdca26\"], [1.0, \"#f0f921\"]], \"type\": \"contour\"}], \"contourcarpet\": [{\"colorbar\": {\"outlinewidth\": 0, \"ticks\": \"\"}, \"type\": \"contourcarpet\"}], \"heatmap\": [{\"colorbar\": {\"outlinewidth\": 0, \"ticks\": \"\"}, \"colorscale\": [[0.0, \"#0d0887\"], [0.1111111111111111, \"#46039f\"], [0.2222222222222222, \"#7201a8\"], [0.3333333333333333, \"#9c179e\"], [0.4444444444444444, \"#bd3786\"], [0.5555555555555556, \"#d8576b\"], [0.6666666666666666, \"#ed7953\"], [0.7777777777777778, \"#fb9f3a\"], [0.8888888888888888, \"#fdca26\"], [1.0, \"#f0f921\"]], \"type\": \"heatmap\"}], \"heatmapgl\": [{\"colorbar\": {\"outlinewidth\": 0, \"ticks\": \"\"}, \"colorscale\": [[0.0, \"#0d0887\"], [0.1111111111111111, \"#46039f\"], [0.2222222222222222, \"#7201a8\"], [0.3333333333333333, \"#9c179e\"], [0.4444444444444444, \"#bd3786\"], [0.5555555555555556, \"#d8576b\"], [0.6666666666666666, \"#ed7953\"], [0.7777777777777778, \"#fb9f3a\"], [0.8888888888888888, \"#fdca26\"], [1.0, \"#f0f921\"]], \"type\": \"heatmapgl\"}], \"histogram\": [{\"marker\": {\"colorbar\": {\"outlinewidth\": 0, \"ticks\": \"\"}}, \"type\": \"histogram\"}], \"histogram2d\": [{\"colorbar\": {\"outlinewidth\": 0, \"ticks\": \"\"}, \"colorscale\": [[0.0, \"#0d0887\"], [0.1111111111111111, \"#46039f\"], [0.2222222222222222, \"#7201a8\"], [0.3333333333333333, \"#9c179e\"], [0.4444444444444444, \"#bd3786\"], [0.5555555555555556, \"#d8576b\"], [0.6666666666666666, \"#ed7953\"], [0.7777777777777778, \"#fb9f3a\"], [0.8888888888888888, \"#fdca26\"], [1.0, \"#f0f921\"]], \"type\": \"histogram2d\"}], \"histogram2dcontour\": [{\"colorbar\": {\"outlinewidth\": 0, \"ticks\": \"\"}, \"colorscale\": [[0.0, \"#0d0887\"], [0.1111111111111111, \"#46039f\"], [0.2222222222222222, \"#7201a8\"], [0.3333333333333333, \"#9c179e\"], [0.4444444444444444, \"#bd3786\"], [0.5555555555555556, \"#d8576b\"], [0.6666666666666666, \"#ed7953\"], [0.7777777777777778, \"#fb9f3a\"], [0.8888888888888888, \"#fdca26\"], [1.0, \"#f0f921\"]], \"type\": \"histogram2dcontour\"}], \"mesh3d\": [{\"colorbar\": {\"outlinewidth\": 0, \"ticks\": \"\"}, \"type\": \"mesh3d\"}], \"parcoords\": [{\"line\": {\"colorbar\": {\"outlinewidth\": 0, \"ticks\": \"\"}}, \"type\": \"parcoords\"}], \"pie\": [{\"automargin\": true, \"type\": \"pie\"}], \"scatter\": [{\"marker\": {\"colorbar\": {\"outlinewidth\": 0, \"ticks\": \"\"}}, \"type\": \"scatter\"}], \"scatter3d\": [{\"line\": {\"colorbar\": {\"outlinewidth\": 0, \"ticks\": \"\"}}, \"marker\": {\"colorbar\": {\"outlinewidth\": 0, \"ticks\": \"\"}}, \"type\": \"scatter3d\"}], \"scattercarpet\": [{\"marker\": {\"colorbar\": {\"outlinewidth\": 0, \"ticks\": \"\"}}, \"type\": \"scattercarpet\"}], \"scattergeo\": [{\"marker\": {\"colorbar\": {\"outlinewidth\": 0, \"ticks\": \"\"}}, \"type\": \"scattergeo\"}], \"scattergl\": [{\"marker\": {\"colorbar\": {\"outlinewidth\": 0, \"ticks\": \"\"}}, \"type\": \"scattergl\"}], \"scattermapbox\": [{\"marker\": {\"colorbar\": {\"outlinewidth\": 0, \"ticks\": \"\"}}, \"type\": \"scattermapbox\"}], \"scatterpolar\": [{\"marker\": {\"colorbar\": {\"outlinewidth\": 0, \"ticks\": \"\"}}, \"type\": \"scatterpolar\"}], \"scatterpolargl\": [{\"marker\": {\"colorbar\": {\"outlinewidth\": 0, \"ticks\": \"\"}}, \"type\": \"scatterpolargl\"}], \"scatterternary\": [{\"marker\": {\"colorbar\": {\"outlinewidth\": 0, \"ticks\": \"\"}}, \"type\": \"scatterternary\"}], \"surface\": [{\"colorbar\": {\"outlinewidth\": 0, \"ticks\": \"\"}, \"colorscale\": [[0.0, \"#0d0887\"], [0.1111111111111111, \"#46039f\"], [0.2222222222222222, \"#7201a8\"], [0.3333333333333333, \"#9c179e\"], [0.4444444444444444, \"#bd3786\"], [0.5555555555555556, \"#d8576b\"], [0.6666666666666666, \"#ed7953\"], [0.7777777777777778, \"#fb9f3a\"], [0.8888888888888888, \"#fdca26\"], [1.0, \"#f0f921\"]], \"type\": \"surface\"}], \"table\": [{\"cells\": {\"fill\": {\"color\": \"#EBF0F8\"}, \"line\": {\"color\": \"white\"}}, \"header\": {\"fill\": {\"color\": \"#C8D4E3\"}, \"line\": {\"color\": \"white\"}}, \"type\": \"table\"}]}, \"layout\": {\"annotationdefaults\": {\"arrowcolor\": \"#2a3f5f\", \"arrowhead\": 0, \"arrowwidth\": 1}, \"coloraxis\": {\"colorbar\": {\"outlinewidth\": 0, \"ticks\": \"\"}}, \"colorscale\": {\"diverging\": [[0, \"#8e0152\"], [0.1, \"#c51b7d\"], [0.2, \"#de77ae\"], [0.3, \"#f1b6da\"], [0.4, \"#fde0ef\"], [0.5, \"#f7f7f7\"], [0.6, \"#e6f5d0\"], [0.7, \"#b8e186\"], [0.8, \"#7fbc41\"], [0.9, \"#4d9221\"], [1, \"#276419\"]], \"sequential\": [[0.0, \"#0d0887\"], [0.1111111111111111, \"#46039f\"], [0.2222222222222222, \"#7201a8\"], [0.3333333333333333, \"#9c179e\"], [0.4444444444444444, \"#bd3786\"], [0.5555555555555556, \"#d8576b\"], [0.6666666666666666, \"#ed7953\"], [0.7777777777777778, \"#fb9f3a\"], [0.8888888888888888, \"#fdca26\"], [1.0, \"#f0f921\"]], \"sequentialminus\": [[0.0, \"#0d0887\"], [0.1111111111111111, \"#46039f\"], [0.2222222222222222, \"#7201a8\"], [0.3333333333333333, \"#9c179e\"], [0.4444444444444444, \"#bd3786\"], [0.5555555555555556, \"#d8576b\"], [0.6666666666666666, \"#ed7953\"], [0.7777777777777778, \"#fb9f3a\"], [0.8888888888888888, \"#fdca26\"], [1.0, \"#f0f921\"]]}, \"colorway\": [\"#636efa\", \"#EF553B\", \"#00cc96\", \"#ab63fa\", \"#FFA15A\", \"#19d3f3\", \"#FF6692\", \"#B6E880\", \"#FF97FF\", \"#FECB52\"], \"font\": {\"color\": \"#2a3f5f\"}, \"geo\": {\"bgcolor\": \"white\", \"lakecolor\": \"white\", \"landcolor\": \"#E5ECF6\", \"showlakes\": true, \"showland\": true, \"subunitcolor\": \"white\"}, \"hoverlabel\": {\"align\": \"left\"}, \"hovermode\": \"closest\", \"mapbox\": {\"style\": \"light\"}, \"paper_bgcolor\": \"white\", \"plot_bgcolor\": \"#E5ECF6\", \"polar\": {\"angularaxis\": {\"gridcolor\": \"white\", \"linecolor\": \"white\", \"ticks\": \"\"}, \"bgcolor\": \"#E5ECF6\", \"radialaxis\": {\"gridcolor\": \"white\", \"linecolor\": \"white\", \"ticks\": \"\"}}, \"scene\": {\"xaxis\": {\"backgroundcolor\": \"#E5ECF6\", \"gridcolor\": \"white\", \"gridwidth\": 2, \"linecolor\": \"white\", \"showbackground\": true, \"ticks\": \"\", \"zerolinecolor\": \"white\"}, \"yaxis\": {\"backgroundcolor\": \"#E5ECF6\", \"gridcolor\": \"white\", \"gridwidth\": 2, \"linecolor\": \"white\", \"showbackground\": true, \"ticks\": \"\", \"zerolinecolor\": \"white\"}, \"zaxis\": {\"backgroundcolor\": \"#E5ECF6\", \"gridcolor\": \"white\", \"gridwidth\": 2, \"linecolor\": \"white\", \"showbackground\": true, \"ticks\": \"\", \"zerolinecolor\": \"white\"}}, \"shapedefaults\": {\"line\": {\"color\": \"#2a3f5f\"}}, \"ternary\": {\"aaxis\": {\"gridcolor\": \"white\", \"linecolor\": \"white\", \"ticks\": \"\"}, \"baxis\": {\"gridcolor\": \"white\", \"linecolor\": \"white\", \"ticks\": \"\"}, \"bgcolor\": \"#E5ECF6\", \"caxis\": {\"gridcolor\": \"white\", \"linecolor\": \"white\", \"ticks\": \"\"}}, \"title\": {\"x\": 0.05}, \"xaxis\": {\"automargin\": true, \"gridcolor\": \"white\", \"linecolor\": \"white\", \"ticks\": \"\", \"title\": {\"standoff\": 15}, \"zerolinecolor\": \"white\", \"zerolinewidth\": 2}, \"yaxis\": {\"automargin\": true, \"gridcolor\": \"white\", \"linecolor\": \"white\", \"ticks\": \"\", \"title\": {\"standoff\": 15}, \"zerolinecolor\": \"white\", \"zerolinewidth\": 2}}}, \"title\": {\"font\": {\"color\": \"#4D5663\"}, \"text\": \"Precision/Recall Tradeoff for label: 0\"}, \"xaxis\": {\"gridcolor\": \"#E1E5ED\", \"showgrid\": true, \"tickfont\": {\"color\": \"#4D5663\"}, \"title\": {\"font\": {\"color\": \"#4D5663\"}, \"text\": \"Decision Threshold\"}, \"zerolinecolor\": \"#E1E5ED\"}, \"yaxis\": {\"gridcolor\": \"#E1E5ED\", \"showgrid\": true, \"tickfont\": {\"color\": \"#4D5663\"}, \"title\": {\"font\": {\"color\": \"#4D5663\"}, \"text\": \"Score\"}, \"zerolinecolor\": \"#E1E5ED\"}},\n",
       "                        {\"showLink\": true, \"linkText\": \"Export to plot.ly\", \"plotlyServerURL\": \"https://plot.ly\", \"responsive\": true}\n",
       "                    ).then(function(){\n",
       "                            \n",
       "var gd = document.getElementById('712bfc40-6736-446c-ba75-33948884f627');\n",
       "var x = new MutationObserver(function (mutations, observer) {{\n",
       "        var display = window.getComputedStyle(gd).display;\n",
       "        if (!display || display === 'none') {{\n",
       "            console.log([gd, 'removed!']);\n",
       "            Plotly.purge(gd);\n",
       "            observer.disconnect();\n",
       "        }}\n",
       "}});\n",
       "\n",
       "// Listen for the removal of the full notebook cells\n",
       "var notebookContainer = gd.closest('#notebook-container');\n",
       "if (notebookContainer) {{\n",
       "    x.observe(notebookContainer, {childList: true});\n",
       "}}\n",
       "\n",
       "// Listen for the clearing of the current output cell\n",
       "var outputEl = gd.closest('.output');\n",
       "if (outputEl) {{\n",
       "    x.observe(outputEl, {childList: true});\n",
       "}}\n",
       "\n",
       "                        })\n",
       "                };\n",
       "                });\n",
       "            </script>\n",
       "        </div>"
      ]
     },
     "metadata": {},
     "output_type": "display_data"
    },
    {
     "data": {
      "application/vnd.plotly.v1+json": {
       "config": {
        "linkText": "Export to plot.ly",
        "plotlyServerURL": "https://plot.ly",
        "showLink": true
       },
       "data": [
        {
         "line": {
          "color": "rgba(255, 153, 51, 1.0)",
          "dash": "solid",
          "shape": "linear",
          "width": 1.3
         },
         "mode": "lines",
         "name": "Precision",
         "text": "",
         "type": "scatter",
         "x": [
          0.15,
          0.16,
          0.17,
          0.18,
          0.19,
          0.2,
          0.21,
          0.22,
          0.23,
          0.24,
          0.25,
          0.26,
          0.27,
          0.28,
          0.29,
          0.3,
          0.31,
          0.32,
          0.33,
          0.34,
          0.35,
          0.38,
          0.43,
          0.44,
          0.47,
          0.49,
          0.5,
          0.52,
          0.54,
          0.55,
          0.6,
          0.61,
          0.63,
          0.64,
          0.68,
          0.69,
          0.7,
          0.72,
          0.73,
          0.76,
          0.77,
          0.78,
          0.79,
          0.8,
          0.81,
          0.82,
          0.83,
          0.84,
          0.85,
          0.87,
          0.88,
          0.9,
          0.94,
          null
         ],
         "y": [
          0.22727272727272727,
          0.23671497584541062,
          0.2552083333333333,
          0.28,
          0.30625,
          0.32450331125827814,
          0.3582089552238806,
          0.38524590163934425,
          0.41228070175438597,
          0.4563106796116505,
          0.48936170212765956,
          0.5287356321839081,
          0.5625,
          0.5769230769230769,
          0.6617647058823529,
          0.6716417910447762,
          0.703125,
          0.7258064516129032,
          0.7627118644067796,
          0.7758620689655172,
          0.8333333333333334,
          0.8653846153846154,
          0.8627450980392157,
          0.88,
          0.8775510204081632,
          0.8958333333333334,
          0.8936170212765957,
          0.9111111111111111,
          0.9534883720930233,
          0.9512195121951219,
          0.9743589743589743,
          0.9736842105263158,
          0.972972972972973,
          0.9714285714285714,
          0.9696969696969697,
          0.96875,
          0.967741935483871,
          0.9666666666666667,
          1,
          1,
          1,
          1,
          1,
          1,
          1,
          1,
          1,
          1,
          1,
          1,
          1,
          1,
          1,
          1
         ]
        },
        {
         "line": {
          "color": "rgba(55, 128, 191, 1.0)",
          "dash": "solid",
          "shape": "linear",
          "width": 1.3
         },
         "mode": "lines",
         "name": "Recall",
         "text": "",
         "type": "scatter",
         "x": [
          0.15,
          0.16,
          0.17,
          0.18,
          0.19,
          0.2,
          0.21,
          0.22,
          0.23,
          0.24,
          0.25,
          0.26,
          0.27,
          0.28,
          0.29,
          0.3,
          0.31,
          0.32,
          0.33,
          0.34,
          0.35,
          0.38,
          0.43,
          0.44,
          0.47,
          0.49,
          0.5,
          0.52,
          0.54,
          0.55,
          0.6,
          0.61,
          0.63,
          0.64,
          0.68,
          0.69,
          0.7,
          0.72,
          0.73,
          0.76,
          0.77,
          0.78,
          0.79,
          0.8,
          0.81,
          0.82,
          0.83,
          0.84,
          0.85,
          0.87,
          0.88,
          0.9,
          0.94,
          null
         ],
         "y": [
          1,
          0.98,
          0.98,
          0.98,
          0.98,
          0.98,
          0.96,
          0.94,
          0.94,
          0.94,
          0.92,
          0.92,
          0.9,
          0.9,
          0.9,
          0.9,
          0.9,
          0.9,
          0.9,
          0.9,
          0.9,
          0.9,
          0.88,
          0.88,
          0.86,
          0.86,
          0.84,
          0.82,
          0.82,
          0.78,
          0.76,
          0.74,
          0.72,
          0.68,
          0.64,
          0.62,
          0.6,
          0.58,
          0.56,
          0.54,
          0.52,
          0.5,
          0.48,
          0.38,
          0.36,
          0.32,
          0.3,
          0.22,
          0.2,
          0.18,
          0.08,
          0.06,
          0.04,
          0
         ]
        }
       ],
       "layout": {
        "autosize": true,
        "legend": {
         "bgcolor": "#F5F6F9",
         "font": {
          "color": "#4D5663"
         }
        },
        "paper_bgcolor": "#F5F6F9",
        "plot_bgcolor": "#F5F6F9",
        "template": {
         "data": {
          "bar": [
           {
            "error_x": {
             "color": "#2a3f5f"
            },
            "error_y": {
             "color": "#2a3f5f"
            },
            "marker": {
             "line": {
              "color": "#E5ECF6",
              "width": 0.5
             }
            },
            "type": "bar"
           }
          ],
          "barpolar": [
           {
            "marker": {
             "line": {
              "color": "#E5ECF6",
              "width": 0.5
             }
            },
            "type": "barpolar"
           }
          ],
          "carpet": [
           {
            "aaxis": {
             "endlinecolor": "#2a3f5f",
             "gridcolor": "white",
             "linecolor": "white",
             "minorgridcolor": "white",
             "startlinecolor": "#2a3f5f"
            },
            "baxis": {
             "endlinecolor": "#2a3f5f",
             "gridcolor": "white",
             "linecolor": "white",
             "minorgridcolor": "white",
             "startlinecolor": "#2a3f5f"
            },
            "type": "carpet"
           }
          ],
          "choropleth": [
           {
            "colorbar": {
             "outlinewidth": 0,
             "ticks": ""
            },
            "type": "choropleth"
           }
          ],
          "contour": [
           {
            "colorbar": {
             "outlinewidth": 0,
             "ticks": ""
            },
            "colorscale": [
             [
              0,
              "#0d0887"
             ],
             [
              0.1111111111111111,
              "#46039f"
             ],
             [
              0.2222222222222222,
              "#7201a8"
             ],
             [
              0.3333333333333333,
              "#9c179e"
             ],
             [
              0.4444444444444444,
              "#bd3786"
             ],
             [
              0.5555555555555556,
              "#d8576b"
             ],
             [
              0.6666666666666666,
              "#ed7953"
             ],
             [
              0.7777777777777778,
              "#fb9f3a"
             ],
             [
              0.8888888888888888,
              "#fdca26"
             ],
             [
              1,
              "#f0f921"
             ]
            ],
            "type": "contour"
           }
          ],
          "contourcarpet": [
           {
            "colorbar": {
             "outlinewidth": 0,
             "ticks": ""
            },
            "type": "contourcarpet"
           }
          ],
          "heatmap": [
           {
            "colorbar": {
             "outlinewidth": 0,
             "ticks": ""
            },
            "colorscale": [
             [
              0,
              "#0d0887"
             ],
             [
              0.1111111111111111,
              "#46039f"
             ],
             [
              0.2222222222222222,
              "#7201a8"
             ],
             [
              0.3333333333333333,
              "#9c179e"
             ],
             [
              0.4444444444444444,
              "#bd3786"
             ],
             [
              0.5555555555555556,
              "#d8576b"
             ],
             [
              0.6666666666666666,
              "#ed7953"
             ],
             [
              0.7777777777777778,
              "#fb9f3a"
             ],
             [
              0.8888888888888888,
              "#fdca26"
             ],
             [
              1,
              "#f0f921"
             ]
            ],
            "type": "heatmap"
           }
          ],
          "heatmapgl": [
           {
            "colorbar": {
             "outlinewidth": 0,
             "ticks": ""
            },
            "colorscale": [
             [
              0,
              "#0d0887"
             ],
             [
              0.1111111111111111,
              "#46039f"
             ],
             [
              0.2222222222222222,
              "#7201a8"
             ],
             [
              0.3333333333333333,
              "#9c179e"
             ],
             [
              0.4444444444444444,
              "#bd3786"
             ],
             [
              0.5555555555555556,
              "#d8576b"
             ],
             [
              0.6666666666666666,
              "#ed7953"
             ],
             [
              0.7777777777777778,
              "#fb9f3a"
             ],
             [
              0.8888888888888888,
              "#fdca26"
             ],
             [
              1,
              "#f0f921"
             ]
            ],
            "type": "heatmapgl"
           }
          ],
          "histogram": [
           {
            "marker": {
             "colorbar": {
              "outlinewidth": 0,
              "ticks": ""
             }
            },
            "type": "histogram"
           }
          ],
          "histogram2d": [
           {
            "colorbar": {
             "outlinewidth": 0,
             "ticks": ""
            },
            "colorscale": [
             [
              0,
              "#0d0887"
             ],
             [
              0.1111111111111111,
              "#46039f"
             ],
             [
              0.2222222222222222,
              "#7201a8"
             ],
             [
              0.3333333333333333,
              "#9c179e"
             ],
             [
              0.4444444444444444,
              "#bd3786"
             ],
             [
              0.5555555555555556,
              "#d8576b"
             ],
             [
              0.6666666666666666,
              "#ed7953"
             ],
             [
              0.7777777777777778,
              "#fb9f3a"
             ],
             [
              0.8888888888888888,
              "#fdca26"
             ],
             [
              1,
              "#f0f921"
             ]
            ],
            "type": "histogram2d"
           }
          ],
          "histogram2dcontour": [
           {
            "colorbar": {
             "outlinewidth": 0,
             "ticks": ""
            },
            "colorscale": [
             [
              0,
              "#0d0887"
             ],
             [
              0.1111111111111111,
              "#46039f"
             ],
             [
              0.2222222222222222,
              "#7201a8"
             ],
             [
              0.3333333333333333,
              "#9c179e"
             ],
             [
              0.4444444444444444,
              "#bd3786"
             ],
             [
              0.5555555555555556,
              "#d8576b"
             ],
             [
              0.6666666666666666,
              "#ed7953"
             ],
             [
              0.7777777777777778,
              "#fb9f3a"
             ],
             [
              0.8888888888888888,
              "#fdca26"
             ],
             [
              1,
              "#f0f921"
             ]
            ],
            "type": "histogram2dcontour"
           }
          ],
          "mesh3d": [
           {
            "colorbar": {
             "outlinewidth": 0,
             "ticks": ""
            },
            "type": "mesh3d"
           }
          ],
          "parcoords": [
           {
            "line": {
             "colorbar": {
              "outlinewidth": 0,
              "ticks": ""
             }
            },
            "type": "parcoords"
           }
          ],
          "pie": [
           {
            "automargin": true,
            "type": "pie"
           }
          ],
          "scatter": [
           {
            "marker": {
             "colorbar": {
              "outlinewidth": 0,
              "ticks": ""
             }
            },
            "type": "scatter"
           }
          ],
          "scatter3d": [
           {
            "line": {
             "colorbar": {
              "outlinewidth": 0,
              "ticks": ""
             }
            },
            "marker": {
             "colorbar": {
              "outlinewidth": 0,
              "ticks": ""
             }
            },
            "type": "scatter3d"
           }
          ],
          "scattercarpet": [
           {
            "marker": {
             "colorbar": {
              "outlinewidth": 0,
              "ticks": ""
             }
            },
            "type": "scattercarpet"
           }
          ],
          "scattergeo": [
           {
            "marker": {
             "colorbar": {
              "outlinewidth": 0,
              "ticks": ""
             }
            },
            "type": "scattergeo"
           }
          ],
          "scattergl": [
           {
            "marker": {
             "colorbar": {
              "outlinewidth": 0,
              "ticks": ""
             }
            },
            "type": "scattergl"
           }
          ],
          "scattermapbox": [
           {
            "marker": {
             "colorbar": {
              "outlinewidth": 0,
              "ticks": ""
             }
            },
            "type": "scattermapbox"
           }
          ],
          "scatterpolar": [
           {
            "marker": {
             "colorbar": {
              "outlinewidth": 0,
              "ticks": ""
             }
            },
            "type": "scatterpolar"
           }
          ],
          "scatterpolargl": [
           {
            "marker": {
             "colorbar": {
              "outlinewidth": 0,
              "ticks": ""
             }
            },
            "type": "scatterpolargl"
           }
          ],
          "scatterternary": [
           {
            "marker": {
             "colorbar": {
              "outlinewidth": 0,
              "ticks": ""
             }
            },
            "type": "scatterternary"
           }
          ],
          "surface": [
           {
            "colorbar": {
             "outlinewidth": 0,
             "ticks": ""
            },
            "colorscale": [
             [
              0,
              "#0d0887"
             ],
             [
              0.1111111111111111,
              "#46039f"
             ],
             [
              0.2222222222222222,
              "#7201a8"
             ],
             [
              0.3333333333333333,
              "#9c179e"
             ],
             [
              0.4444444444444444,
              "#bd3786"
             ],
             [
              0.5555555555555556,
              "#d8576b"
             ],
             [
              0.6666666666666666,
              "#ed7953"
             ],
             [
              0.7777777777777778,
              "#fb9f3a"
             ],
             [
              0.8888888888888888,
              "#fdca26"
             ],
             [
              1,
              "#f0f921"
             ]
            ],
            "type": "surface"
           }
          ],
          "table": [
           {
            "cells": {
             "fill": {
              "color": "#EBF0F8"
             },
             "line": {
              "color": "white"
             }
            },
            "header": {
             "fill": {
              "color": "#C8D4E3"
             },
             "line": {
              "color": "white"
             }
            },
            "type": "table"
           }
          ]
         },
         "layout": {
          "annotationdefaults": {
           "arrowcolor": "#2a3f5f",
           "arrowhead": 0,
           "arrowwidth": 1
          },
          "coloraxis": {
           "colorbar": {
            "outlinewidth": 0,
            "ticks": ""
           }
          },
          "colorscale": {
           "diverging": [
            [
             0,
             "#8e0152"
            ],
            [
             0.1,
             "#c51b7d"
            ],
            [
             0.2,
             "#de77ae"
            ],
            [
             0.3,
             "#f1b6da"
            ],
            [
             0.4,
             "#fde0ef"
            ],
            [
             0.5,
             "#f7f7f7"
            ],
            [
             0.6,
             "#e6f5d0"
            ],
            [
             0.7,
             "#b8e186"
            ],
            [
             0.8,
             "#7fbc41"
            ],
            [
             0.9,
             "#4d9221"
            ],
            [
             1,
             "#276419"
            ]
           ],
           "sequential": [
            [
             0,
             "#0d0887"
            ],
            [
             0.1111111111111111,
             "#46039f"
            ],
            [
             0.2222222222222222,
             "#7201a8"
            ],
            [
             0.3333333333333333,
             "#9c179e"
            ],
            [
             0.4444444444444444,
             "#bd3786"
            ],
            [
             0.5555555555555556,
             "#d8576b"
            ],
            [
             0.6666666666666666,
             "#ed7953"
            ],
            [
             0.7777777777777778,
             "#fb9f3a"
            ],
            [
             0.8888888888888888,
             "#fdca26"
            ],
            [
             1,
             "#f0f921"
            ]
           ],
           "sequentialminus": [
            [
             0,
             "#0d0887"
            ],
            [
             0.1111111111111111,
             "#46039f"
            ],
            [
             0.2222222222222222,
             "#7201a8"
            ],
            [
             0.3333333333333333,
             "#9c179e"
            ],
            [
             0.4444444444444444,
             "#bd3786"
            ],
            [
             0.5555555555555556,
             "#d8576b"
            ],
            [
             0.6666666666666666,
             "#ed7953"
            ],
            [
             0.7777777777777778,
             "#fb9f3a"
            ],
            [
             0.8888888888888888,
             "#fdca26"
            ],
            [
             1,
             "#f0f921"
            ]
           ]
          },
          "colorway": [
           "#636efa",
           "#EF553B",
           "#00cc96",
           "#ab63fa",
           "#FFA15A",
           "#19d3f3",
           "#FF6692",
           "#B6E880",
           "#FF97FF",
           "#FECB52"
          ],
          "font": {
           "color": "#2a3f5f"
          },
          "geo": {
           "bgcolor": "white",
           "lakecolor": "white",
           "landcolor": "#E5ECF6",
           "showlakes": true,
           "showland": true,
           "subunitcolor": "white"
          },
          "hoverlabel": {
           "align": "left"
          },
          "hovermode": "closest",
          "mapbox": {
           "style": "light"
          },
          "paper_bgcolor": "white",
          "plot_bgcolor": "#E5ECF6",
          "polar": {
           "angularaxis": {
            "gridcolor": "white",
            "linecolor": "white",
            "ticks": ""
           },
           "bgcolor": "#E5ECF6",
           "radialaxis": {
            "gridcolor": "white",
            "linecolor": "white",
            "ticks": ""
           }
          },
          "scene": {
           "xaxis": {
            "backgroundcolor": "#E5ECF6",
            "gridcolor": "white",
            "gridwidth": 2,
            "linecolor": "white",
            "showbackground": true,
            "ticks": "",
            "zerolinecolor": "white"
           },
           "yaxis": {
            "backgroundcolor": "#E5ECF6",
            "gridcolor": "white",
            "gridwidth": 2,
            "linecolor": "white",
            "showbackground": true,
            "ticks": "",
            "zerolinecolor": "white"
           },
           "zaxis": {
            "backgroundcolor": "#E5ECF6",
            "gridcolor": "white",
            "gridwidth": 2,
            "linecolor": "white",
            "showbackground": true,
            "ticks": "",
            "zerolinecolor": "white"
           }
          },
          "shapedefaults": {
           "line": {
            "color": "#2a3f5f"
           }
          },
          "ternary": {
           "aaxis": {
            "gridcolor": "white",
            "linecolor": "white",
            "ticks": ""
           },
           "baxis": {
            "gridcolor": "white",
            "linecolor": "white",
            "ticks": ""
           },
           "bgcolor": "#E5ECF6",
           "caxis": {
            "gridcolor": "white",
            "linecolor": "white",
            "ticks": ""
           }
          },
          "title": {
           "x": 0.05
          },
          "xaxis": {
           "automargin": true,
           "gridcolor": "white",
           "linecolor": "white",
           "ticks": "",
           "title": {
            "standoff": 15
           },
           "zerolinecolor": "white",
           "zerolinewidth": 2
          },
          "yaxis": {
           "automargin": true,
           "gridcolor": "white",
           "linecolor": "white",
           "ticks": "",
           "title": {
            "standoff": 15
           },
           "zerolinecolor": "white",
           "zerolinewidth": 2
          }
         }
        },
        "title": {
         "font": {
          "color": "#4D5663"
         },
         "text": "Precision/Recall Tradeoff for label: 1"
        },
        "xaxis": {
         "autorange": true,
         "gridcolor": "#E1E5ED",
         "range": [
          0.15,
          0.94
         ],
         "showgrid": true,
         "tickfont": {
          "color": "#4D5663"
         },
         "title": {
          "font": {
           "color": "#4D5663"
          },
          "text": "Decision Threshold"
         },
         "type": "linear",
         "zerolinecolor": "#E1E5ED"
        },
        "yaxis": {
         "autorange": true,
         "gridcolor": "#E1E5ED",
         "range": [
          -0.05555555555555555,
          1.0555555555555556
         ],
         "showgrid": true,
         "tickfont": {
          "color": "#4D5663"
         },
         "title": {
          "font": {
           "color": "#4D5663"
          },
          "text": "Score"
         },
         "type": "linear",
         "zerolinecolor": "#E1E5ED"
        }
       }
      },
      "image/png": "[encoded data removed]",
      "text/html": [
       "<div>\n",
       "        \n",
       "        \n",
       "            <div id=\"230c8d87-080b-4e3a-bd8c-0ffdb900b7ed\" class=\"plotly-graph-div\" style=\"height:525px; width:100%;\"></div>\n",
       "            <script type=\"text/javascript\">\n",
       "                require([\"plotly\"], function(Plotly) {\n",
       "                    window.PLOTLYENV=window.PLOTLYENV || {};\n",
       "                    window.PLOTLYENV.BASE_URL='https://plot.ly';\n",
       "                    \n",
       "                if (document.getElementById(\"230c8d87-080b-4e3a-bd8c-0ffdb900b7ed\")) {\n",
       "                    Plotly.newPlot(\n",
       "                        '230c8d87-080b-4e3a-bd8c-0ffdb900b7ed',\n",
       "                        [{\"line\": {\"color\": \"rgba(255, 153, 51, 1.0)\", \"dash\": \"solid\", \"shape\": \"linear\", \"width\": 1.3}, \"mode\": \"lines\", \"name\": \"Precision\", \"text\": \"\", \"type\": \"scatter\", \"x\": [0.15, 0.16, 0.17, 0.18, 0.19, 0.2, 0.21, 0.22, 0.23, 0.24, 0.25, 0.26, 0.27, 0.28, 0.29, 0.3, 0.31, 0.32, 0.33, 0.34, 0.35, 0.38, 0.43, 0.44, 0.47, 0.49, 0.5, 0.52, 0.54, 0.55, 0.6, 0.61, 0.63, 0.64, 0.68, 0.69, 0.7, 0.72, 0.73, 0.76, 0.77, 0.78, 0.79, 0.8, 0.81, 0.82, 0.83, 0.84, 0.85, 0.87, 0.88, 0.9, 0.94, null], \"y\": [0.22727272727272727, 0.23671497584541062, 0.2552083333333333, 0.28, 0.30625, 0.32450331125827814, 0.3582089552238806, 0.38524590163934425, 0.41228070175438597, 0.4563106796116505, 0.48936170212765956, 0.5287356321839081, 0.5625, 0.5769230769230769, 0.6617647058823529, 0.6716417910447762, 0.703125, 0.7258064516129032, 0.7627118644067796, 0.7758620689655172, 0.8333333333333334, 0.8653846153846154, 0.8627450980392157, 0.88, 0.8775510204081632, 0.8958333333333334, 0.8936170212765957, 0.9111111111111111, 0.9534883720930233, 0.9512195121951219, 0.9743589743589743, 0.9736842105263158, 0.972972972972973, 0.9714285714285714, 0.9696969696969697, 0.96875, 0.967741935483871, 0.9666666666666667, 1.0, 1.0, 1.0, 1.0, 1.0, 1.0, 1.0, 1.0, 1.0, 1.0, 1.0, 1.0, 1.0, 1.0, 1.0, 1.0]}, {\"line\": {\"color\": \"rgba(55, 128, 191, 1.0)\", \"dash\": \"solid\", \"shape\": \"linear\", \"width\": 1.3}, \"mode\": \"lines\", \"name\": \"Recall\", \"text\": \"\", \"type\": \"scatter\", \"x\": [0.15, 0.16, 0.17, 0.18, 0.19, 0.2, 0.21, 0.22, 0.23, 0.24, 0.25, 0.26, 0.27, 0.28, 0.29, 0.3, 0.31, 0.32, 0.33, 0.34, 0.35, 0.38, 0.43, 0.44, 0.47, 0.49, 0.5, 0.52, 0.54, 0.55, 0.6, 0.61, 0.63, 0.64, 0.68, 0.69, 0.7, 0.72, 0.73, 0.76, 0.77, 0.78, 0.79, 0.8, 0.81, 0.82, 0.83, 0.84, 0.85, 0.87, 0.88, 0.9, 0.94, null], \"y\": [1.0, 0.98, 0.98, 0.98, 0.98, 0.98, 0.96, 0.94, 0.94, 0.94, 0.92, 0.92, 0.9, 0.9, 0.9, 0.9, 0.9, 0.9, 0.9, 0.9, 0.9, 0.9, 0.88, 0.88, 0.86, 0.86, 0.84, 0.82, 0.82, 0.78, 0.76, 0.74, 0.72, 0.68, 0.64, 0.62, 0.6, 0.58, 0.56, 0.54, 0.52, 0.5, 0.48, 0.38, 0.36, 0.32, 0.3, 0.22, 0.2, 0.18, 0.08, 0.06, 0.04, 0.0]}],\n",
       "                        {\"legend\": {\"bgcolor\": \"#F5F6F9\", \"font\": {\"color\": \"#4D5663\"}}, \"paper_bgcolor\": \"#F5F6F9\", \"plot_bgcolor\": \"#F5F6F9\", \"template\": {\"data\": {\"bar\": [{\"error_x\": {\"color\": \"#2a3f5f\"}, \"error_y\": {\"color\": \"#2a3f5f\"}, \"marker\": {\"line\": {\"color\": \"#E5ECF6\", \"width\": 0.5}}, \"type\": \"bar\"}], \"barpolar\": [{\"marker\": {\"line\": {\"color\": \"#E5ECF6\", \"width\": 0.5}}, \"type\": \"barpolar\"}], \"carpet\": [{\"aaxis\": {\"endlinecolor\": \"#2a3f5f\", \"gridcolor\": \"white\", \"linecolor\": \"white\", \"minorgridcolor\": \"white\", \"startlinecolor\": \"#2a3f5f\"}, \"baxis\": {\"endlinecolor\": \"#2a3f5f\", \"gridcolor\": \"white\", \"linecolor\": \"white\", \"minorgridcolor\": \"white\", \"startlinecolor\": \"#2a3f5f\"}, \"type\": \"carpet\"}], \"choropleth\": [{\"colorbar\": {\"outlinewidth\": 0, \"ticks\": \"\"}, \"type\": \"choropleth\"}], \"contour\": [{\"colorbar\": {\"outlinewidth\": 0, \"ticks\": \"\"}, \"colorscale\": [[0.0, \"#0d0887\"], [0.1111111111111111, \"#46039f\"], [0.2222222222222222, \"#7201a8\"], [0.3333333333333333, \"#9c179e\"], [0.4444444444444444, \"#bd3786\"], [0.5555555555555556, \"#d8576b\"], [0.6666666666666666, \"#ed7953\"], [0.7777777777777778, \"#fb9f3a\"], [0.8888888888888888, \"#fdca26\"], [1.0, \"#f0f921\"]], \"type\": \"contour\"}], \"contourcarpet\": [{\"colorbar\": {\"outlinewidth\": 0, \"ticks\": \"\"}, \"type\": \"contourcarpet\"}], \"heatmap\": [{\"colorbar\": {\"outlinewidth\": 0, \"ticks\": \"\"}, \"colorscale\": [[0.0, \"#0d0887\"], [0.1111111111111111, \"#46039f\"], [0.2222222222222222, \"#7201a8\"], [0.3333333333333333, \"#9c179e\"], [0.4444444444444444, \"#bd3786\"], [0.5555555555555556, \"#d8576b\"], [0.6666666666666666, \"#ed7953\"], [0.7777777777777778, \"#fb9f3a\"], [0.8888888888888888, \"#fdca26\"], [1.0, \"#f0f921\"]], \"type\": \"heatmap\"}], \"heatmapgl\": [{\"colorbar\": {\"outlinewidth\": 0, \"ticks\": \"\"}, \"colorscale\": [[0.0, \"#0d0887\"], [0.1111111111111111, \"#46039f\"], [0.2222222222222222, \"#7201a8\"], [0.3333333333333333, \"#9c179e\"], [0.4444444444444444, \"#bd3786\"], [0.5555555555555556, \"#d8576b\"], [0.6666666666666666, \"#ed7953\"], [0.7777777777777778, \"#fb9f3a\"], [0.8888888888888888, \"#fdca26\"], [1.0, \"#f0f921\"]], \"type\": \"heatmapgl\"}], \"histogram\": [{\"marker\": {\"colorbar\": {\"outlinewidth\": 0, \"ticks\": \"\"}}, \"type\": \"histogram\"}], \"histogram2d\": [{\"colorbar\": {\"outlinewidth\": 0, \"ticks\": \"\"}, \"colorscale\": [[0.0, \"#0d0887\"], [0.1111111111111111, \"#46039f\"], [0.2222222222222222, \"#7201a8\"], [0.3333333333333333, \"#9c179e\"], [0.4444444444444444, \"#bd3786\"], [0.5555555555555556, \"#d8576b\"], [0.6666666666666666, \"#ed7953\"], [0.7777777777777778, \"#fb9f3a\"], [0.8888888888888888, \"#fdca26\"], [1.0, \"#f0f921\"]], \"type\": \"histogram2d\"}], \"histogram2dcontour\": [{\"colorbar\": {\"outlinewidth\": 0, \"ticks\": \"\"}, \"colorscale\": [[0.0, \"#0d0887\"], [0.1111111111111111, \"#46039f\"], [0.2222222222222222, \"#7201a8\"], [0.3333333333333333, \"#9c179e\"], [0.4444444444444444, \"#bd3786\"], [0.5555555555555556, \"#d8576b\"], [0.6666666666666666, \"#ed7953\"], [0.7777777777777778, \"#fb9f3a\"], [0.8888888888888888, \"#fdca26\"], [1.0, \"#f0f921\"]], \"type\": \"histogram2dcontour\"}], \"mesh3d\": [{\"colorbar\": {\"outlinewidth\": 0, \"ticks\": \"\"}, \"type\": \"mesh3d\"}], \"parcoords\": [{\"line\": {\"colorbar\": {\"outlinewidth\": 0, \"ticks\": \"\"}}, \"type\": \"parcoords\"}], \"pie\": [{\"automargin\": true, \"type\": \"pie\"}], \"scatter\": [{\"marker\": {\"colorbar\": {\"outlinewidth\": 0, \"ticks\": \"\"}}, \"type\": \"scatter\"}], \"scatter3d\": [{\"line\": {\"colorbar\": {\"outlinewidth\": 0, \"ticks\": \"\"}}, \"marker\": {\"colorbar\": {\"outlinewidth\": 0, \"ticks\": \"\"}}, \"type\": \"scatter3d\"}], \"scattercarpet\": [{\"marker\": {\"colorbar\": {\"outlinewidth\": 0, \"ticks\": \"\"}}, \"type\": \"scattercarpet\"}], \"scattergeo\": [{\"marker\": {\"colorbar\": {\"outlinewidth\": 0, \"ticks\": \"\"}}, \"type\": \"scattergeo\"}], \"scattergl\": [{\"marker\": {\"colorbar\": {\"outlinewidth\": 0, \"ticks\": \"\"}}, \"type\": \"scattergl\"}], \"scattermapbox\": [{\"marker\": {\"colorbar\": {\"outlinewidth\": 0, \"ticks\": \"\"}}, \"type\": \"scattermapbox\"}], \"scatterpolar\": [{\"marker\": {\"colorbar\": {\"outlinewidth\": 0, \"ticks\": \"\"}}, \"type\": \"scatterpolar\"}], \"scatterpolargl\": [{\"marker\": {\"colorbar\": {\"outlinewidth\": 0, \"ticks\": \"\"}}, \"type\": \"scatterpolargl\"}], \"scatterternary\": [{\"marker\": {\"colorbar\": {\"outlinewidth\": 0, \"ticks\": \"\"}}, \"type\": \"scatterternary\"}], \"surface\": [{\"colorbar\": {\"outlinewidth\": 0, \"ticks\": \"\"}, \"colorscale\": [[0.0, \"#0d0887\"], [0.1111111111111111, \"#46039f\"], [0.2222222222222222, \"#7201a8\"], [0.3333333333333333, \"#9c179e\"], [0.4444444444444444, \"#bd3786\"], [0.5555555555555556, \"#d8576b\"], [0.6666666666666666, \"#ed7953\"], [0.7777777777777778, \"#fb9f3a\"], [0.8888888888888888, \"#fdca26\"], [1.0, \"#f0f921\"]], \"type\": \"surface\"}], \"table\": [{\"cells\": {\"fill\": {\"color\": \"#EBF0F8\"}, \"line\": {\"color\": \"white\"}}, \"header\": {\"fill\": {\"color\": \"#C8D4E3\"}, \"line\": {\"color\": \"white\"}}, \"type\": \"table\"}]}, \"layout\": {\"annotationdefaults\": {\"arrowcolor\": \"#2a3f5f\", \"arrowhead\": 0, \"arrowwidth\": 1}, \"coloraxis\": {\"colorbar\": {\"outlinewidth\": 0, \"ticks\": \"\"}}, \"colorscale\": {\"diverging\": [[0, \"#8e0152\"], [0.1, \"#c51b7d\"], [0.2, \"#de77ae\"], [0.3, \"#f1b6da\"], [0.4, \"#fde0ef\"], [0.5, \"#f7f7f7\"], [0.6, \"#e6f5d0\"], [0.7, \"#b8e186\"], [0.8, \"#7fbc41\"], [0.9, \"#4d9221\"], [1, \"#276419\"]], \"sequential\": [[0.0, \"#0d0887\"], [0.1111111111111111, \"#46039f\"], [0.2222222222222222, \"#7201a8\"], [0.3333333333333333, \"#9c179e\"], [0.4444444444444444, \"#bd3786\"], [0.5555555555555556, \"#d8576b\"], [0.6666666666666666, \"#ed7953\"], [0.7777777777777778, \"#fb9f3a\"], [0.8888888888888888, \"#fdca26\"], [1.0, \"#f0f921\"]], \"sequentialminus\": [[0.0, \"#0d0887\"], [0.1111111111111111, \"#46039f\"], [0.2222222222222222, \"#7201a8\"], [0.3333333333333333, \"#9c179e\"], [0.4444444444444444, \"#bd3786\"], [0.5555555555555556, \"#d8576b\"], [0.6666666666666666, \"#ed7953\"], [0.7777777777777778, \"#fb9f3a\"], [0.8888888888888888, \"#fdca26\"], [1.0, \"#f0f921\"]]}, \"colorway\": [\"#636efa\", \"#EF553B\", \"#00cc96\", \"#ab63fa\", \"#FFA15A\", \"#19d3f3\", \"#FF6692\", \"#B6E880\", \"#FF97FF\", \"#FECB52\"], \"font\": {\"color\": \"#2a3f5f\"}, \"geo\": {\"bgcolor\": \"white\", \"lakecolor\": \"white\", \"landcolor\": \"#E5ECF6\", \"showlakes\": true, \"showland\": true, \"subunitcolor\": \"white\"}, \"hoverlabel\": {\"align\": \"left\"}, \"hovermode\": \"closest\", \"mapbox\": {\"style\": \"light\"}, \"paper_bgcolor\": \"white\", \"plot_bgcolor\": \"#E5ECF6\", \"polar\": {\"angularaxis\": {\"gridcolor\": \"white\", \"linecolor\": \"white\", \"ticks\": \"\"}, \"bgcolor\": \"#E5ECF6\", \"radialaxis\": {\"gridcolor\": \"white\", \"linecolor\": \"white\", \"ticks\": \"\"}}, \"scene\": {\"xaxis\": {\"backgroundcolor\": \"#E5ECF6\", \"gridcolor\": \"white\", \"gridwidth\": 2, \"linecolor\": \"white\", \"showbackground\": true, \"ticks\": \"\", \"zerolinecolor\": \"white\"}, \"yaxis\": {\"backgroundcolor\": \"#E5ECF6\", \"gridcolor\": \"white\", \"gridwidth\": 2, \"linecolor\": \"white\", \"showbackground\": true, \"ticks\": \"\", \"zerolinecolor\": \"white\"}, \"zaxis\": {\"backgroundcolor\": \"#E5ECF6\", \"gridcolor\": \"white\", \"gridwidth\": 2, \"linecolor\": \"white\", \"showbackground\": true, \"ticks\": \"\", \"zerolinecolor\": \"white\"}}, \"shapedefaults\": {\"line\": {\"color\": \"#2a3f5f\"}}, \"ternary\": {\"aaxis\": {\"gridcolor\": \"white\", \"linecolor\": \"white\", \"ticks\": \"\"}, \"baxis\": {\"gridcolor\": \"white\", \"linecolor\": \"white\", \"ticks\": \"\"}, \"bgcolor\": \"#E5ECF6\", \"caxis\": {\"gridcolor\": \"white\", \"linecolor\": \"white\", \"ticks\": \"\"}}, \"title\": {\"x\": 0.05}, \"xaxis\": {\"automargin\": true, \"gridcolor\": \"white\", \"linecolor\": \"white\", \"ticks\": \"\", \"title\": {\"standoff\": 15}, \"zerolinecolor\": \"white\", \"zerolinewidth\": 2}, \"yaxis\": {\"automargin\": true, \"gridcolor\": \"white\", \"linecolor\": \"white\", \"ticks\": \"\", \"title\": {\"standoff\": 15}, \"zerolinecolor\": \"white\", \"zerolinewidth\": 2}}}, \"title\": {\"font\": {\"color\": \"#4D5663\"}, \"text\": \"Precision/Recall Tradeoff for label: 1\"}, \"xaxis\": {\"gridcolor\": \"#E1E5ED\", \"showgrid\": true, \"tickfont\": {\"color\": \"#4D5663\"}, \"title\": {\"font\": {\"color\": \"#4D5663\"}, \"text\": \"Decision Threshold\"}, \"zerolinecolor\": \"#E1E5ED\"}, \"yaxis\": {\"gridcolor\": \"#E1E5ED\", \"showgrid\": true, \"tickfont\": {\"color\": \"#4D5663\"}, \"title\": {\"font\": {\"color\": \"#4D5663\"}, \"text\": \"Score\"}, \"zerolinecolor\": \"#E1E5ED\"}},\n",
       "                        {\"showLink\": true, \"linkText\": \"Export to plot.ly\", \"plotlyServerURL\": \"https://plot.ly\", \"responsive\": true}\n",
       "                    ).then(function(){\n",
       "                            \n",
       "var gd = document.getElementById('230c8d87-080b-4e3a-bd8c-0ffdb900b7ed');\n",
       "var x = new MutationObserver(function (mutations, observer) {{\n",
       "        var display = window.getComputedStyle(gd).display;\n",
       "        if (!display || display === 'none') {{\n",
       "            console.log([gd, 'removed!']);\n",
       "            Plotly.purge(gd);\n",
       "            observer.disconnect();\n",
       "        }}\n",
       "}});\n",
       "\n",
       "// Listen for the removal of the full notebook cells\n",
       "var notebookContainer = gd.closest('#notebook-container');\n",
       "if (notebookContainer) {{\n",
       "    x.observe(notebookContainer, {childList: true});\n",
       "}}\n",
       "\n",
       "// Listen for the clearing of the current output cell\n",
       "var outputEl = gd.closest('.output');\n",
       "if (outputEl) {{\n",
       "    x.observe(outputEl, {childList: true});\n",
       "}}\n",
       "\n",
       "                        })\n",
       "                };\n",
       "                });\n",
       "            </script>\n",
       "        </div>"
      ]
     },
     "metadata": {},
     "output_type": "display_data"
    },
    {
     "data": {
      "application/vnd.plotly.v1+json": {
       "config": {
        "linkText": "Export to plot.ly",
        "plotlyServerURL": "https://plot.ly",
        "showLink": true
       },
       "data": [
        {
         "line": {
          "color": "rgba(255, 153, 51, 1.0)",
          "dash": "solid",
          "shape": "linear",
          "width": 1.3
         },
         "mode": "lines",
         "name": "Precision",
         "text": "",
         "type": "scatter",
         "x": [
          0.49,
          0.56,
          0.58,
          0.62,
          0.66,
          0.68,
          0.7,
          0.71,
          0.72,
          0.77,
          0.79,
          0.8,
          0.81,
          0.85,
          0.86,
          0.88,
          0.89,
          0.9,
          0.91,
          0.92,
          0.93,
          null
         ],
         "y": [
          0.9117647058823529,
          0.9090909090909091,
          0.90625,
          0.9032258064516129,
          0.9,
          0.896551724137931,
          0.9285714285714286,
          0.9259259259259259,
          0.96,
          0.9583333333333334,
          1,
          1,
          1,
          1,
          1,
          1,
          1,
          1,
          1,
          1,
          1,
          1
         ]
        },
        {
         "line": {
          "color": "rgba(55, 128, 191, 1.0)",
          "dash": "solid",
          "shape": "linear",
          "width": 1.3
         },
         "mode": "lines",
         "name": "Recall",
         "text": "",
         "type": "scatter",
         "x": [
          0.49,
          0.56,
          0.58,
          0.62,
          0.66,
          0.68,
          0.7,
          0.71,
          0.72,
          0.77,
          0.79,
          0.8,
          0.81,
          0.85,
          0.86,
          0.88,
          0.89,
          0.9,
          0.91,
          0.92,
          0.93,
          null
         ],
         "y": [
          1,
          0.967741935483871,
          0.9354838709677419,
          0.9032258064516129,
          0.8709677419354839,
          0.8387096774193549,
          0.8387096774193549,
          0.8064516129032258,
          0.7741935483870968,
          0.7419354838709677,
          0.7419354838709677,
          0.6774193548387096,
          0.6129032258064516,
          0.5806451612903226,
          0.5483870967741935,
          0.5161290322580645,
          0.3548387096774194,
          0.3225806451612903,
          0.25806451612903225,
          0.16129032258064516,
          0.03225806451612903,
          0
         ]
        }
       ],
       "layout": {
        "autosize": true,
        "legend": {
         "bgcolor": "#F5F6F9",
         "font": {
          "color": "#4D5663"
         }
        },
        "paper_bgcolor": "#F5F6F9",
        "plot_bgcolor": "#F5F6F9",
        "template": {
         "data": {
          "bar": [
           {
            "error_x": {
             "color": "#2a3f5f"
            },
            "error_y": {
             "color": "#2a3f5f"
            },
            "marker": {
             "line": {
              "color": "#E5ECF6",
              "width": 0.5
             }
            },
            "type": "bar"
           }
          ],
          "barpolar": [
           {
            "marker": {
             "line": {
              "color": "#E5ECF6",
              "width": 0.5
             }
            },
            "type": "barpolar"
           }
          ],
          "carpet": [
           {
            "aaxis": {
             "endlinecolor": "#2a3f5f",
             "gridcolor": "white",
             "linecolor": "white",
             "minorgridcolor": "white",
             "startlinecolor": "#2a3f5f"
            },
            "baxis": {
             "endlinecolor": "#2a3f5f",
             "gridcolor": "white",
             "linecolor": "white",
             "minorgridcolor": "white",
             "startlinecolor": "#2a3f5f"
            },
            "type": "carpet"
           }
          ],
          "choropleth": [
           {
            "colorbar": {
             "outlinewidth": 0,
             "ticks": ""
            },
            "type": "choropleth"
           }
          ],
          "contour": [
           {
            "colorbar": {
             "outlinewidth": 0,
             "ticks": ""
            },
            "colorscale": [
             [
              0,
              "#0d0887"
             ],
             [
              0.1111111111111111,
              "#46039f"
             ],
             [
              0.2222222222222222,
              "#7201a8"
             ],
             [
              0.3333333333333333,
              "#9c179e"
             ],
             [
              0.4444444444444444,
              "#bd3786"
             ],
             [
              0.5555555555555556,
              "#d8576b"
             ],
             [
              0.6666666666666666,
              "#ed7953"
             ],
             [
              0.7777777777777778,
              "#fb9f3a"
             ],
             [
              0.8888888888888888,
              "#fdca26"
             ],
             [
              1,
              "#f0f921"
             ]
            ],
            "type": "contour"
           }
          ],
          "contourcarpet": [
           {
            "colorbar": {
             "outlinewidth": 0,
             "ticks": ""
            },
            "type": "contourcarpet"
           }
          ],
          "heatmap": [
           {
            "colorbar": {
             "outlinewidth": 0,
             "ticks": ""
            },
            "colorscale": [
             [
              0,
              "#0d0887"
             ],
             [
              0.1111111111111111,
              "#46039f"
             ],
             [
              0.2222222222222222,
              "#7201a8"
             ],
             [
              0.3333333333333333,
              "#9c179e"
             ],
             [
              0.4444444444444444,
              "#bd3786"
             ],
             [
              0.5555555555555556,
              "#d8576b"
             ],
             [
              0.6666666666666666,
              "#ed7953"
             ],
             [
              0.7777777777777778,
              "#fb9f3a"
             ],
             [
              0.8888888888888888,
              "#fdca26"
             ],
             [
              1,
              "#f0f921"
             ]
            ],
            "type": "heatmap"
           }
          ],
          "heatmapgl": [
           {
            "colorbar": {
             "outlinewidth": 0,
             "ticks": ""
            },
            "colorscale": [
             [
              0,
              "#0d0887"
             ],
             [
              0.1111111111111111,
              "#46039f"
             ],
             [
              0.2222222222222222,
              "#7201a8"
             ],
             [
              0.3333333333333333,
              "#9c179e"
             ],
             [
              0.4444444444444444,
              "#bd3786"
             ],
             [
              0.5555555555555556,
              "#d8576b"
             ],
             [
              0.6666666666666666,
              "#ed7953"
             ],
             [
              0.7777777777777778,
              "#fb9f3a"
             ],
             [
              0.8888888888888888,
              "#fdca26"
             ],
             [
              1,
              "#f0f921"
             ]
            ],
            "type": "heatmapgl"
           }
          ],
          "histogram": [
           {
            "marker": {
             "colorbar": {
              "outlinewidth": 0,
              "ticks": ""
             }
            },
            "type": "histogram"
           }
          ],
          "histogram2d": [
           {
            "colorbar": {
             "outlinewidth": 0,
             "ticks": ""
            },
            "colorscale": [
             [
              0,
              "#0d0887"
             ],
             [
              0.1111111111111111,
              "#46039f"
             ],
             [
              0.2222222222222222,
              "#7201a8"
             ],
             [
              0.3333333333333333,
              "#9c179e"
             ],
             [
              0.4444444444444444,
              "#bd3786"
             ],
             [
              0.5555555555555556,
              "#d8576b"
             ],
             [
              0.6666666666666666,
              "#ed7953"
             ],
             [
              0.7777777777777778,
              "#fb9f3a"
             ],
             [
              0.8888888888888888,
              "#fdca26"
             ],
             [
              1,
              "#f0f921"
             ]
            ],
            "type": "histogram2d"
           }
          ],
          "histogram2dcontour": [
           {
            "colorbar": {
             "outlinewidth": 0,
             "ticks": ""
            },
            "colorscale": [
             [
              0,
              "#0d0887"
             ],
             [
              0.1111111111111111,
              "#46039f"
             ],
             [
              0.2222222222222222,
              "#7201a8"
             ],
             [
              0.3333333333333333,
              "#9c179e"
             ],
             [
              0.4444444444444444,
              "#bd3786"
             ],
             [
              0.5555555555555556,
              "#d8576b"
             ],
             [
              0.6666666666666666,
              "#ed7953"
             ],
             [
              0.7777777777777778,
              "#fb9f3a"
             ],
             [
              0.8888888888888888,
              "#fdca26"
             ],
             [
              1,
              "#f0f921"
             ]
            ],
            "type": "histogram2dcontour"
           }
          ],
          "mesh3d": [
           {
            "colorbar": {
             "outlinewidth": 0,
             "ticks": ""
            },
            "type": "mesh3d"
           }
          ],
          "parcoords": [
           {
            "line": {
             "colorbar": {
              "outlinewidth": 0,
              "ticks": ""
             }
            },
            "type": "parcoords"
           }
          ],
          "pie": [
           {
            "automargin": true,
            "type": "pie"
           }
          ],
          "scatter": [
           {
            "marker": {
             "colorbar": {
              "outlinewidth": 0,
              "ticks": ""
             }
            },
            "type": "scatter"
           }
          ],
          "scatter3d": [
           {
            "line": {
             "colorbar": {
              "outlinewidth": 0,
              "ticks": ""
             }
            },
            "marker": {
             "colorbar": {
              "outlinewidth": 0,
              "ticks": ""
             }
            },
            "type": "scatter3d"
           }
          ],
          "scattercarpet": [
           {
            "marker": {
             "colorbar": {
              "outlinewidth": 0,
              "ticks": ""
             }
            },
            "type": "scattercarpet"
           }
          ],
          "scattergeo": [
           {
            "marker": {
             "colorbar": {
              "outlinewidth": 0,
              "ticks": ""
             }
            },
            "type": "scattergeo"
           }
          ],
          "scattergl": [
           {
            "marker": {
             "colorbar": {
              "outlinewidth": 0,
              "ticks": ""
             }
            },
            "type": "scattergl"
           }
          ],
          "scattermapbox": [
           {
            "marker": {
             "colorbar": {
              "outlinewidth": 0,
              "ticks": ""
             }
            },
            "type": "scattermapbox"
           }
          ],
          "scatterpolar": [
           {
            "marker": {
             "colorbar": {
              "outlinewidth": 0,
              "ticks": ""
             }
            },
            "type": "scatterpolar"
           }
          ],
          "scatterpolargl": [
           {
            "marker": {
             "colorbar": {
              "outlinewidth": 0,
              "ticks": ""
             }
            },
            "type": "scatterpolargl"
           }
          ],
          "scatterternary": [
           {
            "marker": {
             "colorbar": {
              "outlinewidth": 0,
              "ticks": ""
             }
            },
            "type": "scatterternary"
           }
          ],
          "surface": [
           {
            "colorbar": {
             "outlinewidth": 0,
             "ticks": ""
            },
            "colorscale": [
             [
              0,
              "#0d0887"
             ],
             [
              0.1111111111111111,
              "#46039f"
             ],
             [
              0.2222222222222222,
              "#7201a8"
             ],
             [
              0.3333333333333333,
              "#9c179e"
             ],
             [
              0.4444444444444444,
              "#bd3786"
             ],
             [
              0.5555555555555556,
              "#d8576b"
             ],
             [
              0.6666666666666666,
              "#ed7953"
             ],
             [
              0.7777777777777778,
              "#fb9f3a"
             ],
             [
              0.8888888888888888,
              "#fdca26"
             ],
             [
              1,
              "#f0f921"
             ]
            ],
            "type": "surface"
           }
          ],
          "table": [
           {
            "cells": {
             "fill": {
              "color": "#EBF0F8"
             },
             "line": {
              "color": "white"
             }
            },
            "header": {
             "fill": {
              "color": "#C8D4E3"
             },
             "line": {
              "color": "white"
             }
            },
            "type": "table"
           }
          ]
         },
         "layout": {
          "annotationdefaults": {
           "arrowcolor": "#2a3f5f",
           "arrowhead": 0,
           "arrowwidth": 1
          },
          "coloraxis": {
           "colorbar": {
            "outlinewidth": 0,
            "ticks": ""
           }
          },
          "colorscale": {
           "diverging": [
            [
             0,
             "#8e0152"
            ],
            [
             0.1,
             "#c51b7d"
            ],
            [
             0.2,
             "#de77ae"
            ],
            [
             0.3,
             "#f1b6da"
            ],
            [
             0.4,
             "#fde0ef"
            ],
            [
             0.5,
             "#f7f7f7"
            ],
            [
             0.6,
             "#e6f5d0"
            ],
            [
             0.7,
             "#b8e186"
            ],
            [
             0.8,
             "#7fbc41"
            ],
            [
             0.9,
             "#4d9221"
            ],
            [
             1,
             "#276419"
            ]
           ],
           "sequential": [
            [
             0,
             "#0d0887"
            ],
            [
             0.1111111111111111,
             "#46039f"
            ],
            [
             0.2222222222222222,
             "#7201a8"
            ],
            [
             0.3333333333333333,
             "#9c179e"
            ],
            [
             0.4444444444444444,
             "#bd3786"
            ],
            [
             0.5555555555555556,
             "#d8576b"
            ],
            [
             0.6666666666666666,
             "#ed7953"
            ],
            [
             0.7777777777777778,
             "#fb9f3a"
            ],
            [
             0.8888888888888888,
             "#fdca26"
            ],
            [
             1,
             "#f0f921"
            ]
           ],
           "sequentialminus": [
            [
             0,
             "#0d0887"
            ],
            [
             0.1111111111111111,
             "#46039f"
            ],
            [
             0.2222222222222222,
             "#7201a8"
            ],
            [
             0.3333333333333333,
             "#9c179e"
            ],
            [
             0.4444444444444444,
             "#bd3786"
            ],
            [
             0.5555555555555556,
             "#d8576b"
            ],
            [
             0.6666666666666666,
             "#ed7953"
            ],
            [
             0.7777777777777778,
             "#fb9f3a"
            ],
            [
             0.8888888888888888,
             "#fdca26"
            ],
            [
             1,
             "#f0f921"
            ]
           ]
          },
          "colorway": [
           "#636efa",
           "#EF553B",
           "#00cc96",
           "#ab63fa",
           "#FFA15A",
           "#19d3f3",
           "#FF6692",
           "#B6E880",
           "#FF97FF",
           "#FECB52"
          ],
          "font": {
           "color": "#2a3f5f"
          },
          "geo": {
           "bgcolor": "white",
           "lakecolor": "white",
           "landcolor": "#E5ECF6",
           "showlakes": true,
           "showland": true,
           "subunitcolor": "white"
          },
          "hoverlabel": {
           "align": "left"
          },
          "hovermode": "closest",
          "mapbox": {
           "style": "light"
          },
          "paper_bgcolor": "white",
          "plot_bgcolor": "#E5ECF6",
          "polar": {
           "angularaxis": {
            "gridcolor": "white",
            "linecolor": "white",
            "ticks": ""
           },
           "bgcolor": "#E5ECF6",
           "radialaxis": {
            "gridcolor": "white",
            "linecolor": "white",
            "ticks": ""
           }
          },
          "scene": {
           "xaxis": {
            "backgroundcolor": "#E5ECF6",
            "gridcolor": "white",
            "gridwidth": 2,
            "linecolor": "white",
            "showbackground": true,
            "ticks": "",
            "zerolinecolor": "white"
           },
           "yaxis": {
            "backgroundcolor": "#E5ECF6",
            "gridcolor": "white",
            "gridwidth": 2,
            "linecolor": "white",
            "showbackground": true,
            "ticks": "",
            "zerolinecolor": "white"
           },
           "zaxis": {
            "backgroundcolor": "#E5ECF6",
            "gridcolor": "white",
            "gridwidth": 2,
            "linecolor": "white",
            "showbackground": true,
            "ticks": "",
            "zerolinecolor": "white"
           }
          },
          "shapedefaults": {
           "line": {
            "color": "#2a3f5f"
           }
          },
          "ternary": {
           "aaxis": {
            "gridcolor": "white",
            "linecolor": "white",
            "ticks": ""
           },
           "baxis": {
            "gridcolor": "white",
            "linecolor": "white",
            "ticks": ""
           },
           "bgcolor": "#E5ECF6",
           "caxis": {
            "gridcolor": "white",
            "linecolor": "white",
            "ticks": ""
           }
          },
          "title": {
           "x": 0.05
          },
          "xaxis": {
           "automargin": true,
           "gridcolor": "white",
           "linecolor": "white",
           "ticks": "",
           "title": {
            "standoff": 15
           },
           "zerolinecolor": "white",
           "zerolinewidth": 2
          },
          "yaxis": {
           "automargin": true,
           "gridcolor": "white",
           "linecolor": "white",
           "ticks": "",
           "title": {
            "standoff": 15
           },
           "zerolinecolor": "white",
           "zerolinewidth": 2
          }
         }
        },
        "title": {
         "font": {
          "color": "#4D5663"
         },
         "text": "Precision/Recall Tradeoff for label: 2"
        },
        "xaxis": {
         "autorange": true,
         "gridcolor": "#E1E5ED",
         "range": [
          0.49,
          0.93
         ],
         "showgrid": true,
         "tickfont": {
          "color": "#4D5663"
         },
         "title": {
          "font": {
           "color": "#4D5663"
          },
          "text": "Decision Threshold"
         },
         "type": "linear",
         "zerolinecolor": "#E1E5ED"
        },
        "yaxis": {
         "autorange": true,
         "gridcolor": "#E1E5ED",
         "range": [
          -0.05555555555555555,
          1.0555555555555556
         ],
         "showgrid": true,
         "tickfont": {
          "color": "#4D5663"
         },
         "title": {
          "font": {
           "color": "#4D5663"
          },
          "text": "Score"
         },
         "type": "linear",
         "zerolinecolor": "#E1E5ED"
        }
       }
      },
      "image/png": "[encoded data removed]",
      "text/html": [
       "<div>\n",
       "        \n",
       "        \n",
       "            <div id=\"4cdd7d20-e101-4fa1-81b0-5d6a7811a0d4\" class=\"plotly-graph-div\" style=\"height:525px; width:100%;\"></div>\n",
       "            <script type=\"text/javascript\">\n",
       "                require([\"plotly\"], function(Plotly) {\n",
       "                    window.PLOTLYENV=window.PLOTLYENV || {};\n",
       "                    window.PLOTLYENV.BASE_URL='https://plot.ly';\n",
       "                    \n",
       "                if (document.getElementById(\"4cdd7d20-e101-4fa1-81b0-5d6a7811a0d4\")) {\n",
       "                    Plotly.newPlot(\n",
       "                        '4cdd7d20-e101-4fa1-81b0-5d6a7811a0d4',\n",
       "                        [{\"line\": {\"color\": \"rgba(255, 153, 51, 1.0)\", \"dash\": \"solid\", \"shape\": \"linear\", \"width\": 1.3}, \"mode\": \"lines\", \"name\": \"Precision\", \"text\": \"\", \"type\": \"scatter\", \"x\": [0.49, 0.56, 0.58, 0.62, 0.66, 0.68, 0.7, 0.71, 0.72, 0.77, 0.79, 0.8, 0.81, 0.85, 0.86, 0.88, 0.89, 0.9, 0.91, 0.92, 0.93, null], \"y\": [0.9117647058823529, 0.9090909090909091, 0.90625, 0.9032258064516129, 0.9, 0.896551724137931, 0.9285714285714286, 0.9259259259259259, 0.96, 0.9583333333333334, 1.0, 1.0, 1.0, 1.0, 1.0, 1.0, 1.0, 1.0, 1.0, 1.0, 1.0, 1.0]}, {\"line\": {\"color\": \"rgba(55, 128, 191, 1.0)\", \"dash\": \"solid\", \"shape\": \"linear\", \"width\": 1.3}, \"mode\": \"lines\", \"name\": \"Recall\", \"text\": \"\", \"type\": \"scatter\", \"x\": [0.49, 0.56, 0.58, 0.62, 0.66, 0.68, 0.7, 0.71, 0.72, 0.77, 0.79, 0.8, 0.81, 0.85, 0.86, 0.88, 0.89, 0.9, 0.91, 0.92, 0.93, null], \"y\": [1.0, 0.967741935483871, 0.9354838709677419, 0.9032258064516129, 0.8709677419354839, 0.8387096774193549, 0.8387096774193549, 0.8064516129032258, 0.7741935483870968, 0.7419354838709677, 0.7419354838709677, 0.6774193548387096, 0.6129032258064516, 0.5806451612903226, 0.5483870967741935, 0.5161290322580645, 0.3548387096774194, 0.3225806451612903, 0.25806451612903225, 0.16129032258064516, 0.03225806451612903, 0.0]}],\n",
       "                        {\"legend\": {\"bgcolor\": \"#F5F6F9\", \"font\": {\"color\": \"#4D5663\"}}, \"paper_bgcolor\": \"#F5F6F9\", \"plot_bgcolor\": \"#F5F6F9\", \"template\": {\"data\": {\"bar\": [{\"error_x\": {\"color\": \"#2a3f5f\"}, \"error_y\": {\"color\": \"#2a3f5f\"}, \"marker\": {\"line\": {\"color\": \"#E5ECF6\", \"width\": 0.5}}, \"type\": \"bar\"}], \"barpolar\": [{\"marker\": {\"line\": {\"color\": \"#E5ECF6\", \"width\": 0.5}}, \"type\": \"barpolar\"}], \"carpet\": [{\"aaxis\": {\"endlinecolor\": \"#2a3f5f\", \"gridcolor\": \"white\", \"linecolor\": \"white\", \"minorgridcolor\": \"white\", \"startlinecolor\": \"#2a3f5f\"}, \"baxis\": {\"endlinecolor\": \"#2a3f5f\", \"gridcolor\": \"white\", \"linecolor\": \"white\", \"minorgridcolor\": \"white\", \"startlinecolor\": \"#2a3f5f\"}, \"type\": \"carpet\"}], \"choropleth\": [{\"colorbar\": {\"outlinewidth\": 0, \"ticks\": \"\"}, \"type\": \"choropleth\"}], \"contour\": [{\"colorbar\": {\"outlinewidth\": 0, \"ticks\": \"\"}, \"colorscale\": [[0.0, \"#0d0887\"], [0.1111111111111111, \"#46039f\"], [0.2222222222222222, \"#7201a8\"], [0.3333333333333333, \"#9c179e\"], [0.4444444444444444, \"#bd3786\"], [0.5555555555555556, \"#d8576b\"], [0.6666666666666666, \"#ed7953\"], [0.7777777777777778, \"#fb9f3a\"], [0.8888888888888888, \"#fdca26\"], [1.0, \"#f0f921\"]], \"type\": \"contour\"}], \"contourcarpet\": [{\"colorbar\": {\"outlinewidth\": 0, \"ticks\": \"\"}, \"type\": \"contourcarpet\"}], \"heatmap\": [{\"colorbar\": {\"outlinewidth\": 0, \"ticks\": \"\"}, \"colorscale\": [[0.0, \"#0d0887\"], [0.1111111111111111, \"#46039f\"], [0.2222222222222222, \"#7201a8\"], [0.3333333333333333, \"#9c179e\"], [0.4444444444444444, \"#bd3786\"], [0.5555555555555556, \"#d8576b\"], [0.6666666666666666, \"#ed7953\"], [0.7777777777777778, \"#fb9f3a\"], [0.8888888888888888, \"#fdca26\"], [1.0, \"#f0f921\"]], \"type\": \"heatmap\"}], \"heatmapgl\": [{\"colorbar\": {\"outlinewidth\": 0, \"ticks\": \"\"}, \"colorscale\": [[0.0, \"#0d0887\"], [0.1111111111111111, \"#46039f\"], [0.2222222222222222, \"#7201a8\"], [0.3333333333333333, \"#9c179e\"], [0.4444444444444444, \"#bd3786\"], [0.5555555555555556, \"#d8576b\"], [0.6666666666666666, \"#ed7953\"], [0.7777777777777778, \"#fb9f3a\"], [0.8888888888888888, \"#fdca26\"], [1.0, \"#f0f921\"]], \"type\": \"heatmapgl\"}], \"histogram\": [{\"marker\": {\"colorbar\": {\"outlinewidth\": 0, \"ticks\": \"\"}}, \"type\": \"histogram\"}], \"histogram2d\": [{\"colorbar\": {\"outlinewidth\": 0, \"ticks\": \"\"}, \"colorscale\": [[0.0, \"#0d0887\"], [0.1111111111111111, \"#46039f\"], [0.2222222222222222, \"#7201a8\"], [0.3333333333333333, \"#9c179e\"], [0.4444444444444444, \"#bd3786\"], [0.5555555555555556, \"#d8576b\"], [0.6666666666666666, \"#ed7953\"], [0.7777777777777778, \"#fb9f3a\"], [0.8888888888888888, \"#fdca26\"], [1.0, \"#f0f921\"]], \"type\": \"histogram2d\"}], \"histogram2dcontour\": [{\"colorbar\": {\"outlinewidth\": 0, \"ticks\": \"\"}, \"colorscale\": [[0.0, \"#0d0887\"], [0.1111111111111111, \"#46039f\"], [0.2222222222222222, \"#7201a8\"], [0.3333333333333333, \"#9c179e\"], [0.4444444444444444, \"#bd3786\"], [0.5555555555555556, \"#d8576b\"], [0.6666666666666666, \"#ed7953\"], [0.7777777777777778, \"#fb9f3a\"], [0.8888888888888888, \"#fdca26\"], [1.0, \"#f0f921\"]], \"type\": \"histogram2dcontour\"}], \"mesh3d\": [{\"colorbar\": {\"outlinewidth\": 0, \"ticks\": \"\"}, \"type\": \"mesh3d\"}], \"parcoords\": [{\"line\": {\"colorbar\": {\"outlinewidth\": 0, \"ticks\": \"\"}}, \"type\": \"parcoords\"}], \"pie\": [{\"automargin\": true, \"type\": \"pie\"}], \"scatter\": [{\"marker\": {\"colorbar\": {\"outlinewidth\": 0, \"ticks\": \"\"}}, \"type\": \"scatter\"}], \"scatter3d\": [{\"line\": {\"colorbar\": {\"outlinewidth\": 0, \"ticks\": \"\"}}, \"marker\": {\"colorbar\": {\"outlinewidth\": 0, \"ticks\": \"\"}}, \"type\": \"scatter3d\"}], \"scattercarpet\": [{\"marker\": {\"colorbar\": {\"outlinewidth\": 0, \"ticks\": \"\"}}, \"type\": \"scattercarpet\"}], \"scattergeo\": [{\"marker\": {\"colorbar\": {\"outlinewidth\": 0, \"ticks\": \"\"}}, \"type\": \"scattergeo\"}], \"scattergl\": [{\"marker\": {\"colorbar\": {\"outlinewidth\": 0, \"ticks\": \"\"}}, \"type\": \"scattergl\"}], \"scattermapbox\": [{\"marker\": {\"colorbar\": {\"outlinewidth\": 0, \"ticks\": \"\"}}, \"type\": \"scattermapbox\"}], \"scatterpolar\": [{\"marker\": {\"colorbar\": {\"outlinewidth\": 0, \"ticks\": \"\"}}, \"type\": \"scatterpolar\"}], \"scatterpolargl\": [{\"marker\": {\"colorbar\": {\"outlinewidth\": 0, \"ticks\": \"\"}}, \"type\": \"scatterpolargl\"}], \"scatterternary\": [{\"marker\": {\"colorbar\": {\"outlinewidth\": 0, \"ticks\": \"\"}}, \"type\": \"scatterternary\"}], \"surface\": [{\"colorbar\": {\"outlinewidth\": 0, \"ticks\": \"\"}, \"colorscale\": [[0.0, \"#0d0887\"], [0.1111111111111111, \"#46039f\"], [0.2222222222222222, \"#7201a8\"], [0.3333333333333333, \"#9c179e\"], [0.4444444444444444, \"#bd3786\"], [0.5555555555555556, \"#d8576b\"], [0.6666666666666666, \"#ed7953\"], [0.7777777777777778, \"#fb9f3a\"], [0.8888888888888888, \"#fdca26\"], [1.0, \"#f0f921\"]], \"type\": \"surface\"}], \"table\": [{\"cells\": {\"fill\": {\"color\": \"#EBF0F8\"}, \"line\": {\"color\": \"white\"}}, \"header\": {\"fill\": {\"color\": \"#C8D4E3\"}, \"line\": {\"color\": \"white\"}}, \"type\": \"table\"}]}, \"layout\": {\"annotationdefaults\": {\"arrowcolor\": \"#2a3f5f\", \"arrowhead\": 0, \"arrowwidth\": 1}, \"coloraxis\": {\"colorbar\": {\"outlinewidth\": 0, \"ticks\": \"\"}}, \"colorscale\": {\"diverging\": [[0, \"#8e0152\"], [0.1, \"#c51b7d\"], [0.2, \"#de77ae\"], [0.3, \"#f1b6da\"], [0.4, \"#fde0ef\"], [0.5, \"#f7f7f7\"], [0.6, \"#e6f5d0\"], [0.7, \"#b8e186\"], [0.8, \"#7fbc41\"], [0.9, \"#4d9221\"], [1, \"#276419\"]], \"sequential\": [[0.0, \"#0d0887\"], [0.1111111111111111, \"#46039f\"], [0.2222222222222222, \"#7201a8\"], [0.3333333333333333, \"#9c179e\"], [0.4444444444444444, \"#bd3786\"], [0.5555555555555556, \"#d8576b\"], [0.6666666666666666, \"#ed7953\"], [0.7777777777777778, \"#fb9f3a\"], [0.8888888888888888, \"#fdca26\"], [1.0, \"#f0f921\"]], \"sequentialminus\": [[0.0, \"#0d0887\"], [0.1111111111111111, \"#46039f\"], [0.2222222222222222, \"#7201a8\"], [0.3333333333333333, \"#9c179e\"], [0.4444444444444444, \"#bd3786\"], [0.5555555555555556, \"#d8576b\"], [0.6666666666666666, \"#ed7953\"], [0.7777777777777778, \"#fb9f3a\"], [0.8888888888888888, \"#fdca26\"], [1.0, \"#f0f921\"]]}, \"colorway\": [\"#636efa\", \"#EF553B\", \"#00cc96\", \"#ab63fa\", \"#FFA15A\", \"#19d3f3\", \"#FF6692\", \"#B6E880\", \"#FF97FF\", \"#FECB52\"], \"font\": {\"color\": \"#2a3f5f\"}, \"geo\": {\"bgcolor\": \"white\", \"lakecolor\": \"white\", \"landcolor\": \"#E5ECF6\", \"showlakes\": true, \"showland\": true, \"subunitcolor\": \"white\"}, \"hoverlabel\": {\"align\": \"left\"}, \"hovermode\": \"closest\", \"mapbox\": {\"style\": \"light\"}, \"paper_bgcolor\": \"white\", \"plot_bgcolor\": \"#E5ECF6\", \"polar\": {\"angularaxis\": {\"gridcolor\": \"white\", \"linecolor\": \"white\", \"ticks\": \"\"}, \"bgcolor\": \"#E5ECF6\", \"radialaxis\": {\"gridcolor\": \"white\", \"linecolor\": \"white\", \"ticks\": \"\"}}, \"scene\": {\"xaxis\": {\"backgroundcolor\": \"#E5ECF6\", \"gridcolor\": \"white\", \"gridwidth\": 2, \"linecolor\": \"white\", \"showbackground\": true, \"ticks\": \"\", \"zerolinecolor\": \"white\"}, \"yaxis\": {\"backgroundcolor\": \"#E5ECF6\", \"gridcolor\": \"white\", \"gridwidth\": 2, \"linecolor\": \"white\", \"showbackground\": true, \"ticks\": \"\", \"zerolinecolor\": \"white\"}, \"zaxis\": {\"backgroundcolor\": \"#E5ECF6\", \"gridcolor\": \"white\", \"gridwidth\": 2, \"linecolor\": \"white\", \"showbackground\": true, \"ticks\": \"\", \"zerolinecolor\": \"white\"}}, \"shapedefaults\": {\"line\": {\"color\": \"#2a3f5f\"}}, \"ternary\": {\"aaxis\": {\"gridcolor\": \"white\", \"linecolor\": \"white\", \"ticks\": \"\"}, \"baxis\": {\"gridcolor\": \"white\", \"linecolor\": \"white\", \"ticks\": \"\"}, \"bgcolor\": \"#E5ECF6\", \"caxis\": {\"gridcolor\": \"white\", \"linecolor\": \"white\", \"ticks\": \"\"}}, \"title\": {\"x\": 0.05}, \"xaxis\": {\"automargin\": true, \"gridcolor\": \"white\", \"linecolor\": \"white\", \"ticks\": \"\", \"title\": {\"standoff\": 15}, \"zerolinecolor\": \"white\", \"zerolinewidth\": 2}, \"yaxis\": {\"automargin\": true, \"gridcolor\": \"white\", \"linecolor\": \"white\", \"ticks\": \"\", \"title\": {\"standoff\": 15}, \"zerolinecolor\": \"white\", \"zerolinewidth\": 2}}}, \"title\": {\"font\": {\"color\": \"#4D5663\"}, \"text\": \"Precision/Recall Tradeoff for label: 2\"}, \"xaxis\": {\"gridcolor\": \"#E1E5ED\", \"showgrid\": true, \"tickfont\": {\"color\": \"#4D5663\"}, \"title\": {\"font\": {\"color\": \"#4D5663\"}, \"text\": \"Decision Threshold\"}, \"zerolinecolor\": \"#E1E5ED\"}, \"yaxis\": {\"gridcolor\": \"#E1E5ED\", \"showgrid\": true, \"tickfont\": {\"color\": \"#4D5663\"}, \"title\": {\"font\": {\"color\": \"#4D5663\"}, \"text\": \"Score\"}, \"zerolinecolor\": \"#E1E5ED\"}},\n",
       "                        {\"showLink\": true, \"linkText\": \"Export to plot.ly\", \"plotlyServerURL\": \"https://plot.ly\", \"responsive\": true}\n",
       "                    ).then(function(){\n",
       "                            \n",
       "var gd = document.getElementById('4cdd7d20-e101-4fa1-81b0-5d6a7811a0d4');\n",
       "var x = new MutationObserver(function (mutations, observer) {{\n",
       "        var display = window.getComputedStyle(gd).display;\n",
       "        if (!display || display === 'none') {{\n",
       "            console.log([gd, 'removed!']);\n",
       "            Plotly.purge(gd);\n",
       "            observer.disconnect();\n",
       "        }}\n",
       "}});\n",
       "\n",
       "// Listen for the removal of the full notebook cells\n",
       "var notebookContainer = gd.closest('#notebook-container');\n",
       "if (notebookContainer) {{\n",
       "    x.observe(notebookContainer, {childList: true});\n",
       "}}\n",
       "\n",
       "// Listen for the clearing of the current output cell\n",
       "var outputEl = gd.closest('.output');\n",
       "if (outputEl) {{\n",
       "    x.observe(outputEl, {childList: true});\n",
       "}}\n",
       "\n",
       "                        })\n",
       "                };\n",
       "                });\n",
       "            </script>\n",
       "        </div>"
      ]
     },
     "metadata": {},
     "output_type": "display_data"
    }
   ],
   "source": [
    "# taken from https://www.kaggle.com/kevinarvai/fine-tuning-a-classifier-in-scikit-learn\n",
    "\n",
    "from sklearn.metrics import precision_recall_curve\n",
    "from sklearn import preprocessing\n",
    "from sklearn.multiclass import OneVsRestClassifier\n",
    "\n",
    "import plotly.graph_objs as go\n",
    "import chart_studio.plotly as py\n",
    "import cufflinks\n",
    "from IPython.core.interactiveshell import InteractiveShell\n",
    "InteractiveShell.ast_node_interactivity = 'all'\n",
    "from plotly.offline import iplot\n",
    "\n",
    "\n",
    "def test():\n",
    "    clf_o = OneVsRestClassifier(RandomForestClassifier())\n",
    "    \n",
    "    y_train_bins = preprocessing.label_binarize(model.y_train, classes=[0, 1, 2])\n",
    "    clf_o.fit(model.X_train, y_train_bins)\n",
    "    \n",
    "    X = list(data.apply(lambda x: model.extract_features2vector(x.to_dict()), axis=1))\n",
    "    y = data['search_results.label']\n",
    "    \n",
    "    \n",
    "    y_scores = clf_o.predict_proba(X)\n",
    "    y_bins = preprocessing.label_binarize(y, classes=[0, 1, 2])\n",
    "    \n",
    "    cufflinks.go_offline()\n",
    "    cufflinks.set_config_file(world_readable=True, theme='pearl')\n",
    "\n",
    "    for i in range(3):\n",
    "        precision_recall = precision_recall_curve(y_bins[:, i], y_scores[:, i])\n",
    "        precision_recall = pd.DataFrame.from_records(precision_recall).T\n",
    "        precision_recall.columns = ['Precision', 'Recall', 'Thresholds']\n",
    "        precision_recall.iplot(x='Thresholds', xTitle='Decision Threshold',yTitle='Score', \n",
    "                               title='Precision/Recall Tradeoff for label: ' + str(i))\n",
    "\n",
    "test()"
   ]
  },
  {
   "cell_type": "markdown",
   "metadata": {},
   "source": [
    "# Draft"
   ]
  },
  {
   "cell_type": "code",
   "execution_count": 15,
   "metadata": {},
   "outputs": [
    {
     "name": "stdout",
     "output_type": "stream",
     "text": [
      "{'search_results.title': 'Delphine Fawundu', 'search_results.snippet': 'Adama Delphine Fawundu (born 1971) is an American multi-disciplinary photographer and visual artist promoting African culture and heritage, a co-founder', 'search_results.label': 2, 'name': 'Delphine A Fawundu', 'department': 'Visual Arts'}\n",
      "{'__name_match_title': True, '__name_match_title2': True, '__name_similarity_title': 0.9652777777777778, '__name_match_snippet': True, '__name_match_snippet2': True, '__department_similarity_snippet': 0.5249601275917065, '__columbia_match_snippet': False, '__word_adama': True, '__word_delphin': True, '__word_fawundu': True, '__word_(': True, '__word_born': True, '__word_1971': True, '__word_)': True, '__word_is': True, '__word_an': True, '__word_american': True, '__word_multi-disciplinari': True, '__word_photograph': True, '__word_and': True, '__word_visual': True, '__word_artist': True, '__word_promot': True, '__word_african': True, '__word_cultur': True, '__word_heritag': True, '__word_,': True, '__word_a': True, '__word_co-found': True}\n"
     ]
    },
    {
     "data": {
      "text/html": [
       "<div>\n",
       "<style scoped>\n",
       "    .dataframe tbody tr th:only-of-type {\n",
       "        vertical-align: middle;\n",
       "    }\n",
       "\n",
       "    .dataframe tbody tr th {\n",
       "        vertical-align: top;\n",
       "    }\n",
       "\n",
       "    .dataframe thead th {\n",
       "        text-align: right;\n",
       "    }\n",
       "</style>\n",
       "<table border=\"1\" class=\"dataframe\">\n",
       "  <thead>\n",
       "    <tr style=\"text-align: right;\">\n",
       "      <th></th>\n",
       "      <th>search_results.title</th>\n",
       "      <th>search_results.snippet</th>\n",
       "      <th>search_results.label</th>\n",
       "      <th>name</th>\n",
       "      <th>department</th>\n",
       "    </tr>\n",
       "  </thead>\n",
       "  <tbody>\n",
       "    <tr>\n",
       "      <th>2</th>\n",
       "      <td>Delphine Fawundu</td>\n",
       "      <td>Adama Delphine Fawundu (born 1971) is an Ameri...</td>\n",
       "      <td>2</td>\n",
       "      <td>Delphine A Fawundu</td>\n",
       "      <td>Visual Arts</td>\n",
       "    </tr>\n",
       "  </tbody>\n",
       "</table>\n",
       "</div>"
      ],
      "text/plain": [
       "  search_results.title                             search_results.snippet  \\\n",
       "2     Delphine Fawundu  Adama Delphine Fawundu (born 1971) is an Ameri...   \n",
       "\n",
       "   search_results.label                name   department  \n",
       "2                     2  Delphine A Fawundu  Visual Arts  "
      ]
     },
     "metadata": {},
     "output_type": "display_data"
    },
    {
     "name": "stdout",
     "output_type": "stream",
     "text": [
      "{'search_results.title': 'Mark N. Brown', 'search_results.snippet': 'Mark Neil Brown (born November 18, 1951) is an American engineer, retired colonel in the United States Air Force and former NASA astronaut. Brown spent', 'search_results.label': 1, 'name': 'Mark Brown', 'department': 'Statistics'}\n",
      "{'__name_match_title': True, '__name_match_title2': True, '__name_similarity_title': 0.9138461538461539, '__name_match_snippet': True, '__name_match_snippet2': True, '__department_similarity_snippet': 0.3799116997792493, '__columbia_match_snippet': False, '__word_mark': True, '__word_neil': True, '__word_brown': True, '__word_(': True, '__word_born': True, '__word_novemb': True, '__word_18': True, '__word_,': True, '__word_1951': True, '__word_)': True, '__word_is': True, '__word_an': True, '__word_american': True, '__word_engin': True, '__word_retir': True, '__word_colonel': True, '__word_in': True, '__word_the': True, '__word_unit': True, '__word_state': True, '__word_air': True, '__word_forc': True, '__word_and': True, '__word_former': True, '__word_nasa': True, '__word_astronaut': True, '__word_.': True, '__word_spent': True}\n"
     ]
    },
    {
     "data": {
      "text/html": [
       "<div>\n",
       "<style scoped>\n",
       "    .dataframe tbody tr th:only-of-type {\n",
       "        vertical-align: middle;\n",
       "    }\n",
       "\n",
       "    .dataframe tbody tr th {\n",
       "        vertical-align: top;\n",
       "    }\n",
       "\n",
       "    .dataframe thead th {\n",
       "        text-align: right;\n",
       "    }\n",
       "</style>\n",
       "<table border=\"1\" class=\"dataframe\">\n",
       "  <thead>\n",
       "    <tr style=\"text-align: right;\">\n",
       "      <th></th>\n",
       "      <th>search_results.title</th>\n",
       "      <th>search_results.snippet</th>\n",
       "      <th>search_results.label</th>\n",
       "      <th>name</th>\n",
       "      <th>department</th>\n",
       "    </tr>\n",
       "  </thead>\n",
       "  <tbody>\n",
       "    <tr>\n",
       "      <th>188</th>\n",
       "      <td>Mark N. Brown</td>\n",
       "      <td>Mark Neil Brown (born November 18, 1951) is an...</td>\n",
       "      <td>1</td>\n",
       "      <td>Mark Brown</td>\n",
       "      <td>Statistics</td>\n",
       "    </tr>\n",
       "  </tbody>\n",
       "</table>\n",
       "</div>"
      ],
      "text/plain": [
       "    search_results.title                             search_results.snippet  \\\n",
       "188        Mark N. Brown  Mark Neil Brown (born November 18, 1951) is an...   \n",
       "\n",
       "     search_results.label        name  department  \n",
       "188                     1  Mark Brown  Statistics  "
      ]
     },
     "metadata": {},
     "output_type": "display_data"
    },
    {
     "name": "stdout",
     "output_type": "stream",
     "text": [
      "{'search_results.title': 'David Rosner', 'search_results.snippet': 'David Rosner is the Ronald H. Lauterstein Professor of Sociomedical Sciences and professor of history in the Graduate School of Arts and Sciences at Columbia', 'search_results.label': 2, 'name': 'David Rosner', 'department': 'Sociomedical Sciences'}\n",
      "{'__name_match_title': True, '__name_match_title2': True, '__name_similarity_title': 1.0, '__name_match_snippet': True, '__name_match_snippet2': True, '__department_similarity_snippet': 0.5842685269436861, '__columbia_match_snippet': True, '__word_david': True, '__word_rosner': True, '__word_is': True, '__word_the': True, '__word_ronald': True, '__word_H.': True, '__word_lauterstein': True, '__word_professor': True, '__word_of': True, '__word_sociomed': True, '__word_scienc': True, '__word_and': True, '__word_histori': True, '__word_in': True, '__word_graduat': True, '__word_school': True, '__word_art': True, '__word_at': True, '__word_columbia': True}\n"
     ]
    },
    {
     "data": {
      "text/html": [
       "<div>\n",
       "<style scoped>\n",
       "    .dataframe tbody tr th:only-of-type {\n",
       "        vertical-align: middle;\n",
       "    }\n",
       "\n",
       "    .dataframe tbody tr th {\n",
       "        vertical-align: top;\n",
       "    }\n",
       "\n",
       "    .dataframe thead th {\n",
       "        text-align: right;\n",
       "    }\n",
       "</style>\n",
       "<table border=\"1\" class=\"dataframe\">\n",
       "  <thead>\n",
       "    <tr style=\"text-align: right;\">\n",
       "      <th></th>\n",
       "      <th>search_results.title</th>\n",
       "      <th>search_results.snippet</th>\n",
       "      <th>search_results.label</th>\n",
       "      <th>name</th>\n",
       "      <th>department</th>\n",
       "    </tr>\n",
       "  </thead>\n",
       "  <tbody>\n",
       "    <tr>\n",
       "      <th>254</th>\n",
       "      <td>David Rosner</td>\n",
       "      <td>David Rosner is the Ronald H. Lauterstein Prof...</td>\n",
       "      <td>2</td>\n",
       "      <td>David Rosner</td>\n",
       "      <td>Sociomedical Sciences</td>\n",
       "    </tr>\n",
       "  </tbody>\n",
       "</table>\n",
       "</div>"
      ],
      "text/plain": [
       "    search_results.title                             search_results.snippet  \\\n",
       "254         David Rosner  David Rosner is the Ronald H. Lauterstein Prof...   \n",
       "\n",
       "     search_results.label          name             department  \n",
       "254                     2  David Rosner  Sociomedical Sciences  "
      ]
     },
     "metadata": {},
     "output_type": "display_data"
    },
    {
     "name": "stdout",
     "output_type": "stream",
     "text": [
      "{'search_results.title': 'Andrew Jacobs (journalist)', 'search_results.snippet': 'Andrew Jacobs is an American correspondent for The New York Times. Jacobs has been based in Beijing, China, since April 2008, covering the country for', 'search_results.label': 1, 'name': 'Andrew Jacobs', 'department': 'Finance'}\n",
      "{'__name_match_title': True, '__name_match_title2': True, '__name_similarity_title': 0.9, '__name_match_snippet': True, '__name_match_snippet2': True, '__department_similarity_snippet': 0.5393650793650794, '__columbia_match_snippet': False, '__word_andrew': True, '__word_jacob': True, '__word_is': True, '__word_an': True, '__word_american': True, '__word_correspond': True, '__word_for': True, '__word_the': True, '__word_new': True, '__word_york': True, '__word_time': True, '__word_.': True, '__word_ha': True, '__word_been': True, '__word_base': True, '__word_in': True, '__word_beij': True, '__word_,': True, '__word_china': True, '__word_sinc': True, '__word_april': True, '__word_2008': True, '__word_cover': True, '__word_countri': True}\n"
     ]
    },
    {
     "data": {
      "text/html": [
       "<div>\n",
       "<style scoped>\n",
       "    .dataframe tbody tr th:only-of-type {\n",
       "        vertical-align: middle;\n",
       "    }\n",
       "\n",
       "    .dataframe tbody tr th {\n",
       "        vertical-align: top;\n",
       "    }\n",
       "\n",
       "    .dataframe thead th {\n",
       "        text-align: right;\n",
       "    }\n",
       "</style>\n",
       "<table border=\"1\" class=\"dataframe\">\n",
       "  <thead>\n",
       "    <tr style=\"text-align: right;\">\n",
       "      <th></th>\n",
       "      <th>search_results.title</th>\n",
       "      <th>search_results.snippet</th>\n",
       "      <th>search_results.label</th>\n",
       "      <th>name</th>\n",
       "      <th>department</th>\n",
       "    </tr>\n",
       "  </thead>\n",
       "  <tbody>\n",
       "    <tr>\n",
       "      <th>237</th>\n",
       "      <td>Andrew Jacobs (journalist)</td>\n",
       "      <td>Andrew Jacobs is an American correspondent for...</td>\n",
       "      <td>1</td>\n",
       "      <td>Andrew Jacobs</td>\n",
       "      <td>Finance</td>\n",
       "    </tr>\n",
       "  </tbody>\n",
       "</table>\n",
       "</div>"
      ],
      "text/plain": [
       "           search_results.title  \\\n",
       "237  Andrew Jacobs (journalist)   \n",
       "\n",
       "                                search_results.snippet  search_results.label  \\\n",
       "237  Andrew Jacobs is an American correspondent for...                     1   \n",
       "\n",
       "              name department  \n",
       "237  Andrew Jacobs    Finance  "
      ]
     },
     "metadata": {},
     "output_type": "display_data"
    },
    {
     "name": "stdout",
     "output_type": "stream",
     "text": [
      "{'search_results.title': 'Michael Eric Dyson', 'search_results.snippet': 'Michael Eric Dyson (born 1958) is an academic, author, preacher, and radio host. He is Professor of Sociology at Georgetown University. Described by Michael', 'search_results.label': 0, 'name': 'Michael P McNeil', 'department': 'Sociomedical Sciences'}\n",
      "{'__name_match_title': False, '__name_match_title2': False, '__name_similarity_title': 0.8761752136752138, '__name_match_snippet': False, '__name_match_snippet2': False, '__department_similarity_snippet': 0.5845543345543346, '__columbia_match_snippet': False, '__word_michael': True, '__word_eric': True, '__word_dyson': True, '__word_(': True, '__word_born': True, '__word_1958': True, '__word_)': True, '__word_is': True, '__word_an': True, '__word_academ': True, '__word_,': True, '__word_author': True, '__word_preacher': True, '__word_and': True, '__word_radio': True, '__word_host': True, '__word_.': True, '__word_He': True, '__word_professor': True, '__word_of': True, '__word_sociolog': True, '__word_at': True, '__word_georgetown': True, '__word_univers': True, '__word_describ': True, '__word_by': True}\n"
     ]
    },
    {
     "data": {
      "text/html": [
       "<div>\n",
       "<style scoped>\n",
       "    .dataframe tbody tr th:only-of-type {\n",
       "        vertical-align: middle;\n",
       "    }\n",
       "\n",
       "    .dataframe tbody tr th {\n",
       "        vertical-align: top;\n",
       "    }\n",
       "\n",
       "    .dataframe thead th {\n",
       "        text-align: right;\n",
       "    }\n",
       "</style>\n",
       "<table border=\"1\" class=\"dataframe\">\n",
       "  <thead>\n",
       "    <tr style=\"text-align: right;\">\n",
       "      <th></th>\n",
       "      <th>search_results.title</th>\n",
       "      <th>search_results.snippet</th>\n",
       "      <th>search_results.label</th>\n",
       "      <th>name</th>\n",
       "      <th>department</th>\n",
       "    </tr>\n",
       "  </thead>\n",
       "  <tbody>\n",
       "    <tr>\n",
       "      <th>462</th>\n",
       "      <td>Michael Eric Dyson</td>\n",
       "      <td>Michael Eric Dyson (born 1958) is an academic,...</td>\n",
       "      <td>0</td>\n",
       "      <td>Michael P McNeil</td>\n",
       "      <td>Sociomedical Sciences</td>\n",
       "    </tr>\n",
       "  </tbody>\n",
       "</table>\n",
       "</div>"
      ],
      "text/plain": [
       "    search_results.title                             search_results.snippet  \\\n",
       "462   Michael Eric Dyson  Michael Eric Dyson (born 1958) is an academic,...   \n",
       "\n",
       "     search_results.label              name             department  \n",
       "462                     0  Michael P McNeil  Sociomedical Sciences  "
      ]
     },
     "metadata": {},
     "output_type": "display_data"
    }
   ],
   "source": [
    "# Viewing samples and its features\n",
    "model.view_sample(2)\n",
    "model.view_sample(188)\n",
    "model.view_sample(254)\n",
    "model.view_sample(237)\n",
    "model.view_sample(462)"
   ]
  },
  {
   "cell_type": "code",
   "execution_count": 54,
   "metadata": {},
   "outputs": [
    {
     "name": "stdout",
     "output_type": "stream",
     "text": [
      "[False, True, False, False]\n",
      "[2]\n"
     ]
    }
   ],
   "source": [
    "# testing NB on small data\n",
    "def test():\n",
    "    X = np.array([{\"a\": True, \"b\": True}, {\"a\": True, \"c\": True}, {\"b\": True, \"d\": True}])\n",
    "    Y = np.array([1, 1, 2])\n",
    "    # Y = np.array([[1, 0], [1, 0], [0, 1]])\n",
    "\n",
    "    d2v = get_dict2vec_converter(X)\n",
    "\n",
    "    vecX = []\n",
    "    for x in X:\n",
    "        vecX.append(d2v(x))\n",
    "    vecX = np.array(vecX)\n",
    "\n",
    "    clf = GaussianNB()\n",
    "    clf.fit(vecX, Y)\n",
    "    test = d2v({'b': True})\n",
    "    print(test)\n",
    "    print(clf.predict([test]))\n",
    "test()"
   ]
  },
  {
   "cell_type": "code",
   "execution_count": 16,
   "metadata": {},
   "outputs": [
    {
     "name": "stdout",
     "output_type": "stream",
     "text": [
      "name:  levenshtein\n",
      "0.8888888888888888\n",
      "0.7692307692307692\n",
      "0.125\n",
      "1.0\n",
      "0.5\n",
      "0.5\n",
      "0.08974358974358976\n",
      "0.05369127516778527\n",
      "0.05921052631578949\n",
      "name:  jaro_winkler\n",
      "0.9777777777777777\n",
      "0.9538461538461538\n",
      "0.46666666666666656\n",
      "1.0\n",
      "0.9\n",
      "0.9\n",
      "0.5811965811965812\n",
      "0.4686546674801708\n",
      "0.5249601275917065\n",
      "name:  jaccard\n",
      "0.6666666666666666\n",
      "0.6666666666666666\n",
      "0.0\n",
      "1.0\n",
      "0.6666666666666666\n",
      "0.6666666666666666\n",
      "0.038461538461538436\n",
      "0.0\n",
      "0.04761904761904767\n",
      "name:  sorensen\n",
      "0.8\n",
      "0.8\n",
      "0.0\n",
      "1.0\n",
      "0.8\n",
      "0.8\n",
      "0.07407407407407407\n",
      "0.0\n",
      "0.09090909090909094\n"
     ]
    }
   ],
   "source": [
    "# evaluating string distance/similarity functions\n",
    "def test_distances(name, words_match_partial):\n",
    "    print(\"name: \", name)\n",
    "    print(words_match_partial(\"Delphine Fawundu\", \"Delphine A Fawundu\"))\n",
    "    print(words_match_partial(\"Mark Brown\", \"Mark N. Brown\"))\n",
    "    print(words_match_partial(\"Mark Brown\", \"Grisha Temchenko\"))\n",
    "    print(words_match_partial(\"Delphine Fawundu\", \"Delphine Fawundu\"))\n",
    "    print(words_match_partial(\"Andrew Jacobs (journalist)\", \"Andrew Jacobs\"))\n",
    "    print(words_match_partial(\"Andrew Jacobs\", \"Andrew Jacobs (journalist)\"))\n",
    "    print(words_match_partial('Michael Eric Dyson (born 1958) is an academic, author, preacher, and radio host. He is Professor of Sociology at Georgetown University. Described by Michael',\n",
    "                             'Michael P McNeil'))\n",
    "    print(words_match_partial('Christine Ann Wellington OBE (born 18 February 1977) is an English former professional triathlete and four-time Ironman Triathlon World Champion. She',\n",
    "                             'Social Work'))\n",
    "    print(words_match_partial('Adama Delphine Fawundu (born 1971) is an American multi-disciplinary photographer and visual artist promoting African culture and heritage, a co-founder',\n",
    "                             'Visual Arts'))\n",
    "    \n",
    "test_distances(\"levenshtein\", textdistance.levenshtein.normalized_similarity)\n",
    "test_distances(\"jaro_winkler\", textdistance.jaro_winkler.normalized_similarity)\n",
    "test_distances(\"jaccard\", lambda x, y: textdistance.jaccard.normalized_similarity(x.lower().split(), y.lower().split()))\n",
    "test_distances(\"sorensen\", lambda x, y: textdistance.sorensen.normalized_similarity(x.lower().split(), y.lower().split()))"
   ]
  },
  {
   "cell_type": "code",
   "execution_count": 19,
   "metadata": {},
   "outputs": [
    {
     "name": "stdout",
     "output_type": "stream",
     "text": [
      "              precision    recall  f1-score   support\n",
      "\n",
      "           0       0.86      1.00      0.92         6\n",
      "           1       1.00      0.83      0.91         6\n",
      "           2       1.00      1.00      1.00         7\n",
      "\n",
      "    accuracy                           0.95        19\n",
      "   macro avg       0.95      0.94      0.94        19\n",
      "weighted avg       0.95      0.95      0.95        19\n",
      "\n",
      "Predicted:\n",
      "[2 0 0 0 1 2 0 2 2 1 0 1 1 2 2 0 2 1 0]\n",
      "True:\n",
      "[2 0 0 0 1 2 0 2 2 1 1 1 1 2 2 0 2 1 0]\n"
     ]
    },
    {
     "data": {
      "text/plain": [
       "search_results.label    \n",
       "2                     7     2\n",
       "0                     14    0\n",
       "                      20    0\n",
       "                      7     0\n",
       "1                     14    1\n",
       "2                     28    2\n",
       "0                     6     0\n",
       "2                     6     2\n",
       "                      13    2\n",
       "1                     15    1\n",
       "                      26    1\n",
       "                      29    1\n",
       "                      27    1\n",
       "2                     14    2\n",
       "                      2     2\n",
       "0                     10    0\n",
       "2                     11    2\n",
       "1                     9     1\n",
       "0                     28    0\n",
       "Name: search_results.label, dtype: int64"
      ]
     },
     "metadata": {},
     "output_type": "display_data"
    },
    {
     "name": "stdout",
     "output_type": "stream",
     "text": [
      "Confusion Matrix:\n",
      "          neg  possible  match\n",
      "neg         6         0      0\n",
      "possible    1         5      0\n",
      "match       0         0      7\n"
     ]
    }
   ],
   "source": [
    "from sklearn.metrics import confusion_matrix\n",
    "\n",
    "# Random forest classifier\n",
    "clf = RandomForestClassifier(n_jobs=-1, n_estimators=100)#, max_depth=3)\n",
    "clf.fit(model.X_train, model.y_train)\n",
    "\n",
    "# evaluate model\n",
    "ypred = clf.predict(model.X_test)\n",
    "print(classification_report(model.y_test, ypred))\n",
    "model.show_true_pred(model.y_test, ypred)\n",
    "display(model.y_test)\n",
    "\n",
    "print(\"Confusion Matrix:\")\n",
    "print(pd.DataFrame(confusion_matrix(model.y_test, ypred),\n",
    "        columns=['neg', 'possible', 'match'], index=['neg', 'possible', 'match']))"
   ]
  },
  {
   "cell_type": "markdown",
   "metadata": {},
   "source": [
    "# DistiBERT"
   ]
  },
  {
   "cell_type": "code",
   "execution_count": 52,
   "metadata": {},
   "outputs": [
    {
     "name": "stderr",
     "output_type": "stream",
     "text": [
      "Using custom data configuration default-8e80e9b76d868f6a\n",
      "Reusing dataset json (C:\\Users\\soide\\.cache\\huggingface\\datasets\\json\\default-8e80e9b76d868f6a\\0.0.0\\c90812beea906fcffe0d5e3bb9eba909a80a998b5f88e9f8acbd320aa91acfde)\n",
      "Using custom data configuration default-8e80e9b76d868f6a\n",
      "Reusing dataset json (C:\\Users\\soide\\.cache\\huggingface\\datasets\\json\\default-8e80e9b76d868f6a\\0.0.0\\c90812beea906fcffe0d5e3bb9eba909a80a998b5f88e9f8acbd320aa91acfde)\n",
      "Using custom data configuration default-8e80e9b76d868f6a\n",
      "Reusing dataset json (C:\\Users\\soide\\.cache\\huggingface\\datasets\\json\\default-8e80e9b76d868f6a\\0.0.0\\c90812beea906fcffe0d5e3bb9eba909a80a998b5f88e9f8acbd320aa91acfde)\n"
     ]
    },
    {
     "name": "stdout",
     "output_type": "stream",
     "text": [
      "Initial data for training:\n",
      "0    57\n",
      "1    34\n",
      "Name: label, dtype: int64\n"
     ]
    }
   ],
   "source": [
    "from cu_catalog.models import wiki_article\n",
    "\n",
    "wac2_model = wiki_article2.WikiArticleClassifier()\n",
    "wac2_model.load_training_data()"
   ]
  },
  {
   "cell_type": "code",
   "execution_count": 53,
   "metadata": {},
   "outputs": [
    {
     "name": "stderr",
     "output_type": "stream",
     "text": [
      "loading configuration file https://huggingface.co/distilbert-base-uncased/resolve/main/config.json from cache at C:\\Users\\soide/.cache\\huggingface\\transformers\\23454919702d26495337f3da04d1655c7ee010d5ec9d77bdb9e399e00302c0a1.91b885ab15d631bf9cee9dc9d25ece0afd932f2f5130eba28f2055b2220c0333\n",
      "Model config DistilBertConfig {\n",
      "  \"_name_or_path\": \"distilbert-base-uncased\",\n",
      "  \"activation\": \"gelu\",\n",
      "  \"architectures\": [\n",
      "    \"DistilBertForMaskedLM\"\n",
      "  ],\n",
      "  \"attention_dropout\": 0.1,\n",
      "  \"dim\": 768,\n",
      "  \"dropout\": 0.1,\n",
      "  \"hidden_dim\": 3072,\n",
      "  \"initializer_range\": 0.02,\n",
      "  \"max_position_embeddings\": 512,\n",
      "  \"model_type\": \"distilbert\",\n",
      "  \"n_heads\": 12,\n",
      "  \"n_layers\": 6,\n",
      "  \"pad_token_id\": 0,\n",
      "  \"qa_dropout\": 0.1,\n",
      "  \"seq_classif_dropout\": 0.2,\n",
      "  \"sinusoidal_pos_embds\": false,\n",
      "  \"tie_weights_\": true,\n",
      "  \"transformers_version\": \"4.15.0\",\n",
      "  \"vocab_size\": 30522\n",
      "}\n",
      "\n",
      "loading weights file https://huggingface.co/distilbert-base-uncased/resolve/main/pytorch_model.bin from cache at C:\\Users\\soide/.cache\\huggingface\\transformers\\9c169103d7e5a73936dd2b627e42851bec0831212b677c637033ee4bce9ab5ee.126183e36667471617ae2f0835fab707baa54b731f991507ebbb55ea85adb12a\n",
      "Some weights of the model checkpoint at distilbert-base-uncased were not used when initializing DistilBertForSequenceClassification: ['vocab_projector.bias', 'vocab_transform.weight', 'vocab_layer_norm.bias', 'vocab_layer_norm.weight', 'vocab_projector.weight', 'vocab_transform.bias']\n",
      "- This IS expected if you are initializing DistilBertForSequenceClassification from the checkpoint of a model trained on another task or with another architecture (e.g. initializing a BertForSequenceClassification model from a BertForPreTraining model).\n",
      "- This IS NOT expected if you are initializing DistilBertForSequenceClassification from the checkpoint of a model that you expect to be exactly identical (initializing a BertForSequenceClassification model from a BertForSequenceClassification model).\n",
      "Some weights of DistilBertForSequenceClassification were not initialized from the model checkpoint at distilbert-base-uncased and are newly initialized: ['pre_classifier.weight', 'classifier.bias', 'pre_classifier.bias', 'classifier.weight']\n",
      "You should probably TRAIN this model on a down-stream task to be able to use it for predictions and inference.\n",
      "loading configuration file https://huggingface.co/distilbert-base-uncased/resolve/main/config.json from cache at C:\\Users\\soide/.cache\\huggingface\\transformers\\23454919702d26495337f3da04d1655c7ee010d5ec9d77bdb9e399e00302c0a1.91b885ab15d631bf9cee9dc9d25ece0afd932f2f5130eba28f2055b2220c0333\n",
      "Model config DistilBertConfig {\n",
      "  \"_name_or_path\": \"distilbert-base-uncased\",\n",
      "  \"activation\": \"gelu\",\n",
      "  \"architectures\": [\n",
      "    \"DistilBertForMaskedLM\"\n",
      "  ],\n",
      "  \"attention_dropout\": 0.1,\n",
      "  \"dim\": 768,\n",
      "  \"dropout\": 0.1,\n",
      "  \"hidden_dim\": 3072,\n",
      "  \"initializer_range\": 0.02,\n",
      "  \"max_position_embeddings\": 512,\n",
      "  \"model_type\": \"distilbert\",\n",
      "  \"n_heads\": 12,\n",
      "  \"n_layers\": 6,\n",
      "  \"pad_token_id\": 0,\n",
      "  \"qa_dropout\": 0.1,\n",
      "  \"seq_classif_dropout\": 0.2,\n",
      "  \"sinusoidal_pos_embds\": false,\n",
      "  \"tie_weights_\": true,\n",
      "  \"transformers_version\": \"4.15.0\",\n",
      "  \"vocab_size\": 30522\n",
      "}\n",
      "\n",
      "loading file https://huggingface.co/distilbert-base-uncased/resolve/main/vocab.txt from cache at C:\\Users\\soide/.cache\\huggingface\\transformers\\0e1bbfda7f63a99bb52e3915dcf10c3c92122b827d92eb2d34ce94ee79ba486c.d789d64ebfe299b0e416afc4a169632f903f693095b4629a7ea271d5a0cf2c99\n",
      "loading file https://huggingface.co/distilbert-base-uncased/resolve/main/tokenizer.json from cache at C:\\Users\\soide/.cache\\huggingface\\transformers\\75abb59d7a06f4f640158a9bfcde005264e59e8d566781ab1415b139d2e4c603.7f2721073f19841be16f41b0a70b600ca6b880c8f3df6f3535cbc704371bdfa4\n",
      "loading file https://huggingface.co/distilbert-base-uncased/resolve/main/added_tokens.json from cache at None\n",
      "loading file https://huggingface.co/distilbert-base-uncased/resolve/main/special_tokens_map.json from cache at None\n",
      "loading file https://huggingface.co/distilbert-base-uncased/resolve/main/tokenizer_config.json from cache at C:\\Users\\soide/.cache\\huggingface\\transformers\\8c8624b8ac8aa99c60c912161f8332de003484428c47906d7ff7eb7f73eecdbb.20430bd8e10ef77a7d2977accefe796051e01bc2fc4aa146bc862997a1a15e79\n",
      "loading configuration file https://huggingface.co/distilbert-base-uncased/resolve/main/config.json from cache at C:\\Users\\soide/.cache\\huggingface\\transformers\\23454919702d26495337f3da04d1655c7ee010d5ec9d77bdb9e399e00302c0a1.91b885ab15d631bf9cee9dc9d25ece0afd932f2f5130eba28f2055b2220c0333\n",
      "Model config DistilBertConfig {\n",
      "  \"_name_or_path\": \"distilbert-base-uncased\",\n",
      "  \"activation\": \"gelu\",\n",
      "  \"architectures\": [\n",
      "    \"DistilBertForMaskedLM\"\n",
      "  ],\n",
      "  \"attention_dropout\": 0.1,\n",
      "  \"dim\": 768,\n",
      "  \"dropout\": 0.1,\n",
      "  \"hidden_dim\": 3072,\n",
      "  \"initializer_range\": 0.02,\n",
      "  \"max_position_embeddings\": 512,\n",
      "  \"model_type\": \"distilbert\",\n",
      "  \"n_heads\": 12,\n",
      "  \"n_layers\": 6,\n",
      "  \"pad_token_id\": 0,\n",
      "  \"qa_dropout\": 0.1,\n",
      "  \"seq_classif_dropout\": 0.2,\n",
      "  \"sinusoidal_pos_embds\": false,\n",
      "  \"tie_weights_\": true,\n",
      "  \"transformers_version\": \"4.15.0\",\n",
      "  \"vocab_size\": 30522\n",
      "}\n",
      "\n"
     ]
    },
    {
     "data": {
      "application/vnd.jupyter.widget-view+json": {
       "model_id": "55c6ca8c586244158e4ab9d8c209d1b2",
       "version_major": 2,
       "version_minor": 0
      },
      "text/plain": [
       "  0%|          | 0/64 [00:00<?, ?ex/s]"
      ]
     },
     "metadata": {},
     "output_type": "display_data"
    },
    {
     "data": {
      "application/vnd.jupyter.widget-view+json": {
       "model_id": "40ea99947fc7445f8e97cada0917810b",
       "version_major": 2,
       "version_minor": 0
      },
      "text/plain": [
       "  0%|          | 0/27 [00:00<?, ?ex/s]"
      ]
     },
     "metadata": {},
     "output_type": "display_data"
    },
    {
     "name": "stderr",
     "output_type": "stream",
     "text": [
      "PyTorch: setting up devices\n",
      "The default value for the training argument `--report_to` will change in v5 (from all installed integrations to none). In v5, you will need to use `--report_to all` to get the same behavior as now. You should start updating your code and make this info disappear :-).\n",
      "The following columns in the training set  don't have a corresponding argument in `DistilBertForSequenceClassification.forward` and have been ignored: wiki_title, department, course_descr, name, wiki_page.\n",
      "***** Running training *****\n",
      "  Num examples = 64\n",
      "  Num Epochs = 50\n",
      "  Instantaneous batch size per device = 2\n",
      "  Total train batch size (w. parallel, distributed & accumulation) = 2\n",
      "  Gradient Accumulation steps = 1\n",
      "  Total optimization steps = 1600\n"
     ]
    },
    {
     "data": {
      "text/html": [
       "\n",
       "    <div>\n",
       "      \n",
       "      <progress value='1600' max='1600' style='width:300px; height:20px; vertical-align: middle;'></progress>\n",
       "      [1600/1600 04:53, Epoch 50/50]\n",
       "    </div>\n",
       "    <table border=\"1\" class=\"dataframe\">\n",
       "  <thead>\n",
       "    <tr style=\"text-align: left;\">\n",
       "      <th>Epoch</th>\n",
       "      <th>Training Loss</th>\n",
       "      <th>Validation Loss</th>\n",
       "      <th>Accuracy</th>\n",
       "      <th>F1</th>\n",
       "    </tr>\n",
       "  </thead>\n",
       "  <tbody>\n",
       "    <tr>\n",
       "      <td>1</td>\n",
       "      <td>0.712000</td>\n",
       "      <td>0.690477</td>\n",
       "      <td>0.518519</td>\n",
       "      <td>0.354110</td>\n",
       "    </tr>\n",
       "    <tr>\n",
       "      <td>2</td>\n",
       "      <td>0.329800</td>\n",
       "      <td>0.505224</td>\n",
       "      <td>0.740741</td>\n",
       "      <td>0.718908</td>\n",
       "    </tr>\n",
       "    <tr>\n",
       "      <td>3</td>\n",
       "      <td>0.295600</td>\n",
       "      <td>0.260076</td>\n",
       "      <td>0.925926</td>\n",
       "      <td>0.925309</td>\n",
       "    </tr>\n",
       "    <tr>\n",
       "      <td>4</td>\n",
       "      <td>0.010700</td>\n",
       "      <td>0.679419</td>\n",
       "      <td>0.777778</td>\n",
       "      <td>0.764052</td>\n",
       "    </tr>\n",
       "    <tr>\n",
       "      <td>5</td>\n",
       "      <td>0.003700</td>\n",
       "      <td>1.201017</td>\n",
       "      <td>0.777778</td>\n",
       "      <td>0.764052</td>\n",
       "    </tr>\n",
       "    <tr>\n",
       "      <td>6</td>\n",
       "      <td>0.004400</td>\n",
       "      <td>0.091509</td>\n",
       "      <td>0.962963</td>\n",
       "      <td>0.962861</td>\n",
       "    </tr>\n",
       "    <tr>\n",
       "      <td>7</td>\n",
       "      <td>0.002600</td>\n",
       "      <td>1.004305</td>\n",
       "      <td>0.814815</td>\n",
       "      <td>0.806798</td>\n",
       "    </tr>\n",
       "    <tr>\n",
       "      <td>8</td>\n",
       "      <td>0.003000</td>\n",
       "      <td>0.796123</td>\n",
       "      <td>0.814815</td>\n",
       "      <td>0.806798</td>\n",
       "    </tr>\n",
       "    <tr>\n",
       "      <td>9</td>\n",
       "      <td>0.001500</td>\n",
       "      <td>0.674099</td>\n",
       "      <td>0.888889</td>\n",
       "      <td>0.887019</td>\n",
       "    </tr>\n",
       "    <tr>\n",
       "      <td>10</td>\n",
       "      <td>0.001000</td>\n",
       "      <td>0.751975</td>\n",
       "      <td>0.851852</td>\n",
       "      <td>0.847643</td>\n",
       "    </tr>\n",
       "    <tr>\n",
       "      <td>11</td>\n",
       "      <td>0.001100</td>\n",
       "      <td>0.660245</td>\n",
       "      <td>0.888889</td>\n",
       "      <td>0.887019</td>\n",
       "    </tr>\n",
       "    <tr>\n",
       "      <td>12</td>\n",
       "      <td>0.001600</td>\n",
       "      <td>0.709052</td>\n",
       "      <td>0.888889</td>\n",
       "      <td>0.887019</td>\n",
       "    </tr>\n",
       "    <tr>\n",
       "      <td>13</td>\n",
       "      <td>0.000600</td>\n",
       "      <td>0.737643</td>\n",
       "      <td>0.851852</td>\n",
       "      <td>0.847643</td>\n",
       "    </tr>\n",
       "    <tr>\n",
       "      <td>14</td>\n",
       "      <td>0.000600</td>\n",
       "      <td>0.753975</td>\n",
       "      <td>0.851852</td>\n",
       "      <td>0.847643</td>\n",
       "    </tr>\n",
       "    <tr>\n",
       "      <td>15</td>\n",
       "      <td>0.000700</td>\n",
       "      <td>0.773030</td>\n",
       "      <td>0.851852</td>\n",
       "      <td>0.847643</td>\n",
       "    </tr>\n",
       "    <tr>\n",
       "      <td>16</td>\n",
       "      <td>0.000700</td>\n",
       "      <td>0.778817</td>\n",
       "      <td>0.851852</td>\n",
       "      <td>0.847643</td>\n",
       "    </tr>\n",
       "    <tr>\n",
       "      <td>17</td>\n",
       "      <td>0.000500</td>\n",
       "      <td>0.792036</td>\n",
       "      <td>0.851852</td>\n",
       "      <td>0.847643</td>\n",
       "    </tr>\n",
       "    <tr>\n",
       "      <td>18</td>\n",
       "      <td>0.000600</td>\n",
       "      <td>0.791322</td>\n",
       "      <td>0.851852</td>\n",
       "      <td>0.847643</td>\n",
       "    </tr>\n",
       "    <tr>\n",
       "      <td>19</td>\n",
       "      <td>0.000300</td>\n",
       "      <td>0.805537</td>\n",
       "      <td>0.851852</td>\n",
       "      <td>0.847643</td>\n",
       "    </tr>\n",
       "    <tr>\n",
       "      <td>20</td>\n",
       "      <td>0.000500</td>\n",
       "      <td>0.820370</td>\n",
       "      <td>0.851852</td>\n",
       "      <td>0.847643</td>\n",
       "    </tr>\n",
       "    <tr>\n",
       "      <td>21</td>\n",
       "      <td>0.000400</td>\n",
       "      <td>0.840009</td>\n",
       "      <td>0.851852</td>\n",
       "      <td>0.847643</td>\n",
       "    </tr>\n",
       "    <tr>\n",
       "      <td>22</td>\n",
       "      <td>0.000300</td>\n",
       "      <td>0.855204</td>\n",
       "      <td>0.851852</td>\n",
       "      <td>0.847643</td>\n",
       "    </tr>\n",
       "    <tr>\n",
       "      <td>23</td>\n",
       "      <td>0.000300</td>\n",
       "      <td>0.867841</td>\n",
       "      <td>0.851852</td>\n",
       "      <td>0.847643</td>\n",
       "    </tr>\n",
       "    <tr>\n",
       "      <td>24</td>\n",
       "      <td>0.000300</td>\n",
       "      <td>0.869907</td>\n",
       "      <td>0.851852</td>\n",
       "      <td>0.847643</td>\n",
       "    </tr>\n",
       "    <tr>\n",
       "      <td>25</td>\n",
       "      <td>0.000300</td>\n",
       "      <td>0.879234</td>\n",
       "      <td>0.851852</td>\n",
       "      <td>0.847643</td>\n",
       "    </tr>\n",
       "    <tr>\n",
       "      <td>26</td>\n",
       "      <td>0.000200</td>\n",
       "      <td>0.881086</td>\n",
       "      <td>0.851852</td>\n",
       "      <td>0.847643</td>\n",
       "    </tr>\n",
       "    <tr>\n",
       "      <td>27</td>\n",
       "      <td>0.000300</td>\n",
       "      <td>0.877459</td>\n",
       "      <td>0.851852</td>\n",
       "      <td>0.847643</td>\n",
       "    </tr>\n",
       "    <tr>\n",
       "      <td>28</td>\n",
       "      <td>0.000300</td>\n",
       "      <td>0.882214</td>\n",
       "      <td>0.851852</td>\n",
       "      <td>0.847643</td>\n",
       "    </tr>\n",
       "    <tr>\n",
       "      <td>29</td>\n",
       "      <td>0.000200</td>\n",
       "      <td>0.882231</td>\n",
       "      <td>0.851852</td>\n",
       "      <td>0.847643</td>\n",
       "    </tr>\n",
       "    <tr>\n",
       "      <td>30</td>\n",
       "      <td>0.000200</td>\n",
       "      <td>0.884045</td>\n",
       "      <td>0.851852</td>\n",
       "      <td>0.847643</td>\n",
       "    </tr>\n",
       "    <tr>\n",
       "      <td>31</td>\n",
       "      <td>0.000200</td>\n",
       "      <td>0.890747</td>\n",
       "      <td>0.851852</td>\n",
       "      <td>0.847643</td>\n",
       "    </tr>\n",
       "    <tr>\n",
       "      <td>32</td>\n",
       "      <td>0.000200</td>\n",
       "      <td>0.880316</td>\n",
       "      <td>0.851852</td>\n",
       "      <td>0.847643</td>\n",
       "    </tr>\n",
       "    <tr>\n",
       "      <td>33</td>\n",
       "      <td>0.000200</td>\n",
       "      <td>0.878728</td>\n",
       "      <td>0.851852</td>\n",
       "      <td>0.847643</td>\n",
       "    </tr>\n",
       "    <tr>\n",
       "      <td>34</td>\n",
       "      <td>0.000300</td>\n",
       "      <td>0.877992</td>\n",
       "      <td>0.851852</td>\n",
       "      <td>0.847643</td>\n",
       "    </tr>\n",
       "    <tr>\n",
       "      <td>35</td>\n",
       "      <td>0.000200</td>\n",
       "      <td>0.878065</td>\n",
       "      <td>0.851852</td>\n",
       "      <td>0.847643</td>\n",
       "    </tr>\n",
       "    <tr>\n",
       "      <td>36</td>\n",
       "      <td>0.000200</td>\n",
       "      <td>0.880479</td>\n",
       "      <td>0.851852</td>\n",
       "      <td>0.847643</td>\n",
       "    </tr>\n",
       "    <tr>\n",
       "      <td>37</td>\n",
       "      <td>0.000200</td>\n",
       "      <td>0.884510</td>\n",
       "      <td>0.851852</td>\n",
       "      <td>0.847643</td>\n",
       "    </tr>\n",
       "    <tr>\n",
       "      <td>38</td>\n",
       "      <td>0.000200</td>\n",
       "      <td>0.887708</td>\n",
       "      <td>0.851852</td>\n",
       "      <td>0.847643</td>\n",
       "    </tr>\n",
       "    <tr>\n",
       "      <td>39</td>\n",
       "      <td>0.000100</td>\n",
       "      <td>0.895796</td>\n",
       "      <td>0.851852</td>\n",
       "      <td>0.847643</td>\n",
       "    </tr>\n",
       "    <tr>\n",
       "      <td>40</td>\n",
       "      <td>0.000200</td>\n",
       "      <td>0.903537</td>\n",
       "      <td>0.851852</td>\n",
       "      <td>0.847643</td>\n",
       "    </tr>\n",
       "    <tr>\n",
       "      <td>41</td>\n",
       "      <td>0.000100</td>\n",
       "      <td>0.904064</td>\n",
       "      <td>0.851852</td>\n",
       "      <td>0.847643</td>\n",
       "    </tr>\n",
       "    <tr>\n",
       "      <td>42</td>\n",
       "      <td>0.000100</td>\n",
       "      <td>0.905762</td>\n",
       "      <td>0.851852</td>\n",
       "      <td>0.847643</td>\n",
       "    </tr>\n",
       "    <tr>\n",
       "      <td>43</td>\n",
       "      <td>0.000100</td>\n",
       "      <td>0.907582</td>\n",
       "      <td>0.851852</td>\n",
       "      <td>0.847643</td>\n",
       "    </tr>\n",
       "    <tr>\n",
       "      <td>44</td>\n",
       "      <td>0.000100</td>\n",
       "      <td>0.910254</td>\n",
       "      <td>0.851852</td>\n",
       "      <td>0.847643</td>\n",
       "    </tr>\n",
       "    <tr>\n",
       "      <td>45</td>\n",
       "      <td>0.000100</td>\n",
       "      <td>0.911323</td>\n",
       "      <td>0.851852</td>\n",
       "      <td>0.847643</td>\n",
       "    </tr>\n",
       "    <tr>\n",
       "      <td>46</td>\n",
       "      <td>0.000100</td>\n",
       "      <td>0.912786</td>\n",
       "      <td>0.851852</td>\n",
       "      <td>0.847643</td>\n",
       "    </tr>\n",
       "    <tr>\n",
       "      <td>47</td>\n",
       "      <td>0.000200</td>\n",
       "      <td>0.913167</td>\n",
       "      <td>0.851852</td>\n",
       "      <td>0.847643</td>\n",
       "    </tr>\n",
       "    <tr>\n",
       "      <td>48</td>\n",
       "      <td>0.000100</td>\n",
       "      <td>0.913422</td>\n",
       "      <td>0.851852</td>\n",
       "      <td>0.847643</td>\n",
       "    </tr>\n",
       "    <tr>\n",
       "      <td>49</td>\n",
       "      <td>0.000200</td>\n",
       "      <td>0.913912</td>\n",
       "      <td>0.851852</td>\n",
       "      <td>0.847643</td>\n",
       "    </tr>\n",
       "    <tr>\n",
       "      <td>50</td>\n",
       "      <td>0.000100</td>\n",
       "      <td>0.913970</td>\n",
       "      <td>0.851852</td>\n",
       "      <td>0.847643</td>\n",
       "    </tr>\n",
       "  </tbody>\n",
       "</table><p>"
      ],
      "text/plain": [
       "<IPython.core.display.HTML object>"
      ]
     },
     "metadata": {},
     "output_type": "display_data"
    },
    {
     "name": "stderr",
     "output_type": "stream",
     "text": [
      "The following columns in the evaluation set  don't have a corresponding argument in `DistilBertForSequenceClassification.forward` and have been ignored: wiki_title, department, course_descr, name, wiki_page.\n",
      "***** Running Evaluation *****\n",
      "  Num examples = 27\n",
      "  Batch size = 2\n",
      "The following columns in the evaluation set  don't have a corresponding argument in `DistilBertForSequenceClassification.forward` and have been ignored: wiki_title, department, course_descr, name, wiki_page.\n",
      "***** Running Evaluation *****\n",
      "  Num examples = 27\n",
      "  Batch size = 2\n",
      "The following columns in the evaluation set  don't have a corresponding argument in `DistilBertForSequenceClassification.forward` and have been ignored: wiki_title, department, course_descr, name, wiki_page.\n",
      "***** Running Evaluation *****\n",
      "  Num examples = 27\n",
      "  Batch size = 2\n",
      "The following columns in the evaluation set  don't have a corresponding argument in `DistilBertForSequenceClassification.forward` and have been ignored: wiki_title, department, course_descr, name, wiki_page.\n",
      "***** Running Evaluation *****\n",
      "  Num examples = 27\n",
      "  Batch size = 2\n",
      "The following columns in the evaluation set  don't have a corresponding argument in `DistilBertForSequenceClassification.forward` and have been ignored: wiki_title, department, course_descr, name, wiki_page.\n",
      "***** Running Evaluation *****\n",
      "  Num examples = 27\n",
      "  Batch size = 2\n",
      "The following columns in the evaluation set  don't have a corresponding argument in `DistilBertForSequenceClassification.forward` and have been ignored: wiki_title, department, course_descr, name, wiki_page.\n",
      "***** Running Evaluation *****\n",
      "  Num examples = 27\n",
      "  Batch size = 2\n",
      "The following columns in the evaluation set  don't have a corresponding argument in `DistilBertForSequenceClassification.forward` and have been ignored: wiki_title, department, course_descr, name, wiki_page.\n",
      "***** Running Evaluation *****\n",
      "  Num examples = 27\n",
      "  Batch size = 2\n",
      "The following columns in the evaluation set  don't have a corresponding argument in `DistilBertForSequenceClassification.forward` and have been ignored: wiki_title, department, course_descr, name, wiki_page.\n",
      "***** Running Evaluation *****\n",
      "  Num examples = 27\n",
      "  Batch size = 2\n",
      "The following columns in the evaluation set  don't have a corresponding argument in `DistilBertForSequenceClassification.forward` and have been ignored: wiki_title, department, course_descr, name, wiki_page.\n",
      "***** Running Evaluation *****\n",
      "  Num examples = 27\n",
      "  Batch size = 2\n",
      "The following columns in the evaluation set  don't have a corresponding argument in `DistilBertForSequenceClassification.forward` and have been ignored: wiki_title, department, course_descr, name, wiki_page.\n",
      "***** Running Evaluation *****\n",
      "  Num examples = 27\n",
      "  Batch size = 2\n",
      "The following columns in the evaluation set  don't have a corresponding argument in `DistilBertForSequenceClassification.forward` and have been ignored: wiki_title, department, course_descr, name, wiki_page.\n",
      "***** Running Evaluation *****\n",
      "  Num examples = 27\n",
      "  Batch size = 2\n",
      "The following columns in the evaluation set  don't have a corresponding argument in `DistilBertForSequenceClassification.forward` and have been ignored: wiki_title, department, course_descr, name, wiki_page.\n",
      "***** Running Evaluation *****\n",
      "  Num examples = 27\n",
      "  Batch size = 2\n",
      "The following columns in the evaluation set  don't have a corresponding argument in `DistilBertForSequenceClassification.forward` and have been ignored: wiki_title, department, course_descr, name, wiki_page.\n",
      "***** Running Evaluation *****\n",
      "  Num examples = 27\n",
      "  Batch size = 2\n",
      "The following columns in the evaluation set  don't have a corresponding argument in `DistilBertForSequenceClassification.forward` and have been ignored: wiki_title, department, course_descr, name, wiki_page.\n",
      "***** Running Evaluation *****\n",
      "  Num examples = 27\n",
      "  Batch size = 2\n",
      "The following columns in the evaluation set  don't have a corresponding argument in `DistilBertForSequenceClassification.forward` and have been ignored: wiki_title, department, course_descr, name, wiki_page.\n",
      "***** Running Evaluation *****\n",
      "  Num examples = 27\n",
      "  Batch size = 2\n",
      "Saving model checkpoint to ./models-trained\\checkpoint-500\n",
      "Configuration saved in ./models-trained\\checkpoint-500\\config.json\n",
      "Model weights saved in ./models-trained\\checkpoint-500\\pytorch_model.bin\n",
      "tokenizer config file saved in ./models-trained\\checkpoint-500\\tokenizer_config.json\n",
      "Special tokens file saved in ./models-trained\\checkpoint-500\\special_tokens_map.json\n",
      "The following columns in the evaluation set  don't have a corresponding argument in `DistilBertForSequenceClassification.forward` and have been ignored: wiki_title, department, course_descr, name, wiki_page.\n",
      "***** Running Evaluation *****\n",
      "  Num examples = 27\n",
      "  Batch size = 2\n",
      "The following columns in the evaluation set  don't have a corresponding argument in `DistilBertForSequenceClassification.forward` and have been ignored: wiki_title, department, course_descr, name, wiki_page.\n",
      "***** Running Evaluation *****\n",
      "  Num examples = 27\n",
      "  Batch size = 2\n",
      "The following columns in the evaluation set  don't have a corresponding argument in `DistilBertForSequenceClassification.forward` and have been ignored: wiki_title, department, course_descr, name, wiki_page.\n",
      "***** Running Evaluation *****\n",
      "  Num examples = 27\n",
      "  Batch size = 2\n",
      "The following columns in the evaluation set  don't have a corresponding argument in `DistilBertForSequenceClassification.forward` and have been ignored: wiki_title, department, course_descr, name, wiki_page.\n",
      "***** Running Evaluation *****\n",
      "  Num examples = 27\n",
      "  Batch size = 2\n",
      "The following columns in the evaluation set  don't have a corresponding argument in `DistilBertForSequenceClassification.forward` and have been ignored: wiki_title, department, course_descr, name, wiki_page.\n",
      "***** Running Evaluation *****\n",
      "  Num examples = 27\n",
      "  Batch size = 2\n",
      "The following columns in the evaluation set  don't have a corresponding argument in `DistilBertForSequenceClassification.forward` and have been ignored: wiki_title, department, course_descr, name, wiki_page.\n",
      "***** Running Evaluation *****\n",
      "  Num examples = 27\n",
      "  Batch size = 2\n",
      "The following columns in the evaluation set  don't have a corresponding argument in `DistilBertForSequenceClassification.forward` and have been ignored: wiki_title, department, course_descr, name, wiki_page.\n",
      "***** Running Evaluation *****\n",
      "  Num examples = 27\n",
      "  Batch size = 2\n",
      "The following columns in the evaluation set  don't have a corresponding argument in `DistilBertForSequenceClassification.forward` and have been ignored: wiki_title, department, course_descr, name, wiki_page.\n",
      "***** Running Evaluation *****\n",
      "  Num examples = 27\n",
      "  Batch size = 2\n",
      "The following columns in the evaluation set  don't have a corresponding argument in `DistilBertForSequenceClassification.forward` and have been ignored: wiki_title, department, course_descr, name, wiki_page.\n",
      "***** Running Evaluation *****\n",
      "  Num examples = 27\n",
      "  Batch size = 2\n",
      "The following columns in the evaluation set  don't have a corresponding argument in `DistilBertForSequenceClassification.forward` and have been ignored: wiki_title, department, course_descr, name, wiki_page.\n",
      "***** Running Evaluation *****\n",
      "  Num examples = 27\n",
      "  Batch size = 2\n",
      "The following columns in the evaluation set  don't have a corresponding argument in `DistilBertForSequenceClassification.forward` and have been ignored: wiki_title, department, course_descr, name, wiki_page.\n",
      "***** Running Evaluation *****\n",
      "  Num examples = 27\n",
      "  Batch size = 2\n",
      "The following columns in the evaluation set  don't have a corresponding argument in `DistilBertForSequenceClassification.forward` and have been ignored: wiki_title, department, course_descr, name, wiki_page.\n",
      "***** Running Evaluation *****\n",
      "  Num examples = 27\n",
      "  Batch size = 2\n",
      "The following columns in the evaluation set  don't have a corresponding argument in `DistilBertForSequenceClassification.forward` and have been ignored: wiki_title, department, course_descr, name, wiki_page.\n",
      "***** Running Evaluation *****\n",
      "  Num examples = 27\n",
      "  Batch size = 2\n",
      "The following columns in the evaluation set  don't have a corresponding argument in `DistilBertForSequenceClassification.forward` and have been ignored: wiki_title, department, course_descr, name, wiki_page.\n",
      "***** Running Evaluation *****\n",
      "  Num examples = 27\n",
      "  Batch size = 2\n",
      "The following columns in the evaluation set  don't have a corresponding argument in `DistilBertForSequenceClassification.forward` and have been ignored: wiki_title, department, course_descr, name, wiki_page.\n",
      "***** Running Evaluation *****\n",
      "  Num examples = 27\n",
      "  Batch size = 2\n",
      "The following columns in the evaluation set  don't have a corresponding argument in `DistilBertForSequenceClassification.forward` and have been ignored: wiki_title, department, course_descr, name, wiki_page.\n",
      "***** Running Evaluation *****\n",
      "  Num examples = 27\n",
      "  Batch size = 2\n",
      "Saving model checkpoint to ./models-trained\\checkpoint-1000\n",
      "Configuration saved in ./models-trained\\checkpoint-1000\\config.json\n",
      "Model weights saved in ./models-trained\\checkpoint-1000\\pytorch_model.bin\n",
      "tokenizer config file saved in ./models-trained\\checkpoint-1000\\tokenizer_config.json\n",
      "Special tokens file saved in ./models-trained\\checkpoint-1000\\special_tokens_map.json\n",
      "The following columns in the evaluation set  don't have a corresponding argument in `DistilBertForSequenceClassification.forward` and have been ignored: wiki_title, department, course_descr, name, wiki_page.\n",
      "***** Running Evaluation *****\n",
      "  Num examples = 27\n",
      "  Batch size = 2\n",
      "The following columns in the evaluation set  don't have a corresponding argument in `DistilBertForSequenceClassification.forward` and have been ignored: wiki_title, department, course_descr, name, wiki_page.\n",
      "***** Running Evaluation *****\n",
      "  Num examples = 27\n",
      "  Batch size = 2\n",
      "The following columns in the evaluation set  don't have a corresponding argument in `DistilBertForSequenceClassification.forward` and have been ignored: wiki_title, department, course_descr, name, wiki_page.\n",
      "***** Running Evaluation *****\n",
      "  Num examples = 27\n",
      "  Batch size = 2\n",
      "The following columns in the evaluation set  don't have a corresponding argument in `DistilBertForSequenceClassification.forward` and have been ignored: wiki_title, department, course_descr, name, wiki_page.\n",
      "***** Running Evaluation *****\n",
      "  Num examples = 27\n",
      "  Batch size = 2\n",
      "The following columns in the evaluation set  don't have a corresponding argument in `DistilBertForSequenceClassification.forward` and have been ignored: wiki_title, department, course_descr, name, wiki_page.\n",
      "***** Running Evaluation *****\n",
      "  Num examples = 27\n",
      "  Batch size = 2\n",
      "The following columns in the evaluation set  don't have a corresponding argument in `DistilBertForSequenceClassification.forward` and have been ignored: wiki_title, department, course_descr, name, wiki_page.\n",
      "***** Running Evaluation *****\n",
      "  Num examples = 27\n",
      "  Batch size = 2\n",
      "The following columns in the evaluation set  don't have a corresponding argument in `DistilBertForSequenceClassification.forward` and have been ignored: wiki_title, department, course_descr, name, wiki_page.\n",
      "***** Running Evaluation *****\n",
      "  Num examples = 27\n",
      "  Batch size = 2\n",
      "The following columns in the evaluation set  don't have a corresponding argument in `DistilBertForSequenceClassification.forward` and have been ignored: wiki_title, department, course_descr, name, wiki_page.\n",
      "***** Running Evaluation *****\n",
      "  Num examples = 27\n",
      "  Batch size = 2\n",
      "The following columns in the evaluation set  don't have a corresponding argument in `DistilBertForSequenceClassification.forward` and have been ignored: wiki_title, department, course_descr, name, wiki_page.\n",
      "***** Running Evaluation *****\n",
      "  Num examples = 27\n",
      "  Batch size = 2\n",
      "The following columns in the evaluation set  don't have a corresponding argument in `DistilBertForSequenceClassification.forward` and have been ignored: wiki_title, department, course_descr, name, wiki_page.\n",
      "***** Running Evaluation *****\n",
      "  Num examples = 27\n",
      "  Batch size = 2\n",
      "The following columns in the evaluation set  don't have a corresponding argument in `DistilBertForSequenceClassification.forward` and have been ignored: wiki_title, department, course_descr, name, wiki_page.\n",
      "***** Running Evaluation *****\n",
      "  Num examples = 27\n",
      "  Batch size = 2\n",
      "The following columns in the evaluation set  don't have a corresponding argument in `DistilBertForSequenceClassification.forward` and have been ignored: wiki_title, department, course_descr, name, wiki_page.\n",
      "***** Running Evaluation *****\n",
      "  Num examples = 27\n",
      "  Batch size = 2\n",
      "The following columns in the evaluation set  don't have a corresponding argument in `DistilBertForSequenceClassification.forward` and have been ignored: wiki_title, department, course_descr, name, wiki_page.\n",
      "***** Running Evaluation *****\n",
      "  Num examples = 27\n",
      "  Batch size = 2\n",
      "The following columns in the evaluation set  don't have a corresponding argument in `DistilBertForSequenceClassification.forward` and have been ignored: wiki_title, department, course_descr, name, wiki_page.\n",
      "***** Running Evaluation *****\n",
      "  Num examples = 27\n",
      "  Batch size = 2\n",
      "The following columns in the evaluation set  don't have a corresponding argument in `DistilBertForSequenceClassification.forward` and have been ignored: wiki_title, department, course_descr, name, wiki_page.\n",
      "***** Running Evaluation *****\n",
      "  Num examples = 27\n",
      "  Batch size = 2\n",
      "Saving model checkpoint to ./models-trained\\checkpoint-1500\n",
      "Configuration saved in ./models-trained\\checkpoint-1500\\config.json\n",
      "Model weights saved in ./models-trained\\checkpoint-1500\\pytorch_model.bin\n",
      "tokenizer config file saved in ./models-trained\\checkpoint-1500\\tokenizer_config.json\n",
      "Special tokens file saved in ./models-trained\\checkpoint-1500\\special_tokens_map.json\n",
      "The following columns in the evaluation set  don't have a corresponding argument in `DistilBertForSequenceClassification.forward` and have been ignored: wiki_title, department, course_descr, name, wiki_page.\n",
      "***** Running Evaluation *****\n",
      "  Num examples = 27\n",
      "  Batch size = 2\n",
      "The following columns in the evaluation set  don't have a corresponding argument in `DistilBertForSequenceClassification.forward` and have been ignored: wiki_title, department, course_descr, name, wiki_page.\n",
      "***** Running Evaluation *****\n",
      "  Num examples = 27\n",
      "  Batch size = 2\n",
      "The following columns in the evaluation set  don't have a corresponding argument in `DistilBertForSequenceClassification.forward` and have been ignored: wiki_title, department, course_descr, name, wiki_page.\n",
      "***** Running Evaluation *****\n",
      "  Num examples = 27\n",
      "  Batch size = 2\n",
      "The following columns in the evaluation set  don't have a corresponding argument in `DistilBertForSequenceClassification.forward` and have been ignored: wiki_title, department, course_descr, name, wiki_page.\n",
      "***** Running Evaluation *****\n",
      "  Num examples = 27\n",
      "  Batch size = 2\n",
      "\n",
      "\n",
      "Training completed. Do not forget to share your model on huggingface.co/models =)\n",
      "\n",
      "\n"
     ]
    }
   ],
   "source": [
    "wac2_model.fit()"
   ]
  },
  {
   "cell_type": "code",
   "execution_count": 8,
   "metadata": {},
   "outputs": [
    {
     "name": "stderr",
     "output_type": "stream",
     "text": [
      "Saving model checkpoint to D:\\my-stuff\\cu-catalog-temp/instructor-article.model\n",
      "Configuration saved in D:\\my-stuff\\cu-catalog-temp/instructor-article.model\\config.json\n",
      "Model weights saved in D:\\my-stuff\\cu-catalog-temp/instructor-article.model\\pytorch_model.bin\n",
      "tokenizer config file saved in D:\\my-stuff\\cu-catalog-temp/instructor-article.model\\tokenizer_config.json\n",
      "Special tokens file saved in D:\\my-stuff\\cu-catalog-temp/instructor-article.model\\special_tokens_map.json\n"
     ]
    }
   ],
   "source": [
    "wac2_model.persist_model()"
   ]
  },
  {
   "cell_type": "code",
   "execution_count": 54,
   "metadata": {},
   "outputs": [
    {
     "name": "stdout",
     "output_type": "stream",
     "text": [
      "Evaluating test data set:\n",
      "  Misclassified as irrelevant but are relevant: [0, 2, 6, 11]\n",
      "\n",
      "              precision    recall  f1-score   support\n",
      "\n",
      "           0       0.78      1.00      0.88        14\n",
      "           1       1.00      0.69      0.82        13\n",
      "\n",
      "    accuracy                           0.85        27\n",
      "   macro avg       0.89      0.85      0.85        27\n",
      "weighted avg       0.88      0.85      0.85        27\n",
      "\n",
      "Predicted:\n",
      "[0 0 0 1 1 0 0 0 0 0 0 0 1 1 1 0 1 1 1 0 0 0 1 0 0 0 0]\n",
      "True:\n",
      "[1 0 1 1 1 0 1 0 0 0 0 1 1 1 1 0 1 1 1 0 0 0 1 0 0 0 0]\n",
      "\n",
      "Confusion Matrix:\n",
      "[[14  0]\n",
      " [ 4  9]]\n"
     ]
    }
   ],
   "source": [
    "wac2_model.evaluate()"
   ]
  },
  {
   "cell_type": "code",
   "execution_count": 67,
   "metadata": {},
   "outputs": [
    {
     "name": "stdout",
     "output_type": "stream",
     "text": [
      "           name                               department course_descr  \\\n",
      "0  Andres Jaque  Architecture, Planning and Preservation         None   \n",
      "\n",
      "     wiki_title                                          wiki_page  label  \n",
      "0  Andrés Jaque  Andrés Jaque is an architect. His work explore...      1  \n"
     ]
    }
   ],
   "source": [
    "wac2_model.view_sample(0)"
   ]
  },
  {
   "cell_type": "code",
   "execution_count": 19,
   "metadata": {},
   "outputs": [
    {
     "name": "stderr",
     "output_type": "stream",
     "text": [
      "Didn't find file D:\\my-stuff\\cu-catalog-temp/instructor-article.model\\added_tokens.json. We won't load it.\n",
      "loading file D:\\my-stuff\\cu-catalog-temp/instructor-article.model\\vocab.txt\n",
      "loading file D:\\my-stuff\\cu-catalog-temp/instructor-article.model\\tokenizer.json\n",
      "loading file None\n",
      "loading file D:\\my-stuff\\cu-catalog-temp/instructor-article.model\\special_tokens_map.json\n",
      "loading file D:\\my-stuff\\cu-catalog-temp/instructor-article.model\\tokenizer_config.json\n"
     ]
    },
    {
     "ename": "AttributeError",
     "evalue": "'DistilBertTokenizerFast' object has no attribute 'to'",
     "output_type": "error",
     "traceback": [
      "\u001b[1;31m---------------------------------------------------------------------------\u001b[0m",
      "\u001b[1;31mAttributeError\u001b[0m                            Traceback (most recent call last)",
      "Input \u001b[1;32mIn [19]\u001b[0m, in \u001b[0;36m<module>\u001b[1;34m\u001b[0m\n\u001b[1;32m----> 1\u001b[0m \u001b[43mwac2_model\u001b[49m\u001b[38;5;241;43m.\u001b[39;49m\u001b[43mload_model\u001b[49m\u001b[43m(\u001b[49m\u001b[43m)\u001b[49m\n",
      "File \u001b[1;32mD:\\Dropbox\\Code\\2020\\columbia-catalog\\cu_catalog\\models\\text_classifier_dbert.py:166\u001b[0m, in \u001b[0;36mTextClassifierDBERT.load_model\u001b[1;34m(self)\u001b[0m\n",
      "\u001b[1;31mAttributeError\u001b[0m: 'DistilBertTokenizerFast' object has no attribute 'to'"
     ]
    }
   ],
   "source": [
    "wac2_model.load_model()"
   ]
  },
  {
   "cell_type": "code",
   "execution_count": 68,
   "metadata": {},
   "outputs": [
    {
     "data": {
      "text/plain": [
       "[1]"
      ]
     },
     "execution_count": 68,
     "metadata": {},
     "output_type": "execute_result"
    }
   ],
   "source": [
    "example = {\n",
    "           #'name': 'Dander Durf',\n",
    "           'name': 'Brian Greene',\n",
    "#            'wiki_title': 'Hell yeah',\n",
    "#            'wiki_page': 'Brian Randolph Greene is Columbia professor.',\n",
    "           'wiki_title': 'Brian R Greene (scientist)',\n",
    "           'wiki_page': 'Brian Randolph Greene[1] (born February 9, 1963) is a leading American theoretical physicist, mathematician, and string theorist. Greene was a physics professor at Cornell University from 1990–1995, and has been a professor at Columbia University since 1996 and chairman of the World Science Festival since co-founding it in 2008. Greene has worked on mirror symmetry, relating two different Calabi–Yau manifolds (concretely relating the conifold to one of its orbifolds). He also described the flop transition, a mild form of topology change, showing that topology in string theory can change at the conifold point.'\n",
    "#            'wiki_page': 'Hello hello yes.',\n",
    "          }\n",
    "wac2_model.predict([example])"
   ]
  },
  {
   "cell_type": "code",
   "execution_count": 6,
   "metadata": {},
   "outputs": [
    {
     "data": {
      "image/png": "[encoded data removed]",
      "text/plain": [
       "<Figure size 432x288 with 1 Axes>"
      ]
     },
     "metadata": {
      "needs_background": "light"
     },
     "output_type": "display_data"
    }
   ],
   "source": [
    "dX = wac2_model.X_test.str.split().apply(len)\n",
    "dy = wac2_model.y_test\n",
    "df = pd.DataFrame(columns=['Words Per Example', 'label'])\n",
    "df[\"Words Per Example\"] = dX\n",
    "df[\"label\"] = dy\n",
    "df.boxplot(\"Words Per Example\", by=\"label\", grid=False, showfliers=False,\n",
    "           color=\"black\")\n",
    "plt.suptitle(\"\")\n",
    "plt.xlabel(\"\")\n",
    "plt.show()"
   ]
  },
  {
   "cell_type": "code",
   "execution_count": 7,
   "metadata": {},
   "outputs": [
    {
     "data": {
      "text/html": [
       "<div>\n",
       "<style scoped>\n",
       "    .dataframe tbody tr th:only-of-type {\n",
       "        vertical-align: middle;\n",
       "    }\n",
       "\n",
       "    .dataframe tbody tr th {\n",
       "        vertical-align: top;\n",
       "    }\n",
       "\n",
       "    .dataframe thead th {\n",
       "        text-align: right;\n",
       "    }\n",
       "</style>\n",
       "<table border=\"1\" class=\"dataframe\">\n",
       "  <thead>\n",
       "    <tr style=\"text-align: right;\">\n",
       "      <th></th>\n",
       "      <th>name</th>\n",
       "      <th>wiki_title</th>\n",
       "      <th>wiki_page</th>\n",
       "      <th>label</th>\n",
       "    </tr>\n",
       "  </thead>\n",
       "  <tbody>\n",
       "    <tr>\n",
       "      <th>0</th>\n",
       "      <td>Andres Jaque</td>\n",
       "      <td>Andrés Jaque</td>\n",
       "      <td>Andrés Jaque is an architect. His work explore...</td>\n",
       "      <td>1</td>\n",
       "    </tr>\n",
       "    <tr>\n",
       "      <th>1</th>\n",
       "      <td>Ann Grimes</td>\n",
       "      <td>Ann Dowd</td>\n",
       "      <td>Ann Dowd (born January 30, 1956) is an America...</td>\n",
       "      <td>0</td>\n",
       "    </tr>\n",
       "    <tr>\n",
       "      <th>2</th>\n",
       "      <td>Betsy West</td>\n",
       "      <td>Betsy Damon</td>\n",
       "      <td>\\n== Early life and career ==\\nBorn in 1940, B...</td>\n",
       "      <td>0</td>\n",
       "    </tr>\n",
       "    <tr>\n",
       "      <th>3</th>\n",
       "      <td>Bjarne Stroustrup</td>\n",
       "      <td>Bjarne Stroustrup</td>\n",
       "      <td>Bjarne Stroustrup (; Danish: [ˈpjaːnə ˈstʁʌwˀs...</td>\n",
       "      <td>1</td>\n",
       "    </tr>\n",
       "    <tr>\n",
       "      <th>4</th>\n",
       "      <td>Brian Greene</td>\n",
       "      <td>Brian Greene</td>\n",
       "      <td>Brian Randolph Greene (born February 9, 1963) ...</td>\n",
       "      <td>1</td>\n",
       "    </tr>\n",
       "  </tbody>\n",
       "</table>\n",
       "</div>"
      ],
      "text/plain": [
       "                name         wiki_title  \\\n",
       "0       Andres Jaque       Andrés Jaque   \n",
       "1         Ann Grimes           Ann Dowd   \n",
       "2         Betsy West        Betsy Damon   \n",
       "3  Bjarne Stroustrup  Bjarne Stroustrup   \n",
       "4       Brian Greene       Brian Greene   \n",
       "\n",
       "                                           wiki_page  label  \n",
       "0  Andrés Jaque is an architect. His work explore...      1  \n",
       "1  Ann Dowd (born January 30, 1956) is an America...      0  \n",
       "2  \\n== Early life and career ==\\nBorn in 1940, B...      0  \n",
       "3  Bjarne Stroustrup (; Danish: [ˈpjaːnə ˈstʁʌwˀs...      1  \n",
       "4  Brian Randolph Greene (born February 9, 1963) ...      1  "
      ]
     },
     "metadata": {},
     "output_type": "display_data"
    },
    {
     "data": {
      "image/png": "[encoded data removed]",
      "text/plain": [
       "<Figure size 432x288 with 1 Axes>"
      ]
     },
     "metadata": {
      "needs_background": "light"
     },
     "output_type": "display_data"
    },
    {
     "data": {
      "text/html": [
       "<div>\n",
       "<style scoped>\n",
       "    .dataframe tbody tr th:only-of-type {\n",
       "        vertical-align: middle;\n",
       "    }\n",
       "\n",
       "    .dataframe tbody tr th {\n",
       "        vertical-align: top;\n",
       "    }\n",
       "\n",
       "    .dataframe thead th {\n",
       "        text-align: right;\n",
       "    }\n",
       "</style>\n",
       "<table border=\"1\" class=\"dataframe\">\n",
       "  <thead>\n",
       "    <tr style=\"text-align: right;\">\n",
       "      <th></th>\n",
       "      <th>name</th>\n",
       "      <th>department</th>\n",
       "      <th>course_descr</th>\n",
       "      <th>wiki_title</th>\n",
       "      <th>wiki_page</th>\n",
       "      <th>label</th>\n",
       "    </tr>\n",
       "  </thead>\n",
       "  <tbody>\n",
       "    <tr>\n",
       "      <th>0</th>\n",
       "      <td>Ole Mathisen</td>\n",
       "      <td>Music</td>\n",
       "      <td>None</td>\n",
       "      <td>Ole Mathisen</td>\n",
       "      <td>Ole Mathisen (born 13 February 1965) is a Norw...</td>\n",
       "      <td>1</td>\n",
       "    </tr>\n",
       "    <tr>\n",
       "      <th>1</th>\n",
       "      <td>Paula Span</td>\n",
       "      <td>Journalism</td>\n",
       "      <td>The master’s project will be your most sustain...</td>\n",
       "      <td>Paula S. Apsell</td>\n",
       "      <td>Paula S. Apsell (born July 4, 1947) is the tel...</td>\n",
       "      <td>0</td>\n",
       "    </tr>\n",
       "    <tr>\n",
       "      <th>2</th>\n",
       "      <td>Rebecca Godfrey</td>\n",
       "      <td>Summer Session (SUMM); Writing</td>\n",
       "      <td></td>\n",
       "      <td>Rebecca Godfrey</td>\n",
       "      <td>Rebecca Godfrey is a novelist and non-fiction ...</td>\n",
       "      <td>1</td>\n",
       "    </tr>\n",
       "    <tr>\n",
       "      <th>3</th>\n",
       "      <td>Reinhold Martin</td>\n",
       "      <td>Architecture, Planning and Preservation</td>\n",
       "      <td></td>\n",
       "      <td>Reinhold Martin</td>\n",
       "      <td>Reinhold Martin (born 1964) is an American arc...</td>\n",
       "      <td>1</td>\n",
       "    </tr>\n",
       "    <tr>\n",
       "      <th>4</th>\n",
       "      <td>Richard Locke</td>\n",
       "      <td>Writing</td>\n",
       "      <td>.\\n</td>\n",
       "      <td>Richard Locke</td>\n",
       "      <td>Richard Locke is an American critic and essayi...</td>\n",
       "      <td>1</td>\n",
       "    </tr>\n",
       "  </tbody>\n",
       "</table>\n",
       "</div>"
      ],
      "text/plain": [
       "              name                               department  \\\n",
       "0     Ole Mathisen                                    Music   \n",
       "1       Paula Span                               Journalism   \n",
       "2  Rebecca Godfrey           Summer Session (SUMM); Writing   \n",
       "3  Reinhold Martin  Architecture, Planning and Preservation   \n",
       "4    Richard Locke                                  Writing   \n",
       "\n",
       "                                        course_descr       wiki_title  \\\n",
       "0                                               None     Ole Mathisen   \n",
       "1  The master’s project will be your most sustain...  Paula S. Apsell   \n",
       "2                                                     Rebecca Godfrey   \n",
       "3                                                     Reinhold Martin   \n",
       "4                                                .\\n    Richard Locke   \n",
       "\n",
       "                                           wiki_page  label  \n",
       "0  Ole Mathisen (born 13 February 1965) is a Norw...      1  \n",
       "1  Paula S. Apsell (born July 4, 1947) is the tel...      0  \n",
       "2  Rebecca Godfrey is a novelist and non-fiction ...      1  \n",
       "3  Reinhold Martin (born 1964) is an American arc...      1  \n",
       "4  Richard Locke is an American critic and essayi...      1  "
      ]
     },
     "metadata": {},
     "output_type": "display_data"
    },
    {
     "data": {
      "image/png": "[encoded data removed]",
      "text/plain": [
       "<Figure size 432x288 with 1 Axes>"
      ]
     },
     "metadata": {
      "needs_background": "light"
     },
     "output_type": "display_data"
    }
   ],
   "source": [
    "import pandas as pd\n",
    "\n",
    "wiki_dataset_train.set_format(type=\"pandas\")\n",
    "df = wiki_dataset_train[:]\n",
    "display(df.head())\n",
    "df[\"label\"].value_counts(ascending=True).plot.barh()\n",
    "plt.title(\"Frequency of Classes\")\n",
    "plt.show()\n",
    "\n",
    "wiki_dataset_test.set_format(type=\"pandas\")\n",
    "df = wiki_dataset_test[:]\n",
    "display(df.head())\n",
    "df[\"label\"].value_counts(ascending=True).plot.barh()\n",
    "plt.title(\"Frequency of Classes\")\n",
    "plt.show()\n",
    "\n",
    "wiki_dataset_train.set_format(type=None)\n",
    "wiki_dataset_test.set_format(type=None)"
   ]
  },
  {
   "cell_type": "code",
   "execution_count": null,
   "metadata": {},
   "outputs": [],
   "source": []
  }
 ],
 "metadata": {
  "kernelspec": {
   "display_name": "Python 3 (ipykernel)",
   "language": "python",
   "name": "python3"
  },
  "language_info": {
   "codemirror_mode": {
    "name": "ipython",
    "version": 3
   },
   "file_extension": ".py",
   "mimetype": "text/x-python",
   "name": "python",
   "nbconvert_exporter": "python",
   "pygments_lexer": "ipython3",
   "version": "3.8.6"
  },
  "toc": {
   "base_numbering": 1,
   "nav_menu": {},
   "number_sections": true,
   "sideBar": true,
   "skip_h1_title": false,
   "title_cell": "Table of Contents",
   "title_sidebar": "Contents",
   "toc_cell": false,
   "toc_position": {
    "height": "calc(100% - 180px)",
    "left": "10px",
    "top": "150px",
    "width": "288px"
   },
   "toc_section_display": true,
   "toc_window_display": true
  }
 },
 "nbformat": 4,
 "nbformat_minor": 4
}
